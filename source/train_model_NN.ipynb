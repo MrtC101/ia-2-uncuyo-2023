{
  "cells": [
    {
      "cell_type": "markdown",
      "metadata": {
        "id": "_aB82fSvdYKB"
      },
      "source": [
        "# LLM - Detect AI Generated Text\n",
        "# (NN) Dense connected Neural Network"
      ]
    },
    {
      "cell_type": "markdown",
      "metadata": {
        "id": "0ew52vF0rIAU"
      },
      "source": [
        "## Import"
      ]
    },
    {
      "cell_type": "code",
      "execution_count": 1,
      "metadata": {
        "id": "7itjdvI9dYKD"
      },
      "outputs": [
        {
          "name": "stderr",
          "output_type": "stream",
          "text": [
            "2024-01-26 21:20:57.665588: E external/local_xla/xla/stream_executor/cuda/cuda_dnn.cc:9261] Unable to register cuDNN factory: Attempting to register factory for plugin cuDNN when one has already been registered\n",
            "2024-01-26 21:20:57.665651: E external/local_xla/xla/stream_executor/cuda/cuda_fft.cc:607] Unable to register cuFFT factory: Attempting to register factory for plugin cuFFT when one has already been registered\n",
            "2024-01-26 21:20:57.697743: E external/local_xla/xla/stream_executor/cuda/cuda_blas.cc:1515] Unable to register cuBLAS factory: Attempting to register factory for plugin cuBLAS when one has already been registered\n",
            "2024-01-26 21:20:57.744607: I tensorflow/core/platform/cpu_feature_guard.cc:182] This TensorFlow binary is optimized to use available CPU instructions in performance-critical operations.\n",
            "To enable the following instructions: AVX2 FMA, in other operations, rebuild TensorFlow with the appropriate compiler flags.\n",
            "2024-01-26 21:20:59.086580: W tensorflow/compiler/tf2tensorrt/utils/py_utils.cc:38] TF-TRT Warning: Could not find TensorRT\n"
          ]
        }
      ],
      "source": [
        "import math\n",
        "import random\n",
        "\n",
        "import pandas as pd\n",
        "import numpy as np\n",
        "import matplotlib.pyplot as plt\n",
        "\n",
        "from sklearn.model_selection import StratifiedKFold\n",
        "from sklearn.utils import resample\n",
        "from sklearn.metrics import roc_curve ,precision_recall_curve,auc,confusion_matrix,ConfusionMatrixDisplay\n",
        "import keras"
      ]
    },
    {
      "cell_type": "code",
      "execution_count": 2,
      "metadata": {
        "colab": {
          "base_uri": "https://localhost:8080/",
          "height": 479
        },
        "id": "pewNlS7OrIAY",
        "outputId": "545fa8ac-79de-4c45-a65c-bacabb5f5149"
      },
      "outputs": [
        {
          "data": {
            "text/html": [
              "<div>\n",
              "<style scoped>\n",
              "    .dataframe tbody tr th:only-of-type {\n",
              "        vertical-align: middle;\n",
              "    }\n",
              "\n",
              "    .dataframe tbody tr th {\n",
              "        vertical-align: top;\n",
              "    }\n",
              "\n",
              "    .dataframe thead th {\n",
              "        text-align: right;\n",
              "    }\n",
              "</style>\n",
              "<table border=\"1\" class=\"dataframe\">\n",
              "  <thead>\n",
              "    <tr style=\"text-align: right;\">\n",
              "      <th></th>\n",
              "      <th>id</th>\n",
              "      <th>prompt_id</th>\n",
              "      <th>generated</th>\n",
              "      <th>0</th>\n",
              "      <th>1</th>\n",
              "      <th>2</th>\n",
              "      <th>3</th>\n",
              "      <th>4</th>\n",
              "      <th>5</th>\n",
              "      <th>6</th>\n",
              "      <th>...</th>\n",
              "      <th>96</th>\n",
              "      <th>97</th>\n",
              "      <th>98</th>\n",
              "      <th>99</th>\n",
              "      <th>100</th>\n",
              "      <th>101</th>\n",
              "      <th>102</th>\n",
              "      <th>103</th>\n",
              "      <th>104</th>\n",
              "      <th>105</th>\n",
              "    </tr>\n",
              "  </thead>\n",
              "  <tbody>\n",
              "    <tr>\n",
              "      <th>0</th>\n",
              "      <td>41165</td>\n",
              "      <td>0</td>\n",
              "      <td>1</td>\n",
              "      <td>0.004023</td>\n",
              "      <td>0.003139</td>\n",
              "      <td>0.004303</td>\n",
              "      <td>0.000000</td>\n",
              "      <td>0.0</td>\n",
              "      <td>0.024149</td>\n",
              "      <td>-0.012406</td>\n",
              "      <td>...</td>\n",
              "      <td>-0.059754</td>\n",
              "      <td>-0.013995</td>\n",
              "      <td>-0.003609</td>\n",
              "      <td>-0.054222</td>\n",
              "      <td>0.005852</td>\n",
              "      <td>-0.162204</td>\n",
              "      <td>0.129035</td>\n",
              "      <td>-0.113359</td>\n",
              "      <td>0.072855</td>\n",
              "      <td>0.250193</td>\n",
              "    </tr>\n",
              "    <tr>\n",
              "      <th>1</th>\n",
              "      <td>56704</td>\n",
              "      <td>13</td>\n",
              "      <td>1</td>\n",
              "      <td>0.007118</td>\n",
              "      <td>0.005992</td>\n",
              "      <td>0.007358</td>\n",
              "      <td>0.003764</td>\n",
              "      <td>0.0</td>\n",
              "      <td>0.009624</td>\n",
              "      <td>0.016637</td>\n",
              "      <td>...</td>\n",
              "      <td>0.148504</td>\n",
              "      <td>0.179979</td>\n",
              "      <td>0.162245</td>\n",
              "      <td>-0.031815</td>\n",
              "      <td>0.126953</td>\n",
              "      <td>0.080496</td>\n",
              "      <td>0.139554</td>\n",
              "      <td>0.151027</td>\n",
              "      <td>0.093111</td>\n",
              "      <td>0.304024</td>\n",
              "    </tr>\n",
              "    <tr>\n",
              "      <th>2</th>\n",
              "      <td>49646</td>\n",
              "      <td>13</td>\n",
              "      <td>1</td>\n",
              "      <td>0.005426</td>\n",
              "      <td>0.007704</td>\n",
              "      <td>0.007080</td>\n",
              "      <td>0.000000</td>\n",
              "      <td>0.0</td>\n",
              "      <td>0.098738</td>\n",
              "      <td>0.126639</td>\n",
              "      <td>...</td>\n",
              "      <td>0.041842</td>\n",
              "      <td>-0.041917</td>\n",
              "      <td>-0.060383</td>\n",
              "      <td>-0.060455</td>\n",
              "      <td>0.021589</td>\n",
              "      <td>-0.032543</td>\n",
              "      <td>-0.070403</td>\n",
              "      <td>0.043904</td>\n",
              "      <td>-0.039627</td>\n",
              "      <td>0.309329</td>\n",
              "    </tr>\n",
              "    <tr>\n",
              "      <th>3</th>\n",
              "      <td>65909</td>\n",
              "      <td>11</td>\n",
              "      <td>1</td>\n",
              "      <td>0.004890</td>\n",
              "      <td>0.005136</td>\n",
              "      <td>0.004720</td>\n",
              "      <td>0.000000</td>\n",
              "      <td>0.0</td>\n",
              "      <td>-0.047298</td>\n",
              "      <td>-0.145219</td>\n",
              "      <td>...</td>\n",
              "      <td>-0.061865</td>\n",
              "      <td>0.113064</td>\n",
              "      <td>0.122951</td>\n",
              "      <td>-0.119200</td>\n",
              "      <td>0.019564</td>\n",
              "      <td>-0.112948</td>\n",
              "      <td>-0.080771</td>\n",
              "      <td>0.027291</td>\n",
              "      <td>0.060934</td>\n",
              "      <td>0.226686</td>\n",
              "    </tr>\n",
              "    <tr>\n",
              "      <th>4</th>\n",
              "      <td>36693</td>\n",
              "      <td>13</td>\n",
              "      <td>1</td>\n",
              "      <td>0.005323</td>\n",
              "      <td>0.005706</td>\n",
              "      <td>0.005692</td>\n",
              "      <td>0.000000</td>\n",
              "      <td>0.0</td>\n",
              "      <td>-0.053892</td>\n",
              "      <td>0.051193</td>\n",
              "      <td>...</td>\n",
              "      <td>0.049328</td>\n",
              "      <td>0.019387</td>\n",
              "      <td>-0.052216</td>\n",
              "      <td>0.033253</td>\n",
              "      <td>0.078349</td>\n",
              "      <td>-0.076047</td>\n",
              "      <td>-0.020799</td>\n",
              "      <td>-0.052328</td>\n",
              "      <td>0.183286</td>\n",
              "      <td>0.381400</td>\n",
              "    </tr>\n",
              "    <tr>\n",
              "      <th>...</th>\n",
              "      <td>...</td>\n",
              "      <td>...</td>\n",
              "      <td>...</td>\n",
              "      <td>...</td>\n",
              "      <td>...</td>\n",
              "      <td>...</td>\n",
              "      <td>...</td>\n",
              "      <td>...</td>\n",
              "      <td>...</td>\n",
              "      <td>...</td>\n",
              "      <td>...</td>\n",
              "      <td>...</td>\n",
              "      <td>...</td>\n",
              "      <td>...</td>\n",
              "      <td>...</td>\n",
              "      <td>...</td>\n",
              "      <td>...</td>\n",
              "      <td>...</td>\n",
              "      <td>...</td>\n",
              "      <td>...</td>\n",
              "      <td>...</td>\n",
              "    </tr>\n",
              "    <tr>\n",
              "      <th>29433</th>\n",
              "      <td>34559</td>\n",
              "      <td>15</td>\n",
              "      <td>1</td>\n",
              "      <td>0.004993</td>\n",
              "      <td>0.005706</td>\n",
              "      <td>0.005275</td>\n",
              "      <td>0.045164</td>\n",
              "      <td>0.0</td>\n",
              "      <td>0.009123</td>\n",
              "      <td>-0.063777</td>\n",
              "      <td>...</td>\n",
              "      <td>0.123257</td>\n",
              "      <td>-0.081951</td>\n",
              "      <td>0.022218</td>\n",
              "      <td>0.047455</td>\n",
              "      <td>-0.058179</td>\n",
              "      <td>0.022473</td>\n",
              "      <td>0.102880</td>\n",
              "      <td>0.049880</td>\n",
              "      <td>-0.006577</td>\n",
              "      <td>0.417857</td>\n",
              "    </tr>\n",
              "    <tr>\n",
              "      <th>29434</th>\n",
              "      <td>59384</td>\n",
              "      <td>11</td>\n",
              "      <td>1</td>\n",
              "      <td>0.005220</td>\n",
              "      <td>0.005136</td>\n",
              "      <td>0.005553</td>\n",
              "      <td>0.000000</td>\n",
              "      <td>0.0</td>\n",
              "      <td>-0.078960</td>\n",
              "      <td>-0.006486</td>\n",
              "      <td>...</td>\n",
              "      <td>-0.061180</td>\n",
              "      <td>0.120647</td>\n",
              "      <td>0.001908</td>\n",
              "      <td>0.035093</td>\n",
              "      <td>0.091502</td>\n",
              "      <td>0.048425</td>\n",
              "      <td>0.008579</td>\n",
              "      <td>-0.069383</td>\n",
              "      <td>0.006188</td>\n",
              "      <td>0.241051</td>\n",
              "    </tr>\n",
              "    <tr>\n",
              "      <th>29435</th>\n",
              "      <td>39318</td>\n",
              "      <td>15</td>\n",
              "      <td>1</td>\n",
              "      <td>0.004065</td>\n",
              "      <td>0.003709</td>\n",
              "      <td>0.003748</td>\n",
              "      <td>0.015055</td>\n",
              "      <td>0.0</td>\n",
              "      <td>0.023342</td>\n",
              "      <td>0.130713</td>\n",
              "      <td>...</td>\n",
              "      <td>0.033398</td>\n",
              "      <td>0.052869</td>\n",
              "      <td>0.122322</td>\n",
              "      <td>0.186538</td>\n",
              "      <td>-0.063021</td>\n",
              "      <td>0.013305</td>\n",
              "      <td>0.097663</td>\n",
              "      <td>-0.175404</td>\n",
              "      <td>0.084010</td>\n",
              "      <td>0.386586</td>\n",
              "    </tr>\n",
              "    <tr>\n",
              "      <th>29436</th>\n",
              "      <td>16869</td>\n",
              "      <td>11</td>\n",
              "      <td>0</td>\n",
              "      <td>0.007778</td>\n",
              "      <td>0.013410</td>\n",
              "      <td>0.009162</td>\n",
              "      <td>0.000000</td>\n",
              "      <td>0.0</td>\n",
              "      <td>0.052244</td>\n",
              "      <td>-0.040034</td>\n",
              "      <td>...</td>\n",
              "      <td>0.164946</td>\n",
              "      <td>-0.119586</td>\n",
              "      <td>0.091539</td>\n",
              "      <td>-0.003745</td>\n",
              "      <td>-0.027525</td>\n",
              "      <td>0.014295</td>\n",
              "      <td>-0.186965</td>\n",
              "      <td>0.019864</td>\n",
              "      <td>-0.132460</td>\n",
              "      <td>0.429293</td>\n",
              "    </tr>\n",
              "    <tr>\n",
              "      <th>29437</th>\n",
              "      <td>16054</td>\n",
              "      <td>18</td>\n",
              "      <td>0</td>\n",
              "      <td>0.002270</td>\n",
              "      <td>0.003424</td>\n",
              "      <td>0.001805</td>\n",
              "      <td>0.000000</td>\n",
              "      <td>0.0</td>\n",
              "      <td>-0.077434</td>\n",
              "      <td>-0.191841</td>\n",
              "      <td>...</td>\n",
              "      <td>0.158996</td>\n",
              "      <td>0.050277</td>\n",
              "      <td>0.032903</td>\n",
              "      <td>-0.090537</td>\n",
              "      <td>0.045474</td>\n",
              "      <td>0.037240</td>\n",
              "      <td>0.098848</td>\n",
              "      <td>0.020503</td>\n",
              "      <td>0.126919</td>\n",
              "      <td>0.133711</td>\n",
              "    </tr>\n",
              "  </tbody>\n",
              "</table>\n",
              "<p>29438 rows × 109 columns</p>\n",
              "</div>"
            ],
            "text/plain": [
              "          id  prompt_id  generated         0         1         2         3  \\\n",
              "0      41165          0          1  0.004023  0.003139  0.004303  0.000000   \n",
              "1      56704         13          1  0.007118  0.005992  0.007358  0.003764   \n",
              "2      49646         13          1  0.005426  0.007704  0.007080  0.000000   \n",
              "3      65909         11          1  0.004890  0.005136  0.004720  0.000000   \n",
              "4      36693         13          1  0.005323  0.005706  0.005692  0.000000   \n",
              "...      ...        ...        ...       ...       ...       ...       ...   \n",
              "29433  34559         15          1  0.004993  0.005706  0.005275  0.045164   \n",
              "29434  59384         11          1  0.005220  0.005136  0.005553  0.000000   \n",
              "29435  39318         15          1  0.004065  0.003709  0.003748  0.015055   \n",
              "29436  16869         11          0  0.007778  0.013410  0.009162  0.000000   \n",
              "29437  16054         18          0  0.002270  0.003424  0.001805  0.000000   \n",
              "\n",
              "         4         5         6  ...        96        97        98        99  \\\n",
              "0      0.0  0.024149 -0.012406  ... -0.059754 -0.013995 -0.003609 -0.054222   \n",
              "1      0.0  0.009624  0.016637  ...  0.148504  0.179979  0.162245 -0.031815   \n",
              "2      0.0  0.098738  0.126639  ...  0.041842 -0.041917 -0.060383 -0.060455   \n",
              "3      0.0 -0.047298 -0.145219  ... -0.061865  0.113064  0.122951 -0.119200   \n",
              "4      0.0 -0.053892  0.051193  ...  0.049328  0.019387 -0.052216  0.033253   \n",
              "...    ...       ...       ...  ...       ...       ...       ...       ...   \n",
              "29433  0.0  0.009123 -0.063777  ...  0.123257 -0.081951  0.022218  0.047455   \n",
              "29434  0.0 -0.078960 -0.006486  ... -0.061180  0.120647  0.001908  0.035093   \n",
              "29435  0.0  0.023342  0.130713  ...  0.033398  0.052869  0.122322  0.186538   \n",
              "29436  0.0  0.052244 -0.040034  ...  0.164946 -0.119586  0.091539 -0.003745   \n",
              "29437  0.0 -0.077434 -0.191841  ...  0.158996  0.050277  0.032903 -0.090537   \n",
              "\n",
              "            100       101       102       103       104       105  \n",
              "0      0.005852 -0.162204  0.129035 -0.113359  0.072855  0.250193  \n",
              "1      0.126953  0.080496  0.139554  0.151027  0.093111  0.304024  \n",
              "2      0.021589 -0.032543 -0.070403  0.043904 -0.039627  0.309329  \n",
              "3      0.019564 -0.112948 -0.080771  0.027291  0.060934  0.226686  \n",
              "4      0.078349 -0.076047 -0.020799 -0.052328  0.183286  0.381400  \n",
              "...         ...       ...       ...       ...       ...       ...  \n",
              "29433 -0.058179  0.022473  0.102880  0.049880 -0.006577  0.417857  \n",
              "29434  0.091502  0.048425  0.008579 -0.069383  0.006188  0.241051  \n",
              "29435 -0.063021  0.013305  0.097663 -0.175404  0.084010  0.386586  \n",
              "29436 -0.027525  0.014295 -0.186965  0.019864 -0.132460  0.429293  \n",
              "29437  0.045474  0.037240  0.098848  0.020503  0.126919  0.133711  \n",
              "\n",
              "[29438 rows x 109 columns]"
            ]
          },
          "execution_count": 2,
          "metadata": {},
          "output_type": "execute_result"
        }
      ],
      "source": [
        "train_dataset=pd.read_csv(\"../data/lexp/pre_processed/train.csv\")\n",
        "train_dataset"
      ]
    },
    {
      "cell_type": "code",
      "execution_count": 68,
      "metadata": {},
      "outputs": [
        {
          "data": {
            "text/html": [
              "<div>\n",
              "<style scoped>\n",
              "    .dataframe tbody tr th:only-of-type {\n",
              "        vertical-align: middle;\n",
              "    }\n",
              "\n",
              "    .dataframe tbody tr th {\n",
              "        vertical-align: top;\n",
              "    }\n",
              "\n",
              "    .dataframe thead th {\n",
              "        text-align: right;\n",
              "    }\n",
              "</style>\n",
              "<table border=\"1\" class=\"dataframe\">\n",
              "  <thead>\n",
              "    <tr style=\"text-align: right;\">\n",
              "      <th></th>\n",
              "      <th>prompt_id</th>\n",
              "      <th>generated</th>\n",
              "      <th>0</th>\n",
              "      <th>1</th>\n",
              "      <th>2</th>\n",
              "      <th>3</th>\n",
              "      <th>4</th>\n",
              "      <th>5</th>\n",
              "      <th>6</th>\n",
              "      <th>7</th>\n",
              "      <th>...</th>\n",
              "      <th>96</th>\n",
              "      <th>97</th>\n",
              "      <th>98</th>\n",
              "      <th>99</th>\n",
              "      <th>100</th>\n",
              "      <th>101</th>\n",
              "      <th>102</th>\n",
              "      <th>103</th>\n",
              "      <th>104</th>\n",
              "      <th>105</th>\n",
              "    </tr>\n",
              "  </thead>\n",
              "  <tbody>\n",
              "    <tr>\n",
              "      <th>count</th>\n",
              "      <td>29438.000000</td>\n",
              "      <td>29438.000000</td>\n",
              "      <td>29438.000000</td>\n",
              "      <td>29438.000000</td>\n",
              "      <td>29438.000000</td>\n",
              "      <td>29438.000000</td>\n",
              "      <td>29438.0</td>\n",
              "      <td>29438.000000</td>\n",
              "      <td>29438.000000</td>\n",
              "      <td>29438.000000</td>\n",
              "      <td>...</td>\n",
              "      <td>29438.000000</td>\n",
              "      <td>29438.000000</td>\n",
              "      <td>29438.000000</td>\n",
              "      <td>29438.000000</td>\n",
              "      <td>29438.000000</td>\n",
              "      <td>29438.000000</td>\n",
              "      <td>29438.000000</td>\n",
              "      <td>29438.000000</td>\n",
              "      <td>29438.000000</td>\n",
              "      <td>29438.000000</td>\n",
              "    </tr>\n",
              "    <tr>\n",
              "      <th>mean</th>\n",
              "      <td>10.102215</td>\n",
              "      <td>0.624907</td>\n",
              "      <td>0.005294</td>\n",
              "      <td>0.005343</td>\n",
              "      <td>0.005230</td>\n",
              "      <td>0.001844</td>\n",
              "      <td>0.0</td>\n",
              "      <td>-0.028822</td>\n",
              "      <td>0.007966</td>\n",
              "      <td>-0.031138</td>\n",
              "      <td>...</td>\n",
              "      <td>0.018810</td>\n",
              "      <td>0.030656</td>\n",
              "      <td>0.025275</td>\n",
              "      <td>0.042946</td>\n",
              "      <td>0.029790</td>\n",
              "      <td>-0.011036</td>\n",
              "      <td>-0.019435</td>\n",
              "      <td>-0.006982</td>\n",
              "      <td>0.036584</td>\n",
              "      <td>0.308935</td>\n",
              "    </tr>\n",
              "    <tr>\n",
              "      <th>std</th>\n",
              "      <td>5.949863</td>\n",
              "      <td>0.484155</td>\n",
              "      <td>0.002437</td>\n",
              "      <td>0.002328</td>\n",
              "      <td>0.002572</td>\n",
              "      <td>0.005529</td>\n",
              "      <td>0.0</td>\n",
              "      <td>0.089582</td>\n",
              "      <td>0.080259</td>\n",
              "      <td>0.092490</td>\n",
              "      <td>...</td>\n",
              "      <td>0.088242</td>\n",
              "      <td>0.085166</td>\n",
              "      <td>0.087111</td>\n",
              "      <td>0.085361</td>\n",
              "      <td>0.090898</td>\n",
              "      <td>0.087654</td>\n",
              "      <td>0.079772</td>\n",
              "      <td>0.092316</td>\n",
              "      <td>0.089069</td>\n",
              "      <td>0.097313</td>\n",
              "    </tr>\n",
              "    <tr>\n",
              "      <th>min</th>\n",
              "      <td>0.000000</td>\n",
              "      <td>0.000000</td>\n",
              "      <td>0.000330</td>\n",
              "      <td>0.000000</td>\n",
              "      <td>0.000000</td>\n",
              "      <td>0.000000</td>\n",
              "      <td>0.0</td>\n",
              "      <td>-0.393019</td>\n",
              "      <td>-0.309899</td>\n",
              "      <td>-0.402779</td>\n",
              "      <td>...</td>\n",
              "      <td>-0.291346</td>\n",
              "      <td>-0.349729</td>\n",
              "      <td>-0.325731</td>\n",
              "      <td>-0.292291</td>\n",
              "      <td>-0.299977</td>\n",
              "      <td>-0.358315</td>\n",
              "      <td>-0.401856</td>\n",
              "      <td>-0.344275</td>\n",
              "      <td>-0.336993</td>\n",
              "      <td>0.000000</td>\n",
              "    </tr>\n",
              "    <tr>\n",
              "      <th>25%</th>\n",
              "      <td>8.000000</td>\n",
              "      <td>0.000000</td>\n",
              "      <td>0.003673</td>\n",
              "      <td>0.003709</td>\n",
              "      <td>0.003471</td>\n",
              "      <td>0.000000</td>\n",
              "      <td>0.0</td>\n",
              "      <td>-0.089550</td>\n",
              "      <td>-0.044683</td>\n",
              "      <td>-0.096680</td>\n",
              "      <td>...</td>\n",
              "      <td>-0.042299</td>\n",
              "      <td>-0.025866</td>\n",
              "      <td>-0.033011</td>\n",
              "      <td>-0.014693</td>\n",
              "      <td>-0.031839</td>\n",
              "      <td>-0.069993</td>\n",
              "      <td>-0.073132</td>\n",
              "      <td>-0.070922</td>\n",
              "      <td>-0.023829</td>\n",
              "      <td>0.241928</td>\n",
              "    </tr>\n",
              "    <tr>\n",
              "      <th>50%</th>\n",
              "      <td>11.000000</td>\n",
              "      <td>1.000000</td>\n",
              "      <td>0.004890</td>\n",
              "      <td>0.005136</td>\n",
              "      <td>0.004859</td>\n",
              "      <td>0.000000</td>\n",
              "      <td>0.0</td>\n",
              "      <td>-0.029808</td>\n",
              "      <td>0.008844</td>\n",
              "      <td>-0.035751</td>\n",
              "      <td>...</td>\n",
              "      <td>0.017236</td>\n",
              "      <td>0.033933</td>\n",
              "      <td>0.027265</td>\n",
              "      <td>0.042208</td>\n",
              "      <td>0.031355</td>\n",
              "      <td>-0.011381</td>\n",
              "      <td>-0.018713</td>\n",
              "      <td>-0.009780</td>\n",
              "      <td>0.036109</td>\n",
              "      <td>0.296788</td>\n",
              "    </tr>\n",
              "    <tr>\n",
              "      <th>75%</th>\n",
              "      <td>14.000000</td>\n",
              "      <td>1.000000</td>\n",
              "      <td>0.006314</td>\n",
              "      <td>0.006562</td>\n",
              "      <td>0.006663</td>\n",
              "      <td>0.000000</td>\n",
              "      <td>0.0</td>\n",
              "      <td>0.031028</td>\n",
              "      <td>0.061857</td>\n",
              "      <td>0.031251</td>\n",
              "      <td>...</td>\n",
              "      <td>0.078834</td>\n",
              "      <td>0.090246</td>\n",
              "      <td>0.085935</td>\n",
              "      <td>0.100554</td>\n",
              "      <td>0.092498</td>\n",
              "      <td>0.048534</td>\n",
              "      <td>0.035265</td>\n",
              "      <td>0.053152</td>\n",
              "      <td>0.097720</td>\n",
              "      <td>0.365968</td>\n",
              "    </tr>\n",
              "    <tr>\n",
              "      <th>max</th>\n",
              "      <td>20.000000</td>\n",
              "      <td>1.000000</td>\n",
              "      <td>0.022881</td>\n",
              "      <td>0.025394</td>\n",
              "      <td>0.021517</td>\n",
              "      <td>0.180656</td>\n",
              "      <td>0.0</td>\n",
              "      <td>0.348934</td>\n",
              "      <td>0.327177</td>\n",
              "      <td>0.309563</td>\n",
              "      <td>...</td>\n",
              "      <td>0.357897</td>\n",
              "      <td>0.317854</td>\n",
              "      <td>0.333982</td>\n",
              "      <td>0.401939</td>\n",
              "      <td>0.379826</td>\n",
              "      <td>0.323404</td>\n",
              "      <td>0.292709</td>\n",
              "      <td>0.391041</td>\n",
              "      <td>0.368178</td>\n",
              "      <td>1.000000</td>\n",
              "    </tr>\n",
              "  </tbody>\n",
              "</table>\n",
              "<p>8 rows × 108 columns</p>\n",
              "</div>"
            ],
            "text/plain": [
              "          prompt_id     generated             0             1             2  \\\n",
              "count  29438.000000  29438.000000  29438.000000  29438.000000  29438.000000   \n",
              "mean      10.102215      0.624907      0.005294      0.005343      0.005230   \n",
              "std        5.949863      0.484155      0.002437      0.002328      0.002572   \n",
              "min        0.000000      0.000000      0.000330      0.000000      0.000000   \n",
              "25%        8.000000      0.000000      0.003673      0.003709      0.003471   \n",
              "50%       11.000000      1.000000      0.004890      0.005136      0.004859   \n",
              "75%       14.000000      1.000000      0.006314      0.006562      0.006663   \n",
              "max       20.000000      1.000000      0.022881      0.025394      0.021517   \n",
              "\n",
              "                  3        4             5             6             7  ...  \\\n",
              "count  29438.000000  29438.0  29438.000000  29438.000000  29438.000000  ...   \n",
              "mean       0.001844      0.0     -0.028822      0.007966     -0.031138  ...   \n",
              "std        0.005529      0.0      0.089582      0.080259      0.092490  ...   \n",
              "min        0.000000      0.0     -0.393019     -0.309899     -0.402779  ...   \n",
              "25%        0.000000      0.0     -0.089550     -0.044683     -0.096680  ...   \n",
              "50%        0.000000      0.0     -0.029808      0.008844     -0.035751  ...   \n",
              "75%        0.000000      0.0      0.031028      0.061857      0.031251  ...   \n",
              "max        0.180656      0.0      0.348934      0.327177      0.309563  ...   \n",
              "\n",
              "                 96            97            98            99           100  \\\n",
              "count  29438.000000  29438.000000  29438.000000  29438.000000  29438.000000   \n",
              "mean       0.018810      0.030656      0.025275      0.042946      0.029790   \n",
              "std        0.088242      0.085166      0.087111      0.085361      0.090898   \n",
              "min       -0.291346     -0.349729     -0.325731     -0.292291     -0.299977   \n",
              "25%       -0.042299     -0.025866     -0.033011     -0.014693     -0.031839   \n",
              "50%        0.017236      0.033933      0.027265      0.042208      0.031355   \n",
              "75%        0.078834      0.090246      0.085935      0.100554      0.092498   \n",
              "max        0.357897      0.317854      0.333982      0.401939      0.379826   \n",
              "\n",
              "                101           102           103           104           105  \n",
              "count  29438.000000  29438.000000  29438.000000  29438.000000  29438.000000  \n",
              "mean      -0.011036     -0.019435     -0.006982      0.036584      0.308935  \n",
              "std        0.087654      0.079772      0.092316      0.089069      0.097313  \n",
              "min       -0.358315     -0.401856     -0.344275     -0.336993      0.000000  \n",
              "25%       -0.069993     -0.073132     -0.070922     -0.023829      0.241928  \n",
              "50%       -0.011381     -0.018713     -0.009780      0.036109      0.296788  \n",
              "75%        0.048534      0.035265      0.053152      0.097720      0.365968  \n",
              "max        0.323404      0.292709      0.391041      0.368178      1.000000  \n",
              "\n",
              "[8 rows x 108 columns]"
            ]
          },
          "execution_count": 68,
          "metadata": {},
          "output_type": "execute_result"
        }
      ],
      "source": [
        "train_dataset.describe()"
      ]
    },
    {
      "cell_type": "markdown",
      "metadata": {
        "id": "4MFYWs2TrIAa"
      },
      "source": [
        "## Random Downsampling"
      ]
    },
    {
      "cell_type": "code",
      "execution_count": 3,
      "metadata": {
        "id": "sieb_gK4dYKl"
      },
      "outputs": [],
      "source": [
        "def downsampling(X_train,y_train,rand_state,ratio):\n",
        "    # Concatenate X_train and y_train for ease of downsampling\n",
        "    train_data = pd.concat([X_train, y_train], axis=1)\n",
        "    # Identify the class with the majority of instances\n",
        "    majority_class = train_data[y_train.name].value_counts().idxmax()\n",
        "\n",
        "    # Separate instances of each class\n",
        "    majority_class_data = train_data[train_data[y_train.name] == majority_class]\n",
        "    minority_class_data = train_data[train_data[y_train.name] != majority_class]\n",
        "\n",
        "\n",
        "    currRatio = len(majority_class_data) / len(minority_class_data)\n",
        "    if(currRatio<=ratio):\n",
        "        raise ValueError(f\"El ratio de entrada debe ser menor al ratio actual.r={currRatio}\")\n",
        "\n",
        "\n",
        "    # Downsample the majority class to match the number of instances in the minority class\n",
        "    downsampled_majority_class_data = resample(\n",
        "        majority_class_data,\n",
        "        replace=False,\n",
        "        n_samples=math.floor(ratio*len(minority_class_data)),\n",
        "        random_state=rand_state\n",
        "    )\n",
        "\n",
        "    # Combine the downsampled majority class with the minority class\n",
        "    downsampled_train_data = pd.concat([downsampled_majority_class_data, minority_class_data])\n",
        "\n",
        "    # Shuffle the data to avoid any order-based patterns\n",
        "    downsampled_train_data = downsampled_train_data.sample(frac=1, random_state=rand_state)\n",
        "\n",
        "    # Separate X_train and y_train after downsampling\n",
        "    X_train_downsampled = downsampled_train_data.drop(columns=[y_train.name])\n",
        "    y_train_downsampled = downsampled_train_data[y_train.name]\n",
        "\n",
        "    return X_train_downsampled, y_train_downsampled"
      ]
    },
    {
      "cell_type": "markdown",
      "metadata": {
        "id": "5EjLehn3dYKN"
      },
      "source": [
        "## ROC AUC curve"
      ]
    },
    {
      "cell_type": "code",
      "execution_count": 4,
      "metadata": {
        "id": "FvEDVQHVdYKN"
      },
      "outputs": [],
      "source": [
        "def ROCcurves(model,x_val,y_val):\n",
        "    fig, axs = plt.subplots(nrows=1, ncols=2, figsize=(10, 4))\n",
        "\n",
        "    y_pred = model.predict(x_val).ravel()\n",
        "    fpr, tpr , _ = roc_curve(y_val,  y_pred)\n",
        "    auc_ss = auc(fpr,tpr)\n",
        "    precision, recall, _ = precision_recall_curve(y_val,  y_pred)\n",
        "    auc_pr = auc(recall, precision)\n",
        "\n",
        "    # Primer subgráfico\n",
        "    axs[0].plot([0, 1], [0, 1], color='gray', lw=1, linestyle='--', label='AUC = 0.50')\n",
        "    axs[0].plot(fpr,tpr, label='ROC curve', color='blue')\n",
        "    axs[0].set_title(f'ROC curve = {round(auc_ss,3)}')\n",
        "    axs[0].set_xlabel('FalsePositiveRate')\n",
        "    axs[0].set_ylabel('TruePositiveRate')\n",
        "    axs[0].legend()\n",
        "    # Segundo subgráfico\n",
        "    axs[1].plot([0, 1], [0,0], color='gray', lw=1, linestyle='--', label='AUC = 0.0')\n",
        "    axs[1].plot(recall, precision, label='ROC-RP curve', color='orange')\n",
        "    axs[1].set_title(f'ROC-RP curve = {round(auc_pr,3)}')\n",
        "    axs[1].set_xlabel('Recall')\n",
        "    axs[1].set_ylabel('Precision')\n",
        "    axs[1].legend()\n",
        "    plt.show()\n",
        "\n"
      ]
    },
    {
      "cell_type": "markdown",
      "metadata": {
        "id": "2rMYuY4XrIAf"
      },
      "source": [
        "## Arquitecture\n",
        "\n",
        "#kernel_regularizer=keras.regularizers.L1L2(l1=0.0, l2=0)\n",
        "#x = keras.layers.Dropout(0.4)(x)"
      ]
    },
    {
      "cell_type": "code",
      "execution_count": 61,
      "metadata": {
        "id": "-BnhQcv8rIAh"
      },
      "outputs": [],
      "source": [
        "input = keras.Input(shape=(train_dataset.shape[1]-2,))\n",
        "x = keras.layers.Dense(train_dataset.shape[1]-2,activation=\"relu\")(input)\n",
        "x = keras.layers.Dense(1000,activation=\"relu\")(x)\n",
        "output = keras.layers.Dense(1,activation=\"sigmoid\")(x)\n",
        "\n",
        "model = keras.Model(input,output)\n",
        "\n",
        "model.compile(optimizer='adam',\n",
        "               loss=keras.losses.BinaryCrossentropy(),\n",
        "               metrics=[keras.metrics.AUC()])"
      ]
    },
    {
      "cell_type": "markdown",
      "metadata": {
        "id": "j2QJFxoXrIAi"
      },
      "source": [
        "## Training"
      ]
    },
    {
      "cell_type": "code",
      "execution_count": 62,
      "metadata": {
        "colab": {
          "base_uri": "https://localhost:8080/"
        },
        "id": "eE-YSa9jdYKm",
        "outputId": "49429b13-5946-4896-a44c-1cf02894ae3e"
      },
      "outputs": [
        {
          "name": "stdout",
          "output_type": "stream",
          "text": [
            "DOWNSAMPLED:(9938:9938)\n",
            "199/199 [==============================] - 1s 4ms/step - loss: 0.2732 - auc_7: 0.9538 - val_loss: 0.1881 - val_auc_7: 0.9780\n",
            "DOWNSAMPLED:(9938:9938)\n",
            "199/199 [==============================] - 1s 4ms/step - loss: 0.1647 - auc_7: 0.9801 - val_loss: 0.1759 - val_auc_7: 0.9823\n",
            "DOWNSAMPLED:(9938:9938)\n",
            "199/199 [==============================] - 1s 4ms/step - loss: 0.1531 - auc_7: 0.9827 - val_loss: 0.1423 - val_auc_7: 0.9860\n",
            "DOWNSAMPLED:(9938:9938)\n",
            "199/199 [==============================] - 1s 4ms/step - loss: 0.1406 - auc_7: 0.9854 - val_loss: 0.1170 - val_auc_7: 0.9911\n",
            "DOWNSAMPLED:(9938:9938)\n",
            "199/199 [==============================] - 1s 4ms/step - loss: 0.1287 - auc_7: 0.9881 - val_loss: 0.1448 - val_auc_7: 0.9893\n",
            "DOWNSAMPLED:(9938:9938)\n",
            "199/199 [==============================] - 1s 4ms/step - loss: 0.1197 - auc_7: 0.9897 - val_loss: 0.1148 - val_auc_7: 0.9911\n",
            "DOWNSAMPLED:(9937:9937)\n",
            "199/199 [==============================] - 1s 4ms/step - loss: 0.1082 - auc_7: 0.9913 - val_loss: 0.1186 - val_auc_7: 0.9910\n",
            "DOWNSAMPLED:(9937:9937)\n",
            "199/199 [==============================] - 1s 4ms/step - loss: 0.1022 - auc_7: 0.9922 - val_loss: 0.0915 - val_auc_7: 0.9940\n",
            "DOWNSAMPLED:(9938:9938)\n",
            "199/199 [==============================] - 1s 4ms/step - loss: 0.1034 - auc_7: 0.9919 - val_loss: 0.0885 - val_auc_7: 0.9952\n",
            "DOWNSAMPLED:(9938:9938)\n",
            "199/199 [==============================] - 1s 4ms/step - loss: 0.0931 - auc_7: 0.9933 - val_loss: 0.0918 - val_auc_7: 0.9938\n"
          ]
        }
      ],
      "source": [
        "rand_state= random.randint(0,1000)\n",
        "#NN training with 10-fold cross-validation stratified with random under-sampling technic for imbalanced data\n",
        "X = train_dataset.drop([\"id\",\"generated\"],axis=1)\n",
        "Y = train_dataset[\"generated\"]\n",
        "folds = StratifiedKFold(10,shuffle=True,random_state=rand_state)\n",
        "for fold, (train_index, val_index) in enumerate(folds.split(X,Y)):\n",
        "    X_train, X_val = X.iloc[train_index], X.iloc[val_index]\n",
        "    y_train, y_val = Y.iloc[train_index], Y.iloc[val_index]\n",
        "\n",
        "    X_train_dwns, y_train_dwns = downsampling(X_train,y_train,rand_state,ratio=1)\n",
        "\n",
        "    #print(f\"Fold {fold + 1}: Train {len(train_index)} samples, Validation {len(val_index)} samples\")\n",
        "    #print(f\"TRAIN:({y_train[y_train==0].size}:{y_train[y_train==1].size})\")\n",
        "    print(f\"DOWNSAMPLED:({y_train_dwns[y_train_dwns==0].size}:{y_train_dwns[y_train_dwns==1].size})\")\n",
        "    #print(f\"VAL:({y_val[y_val==0].size}:{y_val[y_val==1].size})\")\n",
        "\n",
        "    model.fit(X_train_dwns,\n",
        "                y_train_dwns,\n",
        "                validation_data=(X_val,y_val),\n",
        "                batch_size=100,\n",
        "                epochs=1)"
      ]
    },
    {
      "cell_type": "code",
      "execution_count": 63,
      "metadata": {
        "id": "BFzlQPPlrIAk"
      },
      "outputs": [
        {
          "name": "stdout",
          "output_type": "stream",
          "text": [
            "920/920 [==============================] - 1s 1ms/step\n"
          ]
        },
        {
          "data": {
            "image/png": "[encoded data removed]",
            "text/plain": [
              "<Figure size 1000x400 with 2 Axes>"
            ]
          },
          "metadata": {},
          "output_type": "display_data"
        }
      ],
      "source": [
        "ROCcurves(model,X,Y)"
      ]
    },
    {
      "cell_type": "code",
      "execution_count": 64,
      "metadata": {
        "colab": {
          "base_uri": "https://localhost:8080/",
          "height": 484
        },
        "id": "Ub2SWyaC9uL2",
        "outputId": "ff76e5ba-c97c-4d3b-f696-e8d28c11ebbe"
      },
      "outputs": [
        {
          "name": "stdout",
          "output_type": "stream",
          "text": [
            "920/920 [==============================] - 1s 1ms/step\n"
          ]
        },
        {
          "data": {
            "text/plain": [
              "<sklearn.metrics._plot.confusion_matrix.ConfusionMatrixDisplay at 0x7fcae1947c90>"
            ]
          },
          "execution_count": 64,
          "metadata": {},
          "output_type": "execute_result"
        },
        {
          "data": {
            "image/png": "[encoded data removed]",
            "text/plain": [
              "<Figure size 640x480 with 2 Axes>"
            ]
          },
          "metadata": {},
          "output_type": "display_data"
        }
      ],
      "source": [
        "pred = list(map(lambda pred : 1 if pred > 0.5 else 0,model.predict(x=X)))\n",
        "display = ConfusionMatrixDisplay(confusion_matrix(pred,Y),display_labels=[\"True\",\"False\"])\n",
        "display.plot()"
      ]
    },
    {
      "cell_type": "code",
      "execution_count": 65,
      "metadata": {
        "colab": {
          "base_uri": "https://localhost:8080/"
        },
        "id": "o5dVLLxVyjOg",
        "outputId": "f5e96c83-f536-4017-b91f-e527a9b02846"
      },
      "outputs": [
        {
          "name": "stdout",
          "output_type": "stream",
          "text": [
            "1/1 [==============================] - 0s 23ms/step\n"
          ]
        },
        {
          "data": {
            "text/plain": [
              "array([[0.01705193]], dtype=float32)"
            ]
          },
          "execution_count": 65,
          "metadata": {},
          "output_type": "execute_result"
        }
      ],
      "source": [
        "model.predict(x=pd.DataFrame(X.iloc[1385]).transpose())"
      ]
    },
    {
      "cell_type": "markdown",
      "metadata": {},
      "source": [
        "# Test model"
      ]
    },
    {
      "cell_type": "code",
      "execution_count": 66,
      "metadata": {},
      "outputs": [
        {
          "name": "stdout",
          "output_type": "stream",
          "text": [
            "1380/1380 [==============================] - 2s 1ms/step\n",
            "1380/1380 [==============================] - 2s 1ms/step\n"
          ]
        },
        {
          "data": {
            "image/png": "[encoded data removed]",
            "text/plain": [
              "<Figure size 640x480 with 2 Axes>"
            ]
          },
          "metadata": {},
          "output_type": "display_data"
        },
        {
          "data": {
            "image/png": "[encoded data removed]",
            "text/plain": [
              "<Figure size 1000x400 with 2 Axes>"
            ]
          },
          "metadata": {},
          "output_type": "display_data"
        }
      ],
      "source": [
        "\n",
        "test_dataset = pd.read_csv(\"../data/lexp/pre_processed/test.csv\")\n",
        "X_test = test_dataset.drop([\"id\",\"generated\"],axis=1)\n",
        "Y_test = test_dataset[[\"generated\"]]\n",
        "pred = model.predict(x=X_test)\n",
        "pred = [1 if p>=0.5 else 0 for p in pred]\n",
        "ConfusionMatrixDisplay(confusion_matrix(pred,Y_test),display_labels=[\"True\",\"False\"]).plot()\n",
        "ROCcurves(model,X_test,Y_test)\n"
      ]
    },
    {
      "cell_type": "markdown",
      "metadata": {
        "id": "WBX5tB7SrIAm"
      },
      "source": [
        "## Save model weights\n",
        "Overfitting 2: 1 layer with 1000, 13 epochs & 100 batch_size\n",
        "Regularized: equal to O2, but with"
      ]
    },
    {
      "cell_type": "code",
      "execution_count": 67,
      "metadata": {
        "colab": {
          "base_uri": "https://localhost:8080/"
        },
        "id": "cuU3OOL9rIAn",
        "outputId": "410208fc-d1cf-4010-dd85-6aa7e87bfc49"
      },
      "outputs": [],
      "source": [
        "#model.save(\"../data/lexp/weight(prueba 2).h5\")"
      ]
    }
  ],
  "metadata": {
    "accelerator": "GPU",
    "colab": {
      "gpuType": "T4",
      "provenance": []
    },
    "kernelspec": {
      "display_name": "Python 3",
      "name": "python3"
    },
    "language_info": {
      "codemirror_mode": {
        "name": "ipython",
        "version": 3
      },
      "file_extension": ".py",
      "mimetype": "text/x-python",
      "name": "python",
      "nbconvert_exporter": "python",
      "pygments_lexer": "ipython3",
      "version": "3.11.0"
    }
  },
  "nbformat": 4,
  "nbformat_minor": 0
}
