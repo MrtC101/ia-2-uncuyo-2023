{
  "cells": [
    {
      "cell_type": "markdown",
      "metadata": {
        "id": "_aB82fSvdYKB"
      },
      "source": [
        "# LLM - Detect AI Generated Text\n",
        "# (CNN) Convolution Neural Network"
      ]
    },
    {
      "cell_type": "markdown",
      "metadata": {},
      "source": [
        "## Import"
      ]
    },
    {
      "cell_type": "code",
      "execution_count": 1,
      "metadata": {
        "colab": {
          "base_uri": "https://localhost:8080/"
        },
        "id": "7itjdvI9dYKD",
        "outputId": "af42ede1-292a-43ea-8e85-bdb1a11a3d73"
      },
      "outputs": [
        {
          "name": "stderr",
          "output_type": "stream",
          "text": [
            "2024-01-09 19:16:10.629239: E external/local_xla/xla/stream_executor/cuda/cuda_dnn.cc:9261] Unable to register cuDNN factory: Attempting to register factory for plugin cuDNN when one has already been registered\n",
            "2024-01-09 19:16:10.629267: E external/local_xla/xla/stream_executor/cuda/cuda_fft.cc:607] Unable to register cuFFT factory: Attempting to register factory for plugin cuFFT when one has already been registered\n",
            "2024-01-09 19:16:10.659475: E external/local_xla/xla/stream_executor/cuda/cuda_blas.cc:1515] Unable to register cuBLAS factory: Attempting to register factory for plugin cuBLAS when one has already been registered\n",
            "2024-01-09 19:16:10.723491: I tensorflow/core/platform/cpu_feature_guard.cc:182] This TensorFlow binary is optimized to use available CPU instructions in performance-critical operations.\n",
            "To enable the following instructions: AVX2 FMA, in other operations, rebuild TensorFlow with the appropriate compiler flags.\n",
            "2024-01-09 19:16:11.781434: W tensorflow/compiler/tf2tensorrt/utils/py_utils.cc:38] TF-TRT Warning: Could not find TensorRT\n"
          ]
        }
      ],
      "source": [
        "import math\n",
        "import random\n",
        "\n",
        "import pandas as pd\n",
        "import numpy as np\n",
        "import matplotlib.pyplot as plt\n",
        "\n",
        "from sklearn.model_selection import StratifiedKFold\n",
        "from sklearn.utils import resample\n",
        "from sklearn.metrics import roc_curve ,precision_recall_curve,auc,confusion_matrix,ConfusionMatrixDisplay\n",
        "import keras\n"
      ]
    },
    {
      "cell_type": "code",
      "execution_count": 3,
      "metadata": {},
      "outputs": [
        {
          "name": "stderr",
          "output_type": "stream",
          "text": [
            "/tmp/ipykernel_14614/3693482564.py:1: DtypeWarning: Columns (0) have mixed types. Specify dtype option on import or set low_memory=False.\n",
            "  pre_processed_data=pd.read_csv(\"../data/NN/pre_process_train.csv\")\n"
          ]
        },
        {
          "data": {
            "text/html": [
              "<div>\n",
              "<style scoped>\n",
              "    .dataframe tbody tr th:only-of-type {\n",
              "        vertical-align: middle;\n",
              "    }\n",
              "\n",
              "    .dataframe tbody tr th {\n",
              "        vertical-align: top;\n",
              "    }\n",
              "\n",
              "    .dataframe thead th {\n",
              "        text-align: right;\n",
              "    }\n",
              "</style>\n",
              "<table border=\"1\" class=\"dataframe\">\n",
              "  <thead>\n",
              "    <tr style=\"text-align: right;\">\n",
              "      <th></th>\n",
              "      <th>id</th>\n",
              "      <th>prompt_id</th>\n",
              "      <th>generated</th>\n",
              "      <th>0</th>\n",
              "      <th>1</th>\n",
              "      <th>2</th>\n",
              "      <th>3</th>\n",
              "      <th>4</th>\n",
              "      <th>5</th>\n",
              "      <th>6</th>\n",
              "      <th>...</th>\n",
              "      <th>96</th>\n",
              "      <th>97</th>\n",
              "      <th>98</th>\n",
              "      <th>99</th>\n",
              "      <th>normalized_norm</th>\n",
              "      <th>token_num</th>\n",
              "      <th>sent_num</th>\n",
              "      <th>punct_sym</th>\n",
              "      <th>apostrof_sym</th>\n",
              "      <th>unk_num</th>\n",
              "    </tr>\n",
              "  </thead>\n",
              "  <tbody>\n",
              "    <tr>\n",
              "      <th>0</th>\n",
              "      <td>0059830c</td>\n",
              "      <td>0</td>\n",
              "      <td>0</td>\n",
              "      <td>0.031006</td>\n",
              "      <td>0.005868</td>\n",
              "      <td>0.000175</td>\n",
              "      <td>0.040530</td>\n",
              "      <td>-0.008923</td>\n",
              "      <td>-0.024766</td>\n",
              "      <td>-0.075533</td>\n",
              "      <td>...</td>\n",
              "      <td>-0.023679</td>\n",
              "      <td>0.007964</td>\n",
              "      <td>-0.097951</td>\n",
              "      <td>-0.013403</td>\n",
              "      <td>0.386702</td>\n",
              "      <td>0.003912</td>\n",
              "      <td>0.004492</td>\n",
              "      <td>0.005521</td>\n",
              "      <td>0.000000</td>\n",
              "      <td>0</td>\n",
              "    </tr>\n",
              "    <tr>\n",
              "      <th>1</th>\n",
              "      <td>005db917</td>\n",
              "      <td>0</td>\n",
              "      <td>0</td>\n",
              "      <td>-0.009186</td>\n",
              "      <td>-0.049469</td>\n",
              "      <td>-0.024262</td>\n",
              "      <td>-0.027737</td>\n",
              "      <td>0.044426</td>\n",
              "      <td>-0.023337</td>\n",
              "      <td>-0.037656</td>\n",
              "      <td>...</td>\n",
              "      <td>-0.038399</td>\n",
              "      <td>0.020613</td>\n",
              "      <td>0.022102</td>\n",
              "      <td>-0.008245</td>\n",
              "      <td>0.370435</td>\n",
              "      <td>0.003912</td>\n",
              "      <td>0.004866</td>\n",
              "      <td>0.004616</td>\n",
              "      <td>0.004868</td>\n",
              "      <td>0</td>\n",
              "    </tr>\n",
              "    <tr>\n",
              "      <th>2</th>\n",
              "      <td>008f63e3</td>\n",
              "      <td>0</td>\n",
              "      <td>0</td>\n",
              "      <td>-0.127259</td>\n",
              "      <td>-0.009322</td>\n",
              "      <td>0.094947</td>\n",
              "      <td>0.043751</td>\n",
              "      <td>0.081350</td>\n",
              "      <td>-0.062914</td>\n",
              "      <td>-0.065543</td>\n",
              "      <td>...</td>\n",
              "      <td>0.000657</td>\n",
              "      <td>-0.040317</td>\n",
              "      <td>-0.002923</td>\n",
              "      <td>-0.069843</td>\n",
              "      <td>0.396177</td>\n",
              "      <td>0.003912</td>\n",
              "      <td>0.008983</td>\n",
              "      <td>0.006969</td>\n",
              "      <td>0.002434</td>\n",
              "      <td>0</td>\n",
              "    </tr>\n",
              "    <tr>\n",
              "      <th>3</th>\n",
              "      <td>00940276</td>\n",
              "      <td>0</td>\n",
              "      <td>0</td>\n",
              "      <td>-0.083473</td>\n",
              "      <td>-0.041759</td>\n",
              "      <td>-0.095021</td>\n",
              "      <td>0.010098</td>\n",
              "      <td>0.053566</td>\n",
              "      <td>-0.077048</td>\n",
              "      <td>-0.098504</td>\n",
              "      <td>...</td>\n",
              "      <td>-0.020585</td>\n",
              "      <td>-0.030012</td>\n",
              "      <td>0.073441</td>\n",
              "      <td>-0.113554</td>\n",
              "      <td>0.405722</td>\n",
              "      <td>0.003912</td>\n",
              "      <td>0.006550</td>\n",
              "      <td>0.007240</td>\n",
              "      <td>0.000000</td>\n",
              "      <td>0</td>\n",
              "    </tr>\n",
              "    <tr>\n",
              "      <th>4</th>\n",
              "      <td>00c39458</td>\n",
              "      <td>0</td>\n",
              "      <td>0</td>\n",
              "      <td>-0.100145</td>\n",
              "      <td>-0.040200</td>\n",
              "      <td>0.055441</td>\n",
              "      <td>0.077485</td>\n",
              "      <td>-0.011119</td>\n",
              "      <td>-0.083053</td>\n",
              "      <td>-0.108298</td>\n",
              "      <td>...</td>\n",
              "      <td>0.003750</td>\n",
              "      <td>0.039632</td>\n",
              "      <td>0.014942</td>\n",
              "      <td>-0.046859</td>\n",
              "      <td>0.451901</td>\n",
              "      <td>0.003912</td>\n",
              "      <td>0.008983</td>\n",
              "      <td>0.007602</td>\n",
              "      <td>0.002434</td>\n",
              "      <td>0</td>\n",
              "    </tr>\n",
              "    <tr>\n",
              "      <th>...</th>\n",
              "      <td>...</td>\n",
              "      <td>...</td>\n",
              "      <td>...</td>\n",
              "      <td>...</td>\n",
              "      <td>...</td>\n",
              "      <td>...</td>\n",
              "      <td>...</td>\n",
              "      <td>...</td>\n",
              "      <td>...</td>\n",
              "      <td>...</td>\n",
              "      <td>...</td>\n",
              "      <td>...</td>\n",
              "      <td>...</td>\n",
              "      <td>...</td>\n",
              "      <td>...</td>\n",
              "      <td>...</td>\n",
              "      <td>...</td>\n",
              "      <td>...</td>\n",
              "      <td>...</td>\n",
              "      <td>...</td>\n",
              "      <td>...</td>\n",
              "    </tr>\n",
              "    <tr>\n",
              "      <th>65349</th>\n",
              "      <td>65525</td>\n",
              "      <td>1</td>\n",
              "      <td>1</td>\n",
              "      <td>-0.001667</td>\n",
              "      <td>-0.005254</td>\n",
              "      <td>0.003478</td>\n",
              "      <td>-0.046774</td>\n",
              "      <td>0.119164</td>\n",
              "      <td>0.074849</td>\n",
              "      <td>0.061789</td>\n",
              "      <td>...</td>\n",
              "      <td>0.053973</td>\n",
              "      <td>0.040873</td>\n",
              "      <td>0.061876</td>\n",
              "      <td>-0.005299</td>\n",
              "      <td>0.270148</td>\n",
              "      <td>0.003912</td>\n",
              "      <td>0.003369</td>\n",
              "      <td>0.003258</td>\n",
              "      <td>0.000000</td>\n",
              "      <td>0</td>\n",
              "    </tr>\n",
              "    <tr>\n",
              "      <th>65350</th>\n",
              "      <td>65526</td>\n",
              "      <td>1</td>\n",
              "      <td>1</td>\n",
              "      <td>0.012272</td>\n",
              "      <td>-0.009188</td>\n",
              "      <td>-0.117230</td>\n",
              "      <td>0.009980</td>\n",
              "      <td>0.058147</td>\n",
              "      <td>0.089310</td>\n",
              "      <td>0.026512</td>\n",
              "      <td>...</td>\n",
              "      <td>0.089401</td>\n",
              "      <td>0.052531</td>\n",
              "      <td>0.021248</td>\n",
              "      <td>-0.058458</td>\n",
              "      <td>0.351528</td>\n",
              "      <td>0.003912</td>\n",
              "      <td>0.004305</td>\n",
              "      <td>0.003711</td>\n",
              "      <td>0.000000</td>\n",
              "      <td>0</td>\n",
              "    </tr>\n",
              "    <tr>\n",
              "      <th>65351</th>\n",
              "      <td>65527</td>\n",
              "      <td>1</td>\n",
              "      <td>1</td>\n",
              "      <td>-0.003841</td>\n",
              "      <td>0.184542</td>\n",
              "      <td>-0.018318</td>\n",
              "      <td>-0.000038</td>\n",
              "      <td>0.003925</td>\n",
              "      <td>0.038930</td>\n",
              "      <td>-0.023688</td>\n",
              "      <td>...</td>\n",
              "      <td>-0.003992</td>\n",
              "      <td>-0.023140</td>\n",
              "      <td>-0.023155</td>\n",
              "      <td>0.065200</td>\n",
              "      <td>0.295845</td>\n",
              "      <td>0.003912</td>\n",
              "      <td>0.003743</td>\n",
              "      <td>0.003530</td>\n",
              "      <td>0.000000</td>\n",
              "      <td>0</td>\n",
              "    </tr>\n",
              "    <tr>\n",
              "      <th>65352</th>\n",
              "      <td>65528</td>\n",
              "      <td>1</td>\n",
              "      <td>1</td>\n",
              "      <td>0.089967</td>\n",
              "      <td>0.021360</td>\n",
              "      <td>-0.036671</td>\n",
              "      <td>-0.036774</td>\n",
              "      <td>0.053695</td>\n",
              "      <td>0.083478</td>\n",
              "      <td>0.015443</td>\n",
              "      <td>...</td>\n",
              "      <td>0.026922</td>\n",
              "      <td>0.049378</td>\n",
              "      <td>0.014431</td>\n",
              "      <td>-0.028427</td>\n",
              "      <td>0.311500</td>\n",
              "      <td>0.003912</td>\n",
              "      <td>0.003369</td>\n",
              "      <td>0.003168</td>\n",
              "      <td>0.000000</td>\n",
              "      <td>0</td>\n",
              "    </tr>\n",
              "    <tr>\n",
              "      <th>65353</th>\n",
              "      <td>65529</td>\n",
              "      <td>1</td>\n",
              "      <td>1</td>\n",
              "      <td>-0.059425</td>\n",
              "      <td>0.061315</td>\n",
              "      <td>-0.060917</td>\n",
              "      <td>-0.065748</td>\n",
              "      <td>0.001464</td>\n",
              "      <td>0.112835</td>\n",
              "      <td>0.045875</td>\n",
              "      <td>...</td>\n",
              "      <td>0.006251</td>\n",
              "      <td>0.048848</td>\n",
              "      <td>0.047112</td>\n",
              "      <td>-0.030220</td>\n",
              "      <td>0.308790</td>\n",
              "      <td>0.003912</td>\n",
              "      <td>0.002620</td>\n",
              "      <td>0.001901</td>\n",
              "      <td>0.000000</td>\n",
              "      <td>0</td>\n",
              "    </tr>\n",
              "  </tbody>\n",
              "</table>\n",
              "<p>65354 rows × 109 columns</p>\n",
              "</div>"
            ],
            "text/plain": [
              "             id  prompt_id  generated         0         1         2         3  \\\n",
              "0      0059830c          0          0  0.031006  0.005868  0.000175  0.040530   \n",
              "1      005db917          0          0 -0.009186 -0.049469 -0.024262 -0.027737   \n",
              "2      008f63e3          0          0 -0.127259 -0.009322  0.094947  0.043751   \n",
              "3      00940276          0          0 -0.083473 -0.041759 -0.095021  0.010098   \n",
              "4      00c39458          0          0 -0.100145 -0.040200  0.055441  0.077485   \n",
              "...         ...        ...        ...       ...       ...       ...       ...   \n",
              "65349     65525          1          1 -0.001667 -0.005254  0.003478 -0.046774   \n",
              "65350     65526          1          1  0.012272 -0.009188 -0.117230  0.009980   \n",
              "65351     65527          1          1 -0.003841  0.184542 -0.018318 -0.000038   \n",
              "65352     65528          1          1  0.089967  0.021360 -0.036671 -0.036774   \n",
              "65353     65529          1          1 -0.059425  0.061315 -0.060917 -0.065748   \n",
              "\n",
              "              4         5         6  ...        96        97        98  \\\n",
              "0     -0.008923 -0.024766 -0.075533  ... -0.023679  0.007964 -0.097951   \n",
              "1      0.044426 -0.023337 -0.037656  ... -0.038399  0.020613  0.022102   \n",
              "2      0.081350 -0.062914 -0.065543  ...  0.000657 -0.040317 -0.002923   \n",
              "3      0.053566 -0.077048 -0.098504  ... -0.020585 -0.030012  0.073441   \n",
              "4     -0.011119 -0.083053 -0.108298  ...  0.003750  0.039632  0.014942   \n",
              "...         ...       ...       ...  ...       ...       ...       ...   \n",
              "65349  0.119164  0.074849  0.061789  ...  0.053973  0.040873  0.061876   \n",
              "65350  0.058147  0.089310  0.026512  ...  0.089401  0.052531  0.021248   \n",
              "65351  0.003925  0.038930 -0.023688  ... -0.003992 -0.023140 -0.023155   \n",
              "65352  0.053695  0.083478  0.015443  ...  0.026922  0.049378  0.014431   \n",
              "65353  0.001464  0.112835  0.045875  ...  0.006251  0.048848  0.047112   \n",
              "\n",
              "             99  normalized_norm  token_num  sent_num  punct_sym  \\\n",
              "0     -0.013403         0.386702   0.003912  0.004492   0.005521   \n",
              "1     -0.008245         0.370435   0.003912  0.004866   0.004616   \n",
              "2     -0.069843         0.396177   0.003912  0.008983   0.006969   \n",
              "3     -0.113554         0.405722   0.003912  0.006550   0.007240   \n",
              "4     -0.046859         0.451901   0.003912  0.008983   0.007602   \n",
              "...         ...              ...        ...       ...        ...   \n",
              "65349 -0.005299         0.270148   0.003912  0.003369   0.003258   \n",
              "65350 -0.058458         0.351528   0.003912  0.004305   0.003711   \n",
              "65351  0.065200         0.295845   0.003912  0.003743   0.003530   \n",
              "65352 -0.028427         0.311500   0.003912  0.003369   0.003168   \n",
              "65353 -0.030220         0.308790   0.003912  0.002620   0.001901   \n",
              "\n",
              "       apostrof_sym  unk_num  \n",
              "0          0.000000        0  \n",
              "1          0.004868        0  \n",
              "2          0.002434        0  \n",
              "3          0.000000        0  \n",
              "4          0.002434        0  \n",
              "...             ...      ...  \n",
              "65349      0.000000        0  \n",
              "65350      0.000000        0  \n",
              "65351      0.000000        0  \n",
              "65352      0.000000        0  \n",
              "65353      0.000000        0  \n",
              "\n",
              "[65354 rows x 109 columns]"
            ]
          },
          "execution_count": 3,
          "metadata": {},
          "output_type": "execute_result"
        }
      ],
      "source": [
        "pre_processed_data=pd.read_csv(\"../data/CNN/pre_process_train.csv\")\n",
        "pre_processed_data"
      ]
    },
    {
      "cell_type": "markdown",
      "metadata": {},
      "source": [
        "## Random Downsampling"
      ]
    },
    {
      "cell_type": "code",
      "execution_count": 4,
      "metadata": {
        "id": "sieb_gK4dYKl"
      },
      "outputs": [],
      "source": [
        "def downsampling(X_train,y_train,rand_state,ratio):\n",
        "    # Concatenate X_train and y_train for ease of downsampling\n",
        "    train_data = pd.concat([X_train, y_train], axis=1)\n",
        "\n",
        "    # Identify the class with the majority of instances\n",
        "    majority_class = train_data[y_train.name].value_counts().idxmax()\n",
        "\n",
        "    # Separate instances of each class\n",
        "    majority_class_data = train_data[train_data[y_train.name] == majority_class]\n",
        "    minority_class_data = train_data[train_data[y_train.name] != majority_class]\n",
        "\n",
        "\n",
        "    currRatio = len(majority_class_data) / len(minority_class_data)\n",
        "    if(currRatio<=ratio):\n",
        "        raise ValueError(f\"El ratio de entrada debe ser menor al ratio actual.r={currRatio}\")\n",
        "\n",
        "\n",
        "    # Downsample the majority class to match the number of instances in the minority class\n",
        "    downsampled_majority_class_data = resample(\n",
        "        majority_class_data,\n",
        "        replace=False,\n",
        "        n_samples=math.floor(ratio*len(minority_class_data)),\n",
        "        random_state=rand_state\n",
        "    )\n",
        "\n",
        "    # Combine the downsampled majority class with the minority class\n",
        "    downsampled_train_data = pd.concat([downsampled_majority_class_data, minority_class_data])\n",
        "\n",
        "    # Shuffle the data to avoid any order-based patterns\n",
        "    downsampled_train_data = downsampled_train_data.sample(frac=1, random_state=rand_state)\n",
        "\n",
        "    # Separate X_train and y_train after downsampling\n",
        "    X_train_downsampled = downsampled_train_data.drop(columns=[y_train.name])\n",
        "    y_train_downsampled = downsampled_train_data[y_train.name]\n",
        "\n",
        "    return X_train_downsampled, y_train_downsampled"
      ]
    },
    {
      "cell_type": "markdown",
      "metadata": {
        "id": "5EjLehn3dYKN"
      },
      "source": [
        "## ROC AUC curve"
      ]
    },
    {
      "cell_type": "code",
      "execution_count": 5,
      "metadata": {
        "id": "FvEDVQHVdYKN"
      },
      "outputs": [],
      "source": [
        "def ROCcurves(model,x_val,y_val):\n",
        "    fig, axs = plt.subplots(nrows=1, ncols=2, figsize=(10, 4))\n",
        "    \n",
        "    y_pred = model.predict(x_val).ravel()\n",
        "    fpr, tpr , _ = roc_curve(y_val,  y_pred)\n",
        "    auc_ss = auc(fpr,tpr)\n",
        "    precision, recall, _ = precision_recall_curve(y_val,  y_pred)\n",
        "    auc_pr = auc(recall, precision)\n",
        "\n",
        "    # Primer subgráfico\n",
        "    axs[0].plot([0, 1], [0, 1], color='gray', lw=1, linestyle='--', label='AUC = 0.50')\n",
        "    axs[0].plot(fpr,tpr, label='ROC curve', color='blue')\n",
        "    axs[0].set_title(f'ROC curve = {round(auc_ss,3)}')\n",
        "    axs[0].set_xlabel('FalsePositiveRate')\n",
        "    axs[0].set_ylabel('TruePositiveRate')\n",
        "    axs[0].legend()\n",
        "    # Segundo subgráfico\n",
        "    axs[1].plot([0, 1], [0,0], color='gray', lw=1, linestyle='--', label='AUC = 0.0')\n",
        "    axs[1].plot(recall, precision, label='ROC-RP curve', color='orange')\n",
        "    axs[1].set_title(f'ROC-RP curve = {round(auc_pr,3)}')\n",
        "    axs[1].set_xlabel('Recall')\n",
        "    axs[1].set_ylabel('Precision')\n",
        "    axs[1].legend()\n",
        "    plt.show()\n",
        "\n"
      ]
    },
    {
      "cell_type": "markdown",
      "metadata": {},
      "source": [
        "## Arquitecture"
      ]
    },
    {
      "cell_type": "code",
      "execution_count": 6,
      "metadata": {},
      "outputs": [],
      "source": [
        "input = keras.Input(shape=(None,pre_processed_data.shape[1]-2),batch_size=500)\n",
        "x = keras.layers.Reshape(target_shape=(pre_processed_data.shape[1]-2,1))(input)\n",
        "x = keras.layers.Convolution1D(100,kernel_size=10,padding=\"same\",strides=1,activation=\"relu\")(x)\n",
        "x = keras.layers.Dense(300,activation=\"relu\")(x)\n",
        "output = keras.layers.Dense(1,activation=\"sigmoid\")(x)\n",
        "\n",
        "model = keras.Model(input,output)\n",
        "\n",
        "model.compile(optimizer='adam',\n",
        "               loss=keras.losses.BinaryCrossentropy(),\n",
        "               metrics=[keras.metrics.AUC()])"
      ]
    },
    {
      "cell_type": "markdown",
      "metadata": {},
      "source": [
        "## Training"
      ]
    },
    {
      "cell_type": "code",
      "execution_count": 7,
      "metadata": {
        "colab": {
          "base_uri": "https://localhost:8080/",
          "height": 1000
        },
        "id": "eE-YSa9jdYKm",
        "outputId": "1017a0f1-e1de-49da-ed83-603324aa1644"
      },
      "outputs": [
        {
          "name": "stdout",
          "output_type": "stream",
          "text": [
            "DOWNSAMPLED:(24633:32022)\n",
            "Epoch 1/13\n"
          ]
        },
        {
          "name": "stderr",
          "output_type": "stream",
          "text": [
            "2024-01-09 19:16:25.129371: W external/local_tsl/tsl/framework/cpu_allocator_impl.cc:83] Allocation of 48496680 exceeds 10% of free system memory.\n"
          ]
        },
        {
          "name": "stdout",
          "output_type": "stream",
          "text": [
            "57/57 [==============================] - 2s 17ms/step - loss: 0.6203 - auc: 0.6933 - val_loss: 0.5027 - val_auc: 0.8480\n",
            "Epoch 2/13\n",
            "57/57 [==============================] - 1s 13ms/step - loss: 0.4563 - auc: 0.8619 - val_loss: 0.4157 - val_auc: 0.8862\n",
            "Epoch 3/13\n",
            "57/57 [==============================] - 1s 14ms/step - loss: 0.4116 - auc: 0.8900 - val_loss: 0.4249 - val_auc: 0.8990\n",
            "Epoch 4/13\n",
            "57/57 [==============================] - 1s 13ms/step - loss: 0.3967 - auc: 0.8983 - val_loss: 0.4038 - val_auc: 0.9086\n",
            "Epoch 5/13\n",
            "57/57 [==============================] - 1s 13ms/step - loss: 0.3744 - auc: 0.9101 - val_loss: 0.3557 - val_auc: 0.9212\n",
            "Epoch 6/13\n",
            "57/57 [==============================] - 1s 14ms/step - loss: 0.3457 - auc: 0.9242 - val_loss: 0.3322 - val_auc: 0.9312\n",
            "Epoch 7/13\n",
            "57/57 [==============================] - 1s 13ms/step - loss: 0.3350 - auc: 0.9288 - val_loss: 0.3373 - val_auc: 0.9359\n",
            "Epoch 8/13\n",
            "57/57 [==============================] - 1s 12ms/step - loss: 0.3084 - auc: 0.9402 - val_loss: 0.3162 - val_auc: 0.9419\n",
            "Epoch 9/13\n",
            "57/57 [==============================] - 1s 12ms/step - loss: 0.2921 - auc: 0.9464 - val_loss: 0.2949 - val_auc: 0.9450\n",
            "Epoch 10/13\n",
            "57/57 [==============================] - 1s 12ms/step - loss: 0.2900 - auc: 0.9472 - val_loss: 0.2902 - val_auc: 0.9471\n",
            "Epoch 11/13\n",
            "57/57 [==============================] - 1s 11ms/step - loss: 0.2745 - auc: 0.9527 - val_loss: 0.3345 - val_auc: 0.9476\n",
            "Epoch 12/13\n",
            "57/57 [==============================] - 1s 12ms/step - loss: 0.2730 - auc: 0.9533 - val_loss: 0.3673 - val_auc: 0.9475\n",
            "Epoch 13/13\n",
            "57/57 [==============================] - 1s 12ms/step - loss: 0.2720 - auc: 0.9536 - val_loss: 0.2866 - val_auc: 0.9503\n",
            "DOWNSAMPLED:(24634:32024)\n",
            "Epoch 1/13\n",
            "11/57 [====>.........................] - ETA: 0s - loss: 0.2672 - auc: 0.9555"
          ]
        },
        {
          "name": "stderr",
          "output_type": "stream",
          "text": [
            "2024-01-09 19:16:35.854914: W external/local_tsl/tsl/framework/cpu_allocator_impl.cc:83] Allocation of 48499248 exceeds 10% of free system memory.\n"
          ]
        },
        {
          "name": "stdout",
          "output_type": "stream",
          "text": [
            "57/57 [==============================] - 1s 12ms/step - loss: 0.2571 - auc: 0.9586 - val_loss: 0.2445 - val_auc: 0.9626\n",
            "Epoch 2/13\n",
            "57/57 [==============================] - 1s 12ms/step - loss: 0.2592 - auc: 0.9580 - val_loss: 0.2749 - val_auc: 0.9620\n",
            "Epoch 3/13\n",
            "57/57 [==============================] - 1s 12ms/step - loss: 0.2504 - auc: 0.9608 - val_loss: 0.2508 - val_auc: 0.9625\n",
            "Epoch 4/13\n",
            "57/57 [==============================] - 1s 12ms/step - loss: 0.2517 - auc: 0.9604 - val_loss: 0.2961 - val_auc: 0.9596\n",
            "Epoch 5/13\n",
            "57/57 [==============================] - 1s 12ms/step - loss: 0.2411 - auc: 0.9635 - val_loss: 0.2430 - val_auc: 0.9628\n",
            "Epoch 6/13\n",
            "57/57 [==============================] - 1s 12ms/step - loss: 0.2325 - auc: 0.9661 - val_loss: 0.2615 - val_auc: 0.9617\n",
            "Epoch 7/13\n",
            "57/57 [==============================] - 1s 11ms/step - loss: 0.2263 - auc: 0.9679 - val_loss: 0.2479 - val_auc: 0.9618\n",
            "Epoch 8/13\n",
            "57/57 [==============================] - 1s 12ms/step - loss: 0.2193 - auc: 0.9698 - val_loss: 0.2505 - val_auc: 0.9631\n",
            "Epoch 9/13\n",
            "57/57 [==============================] - 1s 12ms/step - loss: 0.2199 - auc: 0.9697 - val_loss: 0.2550 - val_auc: 0.9608\n",
            "Epoch 10/13\n",
            "57/57 [==============================] - 1s 12ms/step - loss: 0.2244 - auc: 0.9684 - val_loss: 0.2618 - val_auc: 0.9610\n",
            "Epoch 11/13\n",
            "57/57 [==============================] - 1s 11ms/step - loss: 0.2148 - auc: 0.9710 - val_loss: 0.2565 - val_auc: 0.9615\n",
            "Epoch 12/13\n",
            "57/57 [==============================] - 1s 11ms/step - loss: 0.2087 - auc: 0.9725 - val_loss: 0.2615 - val_auc: 0.9621\n",
            "Epoch 13/13\n",
            "57/57 [==============================] - 1s 12ms/step - loss: 0.2050 - auc: 0.9735 - val_loss: 0.2554 - val_auc: 0.9619\n",
            "DOWNSAMPLED:(24634:32024)\n",
            "Epoch 1/13\n",
            " 9/57 [===>..........................] - ETA: 0s - loss: 0.2117 - auc: 0.9721"
          ]
        },
        {
          "name": "stderr",
          "output_type": "stream",
          "text": [
            "2024-01-09 19:16:44.792094: W external/local_tsl/tsl/framework/cpu_allocator_impl.cc:83] Allocation of 48499248 exceeds 10% of free system memory.\n"
          ]
        },
        {
          "name": "stdout",
          "output_type": "stream",
          "text": [
            "57/57 [==============================] - 1s 13ms/step - loss: 0.2147 - auc: 0.9711 - val_loss: 0.2244 - val_auc: 0.9708\n",
            "Epoch 2/13\n",
            "57/57 [==============================] - 1s 12ms/step - loss: 0.2153 - auc: 0.9707 - val_loss: 0.2617 - val_auc: 0.9748\n",
            "Epoch 3/13\n",
            "57/57 [==============================] - 1s 12ms/step - loss: 0.2069 - auc: 0.9730 - val_loss: 0.1985 - val_auc: 0.9752\n",
            "Epoch 4/13\n",
            "57/57 [==============================] - 1s 12ms/step - loss: 0.2050 - auc: 0.9735 - val_loss: 0.2000 - val_auc: 0.9752\n",
            "Epoch 5/13\n",
            "57/57 [==============================] - 1s 12ms/step - loss: 0.2027 - auc: 0.9741 - val_loss: 0.2065 - val_auc: 0.9756\n",
            "Epoch 6/13\n",
            "57/57 [==============================] - 1s 11ms/step - loss: 0.1985 - auc: 0.9751 - val_loss: 0.2085 - val_auc: 0.9758\n",
            "Epoch 7/13\n",
            "57/57 [==============================] - 1s 12ms/step - loss: 0.1979 - auc: 0.9752 - val_loss: 0.2075 - val_auc: 0.9736\n",
            "Epoch 8/13\n",
            "57/57 [==============================] - 1s 12ms/step - loss: 0.1947 - auc: 0.9760 - val_loss: 0.1999 - val_auc: 0.9748\n",
            "Epoch 9/13\n",
            "57/57 [==============================] - 1s 12ms/step - loss: 0.1926 - auc: 0.9765 - val_loss: 0.2087 - val_auc: 0.9735\n",
            "Epoch 10/13\n",
            "57/57 [==============================] - 1s 12ms/step - loss: 0.1973 - auc: 0.9754 - val_loss: 0.2379 - val_auc: 0.9740\n",
            "Epoch 11/13\n",
            "57/57 [==============================] - 1s 13ms/step - loss: 0.1988 - auc: 0.9750 - val_loss: 0.2248 - val_auc: 0.9699\n",
            "Epoch 12/13\n",
            "57/57 [==============================] - 1s 13ms/step - loss: 0.2015 - auc: 0.9744 - val_loss: 0.2056 - val_auc: 0.9741\n",
            "Epoch 13/13\n",
            "57/57 [==============================] - 1s 13ms/step - loss: 0.1928 - auc: 0.9764 - val_loss: 0.2073 - val_auc: 0.9744\n",
            "DOWNSAMPLED:(24634:32024)\n",
            "Epoch 1/13\n",
            "11/57 [====>.........................] - ETA: 0s - loss: 0.1908 - auc: 0.9770"
          ]
        },
        {
          "name": "stderr",
          "output_type": "stream",
          "text": [
            "2024-01-09 19:16:54.167952: W external/local_tsl/tsl/framework/cpu_allocator_impl.cc:83] Allocation of 48499248 exceeds 10% of free system memory.\n"
          ]
        },
        {
          "name": "stdout",
          "output_type": "stream",
          "text": [
            "57/57 [==============================] - 1s 13ms/step - loss: 0.1913 - auc: 0.9767 - val_loss: 0.1795 - val_auc: 0.9798\n",
            "Epoch 2/13\n",
            "57/57 [==============================] - 1s 12ms/step - loss: 0.1877 - auc: 0.9777 - val_loss: 0.1864 - val_auc: 0.9796\n",
            "Epoch 3/13\n",
            "57/57 [==============================] - 1s 12ms/step - loss: 0.1830 - auc: 0.9788 - val_loss: 0.1835 - val_auc: 0.9799\n",
            "Epoch 4/13\n",
            "57/57 [==============================] - 1s 13ms/step - loss: 0.1848 - auc: 0.9784 - val_loss: 0.2015 - val_auc: 0.9792\n",
            "Epoch 5/13\n",
            "57/57 [==============================] - 1s 13ms/step - loss: 0.1887 - auc: 0.9775 - val_loss: 0.1801 - val_auc: 0.9801\n",
            "Epoch 6/13\n",
            "57/57 [==============================] - 1s 13ms/step - loss: 0.1806 - auc: 0.9794 - val_loss: 0.1971 - val_auc: 0.9790\n",
            "Epoch 7/13\n",
            "57/57 [==============================] - 1s 12ms/step - loss: 0.1760 - auc: 0.9803 - val_loss: 0.1775 - val_auc: 0.9801\n",
            "Epoch 8/13\n",
            "57/57 [==============================] - 1s 11ms/step - loss: 0.1767 - auc: 0.9802 - val_loss: 0.1805 - val_auc: 0.9795\n",
            "Epoch 9/13\n",
            "57/57 [==============================] - 1s 12ms/step - loss: 0.1687 - auc: 0.9819 - val_loss: 0.1952 - val_auc: 0.9796\n",
            "Epoch 10/13\n",
            "57/57 [==============================] - 1s 12ms/step - loss: 0.1741 - auc: 0.9808 - val_loss: 0.1834 - val_auc: 0.9787\n",
            "Epoch 11/13\n",
            "57/57 [==============================] - 1s 12ms/step - loss: 0.1740 - auc: 0.9807 - val_loss: 0.2083 - val_auc: 0.9771\n",
            "Epoch 12/13\n",
            "57/57 [==============================] - 1s 12ms/step - loss: 0.1872 - auc: 0.9778 - val_loss: 0.1895 - val_auc: 0.9778\n",
            "Epoch 13/13\n",
            "57/57 [==============================] - 1s 12ms/step - loss: 0.1707 - auc: 0.9815 - val_loss: 0.1890 - val_auc: 0.9783\n",
            "DOWNSAMPLED:(24634:32024)\n",
            "Epoch 1/13\n",
            "11/57 [====>.........................] - ETA: 0s - loss: 0.1635 - auc: 0.9826"
          ]
        },
        {
          "name": "stderr",
          "output_type": "stream",
          "text": [
            "2024-01-09 19:17:03.643564: W external/local_tsl/tsl/framework/cpu_allocator_impl.cc:83] Allocation of 48499248 exceeds 10% of free system memory.\n"
          ]
        },
        {
          "name": "stdout",
          "output_type": "stream",
          "text": [
            "57/57 [==============================] - 1s 13ms/step - loss: 0.1674 - auc: 0.9822 - val_loss: 0.1721 - val_auc: 0.9831\n",
            "Epoch 2/13\n",
            "57/57 [==============================] - 1s 12ms/step - loss: 0.1664 - auc: 0.9824 - val_loss: 0.1700 - val_auc: 0.9824\n",
            "Epoch 3/13\n",
            "57/57 [==============================] - 1s 12ms/step - loss: 0.1652 - auc: 0.9827 - val_loss: 0.1634 - val_auc: 0.9829\n",
            "Epoch 4/13\n",
            "57/57 [==============================] - 1s 14ms/step - loss: 0.1637 - auc: 0.9829 - val_loss: 0.1645 - val_auc: 0.9830\n",
            "Epoch 5/13\n",
            "57/57 [==============================] - 1s 13ms/step - loss: 0.1632 - auc: 0.9831 - val_loss: 0.1662 - val_auc: 0.9827\n",
            "Epoch 6/13\n",
            "57/57 [==============================] - 1s 13ms/step - loss: 0.1602 - auc: 0.9837 - val_loss: 0.1678 - val_auc: 0.9828\n",
            "Epoch 7/13\n",
            "57/57 [==============================] - 1s 14ms/step - loss: 0.1586 - auc: 0.9841 - val_loss: 0.1724 - val_auc: 0.9819\n",
            "Epoch 8/13\n",
            "57/57 [==============================] - 1s 12ms/step - loss: 0.1547 - auc: 0.9847 - val_loss: 0.1810 - val_auc: 0.9793\n",
            "Epoch 9/13\n",
            "57/57 [==============================] - 1s 12ms/step - loss: 0.1583 - auc: 0.9841 - val_loss: 0.1641 - val_auc: 0.9827\n",
            "Epoch 10/13\n",
            "57/57 [==============================] - 1s 12ms/step - loss: 0.1547 - auc: 0.9848 - val_loss: 0.1614 - val_auc: 0.9833\n",
            "Epoch 11/13\n",
            "57/57 [==============================] - 1s 13ms/step - loss: 0.1566 - auc: 0.9844 - val_loss: 0.1765 - val_auc: 0.9805\n",
            "Epoch 12/13\n",
            "57/57 [==============================] - 1s 13ms/step - loss: 0.1547 - auc: 0.9848 - val_loss: 0.1758 - val_auc: 0.9821\n",
            "Epoch 13/13\n",
            "57/57 [==============================] - 1s 13ms/step - loss: 0.1529 - auc: 0.9851 - val_loss: 0.1830 - val_auc: 0.9818\n",
            "DOWNSAMPLED:(24634:32024)\n",
            "Epoch 1/13\n",
            "57/57 [==============================] - 1s 13ms/step - loss: 0.1617 - auc: 0.9834 - val_loss: 0.1484 - val_auc: 0.9869\n",
            "Epoch 2/13\n",
            "57/57 [==============================] - 1s 13ms/step - loss: 0.1644 - auc: 0.9827 - val_loss: 0.1534 - val_auc: 0.9861\n",
            "Epoch 3/13\n",
            "57/57 [==============================] - 1s 13ms/step - loss: 0.1522 - auc: 0.9853 - val_loss: 0.1430 - val_auc: 0.9870\n",
            "Epoch 4/13\n",
            "57/57 [==============================] - 1s 12ms/step - loss: 0.1504 - auc: 0.9855 - val_loss: 0.1516 - val_auc: 0.9874\n",
            "Epoch 5/13\n",
            "57/57 [==============================] - 1s 12ms/step - loss: 0.1517 - auc: 0.9854 - val_loss: 0.1498 - val_auc: 0.9872\n",
            "Epoch 6/13\n",
            "57/57 [==============================] - 1s 13ms/step - loss: 0.1544 - auc: 0.9849 - val_loss: 0.1564 - val_auc: 0.9871\n",
            "Epoch 7/13\n",
            "57/57 [==============================] - 1s 12ms/step - loss: 0.1460 - auc: 0.9864 - val_loss: 0.1429 - val_auc: 0.9871\n",
            "Epoch 8/13\n",
            "57/57 [==============================] - 1s 12ms/step - loss: 0.1475 - auc: 0.9861 - val_loss: 0.1418 - val_auc: 0.9872\n",
            "Epoch 9/13\n",
            "57/57 [==============================] - 1s 13ms/step - loss: 0.1564 - auc: 0.9846 - val_loss: 0.1533 - val_auc: 0.9860\n",
            "Epoch 10/13\n",
            "57/57 [==============================] - 1s 18ms/step - loss: 0.1448 - auc: 0.9867 - val_loss: 0.1505 - val_auc: 0.9861\n",
            "Epoch 11/13\n",
            "57/57 [==============================] - 1s 19ms/step - loss: 0.1378 - auc: 0.9879 - val_loss: 0.1471 - val_auc: 0.9863\n",
            "Epoch 12/13\n",
            "57/57 [==============================] - 1s 14ms/step - loss: 0.1393 - auc: 0.9877 - val_loss: 0.1532 - val_auc: 0.9862\n",
            "Epoch 13/13\n",
            "57/57 [==============================] - 1s 13ms/step - loss: 0.1364 - auc: 0.9882 - val_loss: 0.1492 - val_auc: 0.9862\n",
            "DOWNSAMPLED:(24634:32024)\n",
            "Epoch 1/13\n",
            "57/57 [==============================] - 1s 14ms/step - loss: 0.1463 - auc: 0.9863 - val_loss: 0.1577 - val_auc: 0.9862\n",
            "Epoch 2/13\n",
            "57/57 [==============================] - 1s 19ms/step - loss: 0.1511 - auc: 0.9855 - val_loss: 0.1381 - val_auc: 0.9882\n",
            "Epoch 3/13\n",
            "57/57 [==============================] - 1s 14ms/step - loss: 0.1382 - auc: 0.9879 - val_loss: 0.1356 - val_auc: 0.9884\n",
            "Epoch 4/13\n",
            "57/57 [==============================] - 1s 13ms/step - loss: 0.1351 - auc: 0.9884 - val_loss: 0.1452 - val_auc: 0.9880\n",
            "Epoch 5/13\n",
            "57/57 [==============================] - 1s 11ms/step - loss: 0.1395 - auc: 0.9876 - val_loss: 0.1544 - val_auc: 0.9869\n",
            "Epoch 6/13\n",
            "57/57 [==============================] - 1s 12ms/step - loss: 0.1338 - auc: 0.9885 - val_loss: 0.1398 - val_auc: 0.9877\n",
            "Epoch 7/13\n",
            "57/57 [==============================] - 1s 10ms/step - loss: 0.1300 - auc: 0.9892 - val_loss: 0.1693 - val_auc: 0.9854\n",
            "Epoch 8/13\n",
            "57/57 [==============================] - 1s 11ms/step - loss: 0.1334 - auc: 0.9887 - val_loss: 0.1419 - val_auc: 0.9870\n",
            "Epoch 9/13\n",
            "57/57 [==============================] - 1s 11ms/step - loss: 0.1303 - auc: 0.9892 - val_loss: 0.1459 - val_auc: 0.9874\n",
            "Epoch 10/13\n",
            "57/57 [==============================] - 1s 11ms/step - loss: 0.1294 - auc: 0.9893 - val_loss: 0.1429 - val_auc: 0.9877\n",
            "Epoch 11/13\n",
            "57/57 [==============================] - 1s 11ms/step - loss: 0.1246 - auc: 0.9900 - val_loss: 0.1499 - val_auc: 0.9865\n",
            "Epoch 12/13\n",
            "57/57 [==============================] - 1s 10ms/step - loss: 0.1249 - auc: 0.9900 - val_loss: 0.1534 - val_auc: 0.9866\n",
            "Epoch 13/13\n",
            "57/57 [==============================] - 1s 10ms/step - loss: 0.1312 - auc: 0.9890 - val_loss: 0.1552 - val_auc: 0.9848\n",
            "DOWNSAMPLED:(24634:32024)\n",
            "Epoch 1/13\n",
            "57/57 [==============================] - 1s 14ms/step - loss: 0.1319 - auc: 0.9888 - val_loss: 0.1299 - val_auc: 0.9889\n",
            "Epoch 2/13\n",
            "57/57 [==============================] - 1s 14ms/step - loss: 0.1340 - auc: 0.9884 - val_loss: 0.1287 - val_auc: 0.9898\n",
            "Epoch 3/13\n",
            "57/57 [==============================] - 1s 13ms/step - loss: 0.1235 - auc: 0.9902 - val_loss: 0.1643 - val_auc: 0.9874\n",
            "Epoch 4/13\n",
            "57/57 [==============================] - 1s 11ms/step - loss: 0.1235 - auc: 0.9902 - val_loss: 0.1446 - val_auc: 0.9877\n",
            "Epoch 5/13\n",
            "57/57 [==============================] - 1s 12ms/step - loss: 0.1211 - auc: 0.9906 - val_loss: 0.1363 - val_auc: 0.9889\n",
            "Epoch 6/13\n",
            "57/57 [==============================] - 1s 12ms/step - loss: 0.1260 - auc: 0.9898 - val_loss: 0.1568 - val_auc: 0.9874\n",
            "Epoch 7/13\n",
            "57/57 [==============================] - 1s 13ms/step - loss: 0.1181 - auc: 0.9911 - val_loss: 0.1442 - val_auc: 0.9884\n",
            "Epoch 8/13\n",
            "57/57 [==============================] - 1s 12ms/step - loss: 0.1180 - auc: 0.9911 - val_loss: 0.1413 - val_auc: 0.9877\n",
            "Epoch 9/13\n",
            "57/57 [==============================] - 1s 13ms/step - loss: 0.1172 - auc: 0.9911 - val_loss: 0.1415 - val_auc: 0.9876\n",
            "Epoch 10/13\n",
            "57/57 [==============================] - 1s 14ms/step - loss: 0.1133 - auc: 0.9917 - val_loss: 0.1384 - val_auc: 0.9878\n",
            "Epoch 11/13\n",
            "57/57 [==============================] - 1s 17ms/step - loss: 0.1143 - auc: 0.9916 - val_loss: 0.1419 - val_auc: 0.9883\n",
            "Epoch 12/13\n",
            "39/57 [===================>..........] - ETA: 0s - loss: 0.1179 - auc: 0.9911"
          ]
        }
      ],
      "source": [
        "rand_state= random.randint(0,1000)\n",
        "#NN training with 10-fold cross-validation stratified with random under-sampling technic for imbalanced data\n",
        "X = pre_processed_data.drop([\"id\",\"generated\"],axis=1)\n",
        "Y = pre_processed_data[\"generated\"]\n",
        "folds = StratifiedKFold(10,shuffle=True,random_state=rand_state)\n",
        "for fold, (train_index, val_index) in enumerate(folds.split(X,Y)):\n",
        "    X_train, X_val = X.iloc[train_index], X.iloc[val_index]\n",
        "    y_train, y_val = Y.iloc[train_index], Y.iloc[val_index]\n",
        "\n",
        "    X_train_dwns, y_train_dwns = downsampling(X_train,y_train,rand_state,ratio=1.3)\n",
        "\n",
        "    #print(f\"Fold {fold + 1}: Train {len(train_index)} samples, Validation {len(val_index)} samples\")\n",
        "    #print(f\"TRAIN:({y_train[y_train==0].size}:{y_train[y_train==1].size})\")\n",
        "    print(f\"DOWNSAMPLED:({y_train_dwns[y_train_dwns==0].size}:{y_train_dwns[y_train_dwns==1].size})\")\n",
        "    #print(f\"VAL:({y_val[y_val==0].size}:{y_val[y_val==1].size})\")\n",
        "\n",
        "    model.fit(X_train_dwns,\n",
        "                y_train_dwns,\n",
        "                validation_data=(X_val,y_val),\n",
        "                batch_size=1000,\n",
        "                epochs=13)"
      ]
    },
    {
      "cell_type": "code",
      "execution_count": null,
      "metadata": {},
      "outputs": [
        {
          "name": "stdout",
          "output_type": "stream",
          "text": [
            "2043/2043 [==============================] - 3s 1ms/step\n"
          ]
        },
        {
          "data": {
            "image/png": "[encoded data removed]",
            "text/plain": [
              "<Figure size 1000x400 with 2 Axes>"
            ]
          },
          "metadata": {},
          "output_type": "display_data"
        }
      ],
      "source": [
        "ROCcurves(model,X,Y)"
      ]
    },
    {
      "cell_type": "code",
      "execution_count": null,
      "metadata": {
        "colab": {
          "base_uri": "https://localhost:8080/"
        },
        "id": "Ub2SWyaC9uL2",
        "outputId": "d63e26ff-e443-4621-9757-f9444e0fdfa6"
      },
      "outputs": [
        {
          "name": "stdout",
          "output_type": "stream",
          "text": [
            "2043/2043 [==============================] - 3s 2ms/step\n"
          ]
        },
        {
          "data": {
            "text/plain": [
              "<sklearn.metrics._plot.confusion_matrix.ConfusionMatrixDisplay at 0x7f008039a390>"
            ]
          },
          "execution_count": 24,
          "metadata": {},
          "output_type": "execute_result"
        },
        {
          "data": {
            "image/png": "[encoded data removed]",
            "text/plain": [
              "<Figure size 640x480 with 2 Axes>"
            ]
          },
          "metadata": {},
          "output_type": "display_data"
        }
      ],
      "source": [
        "pred = list(map(lambda pred : 1 if pred > 0.5 else 0,model.predict(x=X)))\n",
        "display = ConfusionMatrixDisplay(confusion_matrix(pred,Y),display_labels=[\"True\",\"False\"])\n",
        "display.plot()"
      ]
    },
    {
      "cell_type": "code",
      "execution_count": null,
      "metadata": {
        "colab": {
          "base_uri": "https://localhost:8080/"
        },
        "id": "o5dVLLxVyjOg",
        "outputId": "4d54fa2d-90ac-45bf-fddb-16e7cebe5806"
      },
      "outputs": [
        {
          "name": "stdout",
          "output_type": "stream",
          "text": [
            "1/1 [==============================] - 0s 13ms/step\n"
          ]
        },
        {
          "data": {
            "text/plain": [
              "array([[1.]], dtype=float32)"
            ]
          },
          "execution_count": 25,
          "metadata": {},
          "output_type": "execute_result"
        }
      ],
      "source": [
        "model.predict(x=pd.DataFrame(X.iloc[1385]).transpose())"
      ]
    },
    {
      "cell_type": "markdown",
      "metadata": {},
      "source": [
        "## Save model weights"
      ]
    },
    {
      "cell_type": "code",
      "execution_count": null,
      "metadata": {},
      "outputs": [
        {
          "name": "stderr",
          "output_type": "stream",
          "text": [
            "/home/mrtc101/Desktop/ciencias de la computacion/Cursado/4.2Inteligencia Artificial 2/Final/venv/lib/python3.11/site-packages/keras/src/engine/training.py:3103: UserWarning: You are saving your model as an HDF5 file via `model.save()`. This file format is considered legacy. We recommend using instead the native Keras format, e.g. `model.save('my_model.keras')`.\n",
            "  saving_api.save_model(\n"
          ]
        }
      ],
      "source": [
        "\n",
        "model.save(\"../data/CNN/weight/ConvolutionNetwork.h5\")"
      ]
    }
  ],
  "metadata": {
    "accelerator": "GPU",
    "colab": {
      "gpuType": "T4",
      "provenance": []
    },
    "kernelspec": {
      "display_name": "Python 3",
      "name": "python3"
    },
    "language_info": {
      "codemirror_mode": {
        "name": "ipython",
        "version": 3
      },
      "file_extension": ".py",
      "mimetype": "text/x-python",
      "name": "python",
      "nbconvert_exporter": "python",
      "pygments_lexer": "ipython3",
      "version": "3.11.0rc1"
    }
  },
  "nbformat": 4,
  "nbformat_minor": 0
}
