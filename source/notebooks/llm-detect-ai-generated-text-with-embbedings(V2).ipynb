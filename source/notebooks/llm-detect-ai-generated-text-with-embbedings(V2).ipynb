{
 "cells": [
  {
   "cell_type": "markdown",
   "id": "16133604",
   "metadata": {
    "id": "_aB82fSvdYKB",
    "papermill": {
     "duration": 0.012493,
     "end_time": "2024-01-06T22:27:10.941140",
     "exception": false,
     "start_time": "2024-01-06T22:27:10.928647",
     "status": "completed"
    },
    "tags": []
   },
   "source": [
    "# LLM - Detect AI Generated Text\n",
    "## Import"
   ]
  },
  {
   "cell_type": "code",
   "execution_count": 1,
   "id": "0698b76a",
   "metadata": {
    "execution": {
     "iopub.execute_input": "2024-01-06T22:27:10.966915Z",
     "iopub.status.busy": "2024-01-06T22:27:10.966355Z",
     "iopub.status.idle": "2024-01-06T22:28:08.744951Z",
     "shell.execute_reply": "2024-01-06T22:28:08.744022Z"
    },
    "id": "7itjdvI9dYKD",
    "outputId": "af42ede1-292a-43ea-8e85-bdb1a11a3d73",
    "papermill": {
     "duration": 57.794152,
     "end_time": "2024-01-06T22:28:08.747389",
     "exception": false,
     "start_time": "2024-01-06T22:27:10.953237",
     "status": "completed"
    },
    "tags": []
   },
   "outputs": [
    {
     "name": "stdout",
     "output_type": "stream",
     "text": [
      "[nltk_data] Error loading punkt: <urlopen error [Errno -3] Temporary\n",
      "[nltk_data]     failure in name resolution>\n",
      "[nltk_data] Error loading stopwords: <urlopen error [Errno -3]\n",
      "[nltk_data]     Temporary failure in name resolution>\n"
     ]
    }
   ],
   "source": [
    "import math\n",
    "import pandas as pd\n",
    "import numpy as np\n",
    "import matplotlib.pyplot as plt\n",
    "from nltk.tokenize import word_tokenize,sent_tokenize\n",
    "from nltk.corpus import stopwords\n",
    "from gensim.corpora import Dictionary\n",
    "from gensim.models import word2vec\n",
    "from gensim.models import doc2vec\n",
    "from sklearn.model_selection import StratifiedKFold\n",
    "from sklearn.utils import resample\n",
    "from sklearn.metrics import roc_curve\n",
    "from sklearn.metrics import auc\n",
    "from sklearn.metrics import confusion_matrix\n",
    "\n",
    "import nltk\n",
    "nltk.download('punkt')\n",
    "nltk.download('stopwords')\n",
    "\n",
    "import keras"
   ]
  },
  {
   "cell_type": "code",
   "execution_count": 2,
   "id": "106d3fa3",
   "metadata": {
    "execution": {
     "iopub.execute_input": "2024-01-06T22:28:08.774470Z",
     "iopub.status.busy": "2024-01-06T22:28:08.773859Z",
     "iopub.status.idle": "2024-01-06T22:28:08.877898Z",
     "shell.execute_reply": "2024-01-06T22:28:08.877073Z"
    },
    "id": "4LBr4vwNdYKE",
    "papermill": {
     "duration": 0.120181,
     "end_time": "2024-01-06T22:28:08.880509",
     "exception": false,
     "start_time": "2024-01-06T22:28:08.760328",
     "status": "completed"
    },
    "tags": []
   },
   "outputs": [],
   "source": [
    "initial_dataset = pd.read_csv(\"/kaggle/input/llm-detect-ai-generated-text/train_essays.csv\")\n",
    "prompts_dataset = pd.read_csv(\"/kaggle/input/llm-detect-ai-generated-text/train_prompts.csv\")\n",
    "new_data = pd.read_csv(\"/kaggle/input/additional-data/new_essays_V1.csv\")\n",
    "test_dataset = pd.read_csv(\"/kaggle/input/llm-detect-ai-generated-text/test_essays.csv\")"
   ]
  },
  {
   "cell_type": "markdown",
   "id": "55b47950",
   "metadata": {
    "id": "BZA-apgXdYKF",
    "papermill": {
     "duration": 0.012028,
     "end_time": "2024-01-06T22:28:08.905175",
     "exception": false,
     "start_time": "2024-01-06T22:28:08.893147",
     "status": "completed"
    },
    "tags": []
   },
   "source": [
    "## Data analisis"
   ]
  },
  {
   "cell_type": "code",
   "execution_count": 3,
   "id": "69a894da",
   "metadata": {
    "execution": {
     "iopub.execute_input": "2024-01-06T22:28:08.930457Z",
     "iopub.status.busy": "2024-01-06T22:28:08.930127Z",
     "iopub.status.idle": "2024-01-06T22:28:08.953950Z",
     "shell.execute_reply": "2024-01-06T22:28:08.953019Z"
    },
    "id": "dG45LDWZdYKF",
    "outputId": "79d8fa5c-2d89-4075-ff59-2012af444706",
    "papermill": {
     "duration": 0.038533,
     "end_time": "2024-01-06T22:28:08.955649",
     "exception": false,
     "start_time": "2024-01-06T22:28:08.917116",
     "status": "completed"
    },
    "tags": []
   },
   "outputs": [
    {
     "data": {
      "text/html": [
       "<div>\n",
       "<style scoped>\n",
       "    .dataframe tbody tr th:only-of-type {\n",
       "        vertical-align: middle;\n",
       "    }\n",
       "\n",
       "    .dataframe tbody tr th {\n",
       "        vertical-align: top;\n",
       "    }\n",
       "\n",
       "    .dataframe thead th {\n",
       "        text-align: right;\n",
       "    }\n",
       "</style>\n",
       "<table border=\"1\" class=\"dataframe\">\n",
       "  <thead>\n",
       "    <tr style=\"text-align: right;\">\n",
       "      <th></th>\n",
       "      <th>id</th>\n",
       "      <th>prompt_id</th>\n",
       "      <th>text</th>\n",
       "      <th>generated</th>\n",
       "    </tr>\n",
       "  </thead>\n",
       "  <tbody>\n",
       "    <tr>\n",
       "      <th>0</th>\n",
       "      <td>0059830c</td>\n",
       "      <td>0</td>\n",
       "      <td>Cars. Cars have been around since they became ...</td>\n",
       "      <td>0</td>\n",
       "    </tr>\n",
       "    <tr>\n",
       "      <th>1</th>\n",
       "      <td>005db917</td>\n",
       "      <td>0</td>\n",
       "      <td>Transportation is a large necessity in most co...</td>\n",
       "      <td>0</td>\n",
       "    </tr>\n",
       "    <tr>\n",
       "      <th>2</th>\n",
       "      <td>008f63e3</td>\n",
       "      <td>0</td>\n",
       "      <td>\"America's love affair with it's vehicles seem...</td>\n",
       "      <td>0</td>\n",
       "    </tr>\n",
       "    <tr>\n",
       "      <th>3</th>\n",
       "      <td>00940276</td>\n",
       "      <td>0</td>\n",
       "      <td>How often do you ride in a car? Do you drive a...</td>\n",
       "      <td>0</td>\n",
       "    </tr>\n",
       "    <tr>\n",
       "      <th>4</th>\n",
       "      <td>00c39458</td>\n",
       "      <td>0</td>\n",
       "      <td>Cars are a wonderful thing. They are perhaps o...</td>\n",
       "      <td>0</td>\n",
       "    </tr>\n",
       "    <tr>\n",
       "      <th>...</th>\n",
       "      <td>...</td>\n",
       "      <td>...</td>\n",
       "      <td>...</td>\n",
       "      <td>...</td>\n",
       "    </tr>\n",
       "    <tr>\n",
       "      <th>1373</th>\n",
       "      <td>fe6ff9a5</td>\n",
       "      <td>1</td>\n",
       "      <td>There has been a fuss about the Elector Colleg...</td>\n",
       "      <td>0</td>\n",
       "    </tr>\n",
       "    <tr>\n",
       "      <th>1374</th>\n",
       "      <td>ff669174</td>\n",
       "      <td>0</td>\n",
       "      <td>Limiting car usage has many advantages. Such a...</td>\n",
       "      <td>0</td>\n",
       "    </tr>\n",
       "    <tr>\n",
       "      <th>1375</th>\n",
       "      <td>ffa247e0</td>\n",
       "      <td>0</td>\n",
       "      <td>There's a new trend that has been developing f...</td>\n",
       "      <td>0</td>\n",
       "    </tr>\n",
       "    <tr>\n",
       "      <th>1376</th>\n",
       "      <td>ffc237e9</td>\n",
       "      <td>0</td>\n",
       "      <td>As we all know cars are a big part of our soci...</td>\n",
       "      <td>0</td>\n",
       "    </tr>\n",
       "    <tr>\n",
       "      <th>1377</th>\n",
       "      <td>ffe1ca0d</td>\n",
       "      <td>0</td>\n",
       "      <td>Cars have been around since the 1800's and hav...</td>\n",
       "      <td>0</td>\n",
       "    </tr>\n",
       "  </tbody>\n",
       "</table>\n",
       "<p>1378 rows × 4 columns</p>\n",
       "</div>"
      ],
      "text/plain": [
       "            id  prompt_id                                               text  \\\n",
       "0     0059830c          0  Cars. Cars have been around since they became ...   \n",
       "1     005db917          0  Transportation is a large necessity in most co...   \n",
       "2     008f63e3          0  \"America's love affair with it's vehicles seem...   \n",
       "3     00940276          0  How often do you ride in a car? Do you drive a...   \n",
       "4     00c39458          0  Cars are a wonderful thing. They are perhaps o...   \n",
       "...        ...        ...                                                ...   \n",
       "1373  fe6ff9a5          1  There has been a fuss about the Elector Colleg...   \n",
       "1374  ff669174          0  Limiting car usage has many advantages. Such a...   \n",
       "1375  ffa247e0          0  There's a new trend that has been developing f...   \n",
       "1376  ffc237e9          0  As we all know cars are a big part of our soci...   \n",
       "1377  ffe1ca0d          0  Cars have been around since the 1800's and hav...   \n",
       "\n",
       "      generated  \n",
       "0             0  \n",
       "1             0  \n",
       "2             0  \n",
       "3             0  \n",
       "4             0  \n",
       "...         ...  \n",
       "1373          0  \n",
       "1374          0  \n",
       "1375          0  \n",
       "1376          0  \n",
       "1377          0  \n",
       "\n",
       "[1378 rows x 4 columns]"
      ]
     },
     "execution_count": 3,
     "metadata": {},
     "output_type": "execute_result"
    }
   ],
   "source": [
    "initial_dataset"
   ]
  },
  {
   "cell_type": "code",
   "execution_count": 4,
   "id": "e8e7cdb9",
   "metadata": {
    "execution": {
     "iopub.execute_input": "2024-01-06T22:28:08.982740Z",
     "iopub.status.busy": "2024-01-06T22:28:08.982075Z",
     "iopub.status.idle": "2024-01-06T22:28:08.987762Z",
     "shell.execute_reply": "2024-01-06T22:28:08.987204Z"
    },
    "id": "A5Ufk5XndYKG",
    "outputId": "3450810c-2adc-4c00-fc1f-c2d1456b9634",
    "papermill": {
     "duration": 0.02058,
     "end_time": "2024-01-06T22:28:08.989242",
     "exception": false,
     "start_time": "2024-01-06T22:28:08.968662",
     "status": "completed"
    },
    "tags": []
   },
   "outputs": [
    {
     "data": {
      "text/plain": [
       "id           object\n",
       "prompt_id     int64\n",
       "text         object\n",
       "generated     int64\n",
       "dtype: object"
      ]
     },
     "execution_count": 4,
     "metadata": {},
     "output_type": "execute_result"
    }
   ],
   "source": [
    "initial_dataset.dtypes"
   ]
  },
  {
   "cell_type": "code",
   "execution_count": 5,
   "id": "d360e607",
   "metadata": {
    "execution": {
     "iopub.execute_input": "2024-01-06T22:28:09.016047Z",
     "iopub.status.busy": "2024-01-06T22:28:09.015229Z",
     "iopub.status.idle": "2024-01-06T22:28:09.019904Z",
     "shell.execute_reply": "2024-01-06T22:28:09.019362Z"
    },
    "id": "y5ClvnTtdYKH",
    "outputId": "196e4691-b015-4bb9-af88-4c546b343f5e",
    "papermill": {
     "duration": 0.019564,
     "end_time": "2024-01-06T22:28:09.021365",
     "exception": false,
     "start_time": "2024-01-06T22:28:09.001801",
     "status": "completed"
    },
    "tags": []
   },
   "outputs": [
    {
     "data": {
      "text/plain": [
       "(1378, 4)"
      ]
     },
     "execution_count": 5,
     "metadata": {},
     "output_type": "execute_result"
    }
   ],
   "source": [
    "initial_dataset.shape"
   ]
  },
  {
   "cell_type": "code",
   "execution_count": 6,
   "id": "33e729c5",
   "metadata": {
    "execution": {
     "iopub.execute_input": "2024-01-06T22:28:09.047186Z",
     "iopub.status.busy": "2024-01-06T22:28:09.046648Z",
     "iopub.status.idle": "2024-01-06T22:28:09.061208Z",
     "shell.execute_reply": "2024-01-06T22:28:09.060366Z"
    },
    "id": "M6w38AusdYKH",
    "outputId": "b1fdc793-13a5-4d99-d115-2f2e700905a3",
    "papermill": {
     "duration": 0.029281,
     "end_time": "2024-01-06T22:28:09.062926",
     "exception": false,
     "start_time": "2024-01-06T22:28:09.033645",
     "status": "completed"
    },
    "tags": []
   },
   "outputs": [
    {
     "data": {
      "text/html": [
       "<div>\n",
       "<style scoped>\n",
       "    .dataframe tbody tr th:only-of-type {\n",
       "        vertical-align: middle;\n",
       "    }\n",
       "\n",
       "    .dataframe tbody tr th {\n",
       "        vertical-align: top;\n",
       "    }\n",
       "\n",
       "    .dataframe thead th {\n",
       "        text-align: right;\n",
       "    }\n",
       "</style>\n",
       "<table border=\"1\" class=\"dataframe\">\n",
       "  <thead>\n",
       "    <tr style=\"text-align: right;\">\n",
       "      <th></th>\n",
       "      <th>prompt_id</th>\n",
       "      <th>generated</th>\n",
       "    </tr>\n",
       "  </thead>\n",
       "  <tbody>\n",
       "    <tr>\n",
       "      <th>count</th>\n",
       "      <td>1378.000000</td>\n",
       "      <td>1378.000000</td>\n",
       "    </tr>\n",
       "    <tr>\n",
       "      <th>mean</th>\n",
       "      <td>0.486212</td>\n",
       "      <td>0.002177</td>\n",
       "    </tr>\n",
       "    <tr>\n",
       "      <th>std</th>\n",
       "      <td>0.499991</td>\n",
       "      <td>0.046625</td>\n",
       "    </tr>\n",
       "    <tr>\n",
       "      <th>min</th>\n",
       "      <td>0.000000</td>\n",
       "      <td>0.000000</td>\n",
       "    </tr>\n",
       "    <tr>\n",
       "      <th>25%</th>\n",
       "      <td>0.000000</td>\n",
       "      <td>0.000000</td>\n",
       "    </tr>\n",
       "    <tr>\n",
       "      <th>50%</th>\n",
       "      <td>0.000000</td>\n",
       "      <td>0.000000</td>\n",
       "    </tr>\n",
       "    <tr>\n",
       "      <th>75%</th>\n",
       "      <td>1.000000</td>\n",
       "      <td>0.000000</td>\n",
       "    </tr>\n",
       "    <tr>\n",
       "      <th>max</th>\n",
       "      <td>1.000000</td>\n",
       "      <td>1.000000</td>\n",
       "    </tr>\n",
       "  </tbody>\n",
       "</table>\n",
       "</div>"
      ],
      "text/plain": [
       "         prompt_id    generated\n",
       "count  1378.000000  1378.000000\n",
       "mean      0.486212     0.002177\n",
       "std       0.499991     0.046625\n",
       "min       0.000000     0.000000\n",
       "25%       0.000000     0.000000\n",
       "50%       0.000000     0.000000\n",
       "75%       1.000000     0.000000\n",
       "max       1.000000     1.000000"
      ]
     },
     "execution_count": 6,
     "metadata": {},
     "output_type": "execute_result"
    }
   ],
   "source": [
    "initial_dataset.describe()"
   ]
  },
  {
   "cell_type": "markdown",
   "id": "4d987aa3",
   "metadata": {
    "id": "LNIWdXOudYKJ",
    "papermill": {
     "duration": 0.012205,
     "end_time": "2024-01-06T22:28:09.088033",
     "exception": false,
     "start_time": "2024-01-06T22:28:09.075828",
     "status": "completed"
    },
    "tags": []
   },
   "source": [
    "`generated` - Whether the essay was written by a student (0) or generated by an LLM (1). This field is the target and is not present in test_essays.csv."
   ]
  },
  {
   "cell_type": "code",
   "execution_count": 7,
   "id": "ec8a9d0f",
   "metadata": {
    "execution": {
     "iopub.execute_input": "2024-01-06T22:28:09.115678Z",
     "iopub.status.busy": "2024-01-06T22:28:09.115332Z",
     "iopub.status.idle": "2024-01-06T22:28:09.126657Z",
     "shell.execute_reply": "2024-01-06T22:28:09.125841Z"
    },
    "id": "opIz_MYjdYKK",
    "outputId": "a0779745-675b-420c-ab35-9f76ed996bd4",
    "papermill": {
     "duration": 0.027097,
     "end_time": "2024-01-06T22:28:09.128348",
     "exception": false,
     "start_time": "2024-01-06T22:28:09.101251",
     "status": "completed"
    },
    "tags": []
   },
   "outputs": [
    {
     "data": {
      "text/plain": [
       "generated\n",
       "0    1375\n",
       "1       3\n",
       "Name: count, dtype: int64"
      ]
     },
     "execution_count": 7,
     "metadata": {},
     "output_type": "execute_result"
    }
   ],
   "source": [
    "initial_dataset.value_counts(\"generated\")"
   ]
  },
  {
   "cell_type": "code",
   "execution_count": 8,
   "id": "3faa6752",
   "metadata": {
    "execution": {
     "iopub.execute_input": "2024-01-06T22:28:09.209075Z",
     "iopub.status.busy": "2024-01-06T22:28:09.208737Z",
     "iopub.status.idle": "2024-01-06T22:28:09.217000Z",
     "shell.execute_reply": "2024-01-06T22:28:09.216185Z"
    },
    "id": "dR2Ut5ModYKK",
    "outputId": "7116634c-ea81-4443-d71c-ec79f3823973",
    "papermill": {
     "duration": 0.02371,
     "end_time": "2024-01-06T22:28:09.218604",
     "exception": false,
     "start_time": "2024-01-06T22:28:09.194894",
     "status": "completed"
    },
    "tags": []
   },
   "outputs": [
    {
     "data": {
      "text/plain": [
       "generated\n",
       "0    1375\n",
       "1       3\n",
       "Name: count, dtype: int64"
      ]
     },
     "execution_count": 8,
     "metadata": {},
     "output_type": "execute_result"
    }
   ],
   "source": [
    "generated = initial_dataset.value_counts(\"generated\")\n",
    "generated"
   ]
  },
  {
   "cell_type": "code",
   "execution_count": 9,
   "id": "c4ac7f9f",
   "metadata": {
    "execution": {
     "iopub.execute_input": "2024-01-06T22:28:09.245186Z",
     "iopub.status.busy": "2024-01-06T22:28:09.244864Z",
     "iopub.status.idle": "2024-01-06T22:28:09.251770Z",
     "shell.execute_reply": "2024-01-06T22:28:09.250883Z"
    },
    "id": "F2vi4-PUdYKL",
    "outputId": "8462130b-38f0-4589-853a-ac85d77928d1",
    "papermill": {
     "duration": 0.021998,
     "end_time": "2024-01-06T22:28:09.253414",
     "exception": false,
     "start_time": "2024-01-06T22:28:09.231416",
     "status": "completed"
    },
    "tags": []
   },
   "outputs": [
    {
     "data": {
      "text/plain": [
       "generated\n",
       "0    0.997823\n",
       "1    0.002177\n",
       "Name: count, dtype: float64"
      ]
     },
     "execution_count": 9,
     "metadata": {},
     "output_type": "execute_result"
    }
   ],
   "source": [
    "generated = generated.apply(lambda x : x/initial_dataset.shape[0])\n",
    "generated"
   ]
  },
  {
   "cell_type": "code",
   "execution_count": 10,
   "id": "fb7ed06c",
   "metadata": {
    "execution": {
     "iopub.execute_input": "2024-01-06T22:28:09.280766Z",
     "iopub.status.busy": "2024-01-06T22:28:09.280490Z",
     "iopub.status.idle": "2024-01-06T22:28:09.628102Z",
     "shell.execute_reply": "2024-01-06T22:28:09.627306Z"
    },
    "id": "T-caBmNmdYKL",
    "outputId": "0e2f175e-45cc-45ad-be23-6aa097778e24",
    "papermill": {
     "duration": 0.363677,
     "end_time": "2024-01-06T22:28:09.630094",
     "exception": false,
     "start_time": "2024-01-06T22:28:09.266417",
     "status": "completed"
    },
    "tags": []
   },
   "outputs": [
    {
     "data": {
      "image/png": "[encoded data removed]",
      "text/plain": [
       "<Figure size 400x300 with 1 Axes>"
      ]
     },
     "metadata": {},
     "output_type": "display_data"
    }
   ],
   "source": [
    "fig, ax = plt.subplots(figsize=(4,3))\n",
    "fig.suptitle(\"Generated\")\n",
    "ax.bar(\n",
    "    x=[\"By studentes\",\"By LLM\"],\n",
    "    height=generated,\n",
    "    width=0.2,\n",
    "    color=[\"red\",\"green\"],\n",
    "    align=\"center\")\n",
    "plt.show()"
   ]
  },
  {
   "cell_type": "code",
   "execution_count": 11,
   "id": "7823ac61",
   "metadata": {
    "execution": {
     "iopub.execute_input": "2024-01-06T22:28:09.665504Z",
     "iopub.status.busy": "2024-01-06T22:28:09.665208Z",
     "iopub.status.idle": "2024-01-06T22:28:09.674262Z",
     "shell.execute_reply": "2024-01-06T22:28:09.673457Z"
    },
    "id": "cEvFa1lQdYKL",
    "outputId": "cda624f9-81ba-42a5-eb31-d723b1f7ac01",
    "papermill": {
     "duration": 0.026878,
     "end_time": "2024-01-06T22:28:09.675885",
     "exception": false,
     "start_time": "2024-01-06T22:28:09.649007",
     "status": "completed"
    },
    "tags": []
   },
   "outputs": [
    {
     "data": {
      "text/html": [
       "<div>\n",
       "<style scoped>\n",
       "    .dataframe tbody tr th:only-of-type {\n",
       "        vertical-align: middle;\n",
       "    }\n",
       "\n",
       "    .dataframe tbody tr th {\n",
       "        vertical-align: top;\n",
       "    }\n",
       "\n",
       "    .dataframe thead th {\n",
       "        text-align: right;\n",
       "    }\n",
       "</style>\n",
       "<table border=\"1\" class=\"dataframe\">\n",
       "  <thead>\n",
       "    <tr style=\"text-align: right;\">\n",
       "      <th></th>\n",
       "      <th>prompt_id</th>\n",
       "      <th>prompt_name</th>\n",
       "      <th>instructions</th>\n",
       "      <th>source_text</th>\n",
       "    </tr>\n",
       "  </thead>\n",
       "  <tbody>\n",
       "    <tr>\n",
       "      <th>0</th>\n",
       "      <td>0</td>\n",
       "      <td>Car-free cities</td>\n",
       "      <td>Write an explanatory essay to inform fellow ci...</td>\n",
       "      <td># In German Suburb, Life Goes On Without Cars ...</td>\n",
       "    </tr>\n",
       "    <tr>\n",
       "      <th>1</th>\n",
       "      <td>1</td>\n",
       "      <td>Does the electoral college work?</td>\n",
       "      <td>Write a letter to your state senator in which ...</td>\n",
       "      <td># What Is the Electoral College? by the Office...</td>\n",
       "    </tr>\n",
       "  </tbody>\n",
       "</table>\n",
       "</div>"
      ],
      "text/plain": [
       "   prompt_id                       prompt_name  \\\n",
       "0          0                   Car-free cities   \n",
       "1          1  Does the electoral college work?   \n",
       "\n",
       "                                        instructions  \\\n",
       "0  Write an explanatory essay to inform fellow ci...   \n",
       "1  Write a letter to your state senator in which ...   \n",
       "\n",
       "                                         source_text  \n",
       "0  # In German Suburb, Life Goes On Without Cars ...  \n",
       "1  # What Is the Electoral College? by the Office...  "
      ]
     },
     "execution_count": 11,
     "metadata": {},
     "output_type": "execute_result"
    }
   ],
   "source": [
    "prompts_dataset"
   ]
  },
  {
   "cell_type": "code",
   "execution_count": 12,
   "id": "f5a45f1f",
   "metadata": {
    "execution": {
     "iopub.execute_input": "2024-01-06T22:28:09.704476Z",
     "iopub.status.busy": "2024-01-06T22:28:09.704178Z",
     "iopub.status.idle": "2024-01-06T22:28:09.710970Z",
     "shell.execute_reply": "2024-01-06T22:28:09.710301Z"
    },
    "id": "aJArVOlmdYKL",
    "outputId": "5db7ce67-19ba-45b9-9925-b71fe40f2819",
    "papermill": {
     "duration": 0.022896,
     "end_time": "2024-01-06T22:28:09.712512",
     "exception": false,
     "start_time": "2024-01-06T22:28:09.689616",
     "status": "completed"
    },
    "tags": []
   },
   "outputs": [
    {
     "data": {
      "text/plain": [
       "prompt_id\n",
       "0    708\n",
       "1    670\n",
       "Name: count, dtype: int64"
      ]
     },
     "execution_count": 12,
     "metadata": {},
     "output_type": "execute_result"
    }
   ],
   "source": [
    "prompts = initial_dataset.value_counts(\"prompt_id\")\n",
    "prompts"
   ]
  },
  {
   "cell_type": "code",
   "execution_count": 13,
   "id": "fd72422c",
   "metadata": {
    "execution": {
     "iopub.execute_input": "2024-01-06T22:28:09.742153Z",
     "iopub.status.busy": "2024-01-06T22:28:09.741697Z",
     "iopub.status.idle": "2024-01-06T22:28:09.859303Z",
     "shell.execute_reply": "2024-01-06T22:28:09.858469Z"
    },
    "id": "O-fg234YdYKM",
    "outputId": "3a4c4755-4c18-4789-c7ed-b079cfffd362",
    "papermill": {
     "duration": 0.135151,
     "end_time": "2024-01-06T22:28:09.861102",
     "exception": false,
     "start_time": "2024-01-06T22:28:09.725951",
     "status": "completed"
    },
    "tags": []
   },
   "outputs": [
    {
     "data": {
      "image/png": "[encoded data removed]",
      "text/plain": [
       "<Figure size 400x300 with 1 Axes>"
      ]
     },
     "metadata": {},
     "output_type": "display_data"
    }
   ],
   "source": [
    "fig, ax = plt.subplots(figsize=(4,3))\n",
    "fig.suptitle(\"Prompts\")\n",
    "ax.bar(\n",
    "    x=[\"Car-free cities\",\"Does the electoral college work?\"],\n",
    "    height=prompts,\n",
    "    width=0.2,\n",
    "    color=[\"red\",\"green\"],\n",
    "    align=\"center\")\n",
    "plt.show()"
   ]
  },
  {
   "cell_type": "code",
   "execution_count": 14,
   "id": "c6bfbee0",
   "metadata": {
    "execution": {
     "iopub.execute_input": "2024-01-06T22:28:09.895758Z",
     "iopub.status.busy": "2024-01-06T22:28:09.895522Z",
     "iopub.status.idle": "2024-01-06T22:28:09.904199Z",
     "shell.execute_reply": "2024-01-06T22:28:09.903195Z"
    },
    "papermill": {
     "duration": 0.027001,
     "end_time": "2024-01-06T22:28:09.906517",
     "exception": false,
     "start_time": "2024-01-06T22:28:09.879516",
     "status": "completed"
    },
    "tags": []
   },
   "outputs": [
    {
     "name": "stdout",
     "output_type": "stream",
     "text": [
      "(1378, 4)\n",
      "(1378, 4)\n"
     ]
    }
   ],
   "source": [
    "print(initial_dataset.shape)\n",
    "initial_dataset.drop_duplicates(subset=[\"text\"],inplace=True)\n",
    "initial_dataset.reset_index(drop=True, inplace=True)\n",
    "print(initial_dataset.shape)"
   ]
  },
  {
   "cell_type": "markdown",
   "id": "7374c109",
   "metadata": {
    "id": "yHzxLez5dYKM",
    "papermill": {
     "duration": 0.013306,
     "end_time": "2024-01-06T22:28:09.933130",
     "exception": false,
     "start_time": "2024-01-06T22:28:09.919824",
     "status": "completed"
    },
    "tags": []
   },
   "source": [
    "## Handle imbalanced Data\n",
    "\n",
    "> Because the class distribution is not balanced, most machine learning algorithms will perform\n",
    "poorly and require modification to avoid simply predicting the majority class in all cases.\n",
    "Additionally, metrics like classification accuracy lose their meaning and alternate methods for\n",
    "evaluating predictions on imbalanced examples are required, like ROC area under curve. This is\n",
    "the foundational challenge of imbalanced classification.\n",
    ">\n",
    "> - Jason Brownlee, *Imbalanced Classification with Python* (2020)\n",
    "\n",
    "> If we think about feature space spatially, we might like all examples in one class to be located on one part\n",
    "of the space, and those from the other class to appear in another part of the space. [...]\n",
    ">This is rarely the case, and it is more likely that each class has multiple **concepts** resulting in multiple different groups or clusters of examples in feature space.\n",
    ">\n",
    "> - Jason Brownlee, *Imbalanced Classification with Python* (2020)\n"
   ]
  },
  {
   "cell_type": "markdown",
   "id": "5f5ee2d4",
   "metadata": {
    "id": "-53GminWdYKM",
    "papermill": {
     "duration": 0.013234,
     "end_time": "2024-01-06T22:28:09.959725",
     "exception": false,
     "start_time": "2024-01-06T22:28:09.946491",
     "status": "completed"
    },
    "tags": []
   },
   "source": [
    "### Metrics for Imbalanced Data\n",
    "\n",
    ">Although widely used, classification accuracy is almost universally inappropriate for imbalanced classification. The reason is, a high accuracy (or low error) is achievable by a no skill model that only predicts the majority class. [...]\n",
    ">\n",
    "> - Jason Brownlee, *Imbalanced Classification with Python* (2020)\n",
    "\n",
    ">There are two groups of metrics that may be useful for imbalanced classification because they focus on one class; they are sensitivity-specificity and precision-recall.\n",
    ">\n",
    "> - Jason Brownlee, *Imbalanced Classification with Python* (2020)\n",
    "\n",
    ">One limitation of these metrics is that they assume that the class distribution observed in the training dataset will match the distribution in the test set and in real data when the model is used to make predictions. [...] Ranking metrics don’t make any assumptions about class distributions.\n",
    ">\n",
    "> - Jason Brownlee, *Imbalanced Classification with Python* (2020)\n",
    "\n",
    ">The most commonly used ranking metric is the ROC Curve or ROC Analysis. ROC is an\n",
    "acronym that means Receiver Operating Characteristic and summarizes a field of study for\n",
    "analyzing binary classifiers based on their ability to discriminate classes.\n",
    ">\n",
    "> - Jason Brownlee, *Imbalanced Classification with Python* (2020)\n",
    "\n",
    ">Although generally effective, the ROC Curve and ROC AUC can be optimistic under a severe class imbalance, especially when the number of examples in the minority class is small.\n",
    "An alternative to the ROC Curve is the precision-recall curve that can be used in a similar way, although focuses on the performance of the classifier on the minority class.\n",
    ">\n",
    "> - Jason Brownlee, *Imbalanced Classification with Python* (2020)\n"
   ]
  },
  {
   "cell_type": "markdown",
   "id": "03500fa9",
   "metadata": {
    "id": "5EjLehn3dYKN",
    "papermill": {
     "duration": 0.013132,
     "end_time": "2024-01-06T22:28:09.986249",
     "exception": false,
     "start_time": "2024-01-06T22:28:09.973117",
     "status": "completed"
    },
    "tags": []
   },
   "source": [
    "#### ROC AUC curve"
   ]
  },
  {
   "cell_type": "code",
   "execution_count": 15,
   "id": "6d2e4f02",
   "metadata": {
    "execution": {
     "iopub.execute_input": "2024-01-06T22:28:10.015889Z",
     "iopub.status.busy": "2024-01-06T22:28:10.015293Z",
     "iopub.status.idle": "2024-01-06T22:28:10.020288Z",
     "shell.execute_reply": "2024-01-06T22:28:10.019577Z"
    },
    "id": "FvEDVQHVdYKN",
    "papermill": {
     "duration": 0.022076,
     "end_time": "2024-01-06T22:28:10.022194",
     "exception": false,
     "start_time": "2024-01-06T22:28:10.000118",
     "status": "completed"
    },
    "tags": []
   },
   "outputs": [],
   "source": [
    "def ROCplot(model,x_val,y_val):\n",
    "    #define metrics\n",
    "    y_pred = model.predict(x_val).ravel()\n",
    "    fpr, tpr, _ = roc_curve(y_val,  y_pred)\n",
    "    aucVal = auc(fpr, tpr)\n",
    "    #create ROC curve\n",
    "    plt.plot(fpr,tpr,label=\"AUC=\"+str(aucVal))\n",
    "    plt.plot([0, 1], [0, 1], color='gray', lw=1, linestyle='--', label='AUC = 0.50')\n",
    "    plt.ylabel('True Positive Rate')\n",
    "    plt.xlabel('False Positive Rate')\n",
    "    plt.show()"
   ]
  },
  {
   "cell_type": "markdown",
   "id": "12b1f8a6",
   "metadata": {
    "id": "3Rqz4YundYKN",
    "papermill": {
     "duration": 0.01363,
     "end_time": "2024-01-06T22:28:10.050705",
     "exception": false,
     "start_time": "2024-01-06T22:28:10.037075",
     "status": "completed"
    },
    "tags": []
   },
   "source": [
    "### Data Sampling for imbalanced data\n",
    "\n",
    "> Sadly, k-fold cross-validation is not appropriate for evaluating imbalanced classifiers.\n",
    "[...]\n",
    "The reason is that the data is split into k-folds with a uniform probability distribution. This might work fine for data with a balanced class distribution, but when the distribution is severely skewed, it is likely that one or more folds will have few or no examples from the minority class.\n",
    ">\n",
    "> - Jason Brownlee, *Imbalanced Classification with Python* (2020)\n",
    "\n",
    "> The solution is to not split the data randomly when using k-fold cross-validation or a train-test\n",
    "split. [...] For example, we can use a version of k-fold cross-validation that preserves the imbalanced class distribution in each fold. It is called stratified k-fold cross-validation and will enforce the class distribution in each split of the data to match the distribution in the complete training dataset.\n",
    ">\n",
    "> - Jason Brownlee, *Imbalanced Classification with Python* (2020)\n",
    "\n",
    "> Sampling is only performed on the training dataset, the dataset used by an algorithm to\n",
    "learn a model. It is not performed on the holdout test or validation dataset.\n",
    ">\n",
    "> - Jason Brownlee, *Imbalanced Classification with Python* (2020)\n",
    "\n",
    "- Stratified k-folding CrossValidation\n",
    "- Random Downsampling\n",
    "- Adding data as kind of Oversampling"
   ]
  },
  {
   "cell_type": "markdown",
   "id": "f43dd941",
   "metadata": {
    "id": "6c8aPmEOdYKN",
    "papermill": {
     "duration": 0.013888,
     "end_time": "2024-01-06T22:28:10.078671",
     "exception": false,
     "start_time": "2024-01-06T22:28:10.064783",
     "status": "completed"
    },
    "tags": []
   },
   "source": [
    "#### Adding new Data"
   ]
  },
  {
   "cell_type": "markdown",
   "id": "35fdfa90",
   "metadata": {
    "id": "BNsGXoKYdYKO",
    "papermill": {
     "duration": 0.013472,
     "end_time": "2024-01-06T22:28:10.106123",
     "exception": false,
     "start_time": "2024-01-06T22:28:10.092651",
     "status": "completed"
    },
    "tags": []
   },
   "source": [
    "Describing the imbalance of this dataset in terms of ration is 1:500. The dataset presents sever imbalance. By adding new data to the training set with text generated by ChatGPT 3, i desire to make it become near (1:100). To achieve this i need to add **10** generated text to the dataset.\n",
    "\n",
    "This will modify the true distribution from the real dataset, but only 3 element in the minority class is not enough to apply stratified 10-fold cross validation."
   ]
  },
  {
   "cell_type": "code",
   "execution_count": 16,
   "id": "45a2aa7c",
   "metadata": {
    "execution": {
     "iopub.execute_input": "2024-01-06T22:28:10.135681Z",
     "iopub.status.busy": "2024-01-06T22:28:10.135129Z",
     "iopub.status.idle": "2024-01-06T22:28:10.146639Z",
     "shell.execute_reply": "2024-01-06T22:28:10.145800Z"
    },
    "id": "nahQnHEBdYKO",
    "outputId": "a45cd2ec-6504-406e-c184-ef921820c04d",
    "papermill": {
     "duration": 0.028316,
     "end_time": "2024-01-06T22:28:10.148264",
     "exception": false,
     "start_time": "2024-01-06T22:28:10.119948",
     "status": "completed"
    },
    "tags": []
   },
   "outputs": [
    {
     "data": {
      "text/html": [
       "<div>\n",
       "<style scoped>\n",
       "    .dataframe tbody tr th:only-of-type {\n",
       "        vertical-align: middle;\n",
       "    }\n",
       "\n",
       "    .dataframe tbody tr th {\n",
       "        vertical-align: top;\n",
       "    }\n",
       "\n",
       "    .dataframe thead th {\n",
       "        text-align: right;\n",
       "    }\n",
       "</style>\n",
       "<table border=\"1\" class=\"dataframe\">\n",
       "  <thead>\n",
       "    <tr style=\"text-align: right;\">\n",
       "      <th></th>\n",
       "      <th>id</th>\n",
       "      <th>prompt_id</th>\n",
       "      <th>text</th>\n",
       "      <th>generated</th>\n",
       "    </tr>\n",
       "  </thead>\n",
       "  <tbody>\n",
       "    <tr>\n",
       "      <th>0</th>\n",
       "      <td>0059830c</td>\n",
       "      <td>0</td>\n",
       "      <td>Cars. Cars have been around since they became ...</td>\n",
       "      <td>0</td>\n",
       "    </tr>\n",
       "    <tr>\n",
       "      <th>1</th>\n",
       "      <td>005db917</td>\n",
       "      <td>0</td>\n",
       "      <td>Transportation is a large necessity in most co...</td>\n",
       "      <td>0</td>\n",
       "    </tr>\n",
       "    <tr>\n",
       "      <th>2</th>\n",
       "      <td>008f63e3</td>\n",
       "      <td>0</td>\n",
       "      <td>\"America's love affair with it's vehicles seem...</td>\n",
       "      <td>0</td>\n",
       "    </tr>\n",
       "    <tr>\n",
       "      <th>3</th>\n",
       "      <td>00940276</td>\n",
       "      <td>0</td>\n",
       "      <td>How often do you ride in a car? Do you drive a...</td>\n",
       "      <td>0</td>\n",
       "    </tr>\n",
       "    <tr>\n",
       "      <th>4</th>\n",
       "      <td>00c39458</td>\n",
       "      <td>0</td>\n",
       "      <td>Cars are a wonderful thing. They are perhaps o...</td>\n",
       "      <td>0</td>\n",
       "    </tr>\n",
       "    <tr>\n",
       "      <th>...</th>\n",
       "      <td>...</td>\n",
       "      <td>...</td>\n",
       "      <td>...</td>\n",
       "      <td>...</td>\n",
       "    </tr>\n",
       "    <tr>\n",
       "      <th>1395</th>\n",
       "      <td>17</td>\n",
       "      <td>0</td>\n",
       "      <td>Limiting car usage stands as a pivotal strateg...</td>\n",
       "      <td>1</td>\n",
       "    </tr>\n",
       "    <tr>\n",
       "      <th>1396</th>\n",
       "      <td>18</td>\n",
       "      <td>1</td>\n",
       "      <td>\\nJohn Smith\\n123 Main Street\\nCityville, Stat...</td>\n",
       "      <td>1</td>\n",
       "    </tr>\n",
       "    <tr>\n",
       "      <th>1397</th>\n",
       "      <td>19</td>\n",
       "      <td>1</td>\n",
       "      <td>Dear Senator,\\n\\nI am writing to express my op...</td>\n",
       "      <td>1</td>\n",
       "    </tr>\n",
       "    <tr>\n",
       "      <th>1398</th>\n",
       "      <td>18</td>\n",
       "      <td>0</td>\n",
       "      <td>\\nThe advantages of limiting car usage are num...</td>\n",
       "      <td>1</td>\n",
       "    </tr>\n",
       "    <tr>\n",
       "      <th>1399</th>\n",
       "      <td>20</td>\n",
       "      <td>0</td>\n",
       "      <td>\\nThe increasing trend towards limiting car us...</td>\n",
       "      <td>1</td>\n",
       "    </tr>\n",
       "  </tbody>\n",
       "</table>\n",
       "<p>1400 rows × 4 columns</p>\n",
       "</div>"
      ],
      "text/plain": [
       "            id  prompt_id                                               text  \\\n",
       "0     0059830c          0  Cars. Cars have been around since they became ...   \n",
       "1     005db917          0  Transportation is a large necessity in most co...   \n",
       "2     008f63e3          0  \"America's love affair with it's vehicles seem...   \n",
       "3     00940276          0  How often do you ride in a car? Do you drive a...   \n",
       "4     00c39458          0  Cars are a wonderful thing. They are perhaps o...   \n",
       "...        ...        ...                                                ...   \n",
       "1395        17          0  Limiting car usage stands as a pivotal strateg...   \n",
       "1396        18          1  \\nJohn Smith\\n123 Main Street\\nCityville, Stat...   \n",
       "1397        19          1  Dear Senator,\\n\\nI am writing to express my op...   \n",
       "1398        18          0  \\nThe advantages of limiting car usage are num...   \n",
       "1399        20          0  \\nThe increasing trend towards limiting car us...   \n",
       "\n",
       "      generated  \n",
       "0             0  \n",
       "1             0  \n",
       "2             0  \n",
       "3             0  \n",
       "4             0  \n",
       "...         ...  \n",
       "1395          1  \n",
       "1396          1  \n",
       "1397          1  \n",
       "1398          1  \n",
       "1399          1  \n",
       "\n",
       "[1400 rows x 4 columns]"
      ]
     },
     "execution_count": 16,
     "metadata": {},
     "output_type": "execute_result"
    }
   ],
   "source": [
    "target_data = pd.concat([initial_dataset,new_data],ignore_index=True)\n",
    "target_data"
   ]
  },
  {
   "cell_type": "markdown",
   "id": "31da4c58",
   "metadata": {
    "id": "65Y4787kdYKP",
    "papermill": {
     "duration": 0.013353,
     "end_time": "2024-01-06T22:28:10.175677",
     "exception": false,
     "start_time": "2024-01-06T22:28:10.162324",
     "status": "completed"
    },
    "tags": []
   },
   "source": [
    "## Data Feature Engineering"
   ]
  },
  {
   "cell_type": "markdown",
   "id": "00630220",
   "metadata": {
    "id": "chXVmCzYdYKP",
    "papermill": {
     "duration": 0.01354,
     "end_time": "2024-01-06T22:28:10.202917",
     "exception": false,
     "start_time": "2024-01-06T22:28:10.189377",
     "status": "completed"
    },
    "tags": []
   },
   "source": [
    "### Training a Tokenizer\n",
    "Reading the competition discussions lead me to this [Notebook](https://www.kaggle.com/code/datafan07/train-your-own-tokenizer), where is suggested to add words with typos into the vocabulary for better performance by training a tokenizer.\n",
    "\n",
    "1. normalization\n",
    "2. pre-tokenization\n",
    "3. model\n",
    "4. post-processing"
   ]
  },
  {
   "cell_type": "code",
   "execution_count": 17,
   "id": "cd19147a",
   "metadata": {
    "execution": {
     "iopub.execute_input": "2024-01-06T22:28:10.232360Z",
     "iopub.status.busy": "2024-01-06T22:28:10.231752Z",
     "iopub.status.idle": "2024-01-06T22:28:12.947792Z",
     "shell.execute_reply": "2024-01-06T22:28:12.947139Z"
    },
    "papermill": {
     "duration": 2.732938,
     "end_time": "2024-01-06T22:28:12.949766",
     "exception": false,
     "start_time": "2024-01-06T22:28:10.216828",
     "status": "completed"
    },
    "tags": []
   },
   "outputs": [],
   "source": [
    "from tokenizers import (\n",
    "    decoders,\n",
    "    models,\n",
    "    normalizers,\n",
    "    pre_tokenizers,\n",
    "    processors,\n",
    "    trainers,\n",
    "    Tokenizer,\n",
    ")\n",
    "from transformers import PreTrainedTokenizerFast\n"
   ]
  },
  {
   "cell_type": "markdown",
   "id": "47a70d11",
   "metadata": {
    "papermill": {
     "duration": 0.014143,
     "end_time": "2024-01-06T22:28:12.978542",
     "exception": false,
     "start_time": "2024-01-06T22:28:12.964399",
     "status": "completed"
    },
    "tags": []
   },
   "source": [
    ">ByteLevel: \n",
    ">\n",
    ">Splits on whitespaces while remapping all the bytes to a set of visible characters. This technique as been introduced by OpenAI with GPT-2 and has some more or less nice properties:\n",
    "> - Since it maps on bytes, a tokenizer using this only requires 256 characters as initial alphabet (the number of values a byte can have), as opposed to the 130,000+ Unicode characters.\n",
    "> - A consequence of the previous point is that it is absolutely unnecessary to have an unknown token using this since we can represent anything with 256 tokens (Youhou!! 🎉🎉)\n",
    "> - For non ascii characters, it gets completely unreadable, but it works nonetheless!"
   ]
  },
  {
   "cell_type": "code",
   "execution_count": 18,
   "id": "f3b1328a",
   "metadata": {
    "execution": {
     "iopub.execute_input": "2024-01-06T22:28:13.009190Z",
     "iopub.status.busy": "2024-01-06T22:28:13.008552Z",
     "iopub.status.idle": "2024-01-06T22:28:14.017216Z",
     "shell.execute_reply": "2024-01-06T22:28:14.015953Z"
    },
    "papermill": {
     "duration": 1.026277,
     "end_time": "2024-01-06T22:28:14.019112",
     "exception": false,
     "start_time": "2024-01-06T22:28:12.992835",
     "status": "completed"
    },
    "tags": []
   },
   "outputs": [
    {
     "name": "stdout",
     "output_type": "stream",
     "text": [
      "\n",
      "\n",
      "\n"
     ]
    }
   ],
   "source": [
    "# Creating Byte-Pair Encoding tokenizer\n",
    "raw_tokenizer = Tokenizer(models.BPE(unk_token=\"[UNK]\"))\n",
    "#Cleaning\n",
    "raw_tokenizer.normalizer =  normalizers.Sequence(\n",
    "    [\n",
    "        normalizers.NFC(),\n",
    "        normalizers.Lowercase(),\n",
    "        normalizers.Replace(\"\\n\",\" \"),\n",
    "        normalizers.Replace(\"\\r\",\" \"),\n",
    "        normalizers.Replace(\"\\t\",\" \")\n",
    "    ]    \n",
    "    )\n",
    "#First tokenization\n",
    "raw_tokenizer.pre_tokenizer = pre_tokenizers.ByteLevel()\n",
    "#Training\n",
    "special_tokens = [\"[UNK]\", \"[PAD]\", \"[CLS]\", \"[SEP]\", \"[MASK]\"]\n",
    "trainer = trainers.BpeTrainer(show_progress=True,special_tokens=special_tokens)\n",
    "\n",
    "def data_iter(dataset):\n",
    "    \"\"\"\n",
    "    A generator function for iterating over a dataset in chunks.\n",
    "    \"\"\"    \n",
    "    for i in range(0, len(dataset), 1000):\n",
    "        yield dataset[i : i + 1000][\"text\"]\n",
    "\n",
    "raw_tokenizer.train_from_iterator(data_iter(target_data),trainer)\n",
    "\n",
    "tokenizer = PreTrainedTokenizerFast(\n",
    "    tokenizer_object=raw_tokenizer,\n",
    "    unk_token=\"[UNK]\",\n",
    "    pad_token=\"[PAD]\",\n",
    "    cls_token=\"[CLS]\",\n",
    "    sep_token=\"[SEP]\",\n",
    "    mask_token=\"[MASK]\",\n",
    ")"
   ]
  },
  {
   "cell_type": "code",
   "execution_count": 19,
   "id": "c9263653",
   "metadata": {
    "execution": {
     "iopub.execute_input": "2024-01-06T22:28:14.051248Z",
     "iopub.status.busy": "2024-01-06T22:28:14.050668Z",
     "iopub.status.idle": "2024-01-06T22:28:14.056923Z",
     "shell.execute_reply": "2024-01-06T22:28:14.055995Z"
    },
    "papermill": {
     "duration": 0.024021,
     "end_time": "2024-01-06T22:28:14.058606",
     "exception": false,
     "start_time": "2024-01-06T22:28:14.034585",
     "status": "completed"
    },
    "tags": []
   },
   "outputs": [
    {
     "data": {
      "text/plain": [
       "\"martín's bag\""
      ]
     },
     "execution_count": 19,
     "metadata": {},
     "output_type": "execute_result"
    }
   ],
   "source": [
    "raw_tokenizer.normalizer.normalize_str(\"Martín's bag\")"
   ]
  },
  {
   "cell_type": "code",
   "execution_count": 20,
   "id": "5d0a0f69",
   "metadata": {
    "execution": {
     "iopub.execute_input": "2024-01-06T22:28:14.089222Z",
     "iopub.status.busy": "2024-01-06T22:28:14.088602Z",
     "iopub.status.idle": "2024-01-06T22:28:14.093860Z",
     "shell.execute_reply": "2024-01-06T22:28:14.093280Z"
    },
    "papermill": {
     "duration": 0.022419,
     "end_time": "2024-01-06T22:28:14.095590",
     "exception": false,
     "start_time": "2024-01-06T22:28:14.073171",
     "status": "completed"
    },
    "tags": []
   },
   "outputs": [
    {
     "data": {
      "text/plain": [
       "['Ġmart', '[UNK]', '[UNK]', 'n', \"'s\", 'Ġbag']"
      ]
     },
     "execution_count": 20,
     "metadata": {},
     "output_type": "execute_result"
    }
   ],
   "source": [
    "tokenizer.tokenize(\"Martín's bag\")"
   ]
  },
  {
   "cell_type": "markdown",
   "id": "5a94c3e1",
   "metadata": {
    "id": "MkOM8WoAdYKP",
    "papermill": {
     "duration": 0.013896,
     "end_time": "2024-01-06T22:28:14.124326",
     "exception": false,
     "start_time": "2024-01-06T22:28:14.110430",
     "status": "completed"
    },
    "tags": []
   },
   "source": [
    "##### Words Tokenizing"
   ]
  },
  {
   "cell_type": "code",
   "execution_count": 21,
   "id": "6881b16c",
   "metadata": {
    "execution": {
     "iopub.execute_input": "2024-01-06T22:28:14.154477Z",
     "iopub.status.busy": "2024-01-06T22:28:14.153888Z",
     "iopub.status.idle": "2024-01-06T22:28:16.650170Z",
     "shell.execute_reply": "2024-01-06T22:28:16.649272Z"
    },
    "id": "AGd5b7vMdYKP",
    "outputId": "fcebe33a-2999-4ca1-d3ae-21c47918eb45",
    "papermill": {
     "duration": 2.513355,
     "end_time": "2024-01-06T22:28:16.651784",
     "exception": false,
     "start_time": "2024-01-06T22:28:14.138429",
     "status": "completed"
    },
    "tags": []
   },
   "outputs": [
    {
     "data": {
      "text/html": [
       "<div>\n",
       "<style scoped>\n",
       "    .dataframe tbody tr th:only-of-type {\n",
       "        vertical-align: middle;\n",
       "    }\n",
       "\n",
       "    .dataframe tbody tr th {\n",
       "        vertical-align: top;\n",
       "    }\n",
       "\n",
       "    .dataframe thead th {\n",
       "        text-align: right;\n",
       "    }\n",
       "</style>\n",
       "<table border=\"1\" class=\"dataframe\">\n",
       "  <thead>\n",
       "    <tr style=\"text-align: right;\">\n",
       "      <th></th>\n",
       "      <th>id</th>\n",
       "      <th>prompt_id</th>\n",
       "      <th>text</th>\n",
       "      <th>generated</th>\n",
       "    </tr>\n",
       "  </thead>\n",
       "  <tbody>\n",
       "    <tr>\n",
       "      <th>0</th>\n",
       "      <td>0059830c</td>\n",
       "      <td>0</td>\n",
       "      <td>[Ġcars, ., Ġcars, Ġhave, Ġbeen, Ġaround, Ġsinc...</td>\n",
       "      <td>0</td>\n",
       "    </tr>\n",
       "    <tr>\n",
       "      <th>1</th>\n",
       "      <td>005db917</td>\n",
       "      <td>0</td>\n",
       "      <td>[Ġtransportation, Ġis, Ġa, Ġlarge, Ġnecessity,...</td>\n",
       "      <td>0</td>\n",
       "    </tr>\n",
       "    <tr>\n",
       "      <th>2</th>\n",
       "      <td>008f63e3</td>\n",
       "      <td>0</td>\n",
       "      <td>[Ġ\", america, 's, Ġlove, Ġaffair, Ġwith, Ġit, ...</td>\n",
       "      <td>0</td>\n",
       "    </tr>\n",
       "    <tr>\n",
       "      <th>3</th>\n",
       "      <td>00940276</td>\n",
       "      <td>0</td>\n",
       "      <td>[Ġhow, Ġoften, Ġdo, Ġyou, Ġride, Ġin, Ġa, Ġcar...</td>\n",
       "      <td>0</td>\n",
       "    </tr>\n",
       "    <tr>\n",
       "      <th>4</th>\n",
       "      <td>00c39458</td>\n",
       "      <td>0</td>\n",
       "      <td>[Ġcars, Ġare, Ġa, Ġwonderful, Ġthing, ., Ġthey...</td>\n",
       "      <td>0</td>\n",
       "    </tr>\n",
       "    <tr>\n",
       "      <th>...</th>\n",
       "      <td>...</td>\n",
       "      <td>...</td>\n",
       "      <td>...</td>\n",
       "      <td>...</td>\n",
       "    </tr>\n",
       "    <tr>\n",
       "      <th>1395</th>\n",
       "      <td>17</td>\n",
       "      <td>0</td>\n",
       "      <td>[Ġlimiting, Ġcar, Ġusage, Ġstands, Ġas, Ġa, Ġp...</td>\n",
       "      <td>1</td>\n",
       "    </tr>\n",
       "    <tr>\n",
       "      <th>1396</th>\n",
       "      <td>18</td>\n",
       "      <td>1</td>\n",
       "      <td>[Ġjohn, Ġsmith, Ġ123, Ġmain, Ġstreet, Ġcityvil...</td>\n",
       "      <td>1</td>\n",
       "    </tr>\n",
       "    <tr>\n",
       "      <th>1397</th>\n",
       "      <td>19</td>\n",
       "      <td>1</td>\n",
       "      <td>[Ġdear, Ġsenator, ,, Ġ, Ġi, Ġam, Ġwriting, Ġto...</td>\n",
       "      <td>1</td>\n",
       "    </tr>\n",
       "    <tr>\n",
       "      <th>1398</th>\n",
       "      <td>18</td>\n",
       "      <td>0</td>\n",
       "      <td>[Ġthe, Ġadvantages, Ġof, Ġlimiting, Ġcar, Ġusa...</td>\n",
       "      <td>1</td>\n",
       "    </tr>\n",
       "    <tr>\n",
       "      <th>1399</th>\n",
       "      <td>20</td>\n",
       "      <td>0</td>\n",
       "      <td>[Ġthe, Ġincreasing, Ġtrend, Ġtowards, Ġlimitin...</td>\n",
       "      <td>1</td>\n",
       "    </tr>\n",
       "  </tbody>\n",
       "</table>\n",
       "<p>1400 rows × 4 columns</p>\n",
       "</div>"
      ],
      "text/plain": [
       "            id  prompt_id                                               text  \\\n",
       "0     0059830c          0  [Ġcars, ., Ġcars, Ġhave, Ġbeen, Ġaround, Ġsinc...   \n",
       "1     005db917          0  [Ġtransportation, Ġis, Ġa, Ġlarge, Ġnecessity,...   \n",
       "2     008f63e3          0  [Ġ\", america, 's, Ġlove, Ġaffair, Ġwith, Ġit, ...   \n",
       "3     00940276          0  [Ġhow, Ġoften, Ġdo, Ġyou, Ġride, Ġin, Ġa, Ġcar...   \n",
       "4     00c39458          0  [Ġcars, Ġare, Ġa, Ġwonderful, Ġthing, ., Ġthey...   \n",
       "...        ...        ...                                                ...   \n",
       "1395        17          0  [Ġlimiting, Ġcar, Ġusage, Ġstands, Ġas, Ġa, Ġp...   \n",
       "1396        18          1  [Ġjohn, Ġsmith, Ġ123, Ġmain, Ġstreet, Ġcityvil...   \n",
       "1397        19          1  [Ġdear, Ġsenator, ,, Ġ, Ġi, Ġam, Ġwriting, Ġto...   \n",
       "1398        18          0  [Ġthe, Ġadvantages, Ġof, Ġlimiting, Ġcar, Ġusa...   \n",
       "1399        20          0  [Ġthe, Ġincreasing, Ġtrend, Ġtowards, Ġlimitin...   \n",
       "\n",
       "      generated  \n",
       "0             0  \n",
       "1             0  \n",
       "2             0  \n",
       "3             0  \n",
       "4             0  \n",
       "...         ...  \n",
       "1395          1  \n",
       "1396          1  \n",
       "1397          1  \n",
       "1398          1  \n",
       "1399          1  \n",
       "\n",
       "[1400 rows x 4 columns]"
      ]
     },
     "execution_count": 21,
     "metadata": {},
     "output_type": "execute_result"
    }
   ],
   "source": [
    "tokenized_test = test_dataset;\n",
    "tokenized_test[\"text\"] = test_dataset[\"text\"].apply(lambda x : tokenizer.tokenize(text=x))\n",
    "\n",
    "tokenized_dataset = target_data.copy()\n",
    "tokenized_dataset[\"text\"] = target_data[\"text\"].apply(lambda x : tokenizer.tokenize(x))\n",
    "tokenized_dataset"
   ]
  },
  {
   "cell_type": "markdown",
   "id": "5c411439",
   "metadata": {
    "id": "XNWEuYg-dYKT",
    "papermill": {
     "duration": 0.014676,
     "end_time": "2024-01-06T22:28:16.681177",
     "exception": false,
     "start_time": "2024-01-06T22:28:16.666501",
     "status": "completed"
    },
    "tags": []
   },
   "source": [
    "#### Text to document embeddings"
   ]
  },
  {
   "cell_type": "markdown",
   "id": "86287ea2",
   "metadata": {
    "papermill": {
     "duration": 0.014037,
     "end_time": "2024-01-06T22:28:16.709392",
     "exception": false,
     "start_time": "2024-01-06T22:28:16.695355",
     "status": "completed"
    },
    "tags": []
   },
   "source": [
    "Need to add all the test documents to the training phase of embedding."
   ]
  },
  {
   "cell_type": "code",
   "execution_count": 22,
   "id": "3d8a6c64",
   "metadata": {
    "execution": {
     "iopub.execute_input": "2024-01-06T22:28:16.740004Z",
     "iopub.status.busy": "2024-01-06T22:28:16.739688Z",
     "iopub.status.idle": "2024-01-06T22:28:16.743814Z",
     "shell.execute_reply": "2024-01-06T22:28:16.743263Z"
    },
    "papermill": {
     "duration": 0.02126,
     "end_time": "2024-01-06T22:28:16.745326",
     "exception": false,
     "start_time": "2024-01-06T22:28:16.724066",
     "status": "completed"
    },
    "tags": []
   },
   "outputs": [],
   "source": [
    "doc_test_dataset = test_dataset\n",
    "doc_test_dataset[\"text\"] = [doc2vec.TaggedDocument(row[2],[row[0]]) for row in tokenized_test.values]"
   ]
  },
  {
   "cell_type": "code",
   "execution_count": 23,
   "id": "a05fb271",
   "metadata": {
    "execution": {
     "iopub.execute_input": "2024-01-06T22:28:16.776091Z",
     "iopub.status.busy": "2024-01-06T22:28:16.775251Z",
     "iopub.status.idle": "2024-01-06T22:28:16.793528Z",
     "shell.execute_reply": "2024-01-06T22:28:16.792746Z"
    },
    "id": "OLUZL3pUdYKT",
    "outputId": "10d64093-182b-44e6-f64d-752c3f1176e6",
    "papermill": {
     "duration": 0.035119,
     "end_time": "2024-01-06T22:28:16.795155",
     "exception": false,
     "start_time": "2024-01-06T22:28:16.760036",
     "status": "completed"
    },
    "tags": []
   },
   "outputs": [
    {
     "data": {
      "text/plain": [
       "0       ([Ġcars, ., Ġcars, Ġhave, Ġbeen, Ġaround, Ġsin...\n",
       "1       ([Ġtransportation, Ġis, Ġa, Ġlarge, Ġnecessity...\n",
       "2       ([Ġ\", america, 's, Ġlove, Ġaffair, Ġwith, Ġit,...\n",
       "3       ([Ġhow, Ġoften, Ġdo, Ġyou, Ġride, Ġin, Ġa, Ġca...\n",
       "4       ([Ġcars, Ġare, Ġa, Ġwonderful, Ġthing, ., Ġthe...\n",
       "                              ...                        \n",
       "1395    ([Ġlimiting, Ġcar, Ġusage, Ġstands, Ġas, Ġa, Ġ...\n",
       "1396    ([Ġjohn, Ġsmith, Ġ123, Ġmain, Ġstreet, Ġcityvi...\n",
       "1397    ([Ġdear, Ġsenator, ,, Ġ, Ġi, Ġam, Ġwriting, Ġt...\n",
       "1398    ([Ġthe, Ġadvantages, Ġof, Ġlimiting, Ġcar, Ġus...\n",
       "1399    ([Ġthe, Ġincreasing, Ġtrend, Ġtowards, Ġlimiti...\n",
       "Name: text, Length: 1400, dtype: object"
      ]
     },
     "execution_count": 23,
     "metadata": {},
     "output_type": "execute_result"
    }
   ],
   "source": [
    "docs_dataset = tokenized_dataset.copy()\n",
    "docs_dataset[\"text\"] = [doc2vec.TaggedDocument(row[2],[row[0]]) for row in tokenized_dataset.values]\n",
    "docs_dataset[\"text\"]"
   ]
  },
  {
   "cell_type": "code",
   "execution_count": 24,
   "id": "530a176b",
   "metadata": {
    "execution": {
     "iopub.execute_input": "2024-01-06T22:28:16.826418Z",
     "iopub.status.busy": "2024-01-06T22:28:16.825630Z",
     "iopub.status.idle": "2024-01-06T22:28:27.845632Z",
     "shell.execute_reply": "2024-01-06T22:28:27.844605Z"
    },
    "id": "nGdh1QT7dYKT",
    "outputId": "d7baeedb-2fc4-4238-82e1-8224e92bddaa",
    "papermill": {
     "duration": 11.037672,
     "end_time": "2024-01-06T22:28:27.847897",
     "exception": false,
     "start_time": "2024-01-06T22:28:16.810225",
     "status": "completed"
    },
    "tags": []
   },
   "outputs": [],
   "source": [
    "docs = pd.concat([docs_dataset[\"text\"],doc_test_dataset[\"text\"]])\n",
    "doc_model = doc2vec.Doc2Vec(documents=docs,vector_size=100)\n",
    "doc_model.train(docs,total_examples=tokenized_dataset.shape[0],epochs=10)"
   ]
  },
  {
   "cell_type": "code",
   "execution_count": 25,
   "id": "61f6802f",
   "metadata": {
    "execution": {
     "iopub.execute_input": "2024-01-06T22:28:27.878733Z",
     "iopub.status.busy": "2024-01-06T22:28:27.878412Z",
     "iopub.status.idle": "2024-01-06T22:28:27.885174Z",
     "shell.execute_reply": "2024-01-06T22:28:27.884339Z"
    },
    "id": "KBGZJYB0dYKT",
    "outputId": "154280e2-5dcc-4c7c-95e1-3f66b5bd4ac0",
    "papermill": {
     "duration": 0.023847,
     "end_time": "2024-01-06T22:28:27.886779",
     "exception": false,
     "start_time": "2024-01-06T22:28:27.862932",
     "status": "completed"
    },
    "tags": []
   },
   "outputs": [
    {
     "data": {
      "text/plain": [
       "array([-5.2308156e-03, -5.9791268e-03, -9.8807542e-03,  8.5528456e-03,\n",
       "        3.5661161e-03,  2.6303172e-04, -9.8806275e-03, -5.1666484e-03,\n",
       "       -9.7179627e-03,  2.0107795e-03,  2.8303110e-03,  4.6435557e-03,\n",
       "       -4.2972756e-03, -3.1457066e-03, -3.0787874e-03, -8.7219151e-03,\n",
       "        2.1724831e-03,  9.2256228e-03, -9.5018670e-03, -3.4580862e-03,\n",
       "       -3.7699090e-03,  2.6073826e-03, -5.6915567e-03,  2.6206803e-03,\n",
       "        5.8025215e-03, -8.1068603e-03, -8.3297910e-03, -9.9546695e-03,\n",
       "        4.9330448e-03, -9.1223074e-03,  5.8419635e-03,  6.8002627e-03,\n",
       "       -6.5064002e-03, -4.5198812e-03, -1.2548614e-03,  1.6463208e-03,\n",
       "       -1.4813376e-03, -8.5425414e-03, -3.6026132e-03,  1.7316258e-03,\n",
       "       -2.0569193e-03, -7.2300420e-03,  4.1846000e-03, -8.5743405e-03,\n",
       "        2.7115368e-03, -4.6137203e-03,  6.4542773e-04, -2.0573472e-03,\n",
       "        5.4132282e-03, -8.0025708e-03, -2.1198511e-03, -9.5815660e-05,\n",
       "       -6.6387774e-03, -6.5261638e-03, -1.9329584e-03,  8.8034747e-03,\n",
       "       -1.2631691e-03,  3.5359799e-03, -5.7503129e-03,  8.8148145e-03,\n",
       "        2.9154683e-03,  9.2796851e-03,  4.3498552e-03, -4.1995691e-03,\n",
       "        2.2419060e-03, -4.4124555e-03,  5.7769404e-03,  1.8315231e-03,\n",
       "       -2.2787608e-03, -5.8811186e-03, -8.0270842e-03, -8.5307239e-04,\n",
       "       -8.9393631e-03, -9.2236344e-03, -7.9399096e-03,  2.1690738e-03,\n",
       "       -6.5009403e-03, -7.7883434e-03,  2.1311676e-03,  2.0526624e-03,\n",
       "        8.3483569e-03,  4.6679149e-03, -9.4101038e-03, -3.3878087e-04,\n",
       "        7.8540277e-03,  2.6714755e-03,  2.6803636e-03, -4.8837112e-03,\n",
       "        6.4671705e-03,  1.6488147e-03, -7.6021445e-03,  6.8639722e-03,\n",
       "       -9.7693978e-03, -8.1585944e-03, -4.8741638e-03,  9.9376775e-03,\n",
       "        3.1130922e-03, -2.0120370e-03,  8.8951699e-03,  2.3512566e-03],\n",
       "      dtype=float32)"
      ]
     },
     "execution_count": 25,
     "metadata": {},
     "output_type": "execute_result"
    }
   ],
   "source": [
    "doc_model.dv[0]"
   ]
  },
  {
   "cell_type": "code",
   "execution_count": 26,
   "id": "36547013",
   "metadata": {
    "execution": {
     "iopub.execute_input": "2024-01-06T22:28:27.917376Z",
     "iopub.status.busy": "2024-01-06T22:28:27.917068Z",
     "iopub.status.idle": "2024-01-06T22:28:27.922608Z",
     "shell.execute_reply": "2024-01-06T22:28:27.921663Z"
    },
    "papermill": {
     "duration": 0.023147,
     "end_time": "2024-01-06T22:28:27.924426",
     "exception": false,
     "start_time": "2024-01-06T22:28:27.901279",
     "status": "completed"
    },
    "tags": []
   },
   "outputs": [],
   "source": [
    "arr = [doc_model.dv[doc_test_dataset[\"text\"][index].tags] for index in range (0,doc_test_dataset.shape[0])]\n",
    "embeddings_test_dataset = pd.DataFrame(np.reshape(arr,(len(arr), 100)))"
   ]
  },
  {
   "cell_type": "code",
   "execution_count": 27,
   "id": "4f960301",
   "metadata": {
    "execution": {
     "iopub.execute_input": "2024-01-06T22:28:27.956864Z",
     "iopub.status.busy": "2024-01-06T22:28:27.956532Z",
     "iopub.status.idle": "2024-01-06T22:28:28.288340Z",
     "shell.execute_reply": "2024-01-06T22:28:28.287345Z"
    },
    "id": "Ke4rS-oJdYKi",
    "outputId": "a6efe2c2-57d9-4854-df41-a381597c5c2f",
    "papermill": {
     "duration": 0.349686,
     "end_time": "2024-01-06T22:28:28.290201",
     "exception": false,
     "start_time": "2024-01-06T22:28:27.940515",
     "status": "completed"
    },
    "tags": []
   },
   "outputs": [
    {
     "data": {
      "text/html": [
       "<div>\n",
       "<style scoped>\n",
       "    .dataframe tbody tr th:only-of-type {\n",
       "        vertical-align: middle;\n",
       "    }\n",
       "\n",
       "    .dataframe tbody tr th {\n",
       "        vertical-align: top;\n",
       "    }\n",
       "\n",
       "    .dataframe thead th {\n",
       "        text-align: right;\n",
       "    }\n",
       "</style>\n",
       "<table border=\"1\" class=\"dataframe\">\n",
       "  <thead>\n",
       "    <tr style=\"text-align: right;\">\n",
       "      <th></th>\n",
       "      <th>0</th>\n",
       "      <th>1</th>\n",
       "      <th>2</th>\n",
       "      <th>3</th>\n",
       "      <th>4</th>\n",
       "      <th>5</th>\n",
       "      <th>6</th>\n",
       "      <th>7</th>\n",
       "      <th>8</th>\n",
       "      <th>9</th>\n",
       "      <th>...</th>\n",
       "      <th>90</th>\n",
       "      <th>91</th>\n",
       "      <th>92</th>\n",
       "      <th>93</th>\n",
       "      <th>94</th>\n",
       "      <th>95</th>\n",
       "      <th>96</th>\n",
       "      <th>97</th>\n",
       "      <th>98</th>\n",
       "      <th>99</th>\n",
       "    </tr>\n",
       "  </thead>\n",
       "  <tbody>\n",
       "    <tr>\n",
       "      <th>0</th>\n",
       "      <td>0.223029</td>\n",
       "      <td>-0.071857</td>\n",
       "      <td>-1.066299</td>\n",
       "      <td>-0.902901</td>\n",
       "      <td>0.535850</td>\n",
       "      <td>-0.215152</td>\n",
       "      <td>1.229818</td>\n",
       "      <td>0.086239</td>\n",
       "      <td>-0.557504</td>\n",
       "      <td>-0.318208</td>\n",
       "      <td>...</td>\n",
       "      <td>-0.421239</td>\n",
       "      <td>0.189701</td>\n",
       "      <td>-0.662276</td>\n",
       "      <td>1.733029</td>\n",
       "      <td>0.829574</td>\n",
       "      <td>0.025368</td>\n",
       "      <td>-0.783485</td>\n",
       "      <td>-0.505373</td>\n",
       "      <td>0.192067</td>\n",
       "      <td>0.622570</td>\n",
       "    </tr>\n",
       "    <tr>\n",
       "      <th>1</th>\n",
       "      <td>0.814623</td>\n",
       "      <td>0.006137</td>\n",
       "      <td>0.413149</td>\n",
       "      <td>-0.325072</td>\n",
       "      <td>0.081419</td>\n",
       "      <td>-0.117780</td>\n",
       "      <td>0.948614</td>\n",
       "      <td>-0.062177</td>\n",
       "      <td>0.101836</td>\n",
       "      <td>0.641820</td>\n",
       "      <td>...</td>\n",
       "      <td>0.102862</td>\n",
       "      <td>0.649137</td>\n",
       "      <td>-0.441231</td>\n",
       "      <td>0.236461</td>\n",
       "      <td>0.113943</td>\n",
       "      <td>0.322660</td>\n",
       "      <td>-0.327690</td>\n",
       "      <td>0.293922</td>\n",
       "      <td>0.717149</td>\n",
       "      <td>-0.686273</td>\n",
       "    </tr>\n",
       "    <tr>\n",
       "      <th>2</th>\n",
       "      <td>0.075171</td>\n",
       "      <td>0.513661</td>\n",
       "      <td>-0.453571</td>\n",
       "      <td>0.204007</td>\n",
       "      <td>-0.330217</td>\n",
       "      <td>-0.245729</td>\n",
       "      <td>1.375518</td>\n",
       "      <td>0.248313</td>\n",
       "      <td>1.141780</td>\n",
       "      <td>-0.412866</td>\n",
       "      <td>...</td>\n",
       "      <td>-0.410089</td>\n",
       "      <td>1.646259</td>\n",
       "      <td>0.106969</td>\n",
       "      <td>0.436742</td>\n",
       "      <td>0.389753</td>\n",
       "      <td>0.561137</td>\n",
       "      <td>0.377748</td>\n",
       "      <td>0.280433</td>\n",
       "      <td>0.449343</td>\n",
       "      <td>-0.769773</td>\n",
       "    </tr>\n",
       "    <tr>\n",
       "      <th>3</th>\n",
       "      <td>0.923816</td>\n",
       "      <td>-0.263677</td>\n",
       "      <td>0.026131</td>\n",
       "      <td>0.714584</td>\n",
       "      <td>-0.216477</td>\n",
       "      <td>0.397600</td>\n",
       "      <td>1.376111</td>\n",
       "      <td>-0.113412</td>\n",
       "      <td>0.880143</td>\n",
       "      <td>-0.841784</td>\n",
       "      <td>...</td>\n",
       "      <td>-0.534408</td>\n",
       "      <td>-0.002344</td>\n",
       "      <td>-0.670653</td>\n",
       "      <td>0.753839</td>\n",
       "      <td>0.395285</td>\n",
       "      <td>0.088043</td>\n",
       "      <td>-0.460760</td>\n",
       "      <td>-0.620461</td>\n",
       "      <td>0.350763</td>\n",
       "      <td>-0.130194</td>\n",
       "    </tr>\n",
       "    <tr>\n",
       "      <th>4</th>\n",
       "      <td>0.138793</td>\n",
       "      <td>0.131340</td>\n",
       "      <td>-0.585472</td>\n",
       "      <td>0.130177</td>\n",
       "      <td>-0.392683</td>\n",
       "      <td>-0.467041</td>\n",
       "      <td>0.849050</td>\n",
       "      <td>0.025001</td>\n",
       "      <td>-0.337284</td>\n",
       "      <td>-0.119577</td>\n",
       "      <td>...</td>\n",
       "      <td>-0.416820</td>\n",
       "      <td>0.269168</td>\n",
       "      <td>-0.261281</td>\n",
       "      <td>-0.428799</td>\n",
       "      <td>-0.709451</td>\n",
       "      <td>0.450157</td>\n",
       "      <td>0.282400</td>\n",
       "      <td>-0.568079</td>\n",
       "      <td>0.514301</td>\n",
       "      <td>-0.759497</td>\n",
       "    </tr>\n",
       "    <tr>\n",
       "      <th>...</th>\n",
       "      <td>...</td>\n",
       "      <td>...</td>\n",
       "      <td>...</td>\n",
       "      <td>...</td>\n",
       "      <td>...</td>\n",
       "      <td>...</td>\n",
       "      <td>...</td>\n",
       "      <td>...</td>\n",
       "      <td>...</td>\n",
       "      <td>...</td>\n",
       "      <td>...</td>\n",
       "      <td>...</td>\n",
       "      <td>...</td>\n",
       "      <td>...</td>\n",
       "      <td>...</td>\n",
       "      <td>...</td>\n",
       "      <td>...</td>\n",
       "      <td>...</td>\n",
       "      <td>...</td>\n",
       "      <td>...</td>\n",
       "      <td>...</td>\n",
       "    </tr>\n",
       "    <tr>\n",
       "      <th>1395</th>\n",
       "      <td>0.931847</td>\n",
       "      <td>1.010433</td>\n",
       "      <td>0.319635</td>\n",
       "      <td>-0.471647</td>\n",
       "      <td>-0.444081</td>\n",
       "      <td>-0.495480</td>\n",
       "      <td>1.221504</td>\n",
       "      <td>0.598642</td>\n",
       "      <td>1.649444</td>\n",
       "      <td>-0.789159</td>\n",
       "      <td>...</td>\n",
       "      <td>-0.248526</td>\n",
       "      <td>-0.185218</td>\n",
       "      <td>-0.620935</td>\n",
       "      <td>-0.389492</td>\n",
       "      <td>1.427428</td>\n",
       "      <td>1.008207</td>\n",
       "      <td>-0.908612</td>\n",
       "      <td>-1.174336</td>\n",
       "      <td>-0.393290</td>\n",
       "      <td>-0.106406</td>\n",
       "    </tr>\n",
       "    <tr>\n",
       "      <th>1396</th>\n",
       "      <td>0.312074</td>\n",
       "      <td>1.015897</td>\n",
       "      <td>1.344782</td>\n",
       "      <td>-1.352436</td>\n",
       "      <td>0.698948</td>\n",
       "      <td>-0.301904</td>\n",
       "      <td>0.433503</td>\n",
       "      <td>-1.108848</td>\n",
       "      <td>0.115602</td>\n",
       "      <td>-1.227476</td>\n",
       "      <td>...</td>\n",
       "      <td>1.789132</td>\n",
       "      <td>0.731950</td>\n",
       "      <td>-0.966865</td>\n",
       "      <td>-1.578680</td>\n",
       "      <td>1.616585</td>\n",
       "      <td>1.552687</td>\n",
       "      <td>1.061101</td>\n",
       "      <td>-0.554552</td>\n",
       "      <td>1.182314</td>\n",
       "      <td>-0.534888</td>\n",
       "    </tr>\n",
       "    <tr>\n",
       "      <th>1397</th>\n",
       "      <td>0.208518</td>\n",
       "      <td>1.208711</td>\n",
       "      <td>-0.226326</td>\n",
       "      <td>-0.062856</td>\n",
       "      <td>0.241838</td>\n",
       "      <td>-0.844617</td>\n",
       "      <td>0.853272</td>\n",
       "      <td>0.405116</td>\n",
       "      <td>-0.265380</td>\n",
       "      <td>-0.980417</td>\n",
       "      <td>...</td>\n",
       "      <td>0.356957</td>\n",
       "      <td>-0.010109</td>\n",
       "      <td>0.423009</td>\n",
       "      <td>-0.490755</td>\n",
       "      <td>1.613770</td>\n",
       "      <td>0.386764</td>\n",
       "      <td>0.674634</td>\n",
       "      <td>-0.546166</td>\n",
       "      <td>0.450750</td>\n",
       "      <td>-0.029017</td>\n",
       "    </tr>\n",
       "    <tr>\n",
       "      <th>1398</th>\n",
       "      <td>0.312074</td>\n",
       "      <td>1.015897</td>\n",
       "      <td>1.344782</td>\n",
       "      <td>-1.352436</td>\n",
       "      <td>0.698948</td>\n",
       "      <td>-0.301904</td>\n",
       "      <td>0.433503</td>\n",
       "      <td>-1.108848</td>\n",
       "      <td>0.115602</td>\n",
       "      <td>-1.227476</td>\n",
       "      <td>...</td>\n",
       "      <td>1.789132</td>\n",
       "      <td>0.731950</td>\n",
       "      <td>-0.966865</td>\n",
       "      <td>-1.578680</td>\n",
       "      <td>1.616585</td>\n",
       "      <td>1.552687</td>\n",
       "      <td>1.061101</td>\n",
       "      <td>-0.554552</td>\n",
       "      <td>1.182314</td>\n",
       "      <td>-0.534888</td>\n",
       "    </tr>\n",
       "    <tr>\n",
       "      <th>1399</th>\n",
       "      <td>0.661258</td>\n",
       "      <td>-0.121614</td>\n",
       "      <td>0.791063</td>\n",
       "      <td>-1.573011</td>\n",
       "      <td>-0.411813</td>\n",
       "      <td>-0.791897</td>\n",
       "      <td>1.341867</td>\n",
       "      <td>0.903258</td>\n",
       "      <td>0.859260</td>\n",
       "      <td>-0.968413</td>\n",
       "      <td>...</td>\n",
       "      <td>0.026348</td>\n",
       "      <td>-0.786771</td>\n",
       "      <td>-0.665036</td>\n",
       "      <td>-0.037890</td>\n",
       "      <td>2.021873</td>\n",
       "      <td>0.080623</td>\n",
       "      <td>-0.872001</td>\n",
       "      <td>-0.760203</td>\n",
       "      <td>0.146278</td>\n",
       "      <td>-0.472938</td>\n",
       "    </tr>\n",
       "  </tbody>\n",
       "</table>\n",
       "<p>1400 rows × 100 columns</p>\n",
       "</div>"
      ],
      "text/plain": [
       "            0         1         2         3         4         5         6   \\\n",
       "0     0.223029 -0.071857 -1.066299 -0.902901  0.535850 -0.215152  1.229818   \n",
       "1     0.814623  0.006137  0.413149 -0.325072  0.081419 -0.117780  0.948614   \n",
       "2     0.075171  0.513661 -0.453571  0.204007 -0.330217 -0.245729  1.375518   \n",
       "3     0.923816 -0.263677  0.026131  0.714584 -0.216477  0.397600  1.376111   \n",
       "4     0.138793  0.131340 -0.585472  0.130177 -0.392683 -0.467041  0.849050   \n",
       "...        ...       ...       ...       ...       ...       ...       ...   \n",
       "1395  0.931847  1.010433  0.319635 -0.471647 -0.444081 -0.495480  1.221504   \n",
       "1396  0.312074  1.015897  1.344782 -1.352436  0.698948 -0.301904  0.433503   \n",
       "1397  0.208518  1.208711 -0.226326 -0.062856  0.241838 -0.844617  0.853272   \n",
       "1398  0.312074  1.015897  1.344782 -1.352436  0.698948 -0.301904  0.433503   \n",
       "1399  0.661258 -0.121614  0.791063 -1.573011 -0.411813 -0.791897  1.341867   \n",
       "\n",
       "            7         8         9   ...        90        91        92  \\\n",
       "0     0.086239 -0.557504 -0.318208  ... -0.421239  0.189701 -0.662276   \n",
       "1    -0.062177  0.101836  0.641820  ...  0.102862  0.649137 -0.441231   \n",
       "2     0.248313  1.141780 -0.412866  ... -0.410089  1.646259  0.106969   \n",
       "3    -0.113412  0.880143 -0.841784  ... -0.534408 -0.002344 -0.670653   \n",
       "4     0.025001 -0.337284 -0.119577  ... -0.416820  0.269168 -0.261281   \n",
       "...        ...       ...       ...  ...       ...       ...       ...   \n",
       "1395  0.598642  1.649444 -0.789159  ... -0.248526 -0.185218 -0.620935   \n",
       "1396 -1.108848  0.115602 -1.227476  ...  1.789132  0.731950 -0.966865   \n",
       "1397  0.405116 -0.265380 -0.980417  ...  0.356957 -0.010109  0.423009   \n",
       "1398 -1.108848  0.115602 -1.227476  ...  1.789132  0.731950 -0.966865   \n",
       "1399  0.903258  0.859260 -0.968413  ...  0.026348 -0.786771 -0.665036   \n",
       "\n",
       "            93        94        95        96        97        98        99  \n",
       "0     1.733029  0.829574  0.025368 -0.783485 -0.505373  0.192067  0.622570  \n",
       "1     0.236461  0.113943  0.322660 -0.327690  0.293922  0.717149 -0.686273  \n",
       "2     0.436742  0.389753  0.561137  0.377748  0.280433  0.449343 -0.769773  \n",
       "3     0.753839  0.395285  0.088043 -0.460760 -0.620461  0.350763 -0.130194  \n",
       "4    -0.428799 -0.709451  0.450157  0.282400 -0.568079  0.514301 -0.759497  \n",
       "...        ...       ...       ...       ...       ...       ...       ...  \n",
       "1395 -0.389492  1.427428  1.008207 -0.908612 -1.174336 -0.393290 -0.106406  \n",
       "1396 -1.578680  1.616585  1.552687  1.061101 -0.554552  1.182314 -0.534888  \n",
       "1397 -0.490755  1.613770  0.386764  0.674634 -0.546166  0.450750 -0.029017  \n",
       "1398 -1.578680  1.616585  1.552687  1.061101 -0.554552  1.182314 -0.534888  \n",
       "1399 -0.037890  2.021873  0.080623 -0.872001 -0.760203  0.146278 -0.472938  \n",
       "\n",
       "[1400 rows x 100 columns]"
      ]
     },
     "execution_count": 27,
     "metadata": {},
     "output_type": "execute_result"
    }
   ],
   "source": [
    "arr = [doc_model.dv[docs_dataset[\"text\"][index].tags] for index in range (0,docs_dataset.shape[0])]\n",
    "embeddings_dataset = pd.DataFrame(np.reshape(arr,(len(arr), 100)))\n",
    "embeddings_dataset"
   ]
  },
  {
   "cell_type": "code",
   "execution_count": 28,
   "id": "39be82ff",
   "metadata": {
    "execution": {
     "iopub.execute_input": "2024-01-06T22:28:28.322015Z",
     "iopub.status.busy": "2024-01-06T22:28:28.321696Z",
     "iopub.status.idle": "2024-01-06T22:28:28.493398Z",
     "shell.execute_reply": "2024-01-06T22:28:28.492508Z"
    },
    "id": "Sop_gw5PdYKj",
    "outputId": "489cc0f3-00c3-476a-c619-89a7dc34fe64",
    "papermill": {
     "duration": 0.18955,
     "end_time": "2024-01-06T22:28:28.495297",
     "exception": false,
     "start_time": "2024-01-06T22:28:28.305747",
     "status": "completed"
    },
    "tags": []
   },
   "outputs": [
    {
     "data": {
      "text/html": [
       "<div>\n",
       "<style scoped>\n",
       "    .dataframe tbody tr th:only-of-type {\n",
       "        vertical-align: middle;\n",
       "    }\n",
       "\n",
       "    .dataframe tbody tr th {\n",
       "        vertical-align: top;\n",
       "    }\n",
       "\n",
       "    .dataframe thead th {\n",
       "        text-align: right;\n",
       "    }\n",
       "</style>\n",
       "<table border=\"1\" class=\"dataframe\">\n",
       "  <thead>\n",
       "    <tr style=\"text-align: right;\">\n",
       "      <th></th>\n",
       "      <th>0</th>\n",
       "      <th>1</th>\n",
       "      <th>2</th>\n",
       "      <th>3</th>\n",
       "      <th>4</th>\n",
       "      <th>5</th>\n",
       "      <th>6</th>\n",
       "      <th>7</th>\n",
       "      <th>8</th>\n",
       "      <th>9</th>\n",
       "      <th>...</th>\n",
       "      <th>90</th>\n",
       "      <th>91</th>\n",
       "      <th>92</th>\n",
       "      <th>93</th>\n",
       "      <th>94</th>\n",
       "      <th>95</th>\n",
       "      <th>96</th>\n",
       "      <th>97</th>\n",
       "      <th>98</th>\n",
       "      <th>99</th>\n",
       "    </tr>\n",
       "  </thead>\n",
       "  <tbody>\n",
       "    <tr>\n",
       "      <th>count</th>\n",
       "      <td>1400.000000</td>\n",
       "      <td>1400.000000</td>\n",
       "      <td>1400.000000</td>\n",
       "      <td>1400.000000</td>\n",
       "      <td>1400.000000</td>\n",
       "      <td>1400.000000</td>\n",
       "      <td>1400.000000</td>\n",
       "      <td>1400.000000</td>\n",
       "      <td>1400.000000</td>\n",
       "      <td>1400.000000</td>\n",
       "      <td>...</td>\n",
       "      <td>1400.000000</td>\n",
       "      <td>1400.000000</td>\n",
       "      <td>1400.000000</td>\n",
       "      <td>1400.000000</td>\n",
       "      <td>1400.000000</td>\n",
       "      <td>1400.000000</td>\n",
       "      <td>1400.000000</td>\n",
       "      <td>1400.000000</td>\n",
       "      <td>1400.000000</td>\n",
       "      <td>1400.000000</td>\n",
       "    </tr>\n",
       "    <tr>\n",
       "      <th>mean</th>\n",
       "      <td>0.297126</td>\n",
       "      <td>-0.100267</td>\n",
       "      <td>-0.264496</td>\n",
       "      <td>-0.187554</td>\n",
       "      <td>0.293839</td>\n",
       "      <td>-0.492231</td>\n",
       "      <td>0.739942</td>\n",
       "      <td>0.267502</td>\n",
       "      <td>-0.365535</td>\n",
       "      <td>-0.675651</td>\n",
       "      <td>...</td>\n",
       "      <td>0.270500</td>\n",
       "      <td>0.115100</td>\n",
       "      <td>-0.069150</td>\n",
       "      <td>0.238624</td>\n",
       "      <td>0.819409</td>\n",
       "      <td>-0.017958</td>\n",
       "      <td>-0.273604</td>\n",
       "      <td>-0.547699</td>\n",
       "      <td>0.670212</td>\n",
       "      <td>-0.162193</td>\n",
       "    </tr>\n",
       "    <tr>\n",
       "      <th>std</th>\n",
       "      <td>0.562808</td>\n",
       "      <td>0.666578</td>\n",
       "      <td>0.650797</td>\n",
       "      <td>0.561529</td>\n",
       "      <td>0.598958</td>\n",
       "      <td>0.551478</td>\n",
       "      <td>0.587345</td>\n",
       "      <td>0.577580</td>\n",
       "      <td>0.661415</td>\n",
       "      <td>0.577767</td>\n",
       "      <td>...</td>\n",
       "      <td>0.634568</td>\n",
       "      <td>0.603423</td>\n",
       "      <td>0.754698</td>\n",
       "      <td>0.775062</td>\n",
       "      <td>0.609069</td>\n",
       "      <td>0.596489</td>\n",
       "      <td>0.695814</td>\n",
       "      <td>0.593752</td>\n",
       "      <td>0.701581</td>\n",
       "      <td>0.627126</td>\n",
       "    </tr>\n",
       "    <tr>\n",
       "      <th>min</th>\n",
       "      <td>-1.894825</td>\n",
       "      <td>-2.551746</td>\n",
       "      <td>-3.368265</td>\n",
       "      <td>-2.072489</td>\n",
       "      <td>-1.801056</td>\n",
       "      <td>-2.333306</td>\n",
       "      <td>-1.574731</td>\n",
       "      <td>-2.511638</td>\n",
       "      <td>-2.423954</td>\n",
       "      <td>-4.486752</td>\n",
       "      <td>...</td>\n",
       "      <td>-1.701845</td>\n",
       "      <td>-1.990662</td>\n",
       "      <td>-3.119733</td>\n",
       "      <td>-2.595753</td>\n",
       "      <td>-1.269893</td>\n",
       "      <td>-2.512648</td>\n",
       "      <td>-2.315664</td>\n",
       "      <td>-2.709020</td>\n",
       "      <td>-1.481355</td>\n",
       "      <td>-2.638108</td>\n",
       "    </tr>\n",
       "    <tr>\n",
       "      <th>25%</th>\n",
       "      <td>-0.097717</td>\n",
       "      <td>-0.525447</td>\n",
       "      <td>-0.691664</td>\n",
       "      <td>-0.566820</td>\n",
       "      <td>-0.097053</td>\n",
       "      <td>-0.877194</td>\n",
       "      <td>0.342991</td>\n",
       "      <td>-0.104648</td>\n",
       "      <td>-0.825418</td>\n",
       "      <td>-1.039492</td>\n",
       "      <td>...</td>\n",
       "      <td>-0.171812</td>\n",
       "      <td>-0.284789</td>\n",
       "      <td>-0.618801</td>\n",
       "      <td>-0.304169</td>\n",
       "      <td>0.432633</td>\n",
       "      <td>-0.412907</td>\n",
       "      <td>-0.731314</td>\n",
       "      <td>-0.941918</td>\n",
       "      <td>0.203868</td>\n",
       "      <td>-0.553019</td>\n",
       "    </tr>\n",
       "    <tr>\n",
       "      <th>50%</th>\n",
       "      <td>0.293013</td>\n",
       "      <td>-0.091010</td>\n",
       "      <td>-0.273486</td>\n",
       "      <td>-0.186006</td>\n",
       "      <td>0.282637</td>\n",
       "      <td>-0.478116</td>\n",
       "      <td>0.720186</td>\n",
       "      <td>0.295135</td>\n",
       "      <td>-0.358220</td>\n",
       "      <td>-0.642138</td>\n",
       "      <td>...</td>\n",
       "      <td>0.285333</td>\n",
       "      <td>0.108556</td>\n",
       "      <td>-0.062418</td>\n",
       "      <td>0.229656</td>\n",
       "      <td>0.833066</td>\n",
       "      <td>-0.016168</td>\n",
       "      <td>-0.291617</td>\n",
       "      <td>-0.549515</td>\n",
       "      <td>0.649949</td>\n",
       "      <td>-0.156407</td>\n",
       "    </tr>\n",
       "    <tr>\n",
       "      <th>75%</th>\n",
       "      <td>0.669961</td>\n",
       "      <td>0.349862</td>\n",
       "      <td>0.164609</td>\n",
       "      <td>0.176894</td>\n",
       "      <td>0.661987</td>\n",
       "      <td>-0.112841</td>\n",
       "      <td>1.140091</td>\n",
       "      <td>0.632670</td>\n",
       "      <td>0.093803</td>\n",
       "      <td>-0.286804</td>\n",
       "      <td>...</td>\n",
       "      <td>0.696839</td>\n",
       "      <td>0.530206</td>\n",
       "      <td>0.508724</td>\n",
       "      <td>0.768579</td>\n",
       "      <td>1.224189</td>\n",
       "      <td>0.384790</td>\n",
       "      <td>0.179078</td>\n",
       "      <td>-0.159249</td>\n",
       "      <td>1.139803</td>\n",
       "      <td>0.252488</td>\n",
       "    </tr>\n",
       "    <tr>\n",
       "      <th>max</th>\n",
       "      <td>1.956640</td>\n",
       "      <td>3.165271</td>\n",
       "      <td>1.585949</td>\n",
       "      <td>1.974887</td>\n",
       "      <td>2.929470</td>\n",
       "      <td>1.429304</td>\n",
       "      <td>3.071865</td>\n",
       "      <td>1.935673</td>\n",
       "      <td>1.997593</td>\n",
       "      <td>1.210109</td>\n",
       "      <td>...</td>\n",
       "      <td>2.985008</td>\n",
       "      <td>2.008663</td>\n",
       "      <td>2.206696</td>\n",
       "      <td>3.165704</td>\n",
       "      <td>2.988161</td>\n",
       "      <td>1.989855</td>\n",
       "      <td>2.663449</td>\n",
       "      <td>1.615127</td>\n",
       "      <td>3.048311</td>\n",
       "      <td>1.983914</td>\n",
       "    </tr>\n",
       "  </tbody>\n",
       "</table>\n",
       "<p>8 rows × 100 columns</p>\n",
       "</div>"
      ],
      "text/plain": [
       "                0            1            2            3            4   \\\n",
       "count  1400.000000  1400.000000  1400.000000  1400.000000  1400.000000   \n",
       "mean      0.297126    -0.100267    -0.264496    -0.187554     0.293839   \n",
       "std       0.562808     0.666578     0.650797     0.561529     0.598958   \n",
       "min      -1.894825    -2.551746    -3.368265    -2.072489    -1.801056   \n",
       "25%      -0.097717    -0.525447    -0.691664    -0.566820    -0.097053   \n",
       "50%       0.293013    -0.091010    -0.273486    -0.186006     0.282637   \n",
       "75%       0.669961     0.349862     0.164609     0.176894     0.661987   \n",
       "max       1.956640     3.165271     1.585949     1.974887     2.929470   \n",
       "\n",
       "                5            6            7            8            9   ...  \\\n",
       "count  1400.000000  1400.000000  1400.000000  1400.000000  1400.000000  ...   \n",
       "mean     -0.492231     0.739942     0.267502    -0.365535    -0.675651  ...   \n",
       "std       0.551478     0.587345     0.577580     0.661415     0.577767  ...   \n",
       "min      -2.333306    -1.574731    -2.511638    -2.423954    -4.486752  ...   \n",
       "25%      -0.877194     0.342991    -0.104648    -0.825418    -1.039492  ...   \n",
       "50%      -0.478116     0.720186     0.295135    -0.358220    -0.642138  ...   \n",
       "75%      -0.112841     1.140091     0.632670     0.093803    -0.286804  ...   \n",
       "max       1.429304     3.071865     1.935673     1.997593     1.210109  ...   \n",
       "\n",
       "                90           91           92           93           94  \\\n",
       "count  1400.000000  1400.000000  1400.000000  1400.000000  1400.000000   \n",
       "mean      0.270500     0.115100    -0.069150     0.238624     0.819409   \n",
       "std       0.634568     0.603423     0.754698     0.775062     0.609069   \n",
       "min      -1.701845    -1.990662    -3.119733    -2.595753    -1.269893   \n",
       "25%      -0.171812    -0.284789    -0.618801    -0.304169     0.432633   \n",
       "50%       0.285333     0.108556    -0.062418     0.229656     0.833066   \n",
       "75%       0.696839     0.530206     0.508724     0.768579     1.224189   \n",
       "max       2.985008     2.008663     2.206696     3.165704     2.988161   \n",
       "\n",
       "                95           96           97           98           99  \n",
       "count  1400.000000  1400.000000  1400.000000  1400.000000  1400.000000  \n",
       "mean     -0.017958    -0.273604    -0.547699     0.670212    -0.162193  \n",
       "std       0.596489     0.695814     0.593752     0.701581     0.627126  \n",
       "min      -2.512648    -2.315664    -2.709020    -1.481355    -2.638108  \n",
       "25%      -0.412907    -0.731314    -0.941918     0.203868    -0.553019  \n",
       "50%      -0.016168    -0.291617    -0.549515     0.649949    -0.156407  \n",
       "75%       0.384790     0.179078    -0.159249     1.139803     0.252488  \n",
       "max       1.989855     2.663449     1.615127     3.048311     1.983914  \n",
       "\n",
       "[8 rows x 100 columns]"
      ]
     },
     "execution_count": 28,
     "metadata": {},
     "output_type": "execute_result"
    }
   ],
   "source": [
    "embeddings_dataset.describe()"
   ]
  },
  {
   "cell_type": "markdown",
   "id": "311e0cfd",
   "metadata": {
    "id": "XL1gXWWodYKj",
    "papermill": {
     "duration": 0.015191,
     "end_time": "2024-01-06T22:28:28.527061",
     "exception": false,
     "start_time": "2024-01-06T22:28:28.511870",
     "status": "completed"
    },
    "tags": []
   },
   "source": [
    "#### Normalizar embedding"
   ]
  },
  {
   "cell_type": "code",
   "execution_count": 29,
   "id": "5b3b3ef4",
   "metadata": {
    "execution": {
     "iopub.execute_input": "2024-01-06T22:28:28.558902Z",
     "iopub.status.busy": "2024-01-06T22:28:28.558580Z",
     "iopub.status.idle": "2024-01-06T22:28:28.562940Z",
     "shell.execute_reply": "2024-01-06T22:28:28.562296Z"
    },
    "papermill": {
     "duration": 0.022124,
     "end_time": "2024-01-06T22:28:28.564375",
     "exception": false,
     "start_time": "2024-01-06T22:28:28.542251",
     "status": "completed"
    },
    "tags": []
   },
   "outputs": [],
   "source": [
    "embeddings_test_dataset[\"norm\"]=np.linalg.norm(embeddings_test_dataset, axis=1)"
   ]
  },
  {
   "cell_type": "code",
   "execution_count": 30,
   "id": "6095ffd0",
   "metadata": {
    "execution": {
     "iopub.execute_input": "2024-01-06T22:28:28.596685Z",
     "iopub.status.busy": "2024-01-06T22:28:28.595561Z",
     "iopub.status.idle": "2024-01-06T22:28:28.603624Z",
     "shell.execute_reply": "2024-01-06T22:28:28.603005Z"
    },
    "id": "5XdVRiYOdYKj",
    "outputId": "fdec5bf1-af94-4e9a-f178-6a6c7c01367d",
    "papermill": {
     "duration": 0.025854,
     "end_time": "2024-01-06T22:28:28.605257",
     "exception": false,
     "start_time": "2024-01-06T22:28:28.579403",
     "status": "completed"
    },
    "tags": []
   },
   "outputs": [
    {
     "data": {
      "text/plain": [
       "0       6.782669\n",
       "1       6.611299\n",
       "2       7.531205\n",
       "3       7.419190\n",
       "4       8.564798\n",
       "          ...   \n",
       "1395    8.952847\n",
       "1396    9.263121\n",
       "1397    6.417982\n",
       "1398    9.263121\n",
       "1399    7.787230\n",
       "Name: norm, Length: 1400, dtype: float32"
      ]
     },
     "execution_count": 30,
     "metadata": {},
     "output_type": "execute_result"
    }
   ],
   "source": [
    "embeddings_dataset[\"norm\"]=np.linalg.norm(embeddings_dataset, axis=1)\n",
    "embeddings_dataset[\"norm\"]"
   ]
  },
  {
   "cell_type": "code",
   "execution_count": 31,
   "id": "f15d6fd0",
   "metadata": {
    "execution": {
     "iopub.execute_input": "2024-01-06T22:28:28.641469Z",
     "iopub.status.busy": "2024-01-06T22:28:28.640451Z",
     "iopub.status.idle": "2024-01-06T22:28:28.648334Z",
     "shell.execute_reply": "2024-01-06T22:28:28.647466Z"
    },
    "papermill": {
     "duration": 0.02691,
     "end_time": "2024-01-06T22:28:28.650154",
     "exception": false,
     "start_time": "2024-01-06T22:28:28.623244",
     "status": "completed"
    },
    "tags": []
   },
   "outputs": [],
   "source": [
    "norm_embeddings_test_dataset = pd.DataFrame(np.apply_along_axis(lambda x: x / np.linalg.norm(x), axis=1, arr=embeddings_test_dataset))\n",
    "norm_embeddings_test_dataset[\"normalized_norm\"] = (embeddings_test_dataset['norm'] - embeddings_test_dataset['norm'].min()) / (embeddings_test_dataset['norm'].max() - embeddings_test_dataset['norm'].min())\n"
   ]
  },
  {
   "cell_type": "code",
   "execution_count": 32,
   "id": "cdd930c5",
   "metadata": {
    "execution": {
     "iopub.execute_input": "2024-01-06T22:28:28.683692Z",
     "iopub.status.busy": "2024-01-06T22:28:28.683377Z",
     "iopub.status.idle": "2024-01-06T22:28:28.863986Z",
     "shell.execute_reply": "2024-01-06T22:28:28.863138Z"
    },
    "id": "Y-ns5umfdYKj",
    "outputId": "e0e26dd1-7bc0-4a9e-d7c6-199d29518bec",
    "papermill": {
     "duration": 0.199413,
     "end_time": "2024-01-06T22:28:28.865702",
     "exception": false,
     "start_time": "2024-01-06T22:28:28.666289",
     "status": "completed"
    },
    "tags": []
   },
   "outputs": [
    {
     "data": {
      "text/html": [
       "<div>\n",
       "<style scoped>\n",
       "    .dataframe tbody tr th:only-of-type {\n",
       "        vertical-align: middle;\n",
       "    }\n",
       "\n",
       "    .dataframe tbody tr th {\n",
       "        vertical-align: top;\n",
       "    }\n",
       "\n",
       "    .dataframe thead th {\n",
       "        text-align: right;\n",
       "    }\n",
       "</style>\n",
       "<table border=\"1\" class=\"dataframe\">\n",
       "  <thead>\n",
       "    <tr style=\"text-align: right;\">\n",
       "      <th></th>\n",
       "      <th>0</th>\n",
       "      <th>1</th>\n",
       "      <th>2</th>\n",
       "      <th>3</th>\n",
       "      <th>4</th>\n",
       "      <th>5</th>\n",
       "      <th>6</th>\n",
       "      <th>7</th>\n",
       "      <th>8</th>\n",
       "      <th>9</th>\n",
       "      <th>...</th>\n",
       "      <th>92</th>\n",
       "      <th>93</th>\n",
       "      <th>94</th>\n",
       "      <th>95</th>\n",
       "      <th>96</th>\n",
       "      <th>97</th>\n",
       "      <th>98</th>\n",
       "      <th>99</th>\n",
       "      <th>100</th>\n",
       "      <th>normalized_norm</th>\n",
       "    </tr>\n",
       "  </thead>\n",
       "  <tbody>\n",
       "    <tr>\n",
       "      <th>count</th>\n",
       "      <td>1400.000000</td>\n",
       "      <td>1400.000000</td>\n",
       "      <td>1400.000000</td>\n",
       "      <td>1400.000000</td>\n",
       "      <td>1400.000000</td>\n",
       "      <td>1400.000000</td>\n",
       "      <td>1400.000000</td>\n",
       "      <td>1400.000000</td>\n",
       "      <td>1400.000000</td>\n",
       "      <td>1400.000000</td>\n",
       "      <td>...</td>\n",
       "      <td>1400.000000</td>\n",
       "      <td>1400.000000</td>\n",
       "      <td>1400.000000</td>\n",
       "      <td>1400.000000</td>\n",
       "      <td>1400.000000</td>\n",
       "      <td>1400.000000</td>\n",
       "      <td>1400.000000</td>\n",
       "      <td>1400.000000</td>\n",
       "      <td>1.400000e+03</td>\n",
       "      <td>1400.000000</td>\n",
       "    </tr>\n",
       "    <tr>\n",
       "      <th>mean</th>\n",
       "      <td>0.028775</td>\n",
       "      <td>-0.009813</td>\n",
       "      <td>-0.025452</td>\n",
       "      <td>-0.018069</td>\n",
       "      <td>0.027853</td>\n",
       "      <td>-0.047885</td>\n",
       "      <td>0.072174</td>\n",
       "      <td>0.026109</td>\n",
       "      <td>-0.035886</td>\n",
       "      <td>-0.065035</td>\n",
       "      <td>...</td>\n",
       "      <td>-0.005317</td>\n",
       "      <td>0.021775</td>\n",
       "      <td>0.079811</td>\n",
       "      <td>-0.001829</td>\n",
       "      <td>-0.027052</td>\n",
       "      <td>-0.053216</td>\n",
       "      <td>0.066842</td>\n",
       "      <td>-0.015047</td>\n",
       "      <td>7.071066e-01</td>\n",
       "      <td>0.192114</td>\n",
       "    </tr>\n",
       "    <tr>\n",
       "      <th>std</th>\n",
       "      <td>0.053500</td>\n",
       "      <td>0.061934</td>\n",
       "      <td>0.060561</td>\n",
       "      <td>0.053044</td>\n",
       "      <td>0.054799</td>\n",
       "      <td>0.052699</td>\n",
       "      <td>0.056012</td>\n",
       "      <td>0.053703</td>\n",
       "      <td>0.063018</td>\n",
       "      <td>0.053288</td>\n",
       "      <td>...</td>\n",
       "      <td>0.071926</td>\n",
       "      <td>0.073202</td>\n",
       "      <td>0.058317</td>\n",
       "      <td>0.055913</td>\n",
       "      <td>0.065380</td>\n",
       "      <td>0.056674</td>\n",
       "      <td>0.068380</td>\n",
       "      <td>0.058771</td>\n",
       "      <td>3.350290e-08</td>\n",
       "      <td>0.085632</td>\n",
       "    </tr>\n",
       "    <tr>\n",
       "      <th>min</th>\n",
       "      <td>-0.147582</td>\n",
       "      <td>-0.205151</td>\n",
       "      <td>-0.204173</td>\n",
       "      <td>-0.199451</td>\n",
       "      <td>-0.158621</td>\n",
       "      <td>-0.236033</td>\n",
       "      <td>-0.114914</td>\n",
       "      <td>-0.158179</td>\n",
       "      <td>-0.232808</td>\n",
       "      <td>-0.228061</td>\n",
       "      <td>...</td>\n",
       "      <td>-0.252026</td>\n",
       "      <td>-0.192807</td>\n",
       "      <td>-0.119383</td>\n",
       "      <td>-0.205483</td>\n",
       "      <td>-0.207350</td>\n",
       "      <td>-0.231783</td>\n",
       "      <td>-0.137071</td>\n",
       "      <td>-0.199860</td>\n",
       "      <td>7.071067e-01</td>\n",
       "      <td>0.000000</td>\n",
       "    </tr>\n",
       "    <tr>\n",
       "      <th>25%</th>\n",
       "      <td>-0.009884</td>\n",
       "      <td>-0.051376</td>\n",
       "      <td>-0.067273</td>\n",
       "      <td>-0.053293</td>\n",
       "      <td>-0.009255</td>\n",
       "      <td>-0.084477</td>\n",
       "      <td>0.033092</td>\n",
       "      <td>-0.010704</td>\n",
       "      <td>-0.079346</td>\n",
       "      <td>-0.102542</td>\n",
       "      <td>...</td>\n",
       "      <td>-0.060294</td>\n",
       "      <td>-0.030276</td>\n",
       "      <td>0.040462</td>\n",
       "      <td>-0.040811</td>\n",
       "      <td>-0.071849</td>\n",
       "      <td>-0.092794</td>\n",
       "      <td>0.019743</td>\n",
       "      <td>-0.053792</td>\n",
       "      <td>7.071068e-01</td>\n",
       "      <td>0.139251</td>\n",
       "    </tr>\n",
       "    <tr>\n",
       "      <th>50%</th>\n",
       "      <td>0.027701</td>\n",
       "      <td>-0.008731</td>\n",
       "      <td>-0.026448</td>\n",
       "      <td>-0.017767</td>\n",
       "      <td>0.028408</td>\n",
       "      <td>-0.046908</td>\n",
       "      <td>0.070095</td>\n",
       "      <td>0.029697</td>\n",
       "      <td>-0.034021</td>\n",
       "      <td>-0.062077</td>\n",
       "      <td>...</td>\n",
       "      <td>-0.006507</td>\n",
       "      <td>0.022077</td>\n",
       "      <td>0.080930</td>\n",
       "      <td>-0.001725</td>\n",
       "      <td>-0.028239</td>\n",
       "      <td>-0.052647</td>\n",
       "      <td>0.062971</td>\n",
       "      <td>-0.015022</td>\n",
       "      <td>7.071068e-01</td>\n",
       "      <td>0.179068</td>\n",
       "    </tr>\n",
       "    <tr>\n",
       "      <th>75%</th>\n",
       "      <td>0.066362</td>\n",
       "      <td>0.033928</td>\n",
       "      <td>0.015368</td>\n",
       "      <td>0.017765</td>\n",
       "      <td>0.065069</td>\n",
       "      <td>-0.011483</td>\n",
       "      <td>0.112269</td>\n",
       "      <td>0.061601</td>\n",
       "      <td>0.008674</td>\n",
       "      <td>-0.027265</td>\n",
       "      <td>...</td>\n",
       "      <td>0.050686</td>\n",
       "      <td>0.073786</td>\n",
       "      <td>0.120965</td>\n",
       "      <td>0.038265</td>\n",
       "      <td>0.017251</td>\n",
       "      <td>-0.015022</td>\n",
       "      <td>0.113496</td>\n",
       "      <td>0.025214</td>\n",
       "      <td>7.071068e-01</td>\n",
       "      <td>0.224062</td>\n",
       "    </tr>\n",
       "    <tr>\n",
       "      <th>max</th>\n",
       "      <td>0.186237</td>\n",
       "      <td>0.237671</td>\n",
       "      <td>0.143351</td>\n",
       "      <td>0.173405</td>\n",
       "      <td>0.242885</td>\n",
       "      <td>0.133941</td>\n",
       "      <td>0.265246</td>\n",
       "      <td>0.192194</td>\n",
       "      <td>0.172825</td>\n",
       "      <td>0.099825</td>\n",
       "      <td>...</td>\n",
       "      <td>0.202054</td>\n",
       "      <td>0.252619</td>\n",
       "      <td>0.237220</td>\n",
       "      <td>0.176212</td>\n",
       "      <td>0.184451</td>\n",
       "      <td>0.149176</td>\n",
       "      <td>0.270054</td>\n",
       "      <td>0.207471</td>\n",
       "      <td>7.071069e-01</td>\n",
       "      <td>1.000000</td>\n",
       "    </tr>\n",
       "  </tbody>\n",
       "</table>\n",
       "<p>8 rows × 102 columns</p>\n",
       "</div>"
      ],
      "text/plain": [
       "                 0            1            2            3            4  \\\n",
       "count  1400.000000  1400.000000  1400.000000  1400.000000  1400.000000   \n",
       "mean      0.028775    -0.009813    -0.025452    -0.018069     0.027853   \n",
       "std       0.053500     0.061934     0.060561     0.053044     0.054799   \n",
       "min      -0.147582    -0.205151    -0.204173    -0.199451    -0.158621   \n",
       "25%      -0.009884    -0.051376    -0.067273    -0.053293    -0.009255   \n",
       "50%       0.027701    -0.008731    -0.026448    -0.017767     0.028408   \n",
       "75%       0.066362     0.033928     0.015368     0.017765     0.065069   \n",
       "max       0.186237     0.237671     0.143351     0.173405     0.242885   \n",
       "\n",
       "                 5            6            7            8            9  ...  \\\n",
       "count  1400.000000  1400.000000  1400.000000  1400.000000  1400.000000  ...   \n",
       "mean     -0.047885     0.072174     0.026109    -0.035886    -0.065035  ...   \n",
       "std       0.052699     0.056012     0.053703     0.063018     0.053288  ...   \n",
       "min      -0.236033    -0.114914    -0.158179    -0.232808    -0.228061  ...   \n",
       "25%      -0.084477     0.033092    -0.010704    -0.079346    -0.102542  ...   \n",
       "50%      -0.046908     0.070095     0.029697    -0.034021    -0.062077  ...   \n",
       "75%      -0.011483     0.112269     0.061601     0.008674    -0.027265  ...   \n",
       "max       0.133941     0.265246     0.192194     0.172825     0.099825  ...   \n",
       "\n",
       "                92           93           94           95           96  \\\n",
       "count  1400.000000  1400.000000  1400.000000  1400.000000  1400.000000   \n",
       "mean     -0.005317     0.021775     0.079811    -0.001829    -0.027052   \n",
       "std       0.071926     0.073202     0.058317     0.055913     0.065380   \n",
       "min      -0.252026    -0.192807    -0.119383    -0.205483    -0.207350   \n",
       "25%      -0.060294    -0.030276     0.040462    -0.040811    -0.071849   \n",
       "50%      -0.006507     0.022077     0.080930    -0.001725    -0.028239   \n",
       "75%       0.050686     0.073786     0.120965     0.038265     0.017251   \n",
       "max       0.202054     0.252619     0.237220     0.176212     0.184451   \n",
       "\n",
       "                97           98           99           100  normalized_norm  \n",
       "count  1400.000000  1400.000000  1400.000000  1.400000e+03      1400.000000  \n",
       "mean     -0.053216     0.066842    -0.015047  7.071066e-01         0.192114  \n",
       "std       0.056674     0.068380     0.058771  3.350290e-08         0.085632  \n",
       "min      -0.231783    -0.137071    -0.199860  7.071067e-01         0.000000  \n",
       "25%      -0.092794     0.019743    -0.053792  7.071068e-01         0.139251  \n",
       "50%      -0.052647     0.062971    -0.015022  7.071068e-01         0.179068  \n",
       "75%      -0.015022     0.113496     0.025214  7.071068e-01         0.224062  \n",
       "max       0.149176     0.270054     0.207471  7.071069e-01         1.000000  \n",
       "\n",
       "[8 rows x 102 columns]"
      ]
     },
     "execution_count": 32,
     "metadata": {},
     "output_type": "execute_result"
    }
   ],
   "source": [
    "norm_embeddings_dataset = pd.DataFrame(np.apply_along_axis(lambda x: x / np.linalg.norm(x), axis=1, arr=embeddings_dataset))\n",
    "norm_embeddings_dataset[\"normalized_norm\"] = (embeddings_dataset['norm'] - embeddings_dataset['norm'].min()) / (embeddings_dataset['norm'].max() - embeddings_dataset['norm'].min())\n",
    "norm_embeddings_dataset.describe()"
   ]
  },
  {
   "cell_type": "code",
   "execution_count": 33,
   "id": "23c40114",
   "metadata": {
    "execution": {
     "iopub.execute_input": "2024-01-06T22:28:28.899145Z",
     "iopub.status.busy": "2024-01-06T22:28:28.898825Z",
     "iopub.status.idle": "2024-01-06T22:28:28.903603Z",
     "shell.execute_reply": "2024-01-06T22:28:28.902752Z"
    },
    "papermill": {
     "duration": 0.023316,
     "end_time": "2024-01-06T22:28:28.905125",
     "exception": false,
     "start_time": "2024-01-06T22:28:28.881809",
     "status": "completed"
    },
    "tags": []
   },
   "outputs": [],
   "source": [
    "norm_embeddings_test_dataset = norm_embeddings_test_dataset.drop([100],axis=1)"
   ]
  },
  {
   "cell_type": "code",
   "execution_count": 34,
   "id": "fad3d077",
   "metadata": {
    "execution": {
     "iopub.execute_input": "2024-01-06T22:28:28.937931Z",
     "iopub.status.busy": "2024-01-06T22:28:28.937594Z",
     "iopub.status.idle": "2024-01-06T22:28:28.942908Z",
     "shell.execute_reply": "2024-01-06T22:28:28.942082Z"
    },
    "id": "2jUZ8xrgdYKj",
    "papermill": {
     "duration": 0.023739,
     "end_time": "2024-01-06T22:28:28.944518",
     "exception": false,
     "start_time": "2024-01-06T22:28:28.920779",
     "status": "completed"
    },
    "tags": []
   },
   "outputs": [],
   "source": [
    "norm_embeddings_dataset = norm_embeddings_dataset.drop([100],axis=1)"
   ]
  },
  {
   "cell_type": "code",
   "execution_count": 35,
   "id": "d8bd6c9c",
   "metadata": {
    "execution": {
     "iopub.execute_input": "2024-01-06T22:28:28.977890Z",
     "iopub.status.busy": "2024-01-06T22:28:28.977034Z",
     "iopub.status.idle": "2024-01-06T22:28:28.981828Z",
     "shell.execute_reply": "2024-01-06T22:28:28.981002Z"
    },
    "papermill": {
     "duration": 0.023176,
     "end_time": "2024-01-06T22:28:28.983616",
     "exception": false,
     "start_time": "2024-01-06T22:28:28.960440",
     "status": "completed"
    },
    "tags": []
   },
   "outputs": [],
   "source": [
    "pre_processed_test_data = pd.concat([doc_test_dataset,norm_embeddings_test_dataset],axis=1)"
   ]
  },
  {
   "cell_type": "code",
   "execution_count": 36,
   "id": "f9554069",
   "metadata": {
    "execution": {
     "iopub.execute_input": "2024-01-06T22:28:29.016425Z",
     "iopub.status.busy": "2024-01-06T22:28:29.016091Z",
     "iopub.status.idle": "2024-01-06T22:28:29.053380Z",
     "shell.execute_reply": "2024-01-06T22:28:29.052515Z"
    },
    "id": "MwmoLIkHdYKk",
    "outputId": "ce49eba2-4bc9-4547-b019-5ce71a71e360",
    "papermill": {
     "duration": 0.056071,
     "end_time": "2024-01-06T22:28:29.055552",
     "exception": false,
     "start_time": "2024-01-06T22:28:28.999481",
     "status": "completed"
    },
    "tags": []
   },
   "outputs": [
    {
     "data": {
      "text/html": [
       "<div>\n",
       "<style scoped>\n",
       "    .dataframe tbody tr th:only-of-type {\n",
       "        vertical-align: middle;\n",
       "    }\n",
       "\n",
       "    .dataframe tbody tr th {\n",
       "        vertical-align: top;\n",
       "    }\n",
       "\n",
       "    .dataframe thead th {\n",
       "        text-align: right;\n",
       "    }\n",
       "</style>\n",
       "<table border=\"1\" class=\"dataframe\">\n",
       "  <thead>\n",
       "    <tr style=\"text-align: right;\">\n",
       "      <th></th>\n",
       "      <th>id</th>\n",
       "      <th>prompt_id</th>\n",
       "      <th>text</th>\n",
       "      <th>generated</th>\n",
       "      <th>0</th>\n",
       "      <th>1</th>\n",
       "      <th>2</th>\n",
       "      <th>3</th>\n",
       "      <th>4</th>\n",
       "      <th>5</th>\n",
       "      <th>...</th>\n",
       "      <th>91</th>\n",
       "      <th>92</th>\n",
       "      <th>93</th>\n",
       "      <th>94</th>\n",
       "      <th>95</th>\n",
       "      <th>96</th>\n",
       "      <th>97</th>\n",
       "      <th>98</th>\n",
       "      <th>99</th>\n",
       "      <th>normalized_norm</th>\n",
       "    </tr>\n",
       "  </thead>\n",
       "  <tbody>\n",
       "    <tr>\n",
       "      <th>0</th>\n",
       "      <td>0059830c</td>\n",
       "      <td>0</td>\n",
       "      <td>([Ġcars, ., Ġcars, Ġhave, Ġbeen, Ġaround, Ġsin...</td>\n",
       "      <td>0</td>\n",
       "      <td>0.023251</td>\n",
       "      <td>-0.007491</td>\n",
       "      <td>-0.111164</td>\n",
       "      <td>-0.094129</td>\n",
       "      <td>0.055863</td>\n",
       "      <td>-0.022430</td>\n",
       "      <td>...</td>\n",
       "      <td>0.019777</td>\n",
       "      <td>-0.069044</td>\n",
       "      <td>0.180672</td>\n",
       "      <td>0.086485</td>\n",
       "      <td>0.002645</td>\n",
       "      <td>-0.081680</td>\n",
       "      <td>-0.052686</td>\n",
       "      <td>0.020023</td>\n",
       "      <td>0.064904</td>\n",
       "      <td>0.146539</td>\n",
       "    </tr>\n",
       "    <tr>\n",
       "      <th>1</th>\n",
       "      <td>005db917</td>\n",
       "      <td>0</td>\n",
       "      <td>([Ġtransportation, Ġis, Ġa, Ġlarge, Ġnecessity...</td>\n",
       "      <td>0</td>\n",
       "      <td>0.087127</td>\n",
       "      <td>0.000656</td>\n",
       "      <td>0.044188</td>\n",
       "      <td>-0.034768</td>\n",
       "      <td>0.008708</td>\n",
       "      <td>-0.012597</td>\n",
       "      <td>...</td>\n",
       "      <td>0.069428</td>\n",
       "      <td>-0.047192</td>\n",
       "      <td>0.025291</td>\n",
       "      <td>0.012187</td>\n",
       "      <td>0.034510</td>\n",
       "      <td>-0.035048</td>\n",
       "      <td>0.031436</td>\n",
       "      <td>0.076702</td>\n",
       "      <td>-0.073400</td>\n",
       "      <td>0.133520</td>\n",
       "    </tr>\n",
       "    <tr>\n",
       "      <th>2</th>\n",
       "      <td>008f63e3</td>\n",
       "      <td>0</td>\n",
       "      <td>([Ġ\", america, 's, Ġlove, Ġaffair, Ġwith, Ġit,...</td>\n",
       "      <td>0</td>\n",
       "      <td>0.007058</td>\n",
       "      <td>0.048228</td>\n",
       "      <td>-0.042586</td>\n",
       "      <td>0.019154</td>\n",
       "      <td>-0.031004</td>\n",
       "      <td>-0.023072</td>\n",
       "      <td>...</td>\n",
       "      <td>0.154568</td>\n",
       "      <td>0.010043</td>\n",
       "      <td>0.041006</td>\n",
       "      <td>0.036594</td>\n",
       "      <td>0.052685</td>\n",
       "      <td>0.035467</td>\n",
       "      <td>0.026330</td>\n",
       "      <td>0.042189</td>\n",
       "      <td>-0.072274</td>\n",
       "      <td>0.203404</td>\n",
       "    </tr>\n",
       "    <tr>\n",
       "      <th>3</th>\n",
       "      <td>00940276</td>\n",
       "      <td>0</td>\n",
       "      <td>([Ġhow, Ġoften, Ġdo, Ġyou, Ġride, Ġin, Ġa, Ġca...</td>\n",
       "      <td>0</td>\n",
       "      <td>0.088047</td>\n",
       "      <td>-0.025130</td>\n",
       "      <td>0.002490</td>\n",
       "      <td>0.068105</td>\n",
       "      <td>-0.020632</td>\n",
       "      <td>0.037894</td>\n",
       "      <td>...</td>\n",
       "      <td>-0.000223</td>\n",
       "      <td>-0.063918</td>\n",
       "      <td>0.071847</td>\n",
       "      <td>0.037674</td>\n",
       "      <td>0.008391</td>\n",
       "      <td>-0.043914</td>\n",
       "      <td>-0.059135</td>\n",
       "      <td>0.033430</td>\n",
       "      <td>-0.012409</td>\n",
       "      <td>0.194894</td>\n",
       "    </tr>\n",
       "    <tr>\n",
       "      <th>4</th>\n",
       "      <td>00c39458</td>\n",
       "      <td>0</td>\n",
       "      <td>([Ġcars, Ġare, Ġa, Ġwonderful, Ġthing, ., Ġthe...</td>\n",
       "      <td>0</td>\n",
       "      <td>0.011459</td>\n",
       "      <td>0.010843</td>\n",
       "      <td>-0.048336</td>\n",
       "      <td>0.010747</td>\n",
       "      <td>-0.032420</td>\n",
       "      <td>-0.038559</td>\n",
       "      <td>...</td>\n",
       "      <td>0.022222</td>\n",
       "      <td>-0.021571</td>\n",
       "      <td>-0.035401</td>\n",
       "      <td>-0.058572</td>\n",
       "      <td>0.037165</td>\n",
       "      <td>0.023315</td>\n",
       "      <td>-0.046900</td>\n",
       "      <td>0.042460</td>\n",
       "      <td>-0.062704</td>\n",
       "      <td>0.281924</td>\n",
       "    </tr>\n",
       "    <tr>\n",
       "      <th>...</th>\n",
       "      <td>...</td>\n",
       "      <td>...</td>\n",
       "      <td>...</td>\n",
       "      <td>...</td>\n",
       "      <td>...</td>\n",
       "      <td>...</td>\n",
       "      <td>...</td>\n",
       "      <td>...</td>\n",
       "      <td>...</td>\n",
       "      <td>...</td>\n",
       "      <td>...</td>\n",
       "      <td>...</td>\n",
       "      <td>...</td>\n",
       "      <td>...</td>\n",
       "      <td>...</td>\n",
       "      <td>...</td>\n",
       "      <td>...</td>\n",
       "      <td>...</td>\n",
       "      <td>...</td>\n",
       "      <td>...</td>\n",
       "      <td>...</td>\n",
       "    </tr>\n",
       "    <tr>\n",
       "      <th>1395</th>\n",
       "      <td>17</td>\n",
       "      <td>0</td>\n",
       "      <td>([Ġlimiting, Ġcar, Ġusage, Ġstands, Ġas, Ġa, Ġ...</td>\n",
       "      <td>1</td>\n",
       "      <td>0.073598</td>\n",
       "      <td>0.079805</td>\n",
       "      <td>0.025245</td>\n",
       "      <td>-0.037251</td>\n",
       "      <td>-0.035074</td>\n",
       "      <td>-0.039134</td>\n",
       "      <td>...</td>\n",
       "      <td>-0.014629</td>\n",
       "      <td>-0.049042</td>\n",
       "      <td>-0.030763</td>\n",
       "      <td>0.112740</td>\n",
       "      <td>0.079629</td>\n",
       "      <td>-0.071763</td>\n",
       "      <td>-0.092750</td>\n",
       "      <td>-0.031063</td>\n",
       "      <td>-0.008404</td>\n",
       "      <td>0.311403</td>\n",
       "    </tr>\n",
       "    <tr>\n",
       "      <th>1396</th>\n",
       "      <td>18</td>\n",
       "      <td>1</td>\n",
       "      <td>([Ġjohn, Ġsmith, Ġ123, Ġmain, Ġstreet, Ġcityvi...</td>\n",
       "      <td>1</td>\n",
       "      <td>0.023822</td>\n",
       "      <td>0.077549</td>\n",
       "      <td>0.102655</td>\n",
       "      <td>-0.103239</td>\n",
       "      <td>0.053355</td>\n",
       "      <td>-0.023046</td>\n",
       "      <td>...</td>\n",
       "      <td>0.055874</td>\n",
       "      <td>-0.073806</td>\n",
       "      <td>-0.120510</td>\n",
       "      <td>0.123403</td>\n",
       "      <td>0.118525</td>\n",
       "      <td>0.081000</td>\n",
       "      <td>-0.042332</td>\n",
       "      <td>0.090253</td>\n",
       "      <td>-0.040831</td>\n",
       "      <td>0.334974</td>\n",
       "    </tr>\n",
       "    <tr>\n",
       "      <th>1397</th>\n",
       "      <td>19</td>\n",
       "      <td>1</td>\n",
       "      <td>([Ġdear, Ġsenator, ,, Ġ, Ġi, Ġam, Ġwriting, Ġt...</td>\n",
       "      <td>1</td>\n",
       "      <td>0.022974</td>\n",
       "      <td>0.133171</td>\n",
       "      <td>-0.024936</td>\n",
       "      <td>-0.006925</td>\n",
       "      <td>0.026645</td>\n",
       "      <td>-0.093056</td>\n",
       "      <td>...</td>\n",
       "      <td>-0.001114</td>\n",
       "      <td>0.046605</td>\n",
       "      <td>-0.054069</td>\n",
       "      <td>0.177799</td>\n",
       "      <td>0.042612</td>\n",
       "      <td>0.074328</td>\n",
       "      <td>-0.060174</td>\n",
       "      <td>0.049662</td>\n",
       "      <td>-0.003197</td>\n",
       "      <td>0.118834</td>\n",
       "    </tr>\n",
       "    <tr>\n",
       "      <th>1398</th>\n",
       "      <td>18</td>\n",
       "      <td>0</td>\n",
       "      <td>([Ġthe, Ġadvantages, Ġof, Ġlimiting, Ġcar, Ġus...</td>\n",
       "      <td>1</td>\n",
       "      <td>0.023822</td>\n",
       "      <td>0.077549</td>\n",
       "      <td>0.102655</td>\n",
       "      <td>-0.103239</td>\n",
       "      <td>0.053355</td>\n",
       "      <td>-0.023046</td>\n",
       "      <td>...</td>\n",
       "      <td>0.055874</td>\n",
       "      <td>-0.073806</td>\n",
       "      <td>-0.120510</td>\n",
       "      <td>0.123403</td>\n",
       "      <td>0.118525</td>\n",
       "      <td>0.081000</td>\n",
       "      <td>-0.042332</td>\n",
       "      <td>0.090253</td>\n",
       "      <td>-0.040831</td>\n",
       "      <td>0.334974</td>\n",
       "    </tr>\n",
       "    <tr>\n",
       "      <th>1399</th>\n",
       "      <td>20</td>\n",
       "      <td>0</td>\n",
       "      <td>([Ġthe, Ġincreasing, Ġtrend, Ġtowards, Ġlimiti...</td>\n",
       "      <td>1</td>\n",
       "      <td>0.060044</td>\n",
       "      <td>-0.011043</td>\n",
       "      <td>0.071831</td>\n",
       "      <td>-0.142835</td>\n",
       "      <td>-0.037394</td>\n",
       "      <td>-0.071907</td>\n",
       "      <td>...</td>\n",
       "      <td>-0.071441</td>\n",
       "      <td>-0.060388</td>\n",
       "      <td>-0.003441</td>\n",
       "      <td>0.183593</td>\n",
       "      <td>0.007321</td>\n",
       "      <td>-0.079181</td>\n",
       "      <td>-0.069029</td>\n",
       "      <td>0.013282</td>\n",
       "      <td>-0.042944</td>\n",
       "      <td>0.222853</td>\n",
       "    </tr>\n",
       "  </tbody>\n",
       "</table>\n",
       "<p>1400 rows × 105 columns</p>\n",
       "</div>"
      ],
      "text/plain": [
       "            id  prompt_id                                               text  \\\n",
       "0     0059830c          0  ([Ġcars, ., Ġcars, Ġhave, Ġbeen, Ġaround, Ġsin...   \n",
       "1     005db917          0  ([Ġtransportation, Ġis, Ġa, Ġlarge, Ġnecessity...   \n",
       "2     008f63e3          0  ([Ġ\", america, 's, Ġlove, Ġaffair, Ġwith, Ġit,...   \n",
       "3     00940276          0  ([Ġhow, Ġoften, Ġdo, Ġyou, Ġride, Ġin, Ġa, Ġca...   \n",
       "4     00c39458          0  ([Ġcars, Ġare, Ġa, Ġwonderful, Ġthing, ., Ġthe...   \n",
       "...        ...        ...                                                ...   \n",
       "1395        17          0  ([Ġlimiting, Ġcar, Ġusage, Ġstands, Ġas, Ġa, Ġ...   \n",
       "1396        18          1  ([Ġjohn, Ġsmith, Ġ123, Ġmain, Ġstreet, Ġcityvi...   \n",
       "1397        19          1  ([Ġdear, Ġsenator, ,, Ġ, Ġi, Ġam, Ġwriting, Ġt...   \n",
       "1398        18          0  ([Ġthe, Ġadvantages, Ġof, Ġlimiting, Ġcar, Ġus...   \n",
       "1399        20          0  ([Ġthe, Ġincreasing, Ġtrend, Ġtowards, Ġlimiti...   \n",
       "\n",
       "      generated         0         1         2         3         4         5  \\\n",
       "0             0  0.023251 -0.007491 -0.111164 -0.094129  0.055863 -0.022430   \n",
       "1             0  0.087127  0.000656  0.044188 -0.034768  0.008708 -0.012597   \n",
       "2             0  0.007058  0.048228 -0.042586  0.019154 -0.031004 -0.023072   \n",
       "3             0  0.088047 -0.025130  0.002490  0.068105 -0.020632  0.037894   \n",
       "4             0  0.011459  0.010843 -0.048336  0.010747 -0.032420 -0.038559   \n",
       "...         ...       ...       ...       ...       ...       ...       ...   \n",
       "1395          1  0.073598  0.079805  0.025245 -0.037251 -0.035074 -0.039134   \n",
       "1396          1  0.023822  0.077549  0.102655 -0.103239  0.053355 -0.023046   \n",
       "1397          1  0.022974  0.133171 -0.024936 -0.006925  0.026645 -0.093056   \n",
       "1398          1  0.023822  0.077549  0.102655 -0.103239  0.053355 -0.023046   \n",
       "1399          1  0.060044 -0.011043  0.071831 -0.142835 -0.037394 -0.071907   \n",
       "\n",
       "      ...        91        92        93        94        95        96  \\\n",
       "0     ...  0.019777 -0.069044  0.180672  0.086485  0.002645 -0.081680   \n",
       "1     ...  0.069428 -0.047192  0.025291  0.012187  0.034510 -0.035048   \n",
       "2     ...  0.154568  0.010043  0.041006  0.036594  0.052685  0.035467   \n",
       "3     ... -0.000223 -0.063918  0.071847  0.037674  0.008391 -0.043914   \n",
       "4     ...  0.022222 -0.021571 -0.035401 -0.058572  0.037165  0.023315   \n",
       "...   ...       ...       ...       ...       ...       ...       ...   \n",
       "1395  ... -0.014629 -0.049042 -0.030763  0.112740  0.079629 -0.071763   \n",
       "1396  ...  0.055874 -0.073806 -0.120510  0.123403  0.118525  0.081000   \n",
       "1397  ... -0.001114  0.046605 -0.054069  0.177799  0.042612  0.074328   \n",
       "1398  ...  0.055874 -0.073806 -0.120510  0.123403  0.118525  0.081000   \n",
       "1399  ... -0.071441 -0.060388 -0.003441  0.183593  0.007321 -0.079181   \n",
       "\n",
       "            97        98        99  normalized_norm  \n",
       "0    -0.052686  0.020023  0.064904         0.146539  \n",
       "1     0.031436  0.076702 -0.073400         0.133520  \n",
       "2     0.026330  0.042189 -0.072274         0.203404  \n",
       "3    -0.059135  0.033430 -0.012409         0.194894  \n",
       "4    -0.046900  0.042460 -0.062704         0.281924  \n",
       "...        ...       ...       ...              ...  \n",
       "1395 -0.092750 -0.031063 -0.008404         0.311403  \n",
       "1396 -0.042332  0.090253 -0.040831         0.334974  \n",
       "1397 -0.060174  0.049662 -0.003197         0.118834  \n",
       "1398 -0.042332  0.090253 -0.040831         0.334974  \n",
       "1399 -0.069029  0.013282 -0.042944         0.222853  \n",
       "\n",
       "[1400 rows x 105 columns]"
      ]
     },
     "execution_count": 36,
     "metadata": {},
     "output_type": "execute_result"
    }
   ],
   "source": [
    "pre_processed_data = pd.concat([docs_dataset,norm_embeddings_dataset],axis=1)\n",
    "#pre_processed_data = pd.concat([docs_dataset,embeddings_dataset],axis=1)\n",
    "pre_processed_data"
   ]
  },
  {
   "cell_type": "markdown",
   "id": "aab644a5",
   "metadata": {
    "id": "Ok4YnFIkdYKk",
    "papermill": {
     "duration": 0.015472,
     "end_time": "2024-01-06T22:28:29.087413",
     "exception": false,
     "start_time": "2024-01-06T22:28:29.071941",
     "status": "completed"
    },
    "tags": []
   },
   "source": [
    "### Infered Features"
   ]
  },
  {
   "cell_type": "code",
   "execution_count": 37,
   "id": "d9eff555",
   "metadata": {
    "execution": {
     "iopub.execute_input": "2024-01-06T22:28:29.120597Z",
     "iopub.status.busy": "2024-01-06T22:28:29.120299Z",
     "iopub.status.idle": "2024-01-06T22:28:29.681152Z",
     "shell.execute_reply": "2024-01-06T22:28:29.680262Z"
    },
    "id": "5LK85lV3dYKk",
    "papermill": {
     "duration": 0.580322,
     "end_time": "2024-01-06T22:28:29.683378",
     "exception": false,
     "start_time": "2024-01-06T22:28:29.103056",
     "status": "completed"
    },
    "tags": []
   },
   "outputs": [],
   "source": [
    "def features(dataset):\n",
    "    token_count=dataset[\"text\"].apply(lambda x: len(x))\n",
    "    sentence_count = []\n",
    "    punctuation_count = []\n",
    "    apostrofees_count = []\n",
    "    unk_count = []\n",
    "    for doc in dataset[\"text\"]:\n",
    "        unk = 0\n",
    "        dot = 0\n",
    "        punctuation = 0\n",
    "        apostrofees = 0\n",
    "        for token in doc.words:\n",
    "            if(token.endswith(\".\")):\n",
    "                dot+=1\n",
    "                punctuation+=1\n",
    "            elif(token.endswith(\",\") or token.endswith(\"?\") or token.endswith(\"!\")):\n",
    "                punctuation+=1\n",
    "            elif(token.count(\"'\")>0):\n",
    "                    apostrofees+=token.count(\"'\")\n",
    "            elif(token==\"[UNK]\"):\n",
    "                unk+=1\n",
    "        sentence_count.append(dot)\n",
    "        punctuation_count.append(punctuation)\n",
    "        apostrofees_count.append(apostrofees)\n",
    "        unk_count.append(unk)\n",
    "    df = pd.DataFrame(\n",
    "        columns=[\"token_num\",\"sent_num\",\"punct_sym\",\"apostrof_sym\",\"unk_num\"]\n",
    "    )\n",
    "    df[\"token_num\"]=token_count\n",
    "    df[\"sent_num\"]=sentence_count\n",
    "    df[\"punct_sym\"]=punctuation_count\n",
    "    df[\"apostrof_sym\"]=apostrofees_count\n",
    "    df[\"unk_num\"]=unk_count\n",
    "    return df\n",
    "\n",
    "train_features = features(pre_processed_data)\n",
    "test_features = features(pre_processed_test_data)"
   ]
  },
  {
   "cell_type": "code",
   "execution_count": 38,
   "id": "60feab3c",
   "metadata": {
    "execution": {
     "iopub.execute_input": "2024-01-06T22:28:29.718077Z",
     "iopub.status.busy": "2024-01-06T22:28:29.717509Z",
     "iopub.status.idle": "2024-01-06T22:28:29.725513Z",
     "shell.execute_reply": "2024-01-06T22:28:29.724702Z"
    },
    "papermill": {
     "duration": 0.026962,
     "end_time": "2024-01-06T22:28:29.727352",
     "exception": false,
     "start_time": "2024-01-06T22:28:29.700390",
     "status": "completed"
    },
    "tags": []
   },
   "outputs": [
    {
     "data": {
      "text/html": [
       "<div>\n",
       "<style scoped>\n",
       "    .dataframe tbody tr th:only-of-type {\n",
       "        vertical-align: middle;\n",
       "    }\n",
       "\n",
       "    .dataframe tbody tr th {\n",
       "        vertical-align: top;\n",
       "    }\n",
       "\n",
       "    .dataframe thead th {\n",
       "        text-align: right;\n",
       "    }\n",
       "</style>\n",
       "<table border=\"1\" class=\"dataframe\">\n",
       "  <thead>\n",
       "    <tr style=\"text-align: right;\">\n",
       "      <th></th>\n",
       "      <th>token_num</th>\n",
       "      <th>sent_num</th>\n",
       "      <th>punct_sym</th>\n",
       "      <th>apostrof_sym</th>\n",
       "      <th>unk_num</th>\n",
       "    </tr>\n",
       "  </thead>\n",
       "  <tbody>\n",
       "    <tr>\n",
       "      <th>0</th>\n",
       "      <td>2</td>\n",
       "      <td>1</td>\n",
       "      <td>1</td>\n",
       "      <td>0</td>\n",
       "      <td>0</td>\n",
       "    </tr>\n",
       "    <tr>\n",
       "      <th>1</th>\n",
       "      <td>2</td>\n",
       "      <td>1</td>\n",
       "      <td>1</td>\n",
       "      <td>0</td>\n",
       "      <td>0</td>\n",
       "    </tr>\n",
       "    <tr>\n",
       "      <th>2</th>\n",
       "      <td>2</td>\n",
       "      <td>1</td>\n",
       "      <td>1</td>\n",
       "      <td>0</td>\n",
       "      <td>0</td>\n",
       "    </tr>\n",
       "  </tbody>\n",
       "</table>\n",
       "</div>"
      ],
      "text/plain": [
       "   token_num  sent_num  punct_sym  apostrof_sym  unk_num\n",
       "0          2         1          1             0        0\n",
       "1          2         1          1             0        0\n",
       "2          2         1          1             0        0"
      ]
     },
     "execution_count": 38,
     "metadata": {},
     "output_type": "execute_result"
    }
   ],
   "source": [
    "test_features"
   ]
  },
  {
   "cell_type": "code",
   "execution_count": 39,
   "id": "73a00e62",
   "metadata": {
    "execution": {
     "iopub.execute_input": "2024-01-06T22:28:29.760630Z",
     "iopub.status.busy": "2024-01-06T22:28:29.760331Z",
     "iopub.status.idle": "2024-01-06T22:28:29.773660Z",
     "shell.execute_reply": "2024-01-06T22:28:29.772862Z"
    },
    "papermill": {
     "duration": 0.031645,
     "end_time": "2024-01-06T22:28:29.775164",
     "exception": false,
     "start_time": "2024-01-06T22:28:29.743519",
     "status": "completed"
    },
    "tags": []
   },
   "outputs": [
    {
     "data": {
      "text/html": [
       "<div>\n",
       "<style scoped>\n",
       "    .dataframe tbody tr th:only-of-type {\n",
       "        vertical-align: middle;\n",
       "    }\n",
       "\n",
       "    .dataframe tbody tr th {\n",
       "        vertical-align: top;\n",
       "    }\n",
       "\n",
       "    .dataframe thead th {\n",
       "        text-align: right;\n",
       "    }\n",
       "</style>\n",
       "<table border=\"1\" class=\"dataframe\">\n",
       "  <thead>\n",
       "    <tr style=\"text-align: right;\">\n",
       "      <th></th>\n",
       "      <th>token_num</th>\n",
       "      <th>sent_num</th>\n",
       "      <th>punct_sym</th>\n",
       "      <th>apostrof_sym</th>\n",
       "      <th>unk_num</th>\n",
       "    </tr>\n",
       "  </thead>\n",
       "  <tbody>\n",
       "    <tr>\n",
       "      <th>0</th>\n",
       "      <td>0.57735</td>\n",
       "      <td>0.57735</td>\n",
       "      <td>0.57735</td>\n",
       "      <td>0</td>\n",
       "      <td>0</td>\n",
       "    </tr>\n",
       "    <tr>\n",
       "      <th>1</th>\n",
       "      <td>0.57735</td>\n",
       "      <td>0.57735</td>\n",
       "      <td>0.57735</td>\n",
       "      <td>0</td>\n",
       "      <td>0</td>\n",
       "    </tr>\n",
       "    <tr>\n",
       "      <th>2</th>\n",
       "      <td>0.57735</td>\n",
       "      <td>0.57735</td>\n",
       "      <td>0.57735</td>\n",
       "      <td>0</td>\n",
       "      <td>0</td>\n",
       "    </tr>\n",
       "  </tbody>\n",
       "</table>\n",
       "</div>"
      ],
      "text/plain": [
       "   token_num  sent_num  punct_sym  apostrof_sym  unk_num\n",
       "0    0.57735   0.57735    0.57735             0        0\n",
       "1    0.57735   0.57735    0.57735             0        0\n",
       "2    0.57735   0.57735    0.57735             0        0"
      ]
     },
     "execution_count": 39,
     "metadata": {},
     "output_type": "execute_result"
    }
   ],
   "source": [
    "\n",
    "for col in test_features.columns:\n",
    "    if(test_features[col].max()>0):\n",
    "        test_features[col] = test_features[col] / np.linalg.norm(test_features[col])\n",
    "\n",
    "for col in train_features.columns:\n",
    "    if(train_features[col].max()>0):\n",
    "        train_features[col] = train_features[col]/np.linalg.norm(train_features[col])\n",
    "\n",
    "test_features"
   ]
  },
  {
   "cell_type": "code",
   "execution_count": 40,
   "id": "18e4a422",
   "metadata": {
    "execution": {
     "iopub.execute_input": "2024-01-06T22:28:29.809345Z",
     "iopub.status.busy": "2024-01-06T22:28:29.809001Z",
     "iopub.status.idle": "2024-01-06T22:28:29.816602Z",
     "shell.execute_reply": "2024-01-06T22:28:29.815746Z"
    },
    "papermill": {
     "duration": 0.026453,
     "end_time": "2024-01-06T22:28:29.818160",
     "exception": false,
     "start_time": "2024-01-06T22:28:29.791707",
     "status": "completed"
    },
    "tags": []
   },
   "outputs": [],
   "source": [
    "pre_processed_data=pd.concat([pre_processed_data,train_features],axis=1).drop(\"text\",axis=1)\n",
    "pre_processed_test_data=pd.concat([pre_processed_test_data,test_features],axis=1).drop(\"text\",axis=1)"
   ]
  },
  {
   "cell_type": "code",
   "execution_count": 41,
   "id": "2f44ac26",
   "metadata": {
    "execution": {
     "iopub.execute_input": "2024-01-06T22:28:29.852476Z",
     "iopub.status.busy": "2024-01-06T22:28:29.852149Z",
     "iopub.status.idle": "2024-01-06T22:28:30.052621Z",
     "shell.execute_reply": "2024-01-06T22:28:30.051671Z"
    },
    "id": "KKJrJzEWdYKl",
    "outputId": "50ad4a58-1b24-408d-db60-c5bad8697938",
    "papermill": {
     "duration": 0.220172,
     "end_time": "2024-01-06T22:28:30.054881",
     "exception": false,
     "start_time": "2024-01-06T22:28:29.834709",
     "status": "completed"
    },
    "tags": []
   },
   "outputs": [
    {
     "data": {
      "text/html": [
       "<div>\n",
       "<style scoped>\n",
       "    .dataframe tbody tr th:only-of-type {\n",
       "        vertical-align: middle;\n",
       "    }\n",
       "\n",
       "    .dataframe tbody tr th {\n",
       "        vertical-align: top;\n",
       "    }\n",
       "\n",
       "    .dataframe thead th {\n",
       "        text-align: right;\n",
       "    }\n",
       "</style>\n",
       "<table border=\"1\" class=\"dataframe\">\n",
       "  <thead>\n",
       "    <tr style=\"text-align: right;\">\n",
       "      <th></th>\n",
       "      <th>prompt_id</th>\n",
       "      <th>generated</th>\n",
       "      <th>0</th>\n",
       "      <th>1</th>\n",
       "      <th>2</th>\n",
       "      <th>3</th>\n",
       "      <th>4</th>\n",
       "      <th>5</th>\n",
       "      <th>6</th>\n",
       "      <th>7</th>\n",
       "      <th>...</th>\n",
       "      <th>96</th>\n",
       "      <th>97</th>\n",
       "      <th>98</th>\n",
       "      <th>99</th>\n",
       "      <th>normalized_norm</th>\n",
       "      <th>token_num</th>\n",
       "      <th>sent_num</th>\n",
       "      <th>punct_sym</th>\n",
       "      <th>apostrof_sym</th>\n",
       "      <th>unk_num</th>\n",
       "    </tr>\n",
       "  </thead>\n",
       "  <tbody>\n",
       "    <tr>\n",
       "      <th>count</th>\n",
       "      <td>1400.000000</td>\n",
       "      <td>1400.000000</td>\n",
       "      <td>1400.000000</td>\n",
       "      <td>1400.000000</td>\n",
       "      <td>1400.000000</td>\n",
       "      <td>1400.000000</td>\n",
       "      <td>1400.000000</td>\n",
       "      <td>1400.000000</td>\n",
       "      <td>1400.000000</td>\n",
       "      <td>1400.000000</td>\n",
       "      <td>...</td>\n",
       "      <td>1400.000000</td>\n",
       "      <td>1400.000000</td>\n",
       "      <td>1400.000000</td>\n",
       "      <td>1400.000000</td>\n",
       "      <td>1400.000000</td>\n",
       "      <td>1.400000e+03</td>\n",
       "      <td>1400.000000</td>\n",
       "      <td>1400.000000</td>\n",
       "      <td>1400.000000</td>\n",
       "      <td>1400.0</td>\n",
       "    </tr>\n",
       "    <tr>\n",
       "      <th>mean</th>\n",
       "      <td>0.483571</td>\n",
       "      <td>0.017857</td>\n",
       "      <td>0.028775</td>\n",
       "      <td>-0.009813</td>\n",
       "      <td>-0.025452</td>\n",
       "      <td>-0.018069</td>\n",
       "      <td>0.027853</td>\n",
       "      <td>-0.047885</td>\n",
       "      <td>0.072174</td>\n",
       "      <td>0.026109</td>\n",
       "      <td>...</td>\n",
       "      <td>-0.027052</td>\n",
       "      <td>-0.053216</td>\n",
       "      <td>0.066842</td>\n",
       "      <td>-0.015047</td>\n",
       "      <td>0.192114</td>\n",
       "      <td>2.672612e-02</td>\n",
       "      <td>0.025417</td>\n",
       "      <td>0.024999</td>\n",
       "      <td>0.019737</td>\n",
       "      <td>0.0</td>\n",
       "    </tr>\n",
       "    <tr>\n",
       "      <th>std</th>\n",
       "      <td>0.499909</td>\n",
       "      <td>0.132479</td>\n",
       "      <td>0.053500</td>\n",
       "      <td>0.061934</td>\n",
       "      <td>0.060561</td>\n",
       "      <td>0.053044</td>\n",
       "      <td>0.054799</td>\n",
       "      <td>0.052699</td>\n",
       "      <td>0.056012</td>\n",
       "      <td>0.053703</td>\n",
       "      <td>...</td>\n",
       "      <td>0.065380</td>\n",
       "      <td>0.056674</td>\n",
       "      <td>0.068380</td>\n",
       "      <td>0.058771</td>\n",
       "      <td>0.085632</td>\n",
       "      <td>6.941373e-18</td>\n",
       "      <td>0.008265</td>\n",
       "      <td>0.009455</td>\n",
       "      <td>0.018026</td>\n",
       "      <td>0.0</td>\n",
       "    </tr>\n",
       "    <tr>\n",
       "      <th>min</th>\n",
       "      <td>0.000000</td>\n",
       "      <td>0.000000</td>\n",
       "      <td>-0.147582</td>\n",
       "      <td>-0.205151</td>\n",
       "      <td>-0.204173</td>\n",
       "      <td>-0.199451</td>\n",
       "      <td>-0.158621</td>\n",
       "      <td>-0.236033</td>\n",
       "      <td>-0.114914</td>\n",
       "      <td>-0.158179</td>\n",
       "      <td>...</td>\n",
       "      <td>-0.207350</td>\n",
       "      <td>-0.231783</td>\n",
       "      <td>-0.137071</td>\n",
       "      <td>-0.199860</td>\n",
       "      <td>0.000000</td>\n",
       "      <td>2.672612e-02</td>\n",
       "      <td>0.005848</td>\n",
       "      <td>0.006373</td>\n",
       "      <td>0.000000</td>\n",
       "      <td>0.0</td>\n",
       "    </tr>\n",
       "    <tr>\n",
       "      <th>25%</th>\n",
       "      <td>0.000000</td>\n",
       "      <td>0.000000</td>\n",
       "      <td>-0.009884</td>\n",
       "      <td>-0.051376</td>\n",
       "      <td>-0.067273</td>\n",
       "      <td>-0.053293</td>\n",
       "      <td>-0.009255</td>\n",
       "      <td>-0.084477</td>\n",
       "      <td>0.033092</td>\n",
       "      <td>-0.010704</td>\n",
       "      <td>...</td>\n",
       "      <td>-0.071849</td>\n",
       "      <td>-0.092794</td>\n",
       "      <td>0.019743</td>\n",
       "      <td>-0.053792</td>\n",
       "      <td>0.139251</td>\n",
       "      <td>2.672612e-02</td>\n",
       "      <td>0.020467</td>\n",
       "      <td>0.018139</td>\n",
       "      <td>0.007744</td>\n",
       "      <td>0.0</td>\n",
       "    </tr>\n",
       "    <tr>\n",
       "      <th>50%</th>\n",
       "      <td>0.000000</td>\n",
       "      <td>0.000000</td>\n",
       "      <td>0.027701</td>\n",
       "      <td>-0.008731</td>\n",
       "      <td>-0.026448</td>\n",
       "      <td>-0.017767</td>\n",
       "      <td>0.028408</td>\n",
       "      <td>-0.046908</td>\n",
       "      <td>0.070095</td>\n",
       "      <td>0.029697</td>\n",
       "      <td>...</td>\n",
       "      <td>-0.028239</td>\n",
       "      <td>-0.052647</td>\n",
       "      <td>0.062971</td>\n",
       "      <td>-0.015022</td>\n",
       "      <td>0.179068</td>\n",
       "      <td>2.672612e-02</td>\n",
       "      <td>0.024365</td>\n",
       "      <td>0.023531</td>\n",
       "      <td>0.015489</td>\n",
       "      <td>0.0</td>\n",
       "    </tr>\n",
       "    <tr>\n",
       "      <th>75%</th>\n",
       "      <td>1.000000</td>\n",
       "      <td>0.000000</td>\n",
       "      <td>0.066362</td>\n",
       "      <td>0.033928</td>\n",
       "      <td>0.015368</td>\n",
       "      <td>0.017765</td>\n",
       "      <td>0.065069</td>\n",
       "      <td>-0.011483</td>\n",
       "      <td>0.112269</td>\n",
       "      <td>0.061601</td>\n",
       "      <td>...</td>\n",
       "      <td>0.017251</td>\n",
       "      <td>-0.015022</td>\n",
       "      <td>0.113496</td>\n",
       "      <td>0.025214</td>\n",
       "      <td>0.224062</td>\n",
       "      <td>2.672612e-02</td>\n",
       "      <td>0.029238</td>\n",
       "      <td>0.029905</td>\n",
       "      <td>0.027106</td>\n",
       "      <td>0.0</td>\n",
       "    </tr>\n",
       "    <tr>\n",
       "      <th>max</th>\n",
       "      <td>1.000000</td>\n",
       "      <td>1.000000</td>\n",
       "      <td>0.186237</td>\n",
       "      <td>0.237671</td>\n",
       "      <td>0.143351</td>\n",
       "      <td>0.173405</td>\n",
       "      <td>0.242885</td>\n",
       "      <td>0.133941</td>\n",
       "      <td>0.265246</td>\n",
       "      <td>0.192194</td>\n",
       "      <td>...</td>\n",
       "      <td>0.184451</td>\n",
       "      <td>0.149176</td>\n",
       "      <td>0.270054</td>\n",
       "      <td>0.207471</td>\n",
       "      <td>1.000000</td>\n",
       "      <td>2.672612e-02</td>\n",
       "      <td>0.069197</td>\n",
       "      <td>0.081870</td>\n",
       "      <td>0.189740</td>\n",
       "      <td>0.0</td>\n",
       "    </tr>\n",
       "  </tbody>\n",
       "</table>\n",
       "<p>8 rows × 108 columns</p>\n",
       "</div>"
      ],
      "text/plain": [
       "         prompt_id    generated            0            1            2  \\\n",
       "count  1400.000000  1400.000000  1400.000000  1400.000000  1400.000000   \n",
       "mean      0.483571     0.017857     0.028775    -0.009813    -0.025452   \n",
       "std       0.499909     0.132479     0.053500     0.061934     0.060561   \n",
       "min       0.000000     0.000000    -0.147582    -0.205151    -0.204173   \n",
       "25%       0.000000     0.000000    -0.009884    -0.051376    -0.067273   \n",
       "50%       0.000000     0.000000     0.027701    -0.008731    -0.026448   \n",
       "75%       1.000000     0.000000     0.066362     0.033928     0.015368   \n",
       "max       1.000000     1.000000     0.186237     0.237671     0.143351   \n",
       "\n",
       "                 3            4            5            6            7  ...  \\\n",
       "count  1400.000000  1400.000000  1400.000000  1400.000000  1400.000000  ...   \n",
       "mean     -0.018069     0.027853    -0.047885     0.072174     0.026109  ...   \n",
       "std       0.053044     0.054799     0.052699     0.056012     0.053703  ...   \n",
       "min      -0.199451    -0.158621    -0.236033    -0.114914    -0.158179  ...   \n",
       "25%      -0.053293    -0.009255    -0.084477     0.033092    -0.010704  ...   \n",
       "50%      -0.017767     0.028408    -0.046908     0.070095     0.029697  ...   \n",
       "75%       0.017765     0.065069    -0.011483     0.112269     0.061601  ...   \n",
       "max       0.173405     0.242885     0.133941     0.265246     0.192194  ...   \n",
       "\n",
       "                96           97           98           99  normalized_norm  \\\n",
       "count  1400.000000  1400.000000  1400.000000  1400.000000      1400.000000   \n",
       "mean     -0.027052    -0.053216     0.066842    -0.015047         0.192114   \n",
       "std       0.065380     0.056674     0.068380     0.058771         0.085632   \n",
       "min      -0.207350    -0.231783    -0.137071    -0.199860         0.000000   \n",
       "25%      -0.071849    -0.092794     0.019743    -0.053792         0.139251   \n",
       "50%      -0.028239    -0.052647     0.062971    -0.015022         0.179068   \n",
       "75%       0.017251    -0.015022     0.113496     0.025214         0.224062   \n",
       "max       0.184451     0.149176     0.270054     0.207471         1.000000   \n",
       "\n",
       "          token_num     sent_num    punct_sym  apostrof_sym  unk_num  \n",
       "count  1.400000e+03  1400.000000  1400.000000   1400.000000   1400.0  \n",
       "mean   2.672612e-02     0.025417     0.024999      0.019737      0.0  \n",
       "std    6.941373e-18     0.008265     0.009455      0.018026      0.0  \n",
       "min    2.672612e-02     0.005848     0.006373      0.000000      0.0  \n",
       "25%    2.672612e-02     0.020467     0.018139      0.007744      0.0  \n",
       "50%    2.672612e-02     0.024365     0.023531      0.015489      0.0  \n",
       "75%    2.672612e-02     0.029238     0.029905      0.027106      0.0  \n",
       "max    2.672612e-02     0.069197     0.081870      0.189740      0.0  \n",
       "\n",
       "[8 rows x 108 columns]"
      ]
     },
     "execution_count": 41,
     "metadata": {},
     "output_type": "execute_result"
    }
   ],
   "source": [
    "pre_processed_data.describe()"
   ]
  },
  {
   "cell_type": "markdown",
   "id": "dc337763",
   "metadata": {
    "id": "pboIBijydYKl",
    "papermill": {
     "duration": 0.017144,
     "end_time": "2024-01-06T22:28:30.092397",
     "exception": false,
     "start_time": "2024-01-06T22:28:30.075253",
     "status": "completed"
    },
    "tags": []
   },
   "source": [
    "## Model Training"
   ]
  },
  {
   "cell_type": "code",
   "execution_count": 42,
   "id": "e0e90e3e",
   "metadata": {
    "execution": {
     "iopub.execute_input": "2024-01-06T22:28:30.129157Z",
     "iopub.status.busy": "2024-01-06T22:28:30.128798Z",
     "iopub.status.idle": "2024-01-06T22:28:30.135793Z",
     "shell.execute_reply": "2024-01-06T22:28:30.134850Z"
    },
    "id": "sieb_gK4dYKl",
    "papermill": {
     "duration": 0.027264,
     "end_time": "2024-01-06T22:28:30.137545",
     "exception": false,
     "start_time": "2024-01-06T22:28:30.110281",
     "status": "completed"
    },
    "tags": []
   },
   "outputs": [],
   "source": [
    "def downsampling(X_train,y_train,rand_state,ratio):\n",
    "    # Concatenate X_train and y_train for ease of downsampling\n",
    "    train_data = pd.concat([X_train, y_train], axis=1)\n",
    "\n",
    "    # Identify the class with the majority of instances\n",
    "    majority_class = train_data[y_train.name].value_counts().idxmax()\n",
    "\n",
    "    # Separate instances of each class\n",
    "    majority_class_data = train_data[train_data[y_train.name] == majority_class]\n",
    "    minority_class_data = train_data[train_data[y_train.name] != majority_class]\n",
    "\n",
    "\n",
    "    currRatio = len(majority_class_data) / len(minority_class_data)\n",
    "    if(currRatio<=ratio):\n",
    "        raise ValueError(f\"El ratio de entrada debe ser menor al ratio actual.r={currRatio}\")\n",
    "\n",
    "\n",
    "    # Downsample the majority class to match the number of instances in the minority class\n",
    "    downsampled_majority_class_data = resample(\n",
    "        majority_class_data,\n",
    "        replace=False,\n",
    "        n_samples=math.floor(ratio*len(minority_class_data)),\n",
    "        random_state=rand_state\n",
    "    )\n",
    "\n",
    "    # Combine the downsampled majority class with the minority class\n",
    "    downsampled_train_data = pd.concat([downsampled_majority_class_data, minority_class_data])\n",
    "\n",
    "    # Shuffle the data to avoid any order-based patterns\n",
    "    downsampled_train_data = downsampled_train_data.sample(frac=1, random_state=rand_state)\n",
    "\n",
    "    # Separate X_train and y_train after downsampling\n",
    "    X_train_downsampled = downsampled_train_data.drop(columns=[y_train.name])\n",
    "    y_train_downsampled = downsampled_train_data[y_train.name]\n",
    "\n",
    "    return X_train_downsampled, y_train_downsampled"
   ]
  },
  {
   "cell_type": "markdown",
   "id": "d5174810",
   "metadata": {
    "papermill": {
     "duration": 0.017499,
     "end_time": "2024-01-06T22:28:30.175276",
     "exception": false,
     "start_time": "2024-01-06T22:28:30.157777",
     "status": "completed"
    },
    "tags": []
   },
   "source": [
    "#### Arquitecture"
   ]
  },
  {
   "cell_type": "code",
   "execution_count": 43,
   "id": "f1ddfa27",
   "metadata": {
    "execution": {
     "iopub.execute_input": "2024-01-06T22:28:30.213797Z",
     "iopub.status.busy": "2024-01-06T22:28:30.213201Z",
     "iopub.status.idle": "2024-01-06T22:28:30.362570Z",
     "shell.execute_reply": "2024-01-06T22:28:30.361737Z"
    },
    "papermill": {
     "duration": 0.172527,
     "end_time": "2024-01-06T22:28:30.364754",
     "exception": false,
     "start_time": "2024-01-06T22:28:30.192227",
     "status": "completed"
    },
    "tags": []
   },
   "outputs": [],
   "source": [
    "input = keras.Input(shape=(pre_processed_data.shape[1]-2,))\n",
    "x = keras.layers.Dense(pre_processed_data.shape[1]-2,activation=\"relu\")(input)\n",
    "x = keras.layers.Dense(100,activation=\"relu\")(input)\n",
    "output = keras.layers.Dense(1,activation=\"sigmoid\")(x)\n",
    "\n",
    "NNmodel = keras.Model(input,output)\n",
    "\n",
    "NNmodel.compile(optimizer='adam',\n",
    "               loss=keras.losses.BinaryCrossentropy(),\n",
    "               metrics=[keras.metrics.AUC()])"
   ]
  },
  {
   "cell_type": "markdown",
   "id": "5823ffb6",
   "metadata": {
    "papermill": {
     "duration": 0.016078,
     "end_time": "2024-01-06T22:28:30.399881",
     "exception": false,
     "start_time": "2024-01-06T22:28:30.383803",
     "status": "completed"
    },
    "tags": []
   },
   "source": [
    "#### Training"
   ]
  },
  {
   "cell_type": "code",
   "execution_count": 44,
   "id": "57491160",
   "metadata": {
    "execution": {
     "iopub.execute_input": "2024-01-06T22:28:30.435201Z",
     "iopub.status.busy": "2024-01-06T22:28:30.434875Z",
     "iopub.status.idle": "2024-01-06T22:28:35.078552Z",
     "shell.execute_reply": "2024-01-06T22:28:35.077697Z"
    },
    "id": "eE-YSa9jdYKm",
    "outputId": "1017a0f1-e1de-49da-ed83-603324aa1644",
    "papermill": {
     "duration": 4.664407,
     "end_time": "2024-01-06T22:28:35.080858",
     "exception": false,
     "start_time": "2024-01-06T22:28:30.416451",
     "status": "completed"
    },
    "tags": []
   },
   "outputs": [
    {
     "name": "stdout",
     "output_type": "stream",
     "text": [
      "DOWNSAMPLED:(1150:23)\n",
      "Epoch 1/3\n",
      "37/37 [==============================] - 1s 8ms/step - loss: 0.5133 - auc: 0.4277 - val_loss: 0.2985 - val_auc: 0.6214\n",
      "Epoch 2/3\n",
      "37/37 [==============================] - 0s 2ms/step - loss: 0.1905 - auc: 0.6931 - val_loss: 0.1096 - val_auc: 0.6395\n",
      "Epoch 3/3\n",
      "37/37 [==============================] - 0s 2ms/step - loss: 0.0976 - auc: 0.8682 - val_loss: 0.0777 - val_auc: 0.6902\n",
      "DOWNSAMPLED:(1150:23)\n",
      "Epoch 1/3\n",
      "37/37 [==============================] - 0s 3ms/step - loss: 0.0790 - auc: 0.9522 - val_loss: 0.0729 - val_auc: 0.6612\n",
      "Epoch 2/3\n",
      "37/37 [==============================] - 0s 2ms/step - loss: 0.0697 - auc: 0.9605 - val_loss: 0.0684 - val_auc: 0.7627\n",
      "Epoch 3/3\n",
      "37/37 [==============================] - 0s 2ms/step - loss: 0.0611 - auc: 0.9722 - val_loss: 0.0651 - val_auc: 0.7192\n",
      "DOWNSAMPLED:(1150:23)\n",
      "Epoch 1/3\n",
      "37/37 [==============================] - 0s 3ms/step - loss: 0.0571 - auc: 0.9619 - val_loss: 0.0333 - val_auc: 1.0000\n",
      "Epoch 2/3\n",
      "37/37 [==============================] - 0s 2ms/step - loss: 0.0501 - auc: 0.9629 - val_loss: 0.0282 - val_auc: 1.0000\n",
      "Epoch 3/3\n",
      "37/37 [==============================] - 0s 2ms/step - loss: 0.0444 - auc: 0.9695 - val_loss: 0.0246 - val_auc: 1.0000\n",
      "DOWNSAMPLED:(1150:23)\n",
      "Epoch 1/3\n",
      "37/37 [==============================] - 0s 3ms/step - loss: 0.0385 - auc: 0.9714 - val_loss: 0.0352 - val_auc: 0.9819\n",
      "Epoch 2/3\n",
      "37/37 [==============================] - 0s 2ms/step - loss: 0.0346 - auc: 0.9777 - val_loss: 0.0332 - val_auc: 0.9837\n",
      "Epoch 3/3\n",
      "37/37 [==============================] - 0s 2ms/step - loss: 0.0315 - auc: 0.9805 - val_loss: 0.0311 - val_auc: 0.9891\n",
      "DOWNSAMPLED:(1150:23)\n",
      "Epoch 1/3\n",
      "37/37 [==============================] - 0s 3ms/step - loss: 0.0305 - auc: 0.9821 - val_loss: 0.0169 - val_auc: 1.0000\n",
      "Epoch 2/3\n",
      "37/37 [==============================] - 0s 2ms/step - loss: 0.0282 - auc: 0.9827 - val_loss: 0.0161 - val_auc: 1.0000\n",
      "Epoch 3/3\n",
      "37/37 [==============================] - 0s 2ms/step - loss: 0.0265 - auc: 0.9845 - val_loss: 0.0148 - val_auc: 1.0000\n",
      "DOWNSAMPLED:(1100:22)\n",
      "Epoch 1/3\n",
      "36/36 [==============================] - 0s 3ms/step - loss: 0.0225 - auc: 0.9907 - val_loss: 0.0398 - val_auc: 0.9732\n",
      "Epoch 2/3\n",
      "36/36 [==============================] - 0s 2ms/step - loss: 0.0208 - auc: 0.9935 - val_loss: 0.0390 - val_auc: 0.9720\n",
      "Epoch 3/3\n",
      "36/36 [==============================] - 0s 2ms/step - loss: 0.0196 - auc: 0.9952 - val_loss: 0.0393 - val_auc: 0.9684\n",
      "DOWNSAMPLED:(1100:22)\n",
      "Epoch 1/3\n",
      "36/36 [==============================] - 0s 3ms/step - loss: 0.0222 - auc: 0.9914 - val_loss: 0.0086 - val_auc: 1.0000\n",
      "Epoch 2/3\n",
      "36/36 [==============================] - 0s 2ms/step - loss: 0.0210 - auc: 0.9922 - val_loss: 0.0080 - val_auc: 1.0000\n",
      "Epoch 3/3\n",
      "36/36 [==============================] - 0s 2ms/step - loss: 0.0201 - auc: 0.9939 - val_loss: 0.0078 - val_auc: 1.0000\n",
      "DOWNSAMPLED:(1100:22)\n",
      "Epoch 1/3\n",
      "36/36 [==============================] - 0s 3ms/step - loss: 0.0193 - auc: 0.9949 - val_loss: 0.0072 - val_auc: 1.0000\n",
      "Epoch 2/3\n",
      "36/36 [==============================] - 0s 2ms/step - loss: 0.0183 - auc: 0.9963 - val_loss: 0.0079 - val_auc: 1.0000\n",
      "Epoch 3/3\n",
      "36/36 [==============================] - 0s 2ms/step - loss: 0.0173 - auc: 0.9967 - val_loss: 0.0067 - val_auc: 1.0000\n",
      "DOWNSAMPLED:(1100:22)\n",
      "Epoch 1/3\n",
      "36/36 [==============================] - 0s 3ms/step - loss: 0.0155 - auc: 0.9977 - val_loss: 0.0100 - val_auc: 1.0000\n",
      "Epoch 2/3\n",
      "36/36 [==============================] - 0s 2ms/step - loss: 0.0148 - auc: 0.9984 - val_loss: 0.0096 - val_auc: 1.0000\n",
      "Epoch 3/3\n",
      "36/36 [==============================] - 0s 2ms/step - loss: 0.0140 - auc: 0.9988 - val_loss: 0.0094 - val_auc: 1.0000\n",
      "DOWNSAMPLED:(1100:22)\n",
      "Epoch 1/3\n",
      "36/36 [==============================] - 0s 3ms/step - loss: 0.0132 - auc: 0.9991 - val_loss: 0.0083 - val_auc: 1.0000\n",
      "Epoch 2/3\n",
      "36/36 [==============================] - 0s 2ms/step - loss: 0.0124 - auc: 0.9993 - val_loss: 0.0082 - val_auc: 1.0000\n",
      "Epoch 3/3\n",
      "36/36 [==============================] - 0s 2ms/step - loss: 0.0117 - auc: 0.9995 - val_loss: 0.0080 - val_auc: 1.0000\n",
      "44/44 [==============================] - 0s 897us/step\n"
     ]
    },
    {
     "data": {
      "image/png": "[encoded data removed]",
      "text/plain": [
       "<Figure size 640x480 with 1 Axes>"
      ]
     },
     "metadata": {},
     "output_type": "display_data"
    }
   ],
   "source": [
    "import random\n",
    "rand_state= random.randint(0,1000)\n",
    "#NN training with 10-fold cross-validation stratified with random under-sampling technic for imbalanced data\n",
    "X = pre_processed_data.drop([\"id\",\"generated\"],axis=1)\n",
    "Y = pre_processed_data[\"generated\"]\n",
    "folds = StratifiedKFold(10,shuffle=True,random_state=rand_state)\n",
    "for fold, (train_index, val_index) in enumerate(folds.split(X,Y)):\n",
    "    X_train, X_val = X.iloc[train_index], X.iloc[val_index]\n",
    "    y_train, y_val = Y.iloc[train_index], Y.iloc[val_index]\n",
    "\n",
    "    X_train_dwns, y_train_dwns = downsampling(X_train,y_train,rand_state,ratio=50)\n",
    "\n",
    "    #print(f\"Fold {fold + 1}: Train {len(train_index)} samples, Validation {len(val_index)} samples\")\n",
    "    #print(f\"TRAIN:({y_train[y_train==0].size}:{y_train[y_train==1].size})\")\n",
    "    print(f\"DOWNSAMPLED:({y_train_dwns[y_train_dwns==0].size}:{y_train_dwns[y_train_dwns==1].size})\")\n",
    "    #print(f\"VAL:({y_val[y_val==0].size}:{y_val[y_val==1].size})\")\n",
    "\n",
    "    NNmodel.fit(X_train_dwns,\n",
    "                y_train_dwns,\n",
    "                validation_data=(X_val,y_val),\n",
    "                epochs=3)\n",
    "ROCplot(NNmodel,X,Y)"
   ]
  },
  {
   "cell_type": "code",
   "execution_count": 45,
   "id": "0df2a387",
   "metadata": {
    "execution": {
     "iopub.execute_input": "2024-01-06T22:28:35.129127Z",
     "iopub.status.busy": "2024-01-06T22:28:35.128804Z",
     "iopub.status.idle": "2024-01-06T22:28:35.242783Z",
     "shell.execute_reply": "2024-01-06T22:28:35.241934Z"
    },
    "id": "Ub2SWyaC9uL2",
    "outputId": "d63e26ff-e443-4621-9757-f9444e0fdfa6",
    "papermill": {
     "duration": 0.14003,
     "end_time": "2024-01-06T22:28:35.244690",
     "exception": false,
     "start_time": "2024-01-06T22:28:35.104660",
     "status": "completed"
    },
    "tags": []
   },
   "outputs": [
    {
     "name": "stdout",
     "output_type": "stream",
     "text": [
      "44/44 [==============================] - 0s 840us/step\n"
     ]
    },
    {
     "data": {
      "text/plain": [
       "array([[1375,    4],\n",
       "       [   0,   21]])"
      ]
     },
     "execution_count": 45,
     "metadata": {},
     "output_type": "execute_result"
    }
   ],
   "source": [
    "pred = list(map(lambda pred : 1 if pred > 0.5 else 0,NNmodel.predict(x=X)))\n",
    "confusion_matrix(pred,Y)"
   ]
  },
  {
   "cell_type": "code",
   "execution_count": 46,
   "id": "e3465555",
   "metadata": {
    "execution": {
     "iopub.execute_input": "2024-01-06T22:28:35.292065Z",
     "iopub.status.busy": "2024-01-06T22:28:35.291724Z",
     "iopub.status.idle": "2024-01-06T22:28:35.355739Z",
     "shell.execute_reply": "2024-01-06T22:28:35.354902Z"
    },
    "id": "o5dVLLxVyjOg",
    "outputId": "4d54fa2d-90ac-45bf-fddb-16e7cebe5806",
    "papermill": {
     "duration": 0.090047,
     "end_time": "2024-01-06T22:28:35.357834",
     "exception": false,
     "start_time": "2024-01-06T22:28:35.267787",
     "status": "completed"
    },
    "tags": []
   },
   "outputs": [
    {
     "name": "stdout",
     "output_type": "stream",
     "text": [
      "1/1 [==============================] - 0s 15ms/step\n"
     ]
    },
    {
     "data": {
      "text/plain": [
       "array([[0.9356891]], dtype=float32)"
      ]
     },
     "execution_count": 46,
     "metadata": {},
     "output_type": "execute_result"
    }
   ],
   "source": [
    "NNmodel.predict(x=pd.DataFrame(X.iloc[1385]).transpose())\n"
   ]
  },
  {
   "cell_type": "markdown",
   "id": "c92cdb4b",
   "metadata": {
    "id": "RY59QZYXdYKm",
    "papermill": {
     "duration": 0.023116,
     "end_time": "2024-01-06T22:28:35.404634",
     "exception": false,
     "start_time": "2024-01-06T22:28:35.381518",
     "status": "completed"
    },
    "tags": []
   },
   "source": [
    "## Model test"
   ]
  },
  {
   "cell_type": "code",
   "execution_count": 47,
   "id": "615c8dd3",
   "metadata": {
    "execution": {
     "iopub.execute_input": "2024-01-06T22:28:35.452073Z",
     "iopub.status.busy": "2024-01-06T22:28:35.451715Z",
     "iopub.status.idle": "2024-01-06T22:28:35.520695Z",
     "shell.execute_reply": "2024-01-06T22:28:35.519874Z"
    },
    "papermill": {
     "duration": 0.094859,
     "end_time": "2024-01-06T22:28:35.522413",
     "exception": false,
     "start_time": "2024-01-06T22:28:35.427554",
     "status": "completed"
    },
    "tags": []
   },
   "outputs": [
    {
     "name": "stdout",
     "output_type": "stream",
     "text": [
      "1/1 [==============================] - 0s 15ms/step\n"
     ]
    },
    {
     "data": {
      "text/html": [
       "<div>\n",
       "<style scoped>\n",
       "    .dataframe tbody tr th:only-of-type {\n",
       "        vertical-align: middle;\n",
       "    }\n",
       "\n",
       "    .dataframe tbody tr th {\n",
       "        vertical-align: top;\n",
       "    }\n",
       "\n",
       "    .dataframe thead th {\n",
       "        text-align: right;\n",
       "    }\n",
       "</style>\n",
       "<table border=\"1\" class=\"dataframe\">\n",
       "  <thead>\n",
       "    <tr style=\"text-align: right;\">\n",
       "      <th></th>\n",
       "      <th>id</th>\n",
       "      <th>generated</th>\n",
       "    </tr>\n",
       "  </thead>\n",
       "  <tbody>\n",
       "    <tr>\n",
       "      <th>0</th>\n",
       "      <td>0000aaaa</td>\n",
       "      <td>0.0</td>\n",
       "    </tr>\n",
       "    <tr>\n",
       "      <th>1</th>\n",
       "      <td>1111bbbb</td>\n",
       "      <td>0.0</td>\n",
       "    </tr>\n",
       "    <tr>\n",
       "      <th>2</th>\n",
       "      <td>2222cccc</td>\n",
       "      <td>0.0</td>\n",
       "    </tr>\n",
       "  </tbody>\n",
       "</table>\n",
       "</div>"
      ],
      "text/plain": [
       "         id  generated\n",
       "0  0000aaaa        0.0\n",
       "1  1111bbbb        0.0\n",
       "2  2222cccc        0.0"
      ]
     },
     "execution_count": 47,
     "metadata": {},
     "output_type": "execute_result"
    }
   ],
   "source": [
    "X_test = pre_processed_test_data.drop([\"id\"],axis=1)\n",
    "submition = pd.DataFrame()\n",
    "submition[\"id\"]=pre_processed_test_data[\"id\"].to_numpy()\n",
    "submition[\"generated\"]=NNmodel.predict(x=X_test)\n",
    "submition[\"generated\"] = submition[\"generated\"].apply(lambda x : round(x,4))\n",
    "submition"
   ]
  },
  {
   "cell_type": "code",
   "execution_count": 48,
   "id": "2aee7310",
   "metadata": {
    "execution": {
     "iopub.execute_input": "2024-01-06T22:28:35.570832Z",
     "iopub.status.busy": "2024-01-06T22:28:35.570511Z",
     "iopub.status.idle": "2024-01-06T22:28:35.577432Z",
     "shell.execute_reply": "2024-01-06T22:28:35.576464Z"
    },
    "papermill": {
     "duration": 0.033097,
     "end_time": "2024-01-06T22:28:35.579321",
     "exception": false,
     "start_time": "2024-01-06T22:28:35.546224",
     "status": "completed"
    },
    "tags": []
   },
   "outputs": [],
   "source": [
    "submition.to_csv(\"/kaggle/working/submission.csv\",index=False)"
   ]
  }
 ],
 "metadata": {
  "accelerator": "GPU",
  "colab": {
   "gpuType": "T4",
   "provenance": []
  },
  "kaggle": {
   "accelerator": "none",
   "dataSources": [
    {
     "databundleVersionId": 6888007,
     "sourceId": 61542,
     "sourceType": "competition"
    },
    {
     "datasetId": 4261771,
     "isSourceIdPinned": false,
     "sourceId": 7352392,
     "sourceType": "datasetVersion"
    }
   ],
   "dockerImageVersionId": 30626,
   "isGpuEnabled": false,
   "isInternetEnabled": false,
   "language": "python",
   "sourceType": "notebook"
  },
  "kernelspec": {
   "display_name": "Python 3",
   "language": "python",
   "name": "python3"
  },
  "language_info": {
   "codemirror_mode": {
    "name": "ipython",
    "version": 3
   },
   "file_extension": ".py",
   "mimetype": "text/x-python",
   "name": "python",
   "nbconvert_exporter": "python",
   "pygments_lexer": "ipython3",
   "version": "3.10.12"
  },
  "papermill": {
   "default_parameters": {},
   "duration": 90.701502,
   "end_time": "2024-01-06T22:28:38.451476",
   "environment_variables": {},
   "exception": null,
   "input_path": "__notebook__.ipynb",
   "output_path": "__notebook__.ipynb",
   "parameters": {},
   "start_time": "2024-01-06T22:27:07.749974",
   "version": "2.4.0"
  }
 },
 "nbformat": 4,
 "nbformat_minor": 5
}
