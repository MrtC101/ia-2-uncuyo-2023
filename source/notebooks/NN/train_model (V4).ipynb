{
  "cells": [
    {
      "cell_type": "markdown",
      "metadata": {
        "id": "_aB82fSvdYKB"
      },
      "source": [
        "# LLM - Detect AI Generated Text\n",
        "## Import"
      ]
    },
    {
      "cell_type": "code",
      "execution_count": 1,
      "metadata": {
        "colab": {
          "base_uri": "https://localhost:8080/"
        },
        "id": "7itjdvI9dYKD",
        "outputId": "af42ede1-292a-43ea-8e85-bdb1a11a3d73"
      },
      "outputs": [
        {
          "name": "stderr",
          "output_type": "stream",
          "text": [
            "[nltk_data] Downloading package punkt to /home/mrtc101/nltk_data...\n",
            "[nltk_data]   Package punkt is already up-to-date!\n",
            "[nltk_data] Downloading package stopwords to\n",
            "[nltk_data]     /home/mrtc101/nltk_data...\n",
            "[nltk_data]   Package stopwords is already up-to-date!\n",
            "/home/mrtc101/Desktop/ciencias de la computacion/Cursado/4.2Inteligencia Artificial 2/Final/venv/lib/python3.11/site-packages/tqdm/auto.py:21: TqdmWarning: IProgress not found. Please update jupyter and ipywidgets. See https://ipywidgets.readthedocs.io/en/stable/user_install.html\n",
            "  from .autonotebook import tqdm as notebook_tqdm\n",
            "2024-01-08 14:02:17.867859: E external/local_xla/xla/stream_executor/cuda/cuda_dnn.cc:9261] Unable to register cuDNN factory: Attempting to register factory for plugin cuDNN when one has already been registered\n",
            "2024-01-08 14:02:17.867901: E external/local_xla/xla/stream_executor/cuda/cuda_fft.cc:607] Unable to register cuFFT factory: Attempting to register factory for plugin cuFFT when one has already been registered\n",
            "2024-01-08 14:02:17.900164: E external/local_xla/xla/stream_executor/cuda/cuda_blas.cc:1515] Unable to register cuBLAS factory: Attempting to register factory for plugin cuBLAS when one has already been registered\n",
            "2024-01-08 14:02:17.966837: I tensorflow/core/platform/cpu_feature_guard.cc:182] This TensorFlow binary is optimized to use available CPU instructions in performance-critical operations.\n",
            "To enable the following instructions: AVX2 FMA, in other operations, rebuild TensorFlow with the appropriate compiler flags.\n",
            "2024-01-08 14:02:18.968706: W tensorflow/compiler/tf2tensorrt/utils/py_utils.cc:38] TF-TRT Warning: Could not find TensorRT\n"
          ]
        }
      ],
      "source": [
        "import math\n",
        "import random\n",
        "\n",
        "import pandas as pd\n",
        "import numpy as np\n",
        "import matplotlib.pyplot as plt\n",
        "\n",
        "import nltk\n",
        "nltk.download('punkt')\n",
        "nltk.download('stopwords')\n",
        "from nltk.tokenize import word_tokenize,sent_tokenize\n",
        "from nltk.corpus import stopwords\n",
        "\n",
        "from gensim.corpora import Dictionary\n",
        "from gensim.models import word2vec\n",
        "from gensim.models import doc2vec\n",
        "\n",
        "from sklearn.model_selection import StratifiedKFold\n",
        "from sklearn.utils import resample\n",
        "from sklearn.metrics import roc_curve ,precision_recall_curve,auc,confusion_matrix,ConfusionMatrixDisplay\n",
        "\n",
        "from tokenizers import (\n",
        "    decoders,\n",
        "    models,\n",
        "    normalizers,\n",
        "    pre_tokenizers,\n",
        "    processors,\n",
        "    trainers,\n",
        "    Tokenizer,\n",
        ")\n",
        "from transformers import PreTrainedTokenizerFast\n",
        "\n",
        "import keras\n",
        "\n"
      ]
    },
    {
      "cell_type": "code",
      "execution_count": 2,
      "metadata": {
        "id": "4LBr4vwNdYKE"
      },
      "outputs": [
        {
          "ename": "FileNotFoundError",
          "evalue": "[Errno 2] No such file or directory: '../data/train_essays.csv'",
          "output_type": "error",
          "traceback": [
            "\u001b[0;31m---------------------------------------------------------------------------\u001b[0m",
            "\u001b[0;31mFileNotFoundError\u001b[0m                         Traceback (most recent call last)",
            "Cell \u001b[0;32mIn[2], line 1\u001b[0m\n\u001b[0;32m----> 1\u001b[0m initial_dataset \u001b[38;5;241m=\u001b[39m \u001b[43mpd\u001b[49m\u001b[38;5;241;43m.\u001b[39;49m\u001b[43mread_csv\u001b[49m\u001b[43m(\u001b[49m\u001b[38;5;124;43m\"\u001b[39;49m\u001b[38;5;124;43m../data/train_essays.csv\u001b[39;49m\u001b[38;5;124;43m\"\u001b[39;49m\u001b[43m)\u001b[49m\n\u001b[1;32m      2\u001b[0m prompts_dataset \u001b[38;5;241m=\u001b[39m pd\u001b[38;5;241m.\u001b[39mread_csv(\u001b[38;5;124m\"\u001b[39m\u001b[38;5;124m../data/train_prompts.csv\u001b[39m\u001b[38;5;124m\"\u001b[39m)\n\u001b[1;32m      3\u001b[0m custom_data \u001b[38;5;241m=\u001b[39m pd\u001b[38;5;241m.\u001b[39mread_csv(\u001b[38;5;124m\"\u001b[39m\u001b[38;5;124m../data/custom_essays.csv\u001b[39m\u001b[38;5;124m\"\u001b[39m)\n",
            "File \u001b[0;32m~/Desktop/ciencias de la computacion/Cursado/4.2Inteligencia Artificial 2/Final/venv/lib/python3.11/site-packages/pandas/io/parsers/readers.py:948\u001b[0m, in \u001b[0;36mread_csv\u001b[0;34m(filepath_or_buffer, sep, delimiter, header, names, index_col, usecols, dtype, engine, converters, true_values, false_values, skipinitialspace, skiprows, skipfooter, nrows, na_values, keep_default_na, na_filter, verbose, skip_blank_lines, parse_dates, infer_datetime_format, keep_date_col, date_parser, date_format, dayfirst, cache_dates, iterator, chunksize, compression, thousands, decimal, lineterminator, quotechar, quoting, doublequote, escapechar, comment, encoding, encoding_errors, dialect, on_bad_lines, delim_whitespace, low_memory, memory_map, float_precision, storage_options, dtype_backend)\u001b[0m\n\u001b[1;32m    935\u001b[0m kwds_defaults \u001b[38;5;241m=\u001b[39m _refine_defaults_read(\n\u001b[1;32m    936\u001b[0m     dialect,\n\u001b[1;32m    937\u001b[0m     delimiter,\n\u001b[0;32m   (...)\u001b[0m\n\u001b[1;32m    944\u001b[0m     dtype_backend\u001b[38;5;241m=\u001b[39mdtype_backend,\n\u001b[1;32m    945\u001b[0m )\n\u001b[1;32m    946\u001b[0m kwds\u001b[38;5;241m.\u001b[39mupdate(kwds_defaults)\n\u001b[0;32m--> 948\u001b[0m \u001b[38;5;28;01mreturn\u001b[39;00m \u001b[43m_read\u001b[49m\u001b[43m(\u001b[49m\u001b[43mfilepath_or_buffer\u001b[49m\u001b[43m,\u001b[49m\u001b[43m \u001b[49m\u001b[43mkwds\u001b[49m\u001b[43m)\u001b[49m\n",
            "File \u001b[0;32m~/Desktop/ciencias de la computacion/Cursado/4.2Inteligencia Artificial 2/Final/venv/lib/python3.11/site-packages/pandas/io/parsers/readers.py:611\u001b[0m, in \u001b[0;36m_read\u001b[0;34m(filepath_or_buffer, kwds)\u001b[0m\n\u001b[1;32m    608\u001b[0m _validate_names(kwds\u001b[38;5;241m.\u001b[39mget(\u001b[38;5;124m\"\u001b[39m\u001b[38;5;124mnames\u001b[39m\u001b[38;5;124m\"\u001b[39m, \u001b[38;5;28;01mNone\u001b[39;00m))\n\u001b[1;32m    610\u001b[0m \u001b[38;5;66;03m# Create the parser.\u001b[39;00m\n\u001b[0;32m--> 611\u001b[0m parser \u001b[38;5;241m=\u001b[39m \u001b[43mTextFileReader\u001b[49m\u001b[43m(\u001b[49m\u001b[43mfilepath_or_buffer\u001b[49m\u001b[43m,\u001b[49m\u001b[43m \u001b[49m\u001b[38;5;241;43m*\u001b[39;49m\u001b[38;5;241;43m*\u001b[39;49m\u001b[43mkwds\u001b[49m\u001b[43m)\u001b[49m\n\u001b[1;32m    613\u001b[0m \u001b[38;5;28;01mif\u001b[39;00m chunksize \u001b[38;5;129;01mor\u001b[39;00m iterator:\n\u001b[1;32m    614\u001b[0m     \u001b[38;5;28;01mreturn\u001b[39;00m parser\n",
            "File \u001b[0;32m~/Desktop/ciencias de la computacion/Cursado/4.2Inteligencia Artificial 2/Final/venv/lib/python3.11/site-packages/pandas/io/parsers/readers.py:1448\u001b[0m, in \u001b[0;36mTextFileReader.__init__\u001b[0;34m(self, f, engine, **kwds)\u001b[0m\n\u001b[1;32m   1445\u001b[0m     \u001b[38;5;28mself\u001b[39m\u001b[38;5;241m.\u001b[39moptions[\u001b[38;5;124m\"\u001b[39m\u001b[38;5;124mhas_index_names\u001b[39m\u001b[38;5;124m\"\u001b[39m] \u001b[38;5;241m=\u001b[39m kwds[\u001b[38;5;124m\"\u001b[39m\u001b[38;5;124mhas_index_names\u001b[39m\u001b[38;5;124m\"\u001b[39m]\n\u001b[1;32m   1447\u001b[0m \u001b[38;5;28mself\u001b[39m\u001b[38;5;241m.\u001b[39mhandles: IOHandles \u001b[38;5;241m|\u001b[39m \u001b[38;5;28;01mNone\u001b[39;00m \u001b[38;5;241m=\u001b[39m \u001b[38;5;28;01mNone\u001b[39;00m\n\u001b[0;32m-> 1448\u001b[0m \u001b[38;5;28mself\u001b[39m\u001b[38;5;241m.\u001b[39m_engine \u001b[38;5;241m=\u001b[39m \u001b[38;5;28;43mself\u001b[39;49m\u001b[38;5;241;43m.\u001b[39;49m\u001b[43m_make_engine\u001b[49m\u001b[43m(\u001b[49m\u001b[43mf\u001b[49m\u001b[43m,\u001b[49m\u001b[43m \u001b[49m\u001b[38;5;28;43mself\u001b[39;49m\u001b[38;5;241;43m.\u001b[39;49m\u001b[43mengine\u001b[49m\u001b[43m)\u001b[49m\n",
            "File \u001b[0;32m~/Desktop/ciencias de la computacion/Cursado/4.2Inteligencia Artificial 2/Final/venv/lib/python3.11/site-packages/pandas/io/parsers/readers.py:1705\u001b[0m, in \u001b[0;36mTextFileReader._make_engine\u001b[0;34m(self, f, engine)\u001b[0m\n\u001b[1;32m   1703\u001b[0m     \u001b[38;5;28;01mif\u001b[39;00m \u001b[38;5;124m\"\u001b[39m\u001b[38;5;124mb\u001b[39m\u001b[38;5;124m\"\u001b[39m \u001b[38;5;129;01mnot\u001b[39;00m \u001b[38;5;129;01min\u001b[39;00m mode:\n\u001b[1;32m   1704\u001b[0m         mode \u001b[38;5;241m+\u001b[39m\u001b[38;5;241m=\u001b[39m \u001b[38;5;124m\"\u001b[39m\u001b[38;5;124mb\u001b[39m\u001b[38;5;124m\"\u001b[39m\n\u001b[0;32m-> 1705\u001b[0m \u001b[38;5;28mself\u001b[39m\u001b[38;5;241m.\u001b[39mhandles \u001b[38;5;241m=\u001b[39m \u001b[43mget_handle\u001b[49m\u001b[43m(\u001b[49m\n\u001b[1;32m   1706\u001b[0m \u001b[43m    \u001b[49m\u001b[43mf\u001b[49m\u001b[43m,\u001b[49m\n\u001b[1;32m   1707\u001b[0m \u001b[43m    \u001b[49m\u001b[43mmode\u001b[49m\u001b[43m,\u001b[49m\n\u001b[1;32m   1708\u001b[0m \u001b[43m    \u001b[49m\u001b[43mencoding\u001b[49m\u001b[38;5;241;43m=\u001b[39;49m\u001b[38;5;28;43mself\u001b[39;49m\u001b[38;5;241;43m.\u001b[39;49m\u001b[43moptions\u001b[49m\u001b[38;5;241;43m.\u001b[39;49m\u001b[43mget\u001b[49m\u001b[43m(\u001b[49m\u001b[38;5;124;43m\"\u001b[39;49m\u001b[38;5;124;43mencoding\u001b[39;49m\u001b[38;5;124;43m\"\u001b[39;49m\u001b[43m,\u001b[49m\u001b[43m \u001b[49m\u001b[38;5;28;43;01mNone\u001b[39;49;00m\u001b[43m)\u001b[49m\u001b[43m,\u001b[49m\n\u001b[1;32m   1709\u001b[0m \u001b[43m    \u001b[49m\u001b[43mcompression\u001b[49m\u001b[38;5;241;43m=\u001b[39;49m\u001b[38;5;28;43mself\u001b[39;49m\u001b[38;5;241;43m.\u001b[39;49m\u001b[43moptions\u001b[49m\u001b[38;5;241;43m.\u001b[39;49m\u001b[43mget\u001b[49m\u001b[43m(\u001b[49m\u001b[38;5;124;43m\"\u001b[39;49m\u001b[38;5;124;43mcompression\u001b[39;49m\u001b[38;5;124;43m\"\u001b[39;49m\u001b[43m,\u001b[49m\u001b[43m \u001b[49m\u001b[38;5;28;43;01mNone\u001b[39;49;00m\u001b[43m)\u001b[49m\u001b[43m,\u001b[49m\n\u001b[1;32m   1710\u001b[0m \u001b[43m    \u001b[49m\u001b[43mmemory_map\u001b[49m\u001b[38;5;241;43m=\u001b[39;49m\u001b[38;5;28;43mself\u001b[39;49m\u001b[38;5;241;43m.\u001b[39;49m\u001b[43moptions\u001b[49m\u001b[38;5;241;43m.\u001b[39;49m\u001b[43mget\u001b[49m\u001b[43m(\u001b[49m\u001b[38;5;124;43m\"\u001b[39;49m\u001b[38;5;124;43mmemory_map\u001b[39;49m\u001b[38;5;124;43m\"\u001b[39;49m\u001b[43m,\u001b[49m\u001b[43m \u001b[49m\u001b[38;5;28;43;01mFalse\u001b[39;49;00m\u001b[43m)\u001b[49m\u001b[43m,\u001b[49m\n\u001b[1;32m   1711\u001b[0m \u001b[43m    \u001b[49m\u001b[43mis_text\u001b[49m\u001b[38;5;241;43m=\u001b[39;49m\u001b[43mis_text\u001b[49m\u001b[43m,\u001b[49m\n\u001b[1;32m   1712\u001b[0m \u001b[43m    \u001b[49m\u001b[43merrors\u001b[49m\u001b[38;5;241;43m=\u001b[39;49m\u001b[38;5;28;43mself\u001b[39;49m\u001b[38;5;241;43m.\u001b[39;49m\u001b[43moptions\u001b[49m\u001b[38;5;241;43m.\u001b[39;49m\u001b[43mget\u001b[49m\u001b[43m(\u001b[49m\u001b[38;5;124;43m\"\u001b[39;49m\u001b[38;5;124;43mencoding_errors\u001b[39;49m\u001b[38;5;124;43m\"\u001b[39;49m\u001b[43m,\u001b[49m\u001b[43m \u001b[49m\u001b[38;5;124;43m\"\u001b[39;49m\u001b[38;5;124;43mstrict\u001b[39;49m\u001b[38;5;124;43m\"\u001b[39;49m\u001b[43m)\u001b[49m\u001b[43m,\u001b[49m\n\u001b[1;32m   1713\u001b[0m \u001b[43m    \u001b[49m\u001b[43mstorage_options\u001b[49m\u001b[38;5;241;43m=\u001b[39;49m\u001b[38;5;28;43mself\u001b[39;49m\u001b[38;5;241;43m.\u001b[39;49m\u001b[43moptions\u001b[49m\u001b[38;5;241;43m.\u001b[39;49m\u001b[43mget\u001b[49m\u001b[43m(\u001b[49m\u001b[38;5;124;43m\"\u001b[39;49m\u001b[38;5;124;43mstorage_options\u001b[39;49m\u001b[38;5;124;43m\"\u001b[39;49m\u001b[43m,\u001b[49m\u001b[43m \u001b[49m\u001b[38;5;28;43;01mNone\u001b[39;49;00m\u001b[43m)\u001b[49m\u001b[43m,\u001b[49m\n\u001b[1;32m   1714\u001b[0m \u001b[43m\u001b[49m\u001b[43m)\u001b[49m\n\u001b[1;32m   1715\u001b[0m \u001b[38;5;28;01massert\u001b[39;00m \u001b[38;5;28mself\u001b[39m\u001b[38;5;241m.\u001b[39mhandles \u001b[38;5;129;01mis\u001b[39;00m \u001b[38;5;129;01mnot\u001b[39;00m \u001b[38;5;28;01mNone\u001b[39;00m\n\u001b[1;32m   1716\u001b[0m f \u001b[38;5;241m=\u001b[39m \u001b[38;5;28mself\u001b[39m\u001b[38;5;241m.\u001b[39mhandles\u001b[38;5;241m.\u001b[39mhandle\n",
            "File \u001b[0;32m~/Desktop/ciencias de la computacion/Cursado/4.2Inteligencia Artificial 2/Final/venv/lib/python3.11/site-packages/pandas/io/common.py:863\u001b[0m, in \u001b[0;36mget_handle\u001b[0;34m(path_or_buf, mode, encoding, compression, memory_map, is_text, errors, storage_options)\u001b[0m\n\u001b[1;32m    858\u001b[0m \u001b[38;5;28;01melif\u001b[39;00m \u001b[38;5;28misinstance\u001b[39m(handle, \u001b[38;5;28mstr\u001b[39m):\n\u001b[1;32m    859\u001b[0m     \u001b[38;5;66;03m# Check whether the filename is to be opened in binary mode.\u001b[39;00m\n\u001b[1;32m    860\u001b[0m     \u001b[38;5;66;03m# Binary mode does not support 'encoding' and 'newline'.\u001b[39;00m\n\u001b[1;32m    861\u001b[0m     \u001b[38;5;28;01mif\u001b[39;00m ioargs\u001b[38;5;241m.\u001b[39mencoding \u001b[38;5;129;01mand\u001b[39;00m \u001b[38;5;124m\"\u001b[39m\u001b[38;5;124mb\u001b[39m\u001b[38;5;124m\"\u001b[39m \u001b[38;5;129;01mnot\u001b[39;00m \u001b[38;5;129;01min\u001b[39;00m ioargs\u001b[38;5;241m.\u001b[39mmode:\n\u001b[1;32m    862\u001b[0m         \u001b[38;5;66;03m# Encoding\u001b[39;00m\n\u001b[0;32m--> 863\u001b[0m         handle \u001b[38;5;241m=\u001b[39m \u001b[38;5;28;43mopen\u001b[39;49m\u001b[43m(\u001b[49m\n\u001b[1;32m    864\u001b[0m \u001b[43m            \u001b[49m\u001b[43mhandle\u001b[49m\u001b[43m,\u001b[49m\n\u001b[1;32m    865\u001b[0m \u001b[43m            \u001b[49m\u001b[43mioargs\u001b[49m\u001b[38;5;241;43m.\u001b[39;49m\u001b[43mmode\u001b[49m\u001b[43m,\u001b[49m\n\u001b[1;32m    866\u001b[0m \u001b[43m            \u001b[49m\u001b[43mencoding\u001b[49m\u001b[38;5;241;43m=\u001b[39;49m\u001b[43mioargs\u001b[49m\u001b[38;5;241;43m.\u001b[39;49m\u001b[43mencoding\u001b[49m\u001b[43m,\u001b[49m\n\u001b[1;32m    867\u001b[0m \u001b[43m            \u001b[49m\u001b[43merrors\u001b[49m\u001b[38;5;241;43m=\u001b[39;49m\u001b[43merrors\u001b[49m\u001b[43m,\u001b[49m\n\u001b[1;32m    868\u001b[0m \u001b[43m            \u001b[49m\u001b[43mnewline\u001b[49m\u001b[38;5;241;43m=\u001b[39;49m\u001b[38;5;124;43m\"\u001b[39;49m\u001b[38;5;124;43m\"\u001b[39;49m\u001b[43m,\u001b[49m\n\u001b[1;32m    869\u001b[0m \u001b[43m        \u001b[49m\u001b[43m)\u001b[49m\n\u001b[1;32m    870\u001b[0m     \u001b[38;5;28;01melse\u001b[39;00m:\n\u001b[1;32m    871\u001b[0m         \u001b[38;5;66;03m# Binary mode\u001b[39;00m\n\u001b[1;32m    872\u001b[0m         handle \u001b[38;5;241m=\u001b[39m \u001b[38;5;28mopen\u001b[39m(handle, ioargs\u001b[38;5;241m.\u001b[39mmode)\n",
            "\u001b[0;31mFileNotFoundError\u001b[0m: [Errno 2] No such file or directory: '../data/train_essays.csv'"
          ]
        }
      ],
      "source": [
        "initial_dataset = pd.read_csv(\"../data/train_essays.csv\")\n",
        "prompts_dataset = pd.read_csv(\"../data/train_prompts.csv\")\n",
        "custom_data = pd.read_csv(\"../data/custom_essays.csv\")\n",
        "downloaded_data_1 = pd.read_csv(\"../data/train_v3_drcat_01.csv\")\n",
        "#download_data_2 = pd.read_csv(\"../data/train_v3_drcat_02.csv\")"
      ]
    },
    {
      "cell_type": "markdown",
      "metadata": {
        "id": "BZA-apgXdYKF"
      },
      "source": [
        "## Data analisis"
      ]
    },
    {
      "cell_type": "code",
      "execution_count": null,
      "metadata": {
        "colab": {
          "base_uri": "https://localhost:8080/",
          "height": 424
        },
        "id": "dG45LDWZdYKF",
        "outputId": "79d8fa5c-2d89-4075-ff59-2012af444706"
      },
      "outputs": [],
      "source": [
        "initial_dataset"
      ]
    },
    {
      "cell_type": "code",
      "execution_count": null,
      "metadata": {
        "colab": {
          "base_uri": "https://localhost:8080/"
        },
        "id": "A5Ufk5XndYKG",
        "outputId": "3450810c-2adc-4c00-fc1f-c2d1456b9634"
      },
      "outputs": [],
      "source": [
        "initial_dataset.dtypes"
      ]
    },
    {
      "cell_type": "code",
      "execution_count": null,
      "metadata": {
        "colab": {
          "base_uri": "https://localhost:8080/"
        },
        "id": "y5ClvnTtdYKH",
        "outputId": "196e4691-b015-4bb9-af88-4c546b343f5e"
      },
      "outputs": [],
      "source": [
        "initial_dataset.shape"
      ]
    },
    {
      "cell_type": "code",
      "execution_count": null,
      "metadata": {
        "colab": {
          "base_uri": "https://localhost:8080/",
          "height": 300
        },
        "id": "M6w38AusdYKH",
        "outputId": "b1fdc793-13a5-4d99-d115-2f2e700905a3"
      },
      "outputs": [],
      "source": [
        "initial_dataset.describe()"
      ]
    },
    {
      "cell_type": "markdown",
      "metadata": {
        "id": "LNIWdXOudYKJ"
      },
      "source": [
        "`generated` - Whether the essay was written by a student (0) or generated by an LLM (1). This field is the target and is not present in test_essays.csv."
      ]
    },
    {
      "cell_type": "code",
      "execution_count": null,
      "metadata": {
        "colab": {
          "base_uri": "https://localhost:8080/"
        },
        "id": "opIz_MYjdYKK",
        "outputId": "a0779745-675b-420c-ab35-9f76ed996bd4"
      },
      "outputs": [],
      "source": [
        "initial_dataset.value_counts(\"generated\")"
      ]
    },
    {
      "cell_type": "code",
      "execution_count": null,
      "metadata": {
        "colab": {
          "base_uri": "https://localhost:8080/"
        },
        "id": "dR2Ut5ModYKK",
        "outputId": "7116634c-ea81-4443-d71c-ec79f3823973"
      },
      "outputs": [],
      "source": [
        "generated = initial_dataset.value_counts(\"generated\")\n",
        "generated"
      ]
    },
    {
      "cell_type": "code",
      "execution_count": null,
      "metadata": {
        "colab": {
          "base_uri": "https://localhost:8080/"
        },
        "id": "F2vi4-PUdYKL",
        "outputId": "8462130b-38f0-4589-853a-ac85d77928d1"
      },
      "outputs": [],
      "source": [
        "generated = generated.apply(lambda x : x/initial_dataset.shape[0])\n",
        "generated"
      ]
    },
    {
      "cell_type": "code",
      "execution_count": null,
      "metadata": {
        "colab": {
          "base_uri": "https://localhost:8080/",
          "height": 321
        },
        "id": "T-caBmNmdYKL",
        "outputId": "0e2f175e-45cc-45ad-be23-6aa097778e24"
      },
      "outputs": [],
      "source": [
        "fig, ax = plt.subplots(figsize=(4,3))\n",
        "fig.suptitle(\"Generated\")\n",
        "ax.bar(\n",
        "    x=[\"By studentes\",\"By LLM\"],\n",
        "    height=generated,\n",
        "    width=0.2,\n",
        "    color=[\"red\",\"green\"],\n",
        "    align=\"center\")\n",
        "plt.show()"
      ]
    },
    {
      "cell_type": "code",
      "execution_count": null,
      "metadata": {
        "colab": {
          "base_uri": "https://localhost:8080/",
          "height": 125
        },
        "id": "cEvFa1lQdYKL",
        "outputId": "cda624f9-81ba-42a5-eb31-d723b1f7ac01"
      },
      "outputs": [],
      "source": [
        "prompts_dataset"
      ]
    },
    {
      "cell_type": "code",
      "execution_count": null,
      "metadata": {
        "colab": {
          "base_uri": "https://localhost:8080/"
        },
        "id": "aJArVOlmdYKL",
        "outputId": "5db7ce67-19ba-45b9-9925-b71fe40f2819"
      },
      "outputs": [],
      "source": [
        "prompts = initial_dataset.value_counts(\"prompt_id\")\n",
        "prompts"
      ]
    },
    {
      "cell_type": "code",
      "execution_count": null,
      "metadata": {
        "colab": {
          "base_uri": "https://localhost:8080/",
          "height": 321
        },
        "id": "O-fg234YdYKM",
        "outputId": "3a4c4755-4c18-4789-c7ed-b079cfffd362"
      },
      "outputs": [],
      "source": [
        "fig, ax = plt.subplots(figsize=(4,3))\n",
        "fig.suptitle(\"Prompts\")\n",
        "ax.bar(\n",
        "    x=[\"Car-free cities\",\"Does the electoral college work?\"],\n",
        "    height=prompts,\n",
        "    width=0.2,\n",
        "    color=[\"red\",\"green\"],\n",
        "    align=\"center\")\n",
        "plt.show()"
      ]
    },
    {
      "cell_type": "markdown",
      "metadata": {
        "id": "yHzxLez5dYKM"
      },
      "source": [
        "## Handle imbalanced Data\n",
        "\n",
        "> Because the class distribution is not balanced, most machine learning algorithms will perform\n",
        "poorly and require modification to avoid simply predicting the majority class in all cases.\n",
        "Additionally, metrics like classification accuracy lose their meaning and alternate methods for\n",
        "evaluating predictions on imbalanced examples are required, like ROC area under curve. This is\n",
        "the foundational challenge of imbalanced classification.\n",
        ">\n",
        "> - Jason Brownlee, *Imbalanced Classification with Python* (2020)\n",
        "\n",
        "> If we think about feature space spatially, we might like all examples in one class to be located on one part\n",
        "of the space, and those from the other class to appear in another part of the space. [...]\n",
        ">This is rarely the case, and it is more likely that each class has multiple **concepts** resulting in multiple different groups or clusters of examples in feature space.\n",
        ">\n",
        "> - Jason Brownlee, *Imbalanced Classification with Python* (2020)\n"
      ]
    },
    {
      "cell_type": "markdown",
      "metadata": {
        "id": "-53GminWdYKM"
      },
      "source": [
        "### Metrics for Imbalanced Data\n",
        "\n",
        ">Although widely used, classification accuracy is almost universally inappropriate for imbalanced classification. The reason is, a high accuracy (or low error) is achievable by a no skill model that only predicts the majority class. [...]\n",
        ">\n",
        "> - Jason Brownlee, *Imbalanced Classification with Python* (2020)\n",
        "\n",
        ">There are two groups of metrics that may be useful for imbalanced classification because they focus on one class; they are sensitivity-specificity and precision-recall.\n",
        ">\n",
        "> - Jason Brownlee, *Imbalanced Classification with Python* (2020)\n",
        "\n",
        ">One limitation of these metrics is that they assume that the class distribution observed in the training dataset will match the distribution in the test set and in real data when the model is used to make predictions. [...] Ranking metrics don’t make any assumptions about class distributions.\n",
        ">\n",
        "> - Jason Brownlee, *Imbalanced Classification with Python* (2020)\n",
        "\n",
        ">The most commonly used ranking metric is the ROC Curve or ROC Analysis. ROC is an\n",
        "acronym that means Receiver Operating Characteristic and summarizes a field of study for\n",
        "analyzing binary classifiers based on their ability to discriminate classes.\n",
        ">\n",
        "> - Jason Brownlee, *Imbalanced Classification with Python* (2020)\n",
        "\n",
        ">Although generally effective, the ROC Curve and ROC AUC can be optimistic under a severe class imbalance, especially when the number of examples in the minority class is small.\n",
        "An alternative to the ROC Curve is the precision-recall curve that can be used in a similar way, although focuses on the performance of the classifier on the minority class.\n",
        ">\n",
        "> - Jason Brownlee, *Imbalanced Classification with Python* (2020)\n"
      ]
    },
    {
      "cell_type": "markdown",
      "metadata": {
        "id": "5EjLehn3dYKN"
      },
      "source": [
        "#### ROC AUC curve"
      ]
    },
    {
      "cell_type": "code",
      "execution_count": 3,
      "metadata": {
        "id": "FvEDVQHVdYKN"
      },
      "outputs": [],
      "source": [
        "def ROCcurves(model,x_val,y_val):\n",
        "    fig, axs = plt.subplots(nrows=1, ncols=2, figsize=(10, 4))\n",
        "    \n",
        "    y_pred = model.predict(x_val).ravel()\n",
        "    fpr, tpr , _ = roc_curve(y_val,  y_pred)\n",
        "    auc_ss = auc(fpr,tpr)\n",
        "    precision, recall, _ = precision_recall_curve(y_val,  y_pred)\n",
        "    auc_pr = auc(recall, precision)\n",
        "\n",
        "    # Primer subgráfico\n",
        "    axs[0].plot([0, 1], [0, 1], color='gray', lw=1, linestyle='--', label='AUC = 0.50')\n",
        "    axs[0].plot(fpr,tpr, label='ROC curve', color='blue')\n",
        "    axs[0].set_title(f'ROC curve = {round(auc_ss,3)}')\n",
        "    axs[0].set_xlabel('FalsePositiveRate')\n",
        "    axs[0].set_ylabel('TruePositiveRate')\n",
        "    axs[0].legend()\n",
        "    # Segundo subgráfico\n",
        "    axs[1].plot([0, 1], [0,0], color='gray', lw=1, linestyle='--', label='AUC = 0.0')\n",
        "    axs[1].plot(recall, precision, label='ROC-RP curve', color='orange')\n",
        "    axs[1].set_title(f'ROC-RP curve = {round(auc_pr,3)}')\n",
        "    axs[1].set_xlabel('Recall')\n",
        "    axs[1].set_ylabel('Precision')\n",
        "    axs[1].legend()\n",
        "    plt.show()\n",
        "\n"
      ]
    },
    {
      "cell_type": "markdown",
      "metadata": {
        "id": "3Rqz4YundYKN"
      },
      "source": [
        "### Data Sampling for imbalanced data\n",
        "\n",
        "> Sadly, k-fold cross-validation is not appropriate for evaluating imbalanced classifiers.\n",
        "[...]\n",
        "The reason is that the data is split into k-folds with a uniform probability distribution. This might work fine for data with a balanced class distribution, but when the distribution is severely skewed, it is likely that one or more folds will have few or no examples from the minority class.\n",
        ">\n",
        "> - Jason Brownlee, *Imbalanced Classification with Python* (2020)\n",
        "\n",
        "> The solution is to not split the data randomly when using k-fold cross-validation or a train-test\n",
        "split. [...] For example, we can use a version of k-fold cross-validation that preserves the imbalanced class distribution in each fold. It is called stratified k-fold cross-validation and will enforce the class distribution in each split of the data to match the distribution in the complete training dataset.\n",
        ">\n",
        "> - Jason Brownlee, *Imbalanced Classification with Python* (2020)\n",
        "\n",
        "> Sampling is only performed on the training dataset, the dataset used by an algorithm to\n",
        "learn a model. It is not performed on the holdout test or validation dataset.\n",
        ">\n",
        "> - Jason Brownlee, *Imbalanced Classification with Python* (2020)\n",
        "\n",
        "- Stratified k-folding CrossValidation\n",
        "- Random Downsampling\n",
        "- Adding data as kind of Oversampling"
      ]
    },
    {
      "cell_type": "markdown",
      "metadata": {
        "id": "6c8aPmEOdYKN"
      },
      "source": [
        "## Adding new Data"
      ]
    },
    {
      "cell_type": "markdown",
      "metadata": {
        "id": "BNsGXoKYdYKO"
      },
      "source": [
        "Describing the imbalance of this dataset in terms of ration is 1:500. The dataset presents sever imbalance. Previous aproches using only 20 new LLM generated examples manually and random Downsampling technic, didn't reach a higher score than 0.56. \n",
        "\n",
        "Concluding that more new data is needed, i downloaded data shared by competitors."
      ]
    },
    {
      "cell_type": "code",
      "execution_count": null,
      "metadata": {},
      "outputs": [],
      "source": [
        "downloaded_data_1[\"prompt_id\"] = downloaded_data_1[\"prompt_name\"].apply(lambda name : 0 if name == \"Car-free cities\" else 1 if name == \"Does the electoral college work?\" else 21 )\n",
        "downloaded_data_1 = downloaded_data_1[[\"prompt_id\",\"text\",\"label\"]].rename(columns={\"label\":\"generated\"})"
      ]
    },
    {
      "cell_type": "code",
      "execution_count": null,
      "metadata": {},
      "outputs": [],
      "source": [
        "new_data = pd.concat([custom_data,downloaded_data_1],axis=0,ignore_index=True)\n",
        "new_data[\"id\"] = range(0,new_data.shape[0])"
      ]
    },
    {
      "cell_type": "code",
      "execution_count": null,
      "metadata": {},
      "outputs": [],
      "source": [
        "new_data"
      ]
    },
    {
      "cell_type": "code",
      "execution_count": null,
      "metadata": {
        "colab": {
          "base_uri": "https://localhost:8080/",
          "height": 424
        },
        "id": "nahQnHEBdYKO",
        "outputId": "a45cd2ec-6504-406e-c184-ef921820c04d"
      },
      "outputs": [],
      "source": [
        "target_data = pd.concat([initial_dataset,new_data],ignore_index=True,axis=0)\n",
        "target_data"
      ]
    },
    {
      "cell_type": "markdown",
      "metadata": {},
      "source": [
        "### Data cleaning"
      ]
    },
    {
      "cell_type": "code",
      "execution_count": null,
      "metadata": {},
      "outputs": [],
      "source": [
        "print(target_data.shape)\n",
        "target_data.drop_duplicates(subset=[\"text\"],inplace=True,keep=\"first\")\n",
        "target_data = target_data.dropna()\n",
        "target_data.reset_index(inplace=True,drop=True)\n",
        "print(target_data.shape)"
      ]
    },
    {
      "cell_type": "markdown",
      "metadata": {
        "id": "65Y4787kdYKP"
      },
      "source": [
        "## Data Feature Engineering"
      ]
    },
    {
      "cell_type": "markdown",
      "metadata": {
        "id": "chXVmCzYdYKP"
      },
      "source": [
        "### Training a Tokenizer\n",
        "Reading the competition discussions lead me to this [Notebook](https://www.kaggle.com/code/datafan07/train-your-own-tokenizer), where is suggested to add words with typos into the vocabulary for better performance by training a tokenizer.\n",
        "\n",
        "1. normalization\n",
        "2. pre-tokenization\n",
        "3. model\n",
        "4. post-processing"
      ]
    },
    {
      "cell_type": "markdown",
      "metadata": {},
      "source": [
        ">ByteLevel: \n",
        ">\n",
        ">Splits on whitespaces while remapping all the bytes to a set of visible characters. This technique as been introduced by OpenAI with GPT-2 and has some more or less nice properties:\n",
        "> - Since it maps on bytes, a tokenizer using this only requires 256 characters as initial alphabet (the number of values a byte can have), as opposed to the 130,000+ Unicode characters.\n",
        "> - A consequence of the previous point is that it is absolutely unnecessary to have an unknown token using this since we can represent anything with 256 tokens (Youhou!! 🎉🎉)\n",
        "> - For non ascii characters, it gets completely unreadable, but it works nonetheless!"
      ]
    },
    {
      "cell_type": "code",
      "execution_count": null,
      "metadata": {},
      "outputs": [],
      "source": [
        "# Creating Byte-Pair Encoding tokenizer\n",
        "raw_tokenizer = Tokenizer(models.BPE(unk_token=\"[UNK]\"))\n",
        "#Cleaning\n",
        "raw_tokenizer.normalizer =  normalizers.Sequence(\n",
        "    [\n",
        "        normalizers.NFC(),\n",
        "        normalizers.Lowercase(),\n",
        "        normalizers.Replace(\"\\n\",\" \"),\n",
        "        normalizers.Replace(\"\\r\",\" \"),\n",
        "        normalizers.Replace(\"\\t\",\" \")\n",
        "    ]    \n",
        "    )\n",
        "#First tokenization\n",
        "raw_tokenizer.pre_tokenizer = pre_tokenizers.ByteLevel()\n",
        "#Training\n",
        "special_tokens = [\"[UNK]\", \"[PAD]\", \"[CLS]\", \"[SEP]\", \"[MASK]\"]\n",
        "trainer = trainers.BpeTrainer(show_progress=True,special_tokens=special_tokens)\n",
        "\n",
        "def data_iter(dataset):\n",
        "    \"\"\"\n",
        "    A generator function for iterating over a dataset in chunks.\n",
        "    \"\"\"    \n",
        "    for i in range(0, len(dataset), 1000):\n",
        "        yield dataset[i : i + 1000][\"text\"]\n",
        "\n",
        "raw_tokenizer.train_from_iterator(data_iter(target_data),trainer)"
      ]
    },
    {
      "cell_type": "code",
      "execution_count": null,
      "metadata": {},
      "outputs": [],
      "source": [
        "tokenizer = PreTrainedTokenizerFast(\n",
        "    tokenizer_object=raw_tokenizer,\n",
        "    unk_token=\"[UNK]\",\n",
        "    pad_token=\"[PAD]\",\n",
        "    cls_token=\"[CLS]\",\n",
        "    sep_token=\"[SEP]\",\n",
        "    mask_token=\"[MASK]\",\n",
        ")"
      ]
    },
    {
      "cell_type": "code",
      "execution_count": null,
      "metadata": {},
      "outputs": [],
      "source": [
        "tokenizer.save_pretrained(\"../data/weight/preTrainedTokenizer\")"
      ]
    },
    {
      "cell_type": "code",
      "execution_count": null,
      "metadata": {},
      "outputs": [],
      "source": [
        "raw_tokenizer.normalizer.normalize_str(\"Martín's bag\")"
      ]
    },
    {
      "cell_type": "code",
      "execution_count": null,
      "metadata": {},
      "outputs": [],
      "source": [
        "tokenizer.tokenize(\"Martín's bag\")"
      ]
    },
    {
      "cell_type": "markdown",
      "metadata": {
        "id": "MkOM8WoAdYKP"
      },
      "source": [
        "##### Words Tokenizing"
      ]
    },
    {
      "cell_type": "code",
      "execution_count": null,
      "metadata": {
        "colab": {
          "base_uri": "https://localhost:8080/",
          "height": 424
        },
        "id": "AGd5b7vMdYKP",
        "outputId": "fcebe33a-2999-4ca1-d3ae-21c47918eb45"
      },
      "outputs": [],
      "source": [
        "tokenized_dataset = target_data.copy()\n",
        "tokenized_dataset[\"text\"] = target_data[\"text\"].apply(lambda x : tokenizer.tokenize(x))\n",
        "tokenized_dataset"
      ]
    },
    {
      "cell_type": "markdown",
      "metadata": {},
      "source": [
        "### Deleting stopwords"
      ]
    },
    {
      "cell_type": "code",
      "execution_count": null,
      "metadata": {},
      "outputs": [],
      "source": [
        "tokenized_stopwords=[token for word in stopwords.words('english') for token in tokenizer.tokenize(word)]"
      ]
    },
    {
      "cell_type": "code",
      "execution_count": null,
      "metadata": {},
      "outputs": [],
      "source": [
        "new_docs = []\n",
        "for doc in tokenized_dataset[\"text\"]:\n",
        "    tokens = [word for word in doc if word not in tokenized_stopwords]  # Eliminar stopwords\n",
        "    new_docs.append(tokens)\n",
        "tokenized_dataset[\"text\"]=new_docs"
      ]
    },
    {
      "cell_type": "markdown",
      "metadata": {
        "id": "XNWEuYg-dYKT"
      },
      "source": [
        "#### Text to document embeddings"
      ]
    },
    {
      "cell_type": "markdown",
      "metadata": {},
      "source": [
        "Need to add all the test documents to the training phase of embedding."
      ]
    },
    {
      "cell_type": "code",
      "execution_count": null,
      "metadata": {
        "colab": {
          "base_uri": "https://localhost:8080/"
        },
        "id": "OLUZL3pUdYKT",
        "outputId": "10d64093-182b-44e6-f64d-752c3f1176e6"
      },
      "outputs": [],
      "source": [
        "docs_dataset = tokenized_dataset.copy()\n",
        "docs_dataset[\"text\"] = [doc2vec.TaggedDocument(row[2],[row[0]]) for row in tokenized_dataset.values]\n",
        "docs_dataset[\"text\"]"
      ]
    },
    {
      "cell_type": "code",
      "execution_count": null,
      "metadata": {},
      "outputs": [],
      "source": [
        "doc_model = doc2vec.Doc2Vec(documents=docs_dataset[\"text\"],vector_size=100,epochs=50)"
      ]
    },
    {
      "cell_type": "code",
      "execution_count": null,
      "metadata": {
        "colab": {
          "base_uri": "https://localhost:8080/"
        },
        "id": "KBGZJYB0dYKT",
        "outputId": "154280e2-5dcc-4c7c-95e1-3f66b5bd4ac0"
      },
      "outputs": [],
      "source": [
        "doc_model.dv[0]"
      ]
    },
    {
      "cell_type": "code",
      "execution_count": null,
      "metadata": {},
      "outputs": [],
      "source": [
        "doc_model.save(\"../data/weight/EmbeddingModel.bin\")"
      ]
    },
    {
      "cell_type": "code",
      "execution_count": null,
      "metadata": {
        "colab": {
          "base_uri": "https://localhost:8080/",
          "height": 444
        },
        "id": "Ke4rS-oJdYKi",
        "outputId": "a6efe2c2-57d9-4854-df41-a381597c5c2f"
      },
      "outputs": [],
      "source": [
        "arr = [doc_model.dv[docs_dataset[\"text\"][i].tags] for i in docs_dataset.index]\n",
        "embeddings_dataset = pd.DataFrame(np.reshape(arr,(len(arr), 100)))\n",
        "embeddings_dataset"
      ]
    },
    {
      "cell_type": "code",
      "execution_count": null,
      "metadata": {
        "colab": {
          "base_uri": "https://localhost:8080/",
          "height": 350
        },
        "id": "Sop_gw5PdYKj",
        "outputId": "489cc0f3-00c3-476a-c619-89a7dc34fe64"
      },
      "outputs": [],
      "source": [
        "embeddings_dataset.describe()"
      ]
    },
    {
      "cell_type": "markdown",
      "metadata": {
        "id": "XL1gXWWodYKj"
      },
      "source": [
        "#### Normalizar embedding"
      ]
    },
    {
      "cell_type": "code",
      "execution_count": null,
      "metadata": {
        "colab": {
          "base_uri": "https://localhost:8080/"
        },
        "id": "5XdVRiYOdYKj",
        "outputId": "fdec5bf1-af94-4e9a-f178-6a6c7c01367d"
      },
      "outputs": [],
      "source": [
        "embeddings_dataset[\"norm\"]=np.linalg.norm(embeddings_dataset, axis=1)\n",
        "embeddings_dataset[\"norm\"]"
      ]
    },
    {
      "cell_type": "code",
      "execution_count": null,
      "metadata": {
        "colab": {
          "base_uri": "https://localhost:8080/",
          "height": 350
        },
        "id": "Y-ns5umfdYKj",
        "outputId": "e0e26dd1-7bc0-4a9e-d7c6-199d29518bec"
      },
      "outputs": [],
      "source": [
        "norm_embeddings_dataset = pd.DataFrame(np.apply_along_axis(lambda x: x / np.linalg.norm(x), axis=1, arr=embeddings_dataset))\n",
        "norm_embeddings_dataset[\"normalized_norm\"] = (embeddings_dataset['norm'] - embeddings_dataset['norm'].min()) / (embeddings_dataset['norm'].max() - embeddings_dataset['norm'].min())\n",
        "norm_embeddings_dataset.describe()"
      ]
    },
    {
      "cell_type": "code",
      "execution_count": null,
      "metadata": {},
      "outputs": [],
      "source": [
        "norm_embeddings_dataset"
      ]
    },
    {
      "cell_type": "code",
      "execution_count": null,
      "metadata": {
        "id": "2jUZ8xrgdYKj"
      },
      "outputs": [],
      "source": [
        "norm_embeddings_dataset = norm_embeddings_dataset.drop([100],axis=1)"
      ]
    },
    {
      "cell_type": "code",
      "execution_count": null,
      "metadata": {},
      "outputs": [],
      "source": [
        "docs_dataset.shape[0]==norm_embeddings_dataset.shape[0]"
      ]
    },
    {
      "cell_type": "code",
      "execution_count": null,
      "metadata": {},
      "outputs": [],
      "source": [
        "norm_embeddings_dataset.columns"
      ]
    },
    {
      "cell_type": "code",
      "execution_count": null,
      "metadata": {
        "colab": {
          "base_uri": "https://localhost:8080/",
          "height": 826
        },
        "id": "MwmoLIkHdYKk",
        "outputId": "ce49eba2-4bc9-4547-b019-5ce71a71e360"
      },
      "outputs": [],
      "source": [
        "pre_processed_data = pd.concat([docs_dataset,norm_embeddings_dataset],axis=1)\n",
        "pre_processed_data"
      ]
    },
    {
      "cell_type": "markdown",
      "metadata": {
        "id": "Ok4YnFIkdYKk"
      },
      "source": [
        "### Inferred Features"
      ]
    },
    {
      "cell_type": "code",
      "execution_count": null,
      "metadata": {
        "id": "5LK85lV3dYKk"
      },
      "outputs": [],
      "source": [
        "def features(dataset):\n",
        "    token_count=dataset[\"text\"].apply(lambda x: len(x))\n",
        "    sentence_count = []\n",
        "    punctuation_count = []\n",
        "    apostrofees_count = []\n",
        "    unk_count = []\n",
        "    for doc in dataset[\"text\"]:\n",
        "        unk = 0\n",
        "        dot = 0\n",
        "        punctuation = 0\n",
        "        apostrofees = 0\n",
        "        for token in doc.words:\n",
        "            if(token.endswith(\".\")):\n",
        "                dot+=1\n",
        "                punctuation+=1\n",
        "            elif(token.endswith(\",\") or token.endswith(\"?\") or token.endswith(\"!\")):\n",
        "                punctuation+=1\n",
        "            elif(token.count(\"'\")>0):\n",
        "                    apostrofees+=token.count(\"'\")\n",
        "            elif(token==\"[UNK]\"):\n",
        "                unk+=1\n",
        "        sentence_count.append(dot)\n",
        "        punctuation_count.append(punctuation)\n",
        "        apostrofees_count.append(apostrofees)\n",
        "        unk_count.append(unk)\n",
        "    df = pd.DataFrame(\n",
        "        columns=[\"token_num\",\"sent_num\",\"punct_sym\",\"apostrof_sym\",\"unk_num\"]\n",
        "    )\n",
        "    df[\"token_num\"]=token_count\n",
        "    df[\"sent_num\"]=sentence_count\n",
        "    df[\"punct_sym\"]=punctuation_count\n",
        "    df[\"apostrof_sym\"]=apostrofees_count\n",
        "    df[\"unk_num\"]=unk_count\n",
        "    return df"
      ]
    },
    {
      "cell_type": "code",
      "execution_count": null,
      "metadata": {},
      "outputs": [],
      "source": [
        "train_features = features(pre_processed_data)\n",
        "train_features"
      ]
    },
    {
      "cell_type": "code",
      "execution_count": null,
      "metadata": {},
      "outputs": [],
      "source": [
        "for col in train_features.columns:\n",
        "    if(train_features[col].max()>0):\n",
        "        train_features[col] = train_features[col]/np.linalg.norm(train_features[col])\n",
        "train_features"
      ]
    },
    {
      "cell_type": "code",
      "execution_count": null,
      "metadata": {},
      "outputs": [],
      "source": [
        "pre_processed_data=pd.concat([pre_processed_data,train_features],axis=1).drop(\"text\",axis=1)"
      ]
    },
    {
      "cell_type": "code",
      "execution_count": null,
      "metadata": {
        "colab": {
          "base_uri": "https://localhost:8080/",
          "height": 350
        },
        "id": "KKJrJzEWdYKl",
        "outputId": "50ad4a58-1b24-408d-db60-c5bad8697938"
      },
      "outputs": [],
      "source": [
        "pre_processed_data.describe()"
      ]
    },
    {
      "cell_type": "code",
      "execution_count": null,
      "metadata": {},
      "outputs": [],
      "source": [
        "pre_processed_data.to_csv(\"../data/pre_process_train.csv\",index=False)\n",
        "#pre_processed_data.loc[:, ~pre_processed_data.columns.str.contains('^Unnamed')].to_csv(\"../data/pre_process_train.csv\",index=False)"
      ]
    },
    {
      "cell_type": "markdown",
      "metadata": {
        "id": "pboIBijydYKl"
      },
      "source": [
        "## Model Training"
      ]
    },
    {
      "cell_type": "code",
      "execution_count": 4,
      "metadata": {},
      "outputs": [
        {
          "ename": "FileNotFoundError",
          "evalue": "[Errno 2] No such file or directory: '../data/pre_process_train.csv'",
          "output_type": "error",
          "traceback": [
            "\u001b[0;31m---------------------------------------------------------------------------\u001b[0m",
            "\u001b[0;31mFileNotFoundError\u001b[0m                         Traceback (most recent call last)",
            "Cell \u001b[0;32mIn[4], line 1\u001b[0m\n\u001b[0;32m----> 1\u001b[0m pre_processed_data\u001b[38;5;241m=\u001b[39m\u001b[43mpd\u001b[49m\u001b[38;5;241;43m.\u001b[39;49m\u001b[43mread_csv\u001b[49m\u001b[43m(\u001b[49m\u001b[38;5;124;43m\"\u001b[39;49m\u001b[38;5;124;43m../data/pre_process_train.csv\u001b[39;49m\u001b[38;5;124;43m\"\u001b[39;49m\u001b[43m)\u001b[49m\n\u001b[1;32m      2\u001b[0m pre_processed_data\n",
            "File \u001b[0;32m~/Desktop/ciencias de la computacion/Cursado/4.2Inteligencia Artificial 2/Final/venv/lib/python3.11/site-packages/pandas/io/parsers/readers.py:948\u001b[0m, in \u001b[0;36mread_csv\u001b[0;34m(filepath_or_buffer, sep, delimiter, header, names, index_col, usecols, dtype, engine, converters, true_values, false_values, skipinitialspace, skiprows, skipfooter, nrows, na_values, keep_default_na, na_filter, verbose, skip_blank_lines, parse_dates, infer_datetime_format, keep_date_col, date_parser, date_format, dayfirst, cache_dates, iterator, chunksize, compression, thousands, decimal, lineterminator, quotechar, quoting, doublequote, escapechar, comment, encoding, encoding_errors, dialect, on_bad_lines, delim_whitespace, low_memory, memory_map, float_precision, storage_options, dtype_backend)\u001b[0m\n\u001b[1;32m    935\u001b[0m kwds_defaults \u001b[38;5;241m=\u001b[39m _refine_defaults_read(\n\u001b[1;32m    936\u001b[0m     dialect,\n\u001b[1;32m    937\u001b[0m     delimiter,\n\u001b[0;32m   (...)\u001b[0m\n\u001b[1;32m    944\u001b[0m     dtype_backend\u001b[38;5;241m=\u001b[39mdtype_backend,\n\u001b[1;32m    945\u001b[0m )\n\u001b[1;32m    946\u001b[0m kwds\u001b[38;5;241m.\u001b[39mupdate(kwds_defaults)\n\u001b[0;32m--> 948\u001b[0m \u001b[38;5;28;01mreturn\u001b[39;00m \u001b[43m_read\u001b[49m\u001b[43m(\u001b[49m\u001b[43mfilepath_or_buffer\u001b[49m\u001b[43m,\u001b[49m\u001b[43m \u001b[49m\u001b[43mkwds\u001b[49m\u001b[43m)\u001b[49m\n",
            "File \u001b[0;32m~/Desktop/ciencias de la computacion/Cursado/4.2Inteligencia Artificial 2/Final/venv/lib/python3.11/site-packages/pandas/io/parsers/readers.py:611\u001b[0m, in \u001b[0;36m_read\u001b[0;34m(filepath_or_buffer, kwds)\u001b[0m\n\u001b[1;32m    608\u001b[0m _validate_names(kwds\u001b[38;5;241m.\u001b[39mget(\u001b[38;5;124m\"\u001b[39m\u001b[38;5;124mnames\u001b[39m\u001b[38;5;124m\"\u001b[39m, \u001b[38;5;28;01mNone\u001b[39;00m))\n\u001b[1;32m    610\u001b[0m \u001b[38;5;66;03m# Create the parser.\u001b[39;00m\n\u001b[0;32m--> 611\u001b[0m parser \u001b[38;5;241m=\u001b[39m \u001b[43mTextFileReader\u001b[49m\u001b[43m(\u001b[49m\u001b[43mfilepath_or_buffer\u001b[49m\u001b[43m,\u001b[49m\u001b[43m \u001b[49m\u001b[38;5;241;43m*\u001b[39;49m\u001b[38;5;241;43m*\u001b[39;49m\u001b[43mkwds\u001b[49m\u001b[43m)\u001b[49m\n\u001b[1;32m    613\u001b[0m \u001b[38;5;28;01mif\u001b[39;00m chunksize \u001b[38;5;129;01mor\u001b[39;00m iterator:\n\u001b[1;32m    614\u001b[0m     \u001b[38;5;28;01mreturn\u001b[39;00m parser\n",
            "File \u001b[0;32m~/Desktop/ciencias de la computacion/Cursado/4.2Inteligencia Artificial 2/Final/venv/lib/python3.11/site-packages/pandas/io/parsers/readers.py:1448\u001b[0m, in \u001b[0;36mTextFileReader.__init__\u001b[0;34m(self, f, engine, **kwds)\u001b[0m\n\u001b[1;32m   1445\u001b[0m     \u001b[38;5;28mself\u001b[39m\u001b[38;5;241m.\u001b[39moptions[\u001b[38;5;124m\"\u001b[39m\u001b[38;5;124mhas_index_names\u001b[39m\u001b[38;5;124m\"\u001b[39m] \u001b[38;5;241m=\u001b[39m kwds[\u001b[38;5;124m\"\u001b[39m\u001b[38;5;124mhas_index_names\u001b[39m\u001b[38;5;124m\"\u001b[39m]\n\u001b[1;32m   1447\u001b[0m \u001b[38;5;28mself\u001b[39m\u001b[38;5;241m.\u001b[39mhandles: IOHandles \u001b[38;5;241m|\u001b[39m \u001b[38;5;28;01mNone\u001b[39;00m \u001b[38;5;241m=\u001b[39m \u001b[38;5;28;01mNone\u001b[39;00m\n\u001b[0;32m-> 1448\u001b[0m \u001b[38;5;28mself\u001b[39m\u001b[38;5;241m.\u001b[39m_engine \u001b[38;5;241m=\u001b[39m \u001b[38;5;28;43mself\u001b[39;49m\u001b[38;5;241;43m.\u001b[39;49m\u001b[43m_make_engine\u001b[49m\u001b[43m(\u001b[49m\u001b[43mf\u001b[49m\u001b[43m,\u001b[49m\u001b[43m \u001b[49m\u001b[38;5;28;43mself\u001b[39;49m\u001b[38;5;241;43m.\u001b[39;49m\u001b[43mengine\u001b[49m\u001b[43m)\u001b[49m\n",
            "File \u001b[0;32m~/Desktop/ciencias de la computacion/Cursado/4.2Inteligencia Artificial 2/Final/venv/lib/python3.11/site-packages/pandas/io/parsers/readers.py:1705\u001b[0m, in \u001b[0;36mTextFileReader._make_engine\u001b[0;34m(self, f, engine)\u001b[0m\n\u001b[1;32m   1703\u001b[0m     \u001b[38;5;28;01mif\u001b[39;00m \u001b[38;5;124m\"\u001b[39m\u001b[38;5;124mb\u001b[39m\u001b[38;5;124m\"\u001b[39m \u001b[38;5;129;01mnot\u001b[39;00m \u001b[38;5;129;01min\u001b[39;00m mode:\n\u001b[1;32m   1704\u001b[0m         mode \u001b[38;5;241m+\u001b[39m\u001b[38;5;241m=\u001b[39m \u001b[38;5;124m\"\u001b[39m\u001b[38;5;124mb\u001b[39m\u001b[38;5;124m\"\u001b[39m\n\u001b[0;32m-> 1705\u001b[0m \u001b[38;5;28mself\u001b[39m\u001b[38;5;241m.\u001b[39mhandles \u001b[38;5;241m=\u001b[39m \u001b[43mget_handle\u001b[49m\u001b[43m(\u001b[49m\n\u001b[1;32m   1706\u001b[0m \u001b[43m    \u001b[49m\u001b[43mf\u001b[49m\u001b[43m,\u001b[49m\n\u001b[1;32m   1707\u001b[0m \u001b[43m    \u001b[49m\u001b[43mmode\u001b[49m\u001b[43m,\u001b[49m\n\u001b[1;32m   1708\u001b[0m \u001b[43m    \u001b[49m\u001b[43mencoding\u001b[49m\u001b[38;5;241;43m=\u001b[39;49m\u001b[38;5;28;43mself\u001b[39;49m\u001b[38;5;241;43m.\u001b[39;49m\u001b[43moptions\u001b[49m\u001b[38;5;241;43m.\u001b[39;49m\u001b[43mget\u001b[49m\u001b[43m(\u001b[49m\u001b[38;5;124;43m\"\u001b[39;49m\u001b[38;5;124;43mencoding\u001b[39;49m\u001b[38;5;124;43m\"\u001b[39;49m\u001b[43m,\u001b[49m\u001b[43m \u001b[49m\u001b[38;5;28;43;01mNone\u001b[39;49;00m\u001b[43m)\u001b[49m\u001b[43m,\u001b[49m\n\u001b[1;32m   1709\u001b[0m \u001b[43m    \u001b[49m\u001b[43mcompression\u001b[49m\u001b[38;5;241;43m=\u001b[39;49m\u001b[38;5;28;43mself\u001b[39;49m\u001b[38;5;241;43m.\u001b[39;49m\u001b[43moptions\u001b[49m\u001b[38;5;241;43m.\u001b[39;49m\u001b[43mget\u001b[49m\u001b[43m(\u001b[49m\u001b[38;5;124;43m\"\u001b[39;49m\u001b[38;5;124;43mcompression\u001b[39;49m\u001b[38;5;124;43m\"\u001b[39;49m\u001b[43m,\u001b[49m\u001b[43m \u001b[49m\u001b[38;5;28;43;01mNone\u001b[39;49;00m\u001b[43m)\u001b[49m\u001b[43m,\u001b[49m\n\u001b[1;32m   1710\u001b[0m \u001b[43m    \u001b[49m\u001b[43mmemory_map\u001b[49m\u001b[38;5;241;43m=\u001b[39;49m\u001b[38;5;28;43mself\u001b[39;49m\u001b[38;5;241;43m.\u001b[39;49m\u001b[43moptions\u001b[49m\u001b[38;5;241;43m.\u001b[39;49m\u001b[43mget\u001b[49m\u001b[43m(\u001b[49m\u001b[38;5;124;43m\"\u001b[39;49m\u001b[38;5;124;43mmemory_map\u001b[39;49m\u001b[38;5;124;43m\"\u001b[39;49m\u001b[43m,\u001b[49m\u001b[43m \u001b[49m\u001b[38;5;28;43;01mFalse\u001b[39;49;00m\u001b[43m)\u001b[49m\u001b[43m,\u001b[49m\n\u001b[1;32m   1711\u001b[0m \u001b[43m    \u001b[49m\u001b[43mis_text\u001b[49m\u001b[38;5;241;43m=\u001b[39;49m\u001b[43mis_text\u001b[49m\u001b[43m,\u001b[49m\n\u001b[1;32m   1712\u001b[0m \u001b[43m    \u001b[49m\u001b[43merrors\u001b[49m\u001b[38;5;241;43m=\u001b[39;49m\u001b[38;5;28;43mself\u001b[39;49m\u001b[38;5;241;43m.\u001b[39;49m\u001b[43moptions\u001b[49m\u001b[38;5;241;43m.\u001b[39;49m\u001b[43mget\u001b[49m\u001b[43m(\u001b[49m\u001b[38;5;124;43m\"\u001b[39;49m\u001b[38;5;124;43mencoding_errors\u001b[39;49m\u001b[38;5;124;43m\"\u001b[39;49m\u001b[43m,\u001b[49m\u001b[43m \u001b[49m\u001b[38;5;124;43m\"\u001b[39;49m\u001b[38;5;124;43mstrict\u001b[39;49m\u001b[38;5;124;43m\"\u001b[39;49m\u001b[43m)\u001b[49m\u001b[43m,\u001b[49m\n\u001b[1;32m   1713\u001b[0m \u001b[43m    \u001b[49m\u001b[43mstorage_options\u001b[49m\u001b[38;5;241;43m=\u001b[39;49m\u001b[38;5;28;43mself\u001b[39;49m\u001b[38;5;241;43m.\u001b[39;49m\u001b[43moptions\u001b[49m\u001b[38;5;241;43m.\u001b[39;49m\u001b[43mget\u001b[49m\u001b[43m(\u001b[49m\u001b[38;5;124;43m\"\u001b[39;49m\u001b[38;5;124;43mstorage_options\u001b[39;49m\u001b[38;5;124;43m\"\u001b[39;49m\u001b[43m,\u001b[49m\u001b[43m \u001b[49m\u001b[38;5;28;43;01mNone\u001b[39;49;00m\u001b[43m)\u001b[49m\u001b[43m,\u001b[49m\n\u001b[1;32m   1714\u001b[0m \u001b[43m\u001b[49m\u001b[43m)\u001b[49m\n\u001b[1;32m   1715\u001b[0m \u001b[38;5;28;01massert\u001b[39;00m \u001b[38;5;28mself\u001b[39m\u001b[38;5;241m.\u001b[39mhandles \u001b[38;5;129;01mis\u001b[39;00m \u001b[38;5;129;01mnot\u001b[39;00m \u001b[38;5;28;01mNone\u001b[39;00m\n\u001b[1;32m   1716\u001b[0m f \u001b[38;5;241m=\u001b[39m \u001b[38;5;28mself\u001b[39m\u001b[38;5;241m.\u001b[39mhandles\u001b[38;5;241m.\u001b[39mhandle\n",
            "File \u001b[0;32m~/Desktop/ciencias de la computacion/Cursado/4.2Inteligencia Artificial 2/Final/venv/lib/python3.11/site-packages/pandas/io/common.py:863\u001b[0m, in \u001b[0;36mget_handle\u001b[0;34m(path_or_buf, mode, encoding, compression, memory_map, is_text, errors, storage_options)\u001b[0m\n\u001b[1;32m    858\u001b[0m \u001b[38;5;28;01melif\u001b[39;00m \u001b[38;5;28misinstance\u001b[39m(handle, \u001b[38;5;28mstr\u001b[39m):\n\u001b[1;32m    859\u001b[0m     \u001b[38;5;66;03m# Check whether the filename is to be opened in binary mode.\u001b[39;00m\n\u001b[1;32m    860\u001b[0m     \u001b[38;5;66;03m# Binary mode does not support 'encoding' and 'newline'.\u001b[39;00m\n\u001b[1;32m    861\u001b[0m     \u001b[38;5;28;01mif\u001b[39;00m ioargs\u001b[38;5;241m.\u001b[39mencoding \u001b[38;5;129;01mand\u001b[39;00m \u001b[38;5;124m\"\u001b[39m\u001b[38;5;124mb\u001b[39m\u001b[38;5;124m\"\u001b[39m \u001b[38;5;129;01mnot\u001b[39;00m \u001b[38;5;129;01min\u001b[39;00m ioargs\u001b[38;5;241m.\u001b[39mmode:\n\u001b[1;32m    862\u001b[0m         \u001b[38;5;66;03m# Encoding\u001b[39;00m\n\u001b[0;32m--> 863\u001b[0m         handle \u001b[38;5;241m=\u001b[39m \u001b[38;5;28;43mopen\u001b[39;49m\u001b[43m(\u001b[49m\n\u001b[1;32m    864\u001b[0m \u001b[43m            \u001b[49m\u001b[43mhandle\u001b[49m\u001b[43m,\u001b[49m\n\u001b[1;32m    865\u001b[0m \u001b[43m            \u001b[49m\u001b[43mioargs\u001b[49m\u001b[38;5;241;43m.\u001b[39;49m\u001b[43mmode\u001b[49m\u001b[43m,\u001b[49m\n\u001b[1;32m    866\u001b[0m \u001b[43m            \u001b[49m\u001b[43mencoding\u001b[49m\u001b[38;5;241;43m=\u001b[39;49m\u001b[43mioargs\u001b[49m\u001b[38;5;241;43m.\u001b[39;49m\u001b[43mencoding\u001b[49m\u001b[43m,\u001b[49m\n\u001b[1;32m    867\u001b[0m \u001b[43m            \u001b[49m\u001b[43merrors\u001b[49m\u001b[38;5;241;43m=\u001b[39;49m\u001b[43merrors\u001b[49m\u001b[43m,\u001b[49m\n\u001b[1;32m    868\u001b[0m \u001b[43m            \u001b[49m\u001b[43mnewline\u001b[49m\u001b[38;5;241;43m=\u001b[39;49m\u001b[38;5;124;43m\"\u001b[39;49m\u001b[38;5;124;43m\"\u001b[39;49m\u001b[43m,\u001b[49m\n\u001b[1;32m    869\u001b[0m \u001b[43m        \u001b[49m\u001b[43m)\u001b[49m\n\u001b[1;32m    870\u001b[0m     \u001b[38;5;28;01melse\u001b[39;00m:\n\u001b[1;32m    871\u001b[0m         \u001b[38;5;66;03m# Binary mode\u001b[39;00m\n\u001b[1;32m    872\u001b[0m         handle \u001b[38;5;241m=\u001b[39m \u001b[38;5;28mopen\u001b[39m(handle, ioargs\u001b[38;5;241m.\u001b[39mmode)\n",
            "\u001b[0;31mFileNotFoundError\u001b[0m: [Errno 2] No such file or directory: '../data/pre_process_train.csv'"
          ]
        }
      ],
      "source": [
        "pre_processed_data=pd.read_csv(\"../data/pre_process_train.csv\")\n",
        "pre_processed_data"
      ]
    },
    {
      "cell_type": "code",
      "execution_count": null,
      "metadata": {
        "id": "sieb_gK4dYKl"
      },
      "outputs": [],
      "source": [
        "def downsampling(X_train,y_train,rand_state,ratio):\n",
        "    # Concatenate X_train and y_train for ease of downsampling\n",
        "    train_data = pd.concat([X_train, y_train], axis=1)\n",
        "\n",
        "    # Identify the class with the majority of instances\n",
        "    majority_class = train_data[y_train.name].value_counts().idxmax()\n",
        "\n",
        "    # Separate instances of each class\n",
        "    majority_class_data = train_data[train_data[y_train.name] == majority_class]\n",
        "    minority_class_data = train_data[train_data[y_train.name] != majority_class]\n",
        "\n",
        "\n",
        "    currRatio = len(majority_class_data) / len(minority_class_data)\n",
        "    if(currRatio<=ratio):\n",
        "        raise ValueError(f\"El ratio de entrada debe ser menor al ratio actual.r={currRatio}\")\n",
        "\n",
        "\n",
        "    # Downsample the majority class to match the number of instances in the minority class\n",
        "    downsampled_majority_class_data = resample(\n",
        "        majority_class_data,\n",
        "        replace=False,\n",
        "        n_samples=math.floor(ratio*len(minority_class_data)),\n",
        "        random_state=rand_state\n",
        "    )\n",
        "\n",
        "    # Combine the downsampled majority class with the minority class\n",
        "    downsampled_train_data = pd.concat([downsampled_majority_class_data, minority_class_data])\n",
        "\n",
        "    # Shuffle the data to avoid any order-based patterns\n",
        "    downsampled_train_data = downsampled_train_data.sample(frac=1, random_state=rand_state)\n",
        "\n",
        "    # Separate X_train and y_train after downsampling\n",
        "    X_train_downsampled = downsampled_train_data.drop(columns=[y_train.name])\n",
        "    y_train_downsampled = downsampled_train_data[y_train.name]\n",
        "\n",
        "    return X_train_downsampled, y_train_downsampled"
      ]
    },
    {
      "cell_type": "markdown",
      "metadata": {},
      "source": [
        "### Dense connected Neural Network"
      ]
    },
    {
      "cell_type": "markdown",
      "metadata": {},
      "source": [
        "#### Arquitecture"
      ]
    },
    {
      "cell_type": "code",
      "execution_count": null,
      "metadata": {},
      "outputs": [],
      "source": [
        "input = keras.Input(shape=(pre_processed_data.shape[1]-2,))\n",
        "x = keras.layers.Dense(pre_processed_data.shape[1]-2,activation=\"relu\")(input)\n",
        "x = keras.layers.Dense(300,activation=\"relu\")(x)\n",
        "x = keras.layers.Dense(300,activation=\"relu\")(x)\n",
        "x = keras.layers.Dense(300,activation=\"relu\")(x)\n",
        "output = keras.layers.Dense(1,activation=\"sigmoid\")(x)\n",
        "\n",
        "NNmodel = keras.Model(input,output)\n",
        "\n",
        "NNmodel.compile(optimizer='adam',\n",
        "               loss=keras.losses.BinaryCrossentropy(),\n",
        "               metrics=[keras.metrics.AUC()])"
      ]
    },
    {
      "cell_type": "markdown",
      "metadata": {},
      "source": [
        "#### Training"
      ]
    },
    {
      "cell_type": "code",
      "execution_count": null,
      "metadata": {
        "colab": {
          "base_uri": "https://localhost:8080/",
          "height": 1000
        },
        "id": "eE-YSa9jdYKm",
        "outputId": "1017a0f1-e1de-49da-ed83-603324aa1644"
      },
      "outputs": [
        {
          "name": "stdout",
          "output_type": "stream",
          "text": [
            "DOWNSAMPLED:(24633:32022)\n",
            "Epoch 1/25\n",
            "57/57 [==============================] - 2s 19ms/step - loss: 0.6047 - auc_5: 0.7157 - val_loss: 0.4673 - val_auc_5: 0.8543\n",
            "Epoch 2/25\n",
            "57/57 [==============================] - 1s 12ms/step - loss: 0.4491 - auc_5: 0.8666 - val_loss: 0.4211 - val_auc_5: 0.8848\n",
            "Epoch 3/25\n",
            "57/57 [==============================] - 1s 12ms/step - loss: 0.4106 - auc_5: 0.8904 - val_loss: 0.4018 - val_auc_5: 0.8979\n",
            "Epoch 4/25\n",
            "57/57 [==============================] - 1s 12ms/step - loss: 0.3809 - auc_5: 0.9065 - val_loss: 0.3697 - val_auc_5: 0.9123\n",
            "Epoch 5/25\n",
            "57/57 [==============================] - 1s 12ms/step - loss: 0.3594 - auc_5: 0.9175 - val_loss: 0.3786 - val_auc_5: 0.9210\n",
            "Epoch 6/25\n",
            "57/57 [==============================] - 1s 12ms/step - loss: 0.3240 - auc_5: 0.9336 - val_loss: 0.3305 - val_auc_5: 0.9321\n",
            "Epoch 7/25\n",
            "57/57 [==============================] - 1s 12ms/step - loss: 0.3185 - auc_5: 0.9360 - val_loss: 0.3542 - val_auc_5: 0.9365\n",
            "Epoch 8/25\n",
            "57/57 [==============================] - 1s 12ms/step - loss: 0.2935 - auc_5: 0.9458 - val_loss: 0.3293 - val_auc_5: 0.9414\n",
            "Epoch 9/25\n",
            "57/57 [==============================] - 1s 13ms/step - loss: 0.2915 - auc_5: 0.9466 - val_loss: 0.3014 - val_auc_5: 0.9429\n",
            "Epoch 10/25\n",
            "57/57 [==============================] - 1s 13ms/step - loss: 0.2721 - auc_5: 0.9534 - val_loss: 0.3071 - val_auc_5: 0.9436\n",
            "Epoch 11/25\n",
            "57/57 [==============================] - 1s 12ms/step - loss: 0.2720 - auc_5: 0.9536 - val_loss: 0.3247 - val_auc_5: 0.9441\n",
            "Epoch 12/25\n",
            "57/57 [==============================] - 1s 12ms/step - loss: 0.2600 - auc_5: 0.9576 - val_loss: 0.3059 - val_auc_5: 0.9440\n",
            "Epoch 13/25\n",
            "57/57 [==============================] - 1s 12ms/step - loss: 0.2467 - auc_5: 0.9618 - val_loss: 0.2960 - val_auc_5: 0.9464\n",
            "Epoch 14/25\n",
            "57/57 [==============================] - 1s 12ms/step - loss: 0.2457 - auc_5: 0.9621 - val_loss: 0.2974 - val_auc_5: 0.9468\n",
            "Epoch 15/25\n",
            "57/57 [==============================] - 1s 12ms/step - loss: 0.2318 - auc_5: 0.9661 - val_loss: 0.3032 - val_auc_5: 0.9471\n",
            "Epoch 16/25\n",
            "57/57 [==============================] - 1s 12ms/step - loss: 0.2371 - auc_5: 0.9647 - val_loss: 0.3456 - val_auc_5: 0.9457\n",
            "Epoch 17/25\n",
            "57/57 [==============================] - 1s 12ms/step - loss: 0.2515 - auc_5: 0.9603 - val_loss: 0.3100 - val_auc_5: 0.9455\n",
            "Epoch 18/25\n",
            "57/57 [==============================] - 1s 12ms/step - loss: 0.2194 - auc_5: 0.9697 - val_loss: 0.3599 - val_auc_5: 0.9438\n",
            "Epoch 19/25\n",
            "57/57 [==============================] - 1s 12ms/step - loss: 0.2275 - auc_5: 0.9675 - val_loss: 0.3142 - val_auc_5: 0.9459\n",
            "Epoch 20/25\n",
            "57/57 [==============================] - 1s 12ms/step - loss: 0.2167 - auc_5: 0.9705 - val_loss: 0.3454 - val_auc_5: 0.9460\n",
            "Epoch 21/25\n",
            "57/57 [==============================] - 1s 12ms/step - loss: 0.2119 - auc_5: 0.9716 - val_loss: 0.3191 - val_auc_5: 0.9485\n",
            "Epoch 22/25\n",
            "57/57 [==============================] - 1s 12ms/step - loss: 0.2114 - auc_5: 0.9717 - val_loss: 0.3335 - val_auc_5: 0.9442\n",
            "Epoch 23/25\n",
            "57/57 [==============================] - 1s 12ms/step - loss: 0.2095 - auc_5: 0.9722 - val_loss: 0.3157 - val_auc_5: 0.9469\n",
            "Epoch 24/25\n",
            "57/57 [==============================] - 1s 12ms/step - loss: 0.2022 - auc_5: 0.9741 - val_loss: 0.3276 - val_auc_5: 0.9467\n",
            "Epoch 25/25\n",
            "57/57 [==============================] - 1s 12ms/step - loss: 0.2044 - auc_5: 0.9736 - val_loss: 0.3132 - val_auc_5: 0.9488\n",
            "DOWNSAMPLED:(24634:32024)\n",
            "Epoch 1/25\n",
            "57/57 [==============================] - 1s 13ms/step - loss: 0.2157 - auc_5: 0.9708 - val_loss: 0.2009 - val_auc_5: 0.9759\n",
            "Epoch 2/25\n",
            "57/57 [==============================] - 1s 12ms/step - loss: 0.2058 - auc_5: 0.9731 - val_loss: 0.2875 - val_auc_5: 0.9750\n",
            "Epoch 3/25\n",
            "57/57 [==============================] - 1s 12ms/step - loss: 0.2080 - auc_5: 0.9727 - val_loss: 0.2053 - val_auc_5: 0.9727\n",
            "Epoch 4/25\n",
            "57/57 [==============================] - 1s 12ms/step - loss: 0.2054 - auc_5: 0.9734 - val_loss: 0.1923 - val_auc_5: 0.9768\n",
            "Epoch 5/25\n",
            "57/57 [==============================] - 1s 12ms/step - loss: 0.1910 - auc_5: 0.9768 - val_loss: 0.1945 - val_auc_5: 0.9768\n",
            "Epoch 6/25\n",
            "57/57 [==============================] - 1s 12ms/step - loss: 0.1880 - auc_5: 0.9775 - val_loss: 0.1981 - val_auc_5: 0.9771\n",
            "Epoch 7/25\n",
            "57/57 [==============================] - 1s 13ms/step - loss: 0.1888 - auc_5: 0.9773 - val_loss: 0.1875 - val_auc_5: 0.9773\n",
            "Epoch 8/25\n",
            "57/57 [==============================] - 1s 12ms/step - loss: 0.1839 - auc_5: 0.9784 - val_loss: 0.1933 - val_auc_5: 0.9774\n",
            "Epoch 9/25\n",
            "57/57 [==============================] - 1s 12ms/step - loss: 0.1826 - auc_5: 0.9787 - val_loss: 0.2093 - val_auc_5: 0.9770\n",
            "Epoch 10/25\n",
            "57/57 [==============================] - 1s 12ms/step - loss: 0.1812 - auc_5: 0.9791 - val_loss: 0.1936 - val_auc_5: 0.9763\n",
            "Epoch 11/25\n",
            "57/57 [==============================] - 1s 12ms/step - loss: 0.1871 - auc_5: 0.9778 - val_loss: 0.1926 - val_auc_5: 0.9771\n",
            "Epoch 12/25\n",
            "57/57 [==============================] - 1s 12ms/step - loss: 0.1830 - auc_5: 0.9787 - val_loss: 0.1944 - val_auc_5: 0.9766\n",
            "Epoch 13/25\n",
            "57/57 [==============================] - 1s 12ms/step - loss: 0.1797 - auc_5: 0.9794 - val_loss: 0.1916 - val_auc_5: 0.9768\n",
            "Epoch 14/25\n",
            "57/57 [==============================] - 1s 12ms/step - loss: 0.1722 - auc_5: 0.9811 - val_loss: 0.1941 - val_auc_5: 0.9783\n",
            "Epoch 15/25\n",
            "57/57 [==============================] - 1s 12ms/step - loss: 0.1732 - auc_5: 0.9808 - val_loss: 0.2137 - val_auc_5: 0.9771\n",
            "Epoch 16/25\n",
            "57/57 [==============================] - 1s 12ms/step - loss: 0.1666 - auc_5: 0.9822 - val_loss: 0.1891 - val_auc_5: 0.9769\n",
            "Epoch 17/25\n",
            "57/57 [==============================] - 1s 12ms/step - loss: 0.1687 - auc_5: 0.9818 - val_loss: 0.1960 - val_auc_5: 0.9775\n",
            "Epoch 18/25\n",
            "57/57 [==============================] - 1s 12ms/step - loss: 0.1647 - auc_5: 0.9827 - val_loss: 0.1897 - val_auc_5: 0.9778\n",
            "Epoch 19/25\n",
            "57/57 [==============================] - 1s 12ms/step - loss: 0.1631 - auc_5: 0.9830 - val_loss: 0.1912 - val_auc_5: 0.9780\n",
            "Epoch 20/25\n",
            "57/57 [==============================] - 1s 12ms/step - loss: 0.1624 - auc_5: 0.9832 - val_loss: 0.1903 - val_auc_5: 0.9776\n",
            "Epoch 21/25\n",
            "57/57 [==============================] - 1s 12ms/step - loss: 0.1594 - auc_5: 0.9837 - val_loss: 0.1949 - val_auc_5: 0.9769\n",
            "Epoch 22/25\n",
            "57/57 [==============================] - 1s 12ms/step - loss: 0.1593 - auc_5: 0.9837 - val_loss: 0.1918 - val_auc_5: 0.9774\n",
            "Epoch 23/25\n",
            "57/57 [==============================] - 1s 12ms/step - loss: 0.1677 - auc_5: 0.9820 - val_loss: 0.2113 - val_auc_5: 0.9764\n",
            "Epoch 24/25\n",
            "57/57 [==============================] - 1s 12ms/step - loss: 0.1638 - auc_5: 0.9829 - val_loss: 0.2098 - val_auc_5: 0.9767\n",
            "Epoch 25/25\n",
            "57/57 [==============================] - 1s 12ms/step - loss: 0.1572 - auc_5: 0.9842 - val_loss: 0.1960 - val_auc_5: 0.9771\n",
            "DOWNSAMPLED:(24634:32024)\n",
            "Epoch 1/25\n",
            "57/57 [==============================] - 1s 13ms/step - loss: 0.1737 - auc_5: 0.9808 - val_loss: 0.1539 - val_auc_5: 0.9848\n",
            "Epoch 2/25\n",
            "57/57 [==============================] - 1s 12ms/step - loss: 0.1568 - auc_5: 0.9843 - val_loss: 0.1517 - val_auc_5: 0.9854\n",
            "Epoch 3/25\n",
            "57/57 [==============================] - 1s 12ms/step - loss: 0.1559 - auc_5: 0.9845 - val_loss: 0.1657 - val_auc_5: 0.9840\n",
            "Epoch 4/25\n",
            "57/57 [==============================] - 1s 12ms/step - loss: 0.1530 - auc_5: 0.9850 - val_loss: 0.1623 - val_auc_5: 0.9835\n",
            "Epoch 5/25\n",
            "57/57 [==============================] - 1s 12ms/step - loss: 0.1572 - auc_5: 0.9842 - val_loss: 0.1604 - val_auc_5: 0.9840\n",
            "Epoch 6/25\n",
            "57/57 [==============================] - 1s 12ms/step - loss: 0.1672 - auc_5: 0.9824 - val_loss: 0.1614 - val_auc_5: 0.9842\n",
            "Epoch 7/25\n",
            "57/57 [==============================] - 1s 12ms/step - loss: 0.1545 - auc_5: 0.9848 - val_loss: 0.1943 - val_auc_5: 0.9804\n",
            "Epoch 8/25\n",
            "57/57 [==============================] - 1s 12ms/step - loss: 0.1506 - auc_5: 0.9855 - val_loss: 0.1739 - val_auc_5: 0.9834\n",
            "Epoch 9/25\n",
            "57/57 [==============================] - 1s 13ms/step - loss: 0.1474 - auc_5: 0.9861 - val_loss: 0.1672 - val_auc_5: 0.9831\n",
            "Epoch 10/25\n",
            "57/57 [==============================] - 1s 12ms/step - loss: 0.1435 - auc_5: 0.9867 - val_loss: 0.1786 - val_auc_5: 0.9835\n",
            "Epoch 11/25\n",
            "57/57 [==============================] - 1s 12ms/step - loss: 0.1499 - auc_5: 0.9857 - val_loss: 0.1748 - val_auc_5: 0.9827\n",
            "Epoch 12/25\n",
            "57/57 [==============================] - 1s 12ms/step - loss: 0.1416 - auc_5: 0.9871 - val_loss: 0.1633 - val_auc_5: 0.9833\n",
            "Epoch 13/25\n",
            "57/57 [==============================] - 1s 12ms/step - loss: 0.1397 - auc_5: 0.9874 - val_loss: 0.1704 - val_auc_5: 0.9830\n",
            "Epoch 14/25\n",
            "57/57 [==============================] - 1s 12ms/step - loss: 0.1412 - auc_5: 0.9872 - val_loss: 0.1664 - val_auc_5: 0.9826\n",
            "Epoch 15/25\n",
            "57/57 [==============================] - 1s 13ms/step - loss: 0.1374 - auc_5: 0.9879 - val_loss: 0.1691 - val_auc_5: 0.9825\n",
            "Epoch 16/25\n",
            "57/57 [==============================] - 1s 13ms/step - loss: 0.1395 - auc_5: 0.9876 - val_loss: 0.1682 - val_auc_5: 0.9823\n",
            "Epoch 17/25\n",
            "57/57 [==============================] - 1s 12ms/step - loss: 0.1389 - auc_5: 0.9875 - val_loss: 0.1841 - val_auc_5: 0.9795\n",
            "Epoch 18/25\n",
            "57/57 [==============================] - 1s 12ms/step - loss: 0.1372 - auc_5: 0.9879 - val_loss: 0.1760 - val_auc_5: 0.9825\n",
            "Epoch 19/25\n",
            "57/57 [==============================] - 1s 12ms/step - loss: 0.1386 - auc_5: 0.9877 - val_loss: 0.1760 - val_auc_5: 0.9808\n",
            "Epoch 20/25\n",
            "57/57 [==============================] - 1s 12ms/step - loss: 0.1314 - auc_5: 0.9888 - val_loss: 0.1720 - val_auc_5: 0.9825\n",
            "Epoch 21/25\n",
            "57/57 [==============================] - 1s 12ms/step - loss: 0.1298 - auc_5: 0.9891 - val_loss: 0.1806 - val_auc_5: 0.9807\n",
            "Epoch 22/25\n",
            "57/57 [==============================] - 1s 12ms/step - loss: 0.1314 - auc_5: 0.9889 - val_loss: 0.1689 - val_auc_5: 0.9819\n",
            "Epoch 23/25\n",
            "57/57 [==============================] - 1s 12ms/step - loss: 0.1287 - auc_5: 0.9893 - val_loss: 0.1765 - val_auc_5: 0.9815\n",
            "Epoch 24/25\n",
            "57/57 [==============================] - 1s 12ms/step - loss: 0.1316 - auc_5: 0.9889 - val_loss: 0.2034 - val_auc_5: 0.9794\n",
            "Epoch 25/25\n",
            "57/57 [==============================] - 1s 12ms/step - loss: 0.1268 - auc_5: 0.9896 - val_loss: 0.1762 - val_auc_5: 0.9810\n",
            "DOWNSAMPLED:(24634:32024)\n",
            "Epoch 1/25\n",
            "57/57 [==============================] - 1s 13ms/step - loss: 0.1383 - auc_5: 0.9877 - val_loss: 0.1403 - val_auc_5: 0.9875\n",
            "Epoch 2/25\n",
            "57/57 [==============================] - 1s 12ms/step - loss: 0.1323 - auc_5: 0.9887 - val_loss: 0.1305 - val_auc_5: 0.9892\n",
            "Epoch 3/25\n",
            "57/57 [==============================] - 1s 12ms/step - loss: 0.1255 - auc_5: 0.9899 - val_loss: 0.1301 - val_auc_5: 0.9890\n",
            "Epoch 4/25\n",
            "57/57 [==============================] - 1s 12ms/step - loss: 0.1205 - auc_5: 0.9906 - val_loss: 0.1344 - val_auc_5: 0.9890\n",
            "Epoch 5/25\n",
            "57/57 [==============================] - 1s 12ms/step - loss: 0.1199 - auc_5: 0.9906 - val_loss: 0.1359 - val_auc_5: 0.9882\n",
            "Epoch 6/25\n",
            "57/57 [==============================] - 1s 12ms/step - loss: 0.1269 - auc_5: 0.9896 - val_loss: 0.1431 - val_auc_5: 0.9875\n",
            "Epoch 7/25\n",
            "57/57 [==============================] - 1s 12ms/step - loss: 0.1169 - auc_5: 0.9911 - val_loss: 0.1390 - val_auc_5: 0.9885\n",
            "Epoch 8/25\n",
            "57/57 [==============================] - 1s 12ms/step - loss: 0.1142 - auc_5: 0.9915 - val_loss: 0.1427 - val_auc_5: 0.9885\n",
            "Epoch 9/25\n",
            "57/57 [==============================] - 1s 12ms/step - loss: 0.1241 - auc_5: 0.9901 - val_loss: 0.1378 - val_auc_5: 0.9879\n",
            "Epoch 10/25\n",
            "57/57 [==============================] - 1s 12ms/step - loss: 0.1167 - auc_5: 0.9911 - val_loss: 0.1490 - val_auc_5: 0.9869\n",
            "Epoch 11/25\n",
            "57/57 [==============================] - 1s 12ms/step - loss: 0.1131 - auc_5: 0.9917 - val_loss: 0.1510 - val_auc_5: 0.9863\n",
            "Epoch 12/25\n",
            "57/57 [==============================] - 1s 12ms/step - loss: 0.1161 - auc_5: 0.9914 - val_loss: 0.1416 - val_auc_5: 0.9872\n",
            "Epoch 13/25\n",
            "57/57 [==============================] - 1s 12ms/step - loss: 0.1111 - auc_5: 0.9919 - val_loss: 0.1403 - val_auc_5: 0.9877\n",
            "Epoch 14/25\n",
            "57/57 [==============================] - 1s 12ms/step - loss: 0.1056 - auc_5: 0.9927 - val_loss: 0.1430 - val_auc_5: 0.9874\n",
            "Epoch 15/25\n",
            "57/57 [==============================] - 1s 12ms/step - loss: 0.1022 - auc_5: 0.9931 - val_loss: 0.1621 - val_auc_5: 0.9859\n",
            "Epoch 16/25\n",
            "57/57 [==============================] - 1s 12ms/step - loss: 0.1149 - auc_5: 0.9915 - val_loss: 0.1468 - val_auc_5: 0.9868\n",
            "Epoch 17/25\n",
            "57/57 [==============================] - 1s 12ms/step - loss: 0.1056 - auc_5: 0.9927 - val_loss: 0.1734 - val_auc_5: 0.9842\n",
            "Epoch 18/25\n",
            "57/57 [==============================] - 1s 12ms/step - loss: 0.1229 - auc_5: 0.9904 - val_loss: 0.1454 - val_auc_5: 0.9870\n",
            "Epoch 19/25\n",
            "57/57 [==============================] - 1s 12ms/step - loss: 0.0977 - auc_5: 0.9937 - val_loss: 0.1492 - val_auc_5: 0.9861\n",
            "Epoch 20/25\n",
            "57/57 [==============================] - 1s 14ms/step - loss: 0.0974 - auc_5: 0.9938 - val_loss: 0.1744 - val_auc_5: 0.9850\n",
            "Epoch 21/25\n",
            "57/57 [==============================] - 1s 13ms/step - loss: 0.1072 - auc_5: 0.9923 - val_loss: 0.1642 - val_auc_5: 0.9835\n",
            "Epoch 22/25\n",
            "57/57 [==============================] - 1s 13ms/step - loss: 0.1007 - auc_5: 0.9934 - val_loss: 0.1573 - val_auc_5: 0.9850\n",
            "Epoch 23/25\n",
            "57/57 [==============================] - 1s 12ms/step - loss: 0.0993 - auc_5: 0.9936 - val_loss: 0.1585 - val_auc_5: 0.9852\n",
            "Epoch 24/25\n",
            "57/57 [==============================] - 1s 12ms/step - loss: 0.0971 - auc_5: 0.9939 - val_loss: 0.1591 - val_auc_5: 0.9852\n",
            "Epoch 25/25\n",
            "57/57 [==============================] - 1s 13ms/step - loss: 0.0936 - auc_5: 0.9942 - val_loss: 0.1761 - val_auc_5: 0.9839\n",
            "DOWNSAMPLED:(24634:32024)\n",
            "Epoch 1/25\n",
            "57/57 [==============================] - 1s 13ms/step - loss: 0.1072 - auc_5: 0.9924 - val_loss: 0.0964 - val_auc_5: 0.9945\n",
            "Epoch 2/25\n",
            "57/57 [==============================] - 1s 12ms/step - loss: 0.1002 - auc_5: 0.9934 - val_loss: 0.1038 - val_auc_5: 0.9935\n",
            "Epoch 3/25\n",
            "57/57 [==============================] - 1s 12ms/step - loss: 0.0965 - auc_5: 0.9939 - val_loss: 0.1007 - val_auc_5: 0.9935\n",
            "Epoch 4/25\n",
            "57/57 [==============================] - 1s 12ms/step - loss: 0.0970 - auc_5: 0.9938 - val_loss: 0.0943 - val_auc_5: 0.9940\n",
            "Epoch 5/25\n",
            "57/57 [==============================] - 1s 12ms/step - loss: 0.0868 - auc_5: 0.9949 - val_loss: 0.1029 - val_auc_5: 0.9928\n",
            "Epoch 6/25\n",
            "57/57 [==============================] - 1s 12ms/step - loss: 0.0869 - auc_5: 0.9949 - val_loss: 0.1133 - val_auc_5: 0.9917\n",
            "Epoch 7/25\n",
            "57/57 [==============================] - 1s 12ms/step - loss: 0.0989 - auc_5: 0.9936 - val_loss: 0.1155 - val_auc_5: 0.9913\n",
            "Epoch 8/25\n",
            "57/57 [==============================] - 1s 11ms/step - loss: 0.0863 - auc_5: 0.9950 - val_loss: 0.1038 - val_auc_5: 0.9930\n",
            "Epoch 9/25\n",
            "57/57 [==============================] - 1s 11ms/step - loss: 0.0838 - auc_5: 0.9953 - val_loss: 0.1089 - val_auc_5: 0.9919\n",
            "Epoch 10/25\n",
            "57/57 [==============================] - 1s 11ms/step - loss: 0.0797 - auc_5: 0.9958 - val_loss: 0.1010 - val_auc_5: 0.9933\n",
            "Epoch 11/25\n",
            "57/57 [==============================] - 1s 11ms/step - loss: 0.0793 - auc_5: 0.9958 - val_loss: 0.1064 - val_auc_5: 0.9923\n",
            "Epoch 12/25\n",
            "57/57 [==============================] - 1s 11ms/step - loss: 0.0747 - auc_5: 0.9963 - val_loss: 0.1093 - val_auc_5: 0.9917\n",
            "Epoch 13/25\n",
            "57/57 [==============================] - 1s 12ms/step - loss: 0.0752 - auc_5: 0.9963 - val_loss: 0.1208 - val_auc_5: 0.9913\n",
            "Epoch 14/25\n",
            "57/57 [==============================] - 1s 11ms/step - loss: 0.0696 - auc_5: 0.9968 - val_loss: 0.1096 - val_auc_5: 0.9920\n",
            "Epoch 15/25\n",
            "57/57 [==============================] - 1s 12ms/step - loss: 0.0690 - auc_5: 0.9968 - val_loss: 0.1180 - val_auc_5: 0.9912\n",
            "Epoch 16/25\n",
            "57/57 [==============================] - 1s 12ms/step - loss: 0.0703 - auc_5: 0.9967 - val_loss: 0.1155 - val_auc_5: 0.9912\n",
            "Epoch 17/25\n",
            "57/57 [==============================] - 1s 11ms/step - loss: 0.0762 - auc_5: 0.9962 - val_loss: 0.1278 - val_auc_5: 0.9903\n",
            "Epoch 18/25\n",
            "57/57 [==============================] - 1s 11ms/step - loss: 0.0696 - auc_5: 0.9967 - val_loss: 0.1415 - val_auc_5: 0.9877\n",
            "Epoch 19/25\n",
            "57/57 [==============================] - 1s 12ms/step - loss: 0.0754 - auc_5: 0.9959 - val_loss: 0.1324 - val_auc_5: 0.9900\n",
            "Epoch 20/25\n",
            "57/57 [==============================] - 1s 12ms/step - loss: 0.0565 - auc_5: 0.9978 - val_loss: 0.1372 - val_auc_5: 0.9885\n",
            "Epoch 21/25\n",
            "57/57 [==============================] - 1s 11ms/step - loss: 0.0568 - auc_5: 0.9979 - val_loss: 0.1363 - val_auc_5: 0.9893\n",
            "Epoch 22/25\n",
            "57/57 [==============================] - 1s 12ms/step - loss: 0.0539 - auc_5: 0.9981 - val_loss: 0.1429 - val_auc_5: 0.9875\n",
            "Epoch 23/25\n",
            "57/57 [==============================] - 1s 12ms/step - loss: 0.0547 - auc_5: 0.9980 - val_loss: 0.1373 - val_auc_5: 0.9891\n",
            "Epoch 24/25\n",
            "57/57 [==============================] - 1s 11ms/step - loss: 0.0505 - auc_5: 0.9983 - val_loss: 0.1593 - val_auc_5: 0.9858\n",
            "Epoch 25/25\n",
            "57/57 [==============================] - 1s 11ms/step - loss: 0.0484 - auc_5: 0.9985 - val_loss: 0.1625 - val_auc_5: 0.9860\n",
            "DOWNSAMPLED:(24634:32024)\n",
            "Epoch 1/25\n",
            "57/57 [==============================] - 1s 12ms/step - loss: 0.0703 - auc_5: 0.9962 - val_loss: 0.0949 - val_auc_5: 0.9970\n",
            "Epoch 2/25\n",
            "57/57 [==============================] - 1s 11ms/step - loss: 0.0627 - auc_5: 0.9971 - val_loss: 0.0709 - val_auc_5: 0.9969\n",
            "Epoch 3/25\n",
            "57/57 [==============================] - 1s 12ms/step - loss: 0.0555 - auc_5: 0.9978 - val_loss: 0.0592 - val_auc_5: 0.9978\n",
            "Epoch 4/25\n",
            "57/57 [==============================] - 1s 11ms/step - loss: 0.0464 - auc_5: 0.9984 - val_loss: 0.0568 - val_auc_5: 0.9982\n",
            "Epoch 5/25\n",
            "57/57 [==============================] - 1s 11ms/step - loss: 0.0564 - auc_5: 0.9978 - val_loss: 0.0777 - val_auc_5: 0.9971\n",
            "Epoch 6/25\n",
            "57/57 [==============================] - 1s 12ms/step - loss: 0.0446 - auc_5: 0.9986 - val_loss: 0.0661 - val_auc_5: 0.9973\n",
            "Epoch 7/25\n",
            "57/57 [==============================] - 1s 12ms/step - loss: 0.0394 - auc_5: 0.9989 - val_loss: 0.0685 - val_auc_5: 0.9968\n",
            "Epoch 8/25\n",
            "57/57 [==============================] - 1s 12ms/step - loss: 0.0393 - auc_5: 0.9989 - val_loss: 0.0858 - val_auc_5: 0.9946\n",
            "Epoch 9/25\n",
            "57/57 [==============================] - 1s 11ms/step - loss: 0.0479 - auc_5: 0.9984 - val_loss: 0.0747 - val_auc_5: 0.9962\n",
            "Epoch 10/25\n",
            "57/57 [==============================] - 1s 12ms/step - loss: 0.0371 - auc_5: 0.9991 - val_loss: 0.0804 - val_auc_5: 0.9959\n",
            "Epoch 11/25\n",
            "57/57 [==============================] - 1s 11ms/step - loss: 0.0351 - auc_5: 0.9992 - val_loss: 0.0892 - val_auc_5: 0.9953\n",
            "Epoch 12/25\n",
            "57/57 [==============================] - 1s 11ms/step - loss: 0.0403 - auc_5: 0.9989 - val_loss: 0.0906 - val_auc_5: 0.9952\n",
            "Epoch 13/25\n",
            "57/57 [==============================] - 1s 11ms/step - loss: 0.0341 - auc_5: 0.9992 - val_loss: 0.0953 - val_auc_5: 0.9948\n",
            "Epoch 14/25\n",
            "57/57 [==============================] - 1s 11ms/step - loss: 0.0312 - auc_5: 0.9994 - val_loss: 0.0982 - val_auc_5: 0.9948\n",
            "Epoch 15/25\n",
            "57/57 [==============================] - 1s 11ms/step - loss: 0.0223 - auc_5: 0.9997 - val_loss: 0.1012 - val_auc_5: 0.9938\n",
            "Epoch 16/25\n",
            "57/57 [==============================] - 1s 11ms/step - loss: 0.0399 - auc_5: 0.9988 - val_loss: 0.0958 - val_auc_5: 0.9945\n",
            "Epoch 17/25\n",
            "57/57 [==============================] - 1s 12ms/step - loss: 0.0230 - auc_5: 0.9997 - val_loss: 0.1018 - val_auc_5: 0.9937\n",
            "Epoch 18/25\n",
            "57/57 [==============================] - 1s 11ms/step - loss: 0.0189 - auc_5: 0.9998 - val_loss: 0.1007 - val_auc_5: 0.9943\n",
            "Epoch 19/25\n",
            "57/57 [==============================] - 1s 11ms/step - loss: 0.0149 - auc_5: 0.9999 - val_loss: 0.1010 - val_auc_5: 0.9944\n",
            "Epoch 20/25\n",
            "57/57 [==============================] - 1s 11ms/step - loss: 0.0365 - auc_5: 0.9990 - val_loss: 0.1126 - val_auc_5: 0.9921\n",
            "Epoch 21/25\n",
            "57/57 [==============================] - 1s 12ms/step - loss: 0.0315 - auc_5: 0.9993 - val_loss: 0.1094 - val_auc_5: 0.9927\n",
            "Epoch 22/25\n",
            "57/57 [==============================] - 1s 12ms/step - loss: 0.0295 - auc_5: 0.9990 - val_loss: 0.1121 - val_auc_5: 0.9925\n",
            "Epoch 23/25\n",
            "57/57 [==============================] - 1s 12ms/step - loss: 0.0162 - auc_5: 0.9998 - val_loss: 0.1099 - val_auc_5: 0.9925\n",
            "Epoch 24/25\n",
            "57/57 [==============================] - 1s 12ms/step - loss: 0.0109 - auc_5: 0.9999 - val_loss: 0.1205 - val_auc_5: 0.9921\n",
            "Epoch 25/25\n",
            "57/57 [==============================] - 1s 11ms/step - loss: 0.0086 - auc_5: 0.9999 - val_loss: 0.1226 - val_auc_5: 0.9910\n",
            "DOWNSAMPLED:(24634:32024)\n",
            "Epoch 1/25\n",
            "57/57 [==============================] - 1s 12ms/step - loss: 0.0449 - auc_5: 0.9980 - val_loss: 0.0383 - val_auc_5: 0.9986\n",
            "Epoch 2/25\n",
            "57/57 [==============================] - 1s 11ms/step - loss: 0.0521 - auc_5: 0.9979 - val_loss: 0.0519 - val_auc_5: 0.9982\n",
            "Epoch 3/25\n",
            "57/57 [==============================] - 1s 11ms/step - loss: 0.0354 - auc_5: 0.9990 - val_loss: 0.0290 - val_auc_5: 0.9994\n",
            "Epoch 4/25\n",
            "57/57 [==============================] - 1s 11ms/step - loss: 0.0245 - auc_5: 0.9996 - val_loss: 0.0255 - val_auc_5: 0.9992\n",
            "Epoch 5/25\n",
            "57/57 [==============================] - 1s 12ms/step - loss: 0.0156 - auc_5: 0.9998 - val_loss: 0.0290 - val_auc_5: 0.9990\n",
            "Epoch 6/25\n",
            "57/57 [==============================] - 1s 11ms/step - loss: 0.0206 - auc_5: 0.9996 - val_loss: 0.0395 - val_auc_5: 0.9990\n",
            "Epoch 7/25\n",
            "57/57 [==============================] - 1s 11ms/step - loss: 0.0687 - auc_5: 0.9962 - val_loss: 0.0475 - val_auc_5: 0.9985\n",
            "Epoch 8/25\n",
            "57/57 [==============================] - 1s 11ms/step - loss: 0.0190 - auc_5: 0.9998 - val_loss: 0.0376 - val_auc_5: 0.9989\n",
            "Epoch 9/25\n",
            "57/57 [==============================] - 1s 11ms/step - loss: 0.0120 - auc_5: 0.9999 - val_loss: 0.0384 - val_auc_5: 0.9986\n",
            "Epoch 10/25\n",
            "57/57 [==============================] - 1s 11ms/step - loss: 0.0080 - auc_5: 0.9999 - val_loss: 0.0318 - val_auc_5: 0.9988\n",
            "Epoch 11/25\n",
            "57/57 [==============================] - 1s 12ms/step - loss: 0.0060 - auc_5: 1.0000 - val_loss: 0.0378 - val_auc_5: 0.9984\n",
            "Epoch 12/25\n",
            "57/57 [==============================] - 1s 11ms/step - loss: 0.0083 - auc_5: 0.9998 - val_loss: 0.0448 - val_auc_5: 0.9977\n",
            "Epoch 13/25\n",
            "57/57 [==============================] - 1s 12ms/step - loss: 0.0069 - auc_5: 1.0000 - val_loss: 0.0331 - val_auc_5: 0.9987\n",
            "Epoch 14/25\n",
            "57/57 [==============================] - 1s 11ms/step - loss: 0.0036 - auc_5: 1.0000 - val_loss: 0.0400 - val_auc_5: 0.9987\n",
            "Epoch 15/25\n",
            "57/57 [==============================] - 1s 11ms/step - loss: 0.0026 - auc_5: 1.0000 - val_loss: 0.0376 - val_auc_5: 0.9983\n",
            "Epoch 16/25\n",
            "57/57 [==============================] - 1s 12ms/step - loss: 0.0019 - auc_5: 1.0000 - val_loss: 0.0401 - val_auc_5: 0.9981\n",
            "Epoch 17/25\n",
            "57/57 [==============================] - 1s 11ms/step - loss: 0.0015 - auc_5: 1.0000 - val_loss: 0.0366 - val_auc_5: 0.9981\n",
            "Epoch 18/25\n",
            "57/57 [==============================] - 1s 11ms/step - loss: 0.0013 - auc_5: 1.0000 - val_loss: 0.0394 - val_auc_5: 0.9982\n",
            "Epoch 19/25\n",
            "57/57 [==============================] - 1s 11ms/step - loss: 0.0011 - auc_5: 1.0000 - val_loss: 0.0380 - val_auc_5: 0.9982\n",
            "Epoch 20/25\n",
            "57/57 [==============================] - 1s 11ms/step - loss: 9.4479e-04 - auc_5: 1.0000 - val_loss: 0.0394 - val_auc_5: 0.9981\n",
            "Epoch 21/25\n",
            "57/57 [==============================] - 1s 11ms/step - loss: 8.3650e-04 - auc_5: 1.0000 - val_loss: 0.0398 - val_auc_5: 0.9979\n",
            "Epoch 22/25\n",
            "57/57 [==============================] - 1s 12ms/step - loss: 7.7820e-04 - auc_5: 1.0000 - val_loss: 0.0396 - val_auc_5: 0.9980\n",
            "Epoch 23/25\n",
            "57/57 [==============================] - 1s 11ms/step - loss: 6.8381e-04 - auc_5: 1.0000 - val_loss: 0.0420 - val_auc_5: 0.9977\n",
            "Epoch 24/25\n",
            "57/57 [==============================] - 1s 12ms/step - loss: 6.2291e-04 - auc_5: 1.0000 - val_loss: 0.0412 - val_auc_5: 0.9978\n",
            "Epoch 25/25\n",
            "57/57 [==============================] - 1s 11ms/step - loss: 5.7531e-04 - auc_5: 1.0000 - val_loss: 0.0429 - val_auc_5: 0.9978\n",
            "DOWNSAMPLED:(24634:32024)\n",
            "Epoch 1/25\n",
            "57/57 [==============================] - 1s 12ms/step - loss: 0.2210 - auc_5: 0.9776 - val_loss: 0.1439 - val_auc_5: 0.9876\n",
            "Epoch 2/25\n",
            "57/57 [==============================] - 1s 12ms/step - loss: 0.1118 - auc_5: 0.9920 - val_loss: 0.1033 - val_auc_5: 0.9936\n",
            "Epoch 3/25\n",
            "57/57 [==============================] - 1s 12ms/step - loss: 0.0722 - auc_5: 0.9967 - val_loss: 0.0731 - val_auc_5: 0.9960\n",
            "Epoch 4/25\n",
            "57/57 [==============================] - 1s 11ms/step - loss: 0.0543 - auc_5: 0.9981 - val_loss: 0.0644 - val_auc_5: 0.9971\n",
            "Epoch 5/25\n",
            "57/57 [==============================] - 1s 11ms/step - loss: 0.0433 - auc_5: 0.9987 - val_loss: 0.0645 - val_auc_5: 0.9972\n",
            "Epoch 6/25\n",
            "57/57 [==============================] - 1s 11ms/step - loss: 0.0297 - auc_5: 0.9994 - val_loss: 0.0514 - val_auc_5: 0.9980\n",
            "Epoch 7/25\n",
            "57/57 [==============================] - 1s 11ms/step - loss: 0.0232 - auc_5: 0.9997 - val_loss: 0.0406 - val_auc_5: 0.9981\n",
            "Epoch 8/25\n",
            "57/57 [==============================] - 1s 11ms/step - loss: 0.0154 - auc_5: 0.9999 - val_loss: 0.0375 - val_auc_5: 0.9986\n",
            "Epoch 9/25\n",
            "57/57 [==============================] - 1s 12ms/step - loss: 0.0107 - auc_5: 0.9999 - val_loss: 0.0428 - val_auc_5: 0.9981\n",
            "Epoch 10/25\n",
            "57/57 [==============================] - 1s 11ms/step - loss: 0.0084 - auc_5: 1.0000 - val_loss: 0.0421 - val_auc_5: 0.9980\n",
            "Epoch 11/25\n",
            "57/57 [==============================] - 1s 12ms/step - loss: 0.0092 - auc_5: 0.9999 - val_loss: 0.0506 - val_auc_5: 0.9977\n",
            "Epoch 12/25\n",
            "57/57 [==============================] - 1s 11ms/step - loss: 0.0087 - auc_5: 1.0000 - val_loss: 0.0424 - val_auc_5: 0.9982\n",
            "Epoch 13/25\n",
            "57/57 [==============================] - 1s 11ms/step - loss: 0.0072 - auc_5: 1.0000 - val_loss: 0.0413 - val_auc_5: 0.9984\n",
            "Epoch 14/25\n",
            "57/57 [==============================] - 1s 12ms/step - loss: 0.0073 - auc_5: 1.0000 - val_loss: 0.0454 - val_auc_5: 0.9982\n",
            "Epoch 15/25\n",
            "57/57 [==============================] - 1s 11ms/step - loss: 0.0072 - auc_5: 1.0000 - val_loss: 0.0481 - val_auc_5: 0.9978\n",
            "Epoch 16/25\n",
            "57/57 [==============================] - 1s 12ms/step - loss: 0.0103 - auc_5: 0.9999 - val_loss: 0.0522 - val_auc_5: 0.9976\n",
            "Epoch 17/25\n",
            "57/57 [==============================] - 1s 12ms/step - loss: 0.0165 - auc_5: 0.9997 - val_loss: 0.0771 - val_auc_5: 0.9958\n",
            "Epoch 18/25\n",
            "57/57 [==============================] - 1s 11ms/step - loss: 0.0186 - auc_5: 0.9997 - val_loss: 0.0613 - val_auc_5: 0.9972\n",
            "Epoch 19/25\n",
            "57/57 [==============================] - 1s 12ms/step - loss: 0.0245 - auc_5: 0.9992 - val_loss: 0.0952 - val_auc_5: 0.9934\n",
            "Epoch 20/25\n",
            "57/57 [==============================] - 1s 11ms/step - loss: 0.0182 - auc_5: 0.9997 - val_loss: 0.0570 - val_auc_5: 0.9975\n",
            "Epoch 21/25\n",
            "57/57 [==============================] - 1s 11ms/step - loss: 0.0115 - auc_5: 0.9999 - val_loss: 0.0587 - val_auc_5: 0.9971\n",
            "Epoch 22/25\n",
            "57/57 [==============================] - 1s 11ms/step - loss: 0.0160 - auc_5: 0.9997 - val_loss: 0.0609 - val_auc_5: 0.9965\n",
            "Epoch 23/25\n",
            "57/57 [==============================] - 1s 11ms/step - loss: 0.0200 - auc_5: 0.9996 - val_loss: 0.0725 - val_auc_5: 0.9954\n",
            "Epoch 24/25\n",
            "57/57 [==============================] - 1s 12ms/step - loss: 0.0108 - auc_5: 0.9999 - val_loss: 0.0638 - val_auc_5: 0.9965\n",
            "Epoch 25/25\n",
            "57/57 [==============================] - 1s 11ms/step - loss: 0.0049 - auc_5: 1.0000 - val_loss: 0.0570 - val_auc_5: 0.9975\n",
            "DOWNSAMPLED:(24634:32024)\n",
            "Epoch 1/25\n",
            "57/57 [==============================] - 1s 12ms/step - loss: 0.0338 - auc_5: 0.9986 - val_loss: 0.0811 - val_auc_5: 0.9963\n",
            "Epoch 2/25\n",
            "57/57 [==============================] - 1s 12ms/step - loss: 0.1055 - auc_5: 0.9921 - val_loss: 0.0371 - val_auc_5: 0.9994\n",
            "Epoch 3/25\n",
            "57/57 [==============================] - 1s 12ms/step - loss: 0.0198 - auc_5: 0.9998 - val_loss: 0.0194 - val_auc_5: 0.9998\n",
            "Epoch 4/25\n",
            "57/57 [==============================] - 1s 12ms/step - loss: 0.0070 - auc_5: 1.0000 - val_loss: 0.0123 - val_auc_5: 0.9999\n",
            "Epoch 5/25\n",
            "57/57 [==============================] - 1s 12ms/step - loss: 0.0040 - auc_5: 1.0000 - val_loss: 0.0080 - val_auc_5: 1.0000\n",
            "Epoch 6/25\n",
            "57/57 [==============================] - 1s 12ms/step - loss: 0.0021 - auc_5: 1.0000 - val_loss: 0.0073 - val_auc_5: 1.0000\n",
            "Epoch 7/25\n",
            "57/57 [==============================] - 1s 11ms/step - loss: 0.0012 - auc_5: 1.0000 - val_loss: 0.0065 - val_auc_5: 1.0000\n",
            "Epoch 8/25\n",
            "57/57 [==============================] - 1s 11ms/step - loss: 8.5914e-04 - auc_5: 1.0000 - val_loss: 0.0059 - val_auc_5: 1.0000\n",
            "Epoch 9/25\n",
            "57/57 [==============================] - 1s 11ms/step - loss: 6.8349e-04 - auc_5: 1.0000 - val_loss: 0.0057 - val_auc_5: 1.0000\n",
            "Epoch 10/25\n",
            "57/57 [==============================] - 1s 12ms/step - loss: 5.9305e-04 - auc_5: 1.0000 - val_loss: 0.0058 - val_auc_5: 1.0000\n",
            "Epoch 11/25\n",
            "57/57 [==============================] - 1s 11ms/step - loss: 5.2562e-04 - auc_5: 1.0000 - val_loss: 0.0062 - val_auc_5: 1.0000\n",
            "Epoch 12/25\n",
            "57/57 [==============================] - 1s 11ms/step - loss: 4.7211e-04 - auc_5: 1.0000 - val_loss: 0.0059 - val_auc_5: 1.0000\n",
            "Epoch 13/25\n",
            "57/57 [==============================] - 1s 11ms/step - loss: 4.3194e-04 - auc_5: 1.0000 - val_loss: 0.0057 - val_auc_5: 1.0000\n",
            "Epoch 14/25\n",
            "57/57 [==============================] - 1s 11ms/step - loss: 3.9955e-04 - auc_5: 1.0000 - val_loss: 0.0058 - val_auc_5: 1.0000\n",
            "Epoch 15/25\n",
            "57/57 [==============================] - 1s 12ms/step - loss: 3.6346e-04 - auc_5: 1.0000 - val_loss: 0.0056 - val_auc_5: 1.0000\n",
            "Epoch 16/25\n",
            "57/57 [==============================] - 1s 11ms/step - loss: 3.3688e-04 - auc_5: 1.0000 - val_loss: 0.0055 - val_auc_5: 1.0000\n",
            "Epoch 17/25\n",
            "57/57 [==============================] - 1s 11ms/step - loss: 3.1122e-04 - auc_5: 1.0000 - val_loss: 0.0061 - val_auc_5: 1.0000\n",
            "Epoch 18/25\n",
            "57/57 [==============================] - 1s 11ms/step - loss: 2.9572e-04 - auc_5: 1.0000 - val_loss: 0.0058 - val_auc_5: 1.0000\n",
            "Epoch 19/25\n",
            "57/57 [==============================] - 1s 12ms/step - loss: 2.7030e-04 - auc_5: 1.0000 - val_loss: 0.0057 - val_auc_5: 1.0000\n",
            "Epoch 20/25\n",
            "57/57 [==============================] - 1s 11ms/step - loss: 2.5066e-04 - auc_5: 1.0000 - val_loss: 0.0058 - val_auc_5: 1.0000\n",
            "Epoch 21/25\n",
            "57/57 [==============================] - 1s 12ms/step - loss: 2.3742e-04 - auc_5: 1.0000 - val_loss: 0.0059 - val_auc_5: 1.0000\n",
            "Epoch 22/25\n",
            "57/57 [==============================] - 1s 12ms/step - loss: 2.2075e-04 - auc_5: 1.0000 - val_loss: 0.0062 - val_auc_5: 1.0000\n",
            "Epoch 23/25\n",
            "57/57 [==============================] - 1s 11ms/step - loss: 2.0803e-04 - auc_5: 1.0000 - val_loss: 0.0059 - val_auc_5: 1.0000\n",
            "Epoch 24/25\n",
            "57/57 [==============================] - 1s 12ms/step - loss: 1.9349e-04 - auc_5: 1.0000 - val_loss: 0.0058 - val_auc_5: 1.0000\n",
            "Epoch 25/25\n",
            "57/57 [==============================] - 1s 11ms/step - loss: 1.8084e-04 - auc_5: 1.0000 - val_loss: 0.0060 - val_auc_5: 1.0000\n",
            "DOWNSAMPLED:(24634:32024)\n",
            "Epoch 1/25\n",
            "57/57 [==============================] - 1s 12ms/step - loss: 0.0629 - auc_5: 0.9957 - val_loss: 0.1268 - val_auc_5: 0.9900\n",
            "Epoch 2/25\n",
            "57/57 [==============================] - 1s 12ms/step - loss: 0.0725 - auc_5: 0.9963 - val_loss: 0.0384 - val_auc_5: 0.9992\n",
            "Epoch 3/25\n",
            "57/57 [==============================] - 1s 11ms/step - loss: 0.0167 - auc_5: 0.9998 - val_loss: 0.0196 - val_auc_5: 0.9996\n",
            "Epoch 4/25\n",
            "57/57 [==============================] - 1s 12ms/step - loss: 0.0099 - auc_5: 0.9999 - val_loss: 0.0252 - val_auc_5: 0.9993\n",
            "Epoch 5/25\n",
            "57/57 [==============================] - 1s 11ms/step - loss: 0.0085 - auc_5: 0.9999 - val_loss: 0.0326 - val_auc_5: 0.9990\n",
            "Epoch 6/25\n",
            "57/57 [==============================] - 1s 12ms/step - loss: 0.0152 - auc_5: 0.9996 - val_loss: 0.0367 - val_auc_5: 0.9984\n",
            "Epoch 7/25\n",
            "57/57 [==============================] - 1s 11ms/step - loss: 0.0451 - auc_5: 0.9977 - val_loss: 0.1900 - val_auc_5: 0.9862\n",
            "Epoch 8/25\n",
            "57/57 [==============================] - 1s 11ms/step - loss: 0.0465 - auc_5: 0.9981 - val_loss: 0.0268 - val_auc_5: 0.9996\n",
            "Epoch 9/25\n",
            "57/57 [==============================] - 1s 12ms/step - loss: 0.0065 - auc_5: 1.0000 - val_loss: 0.0167 - val_auc_5: 0.9999\n",
            "Epoch 10/25\n",
            "57/57 [==============================] - 1s 11ms/step - loss: 0.0018 - auc_5: 1.0000 - val_loss: 0.0121 - val_auc_5: 0.9999\n",
            "Epoch 11/25\n",
            "57/57 [==============================] - 1s 11ms/step - loss: 9.3975e-04 - auc_5: 1.0000 - val_loss: 0.0121 - val_auc_5: 0.9999\n",
            "Epoch 12/25\n",
            "57/57 [==============================] - 1s 11ms/step - loss: 6.0023e-04 - auc_5: 1.0000 - val_loss: 0.0130 - val_auc_5: 0.9999\n",
            "Epoch 13/25\n",
            "57/57 [==============================] - 1s 11ms/step - loss: 4.7349e-04 - auc_5: 1.0000 - val_loss: 0.0117 - val_auc_5: 0.9999\n",
            "Epoch 14/25\n",
            "57/57 [==============================] - 1s 12ms/step - loss: 3.7552e-04 - auc_5: 1.0000 - val_loss: 0.0121 - val_auc_5: 0.9999\n",
            "Epoch 15/25\n",
            "57/57 [==============================] - 1s 11ms/step - loss: 3.1988e-04 - auc_5: 1.0000 - val_loss: 0.0115 - val_auc_5: 0.9999\n",
            "Epoch 16/25\n",
            "57/57 [==============================] - 1s 11ms/step - loss: 2.8053e-04 - auc_5: 1.0000 - val_loss: 0.0117 - val_auc_5: 0.9999\n",
            "Epoch 17/25\n",
            "57/57 [==============================] - 1s 11ms/step - loss: 2.5159e-04 - auc_5: 1.0000 - val_loss: 0.0116 - val_auc_5: 0.9999\n",
            "Epoch 18/25\n",
            "57/57 [==============================] - 1s 11ms/step - loss: 2.2534e-04 - auc_5: 1.0000 - val_loss: 0.0117 - val_auc_5: 0.9999\n",
            "Epoch 19/25\n",
            "57/57 [==============================] - 1s 12ms/step - loss: 2.0484e-04 - auc_5: 1.0000 - val_loss: 0.0119 - val_auc_5: 0.9999\n",
            "Epoch 20/25\n",
            "57/57 [==============================] - 1s 11ms/step - loss: 1.8863e-04 - auc_5: 1.0000 - val_loss: 0.0116 - val_auc_5: 0.9999\n",
            "Epoch 21/25\n",
            "57/57 [==============================] - 1s 11ms/step - loss: 1.7480e-04 - auc_5: 1.0000 - val_loss: 0.0117 - val_auc_5: 0.9999\n",
            "Epoch 22/25\n",
            "57/57 [==============================] - 1s 11ms/step - loss: 1.6308e-04 - auc_5: 1.0000 - val_loss: 0.0118 - val_auc_5: 0.9999\n",
            "Epoch 23/25\n",
            "57/57 [==============================] - 1s 12ms/step - loss: 1.5207e-04 - auc_5: 1.0000 - val_loss: 0.0119 - val_auc_5: 0.9999\n",
            "Epoch 24/25\n",
            "57/57 [==============================] - 1s 11ms/step - loss: 1.4357e-04 - auc_5: 1.0000 - val_loss: 0.0120 - val_auc_5: 0.9999\n",
            "Epoch 25/25\n",
            "57/57 [==============================] - 1s 11ms/step - loss: 1.3534e-04 - auc_5: 1.0000 - val_loss: 0.0122 - val_auc_5: 0.9999\n"
          ]
        }
      ],
      "source": [
        "rand_state= random.randint(0,1000)\n",
        "#NN training with 10-fold cross-validation stratified with random under-sampling technic for imbalanced data\n",
        "X = pre_processed_data.drop([\"id\",\"generated\"],axis=1)\n",
        "Y = pre_processed_data[\"generated\"]\n",
        "folds = StratifiedKFold(10,shuffle=True,random_state=rand_state)\n",
        "for fold, (train_index, val_index) in enumerate(folds.split(X,Y)):\n",
        "    X_train, X_val = X.iloc[train_index], X.iloc[val_index]\n",
        "    y_train, y_val = Y.iloc[train_index], Y.iloc[val_index]\n",
        "\n",
        "    X_train_dwns, y_train_dwns = downsampling(X_train,y_train,rand_state,ratio=1.3)\n",
        "\n",
        "    #print(f\"Fold {fold + 1}: Train {len(train_index)} samples, Validation {len(val_index)} samples\")\n",
        "    #print(f\"TRAIN:({y_train[y_train==0].size}:{y_train[y_train==1].size})\")\n",
        "    print(f\"DOWNSAMPLED:({y_train_dwns[y_train_dwns==0].size}:{y_train_dwns[y_train_dwns==1].size})\")\n",
        "    #print(f\"VAL:({y_val[y_val==0].size}:{y_val[y_val==1].size})\")\n",
        "\n",
        "    NNmodel.fit(X_train_dwns,\n",
        "                y_train_dwns,\n",
        "                validation_data=(X_val,y_val),\n",
        "                batch_size=1000,\n",
        "                epochs=18)"
      ]
    },
    {
      "cell_type": "code",
      "execution_count": null,
      "metadata": {},
      "outputs": [
        {
          "name": "stdout",
          "output_type": "stream",
          "text": [
            "2043/2043 [==============================] - 3s 2ms/step\n"
          ]
        },
        {
          "data": {
            "image/png": "[encoded data removed]",
            "text/plain": [
              "<Figure size 1000x400 with 2 Axes>"
            ]
          },
          "metadata": {},
          "output_type": "display_data"
        }
      ],
      "source": [
        "ROCcurves(NNmodel,X,Y)"
      ]
    },
    {
      "cell_type": "code",
      "execution_count": null,
      "metadata": {
        "colab": {
          "base_uri": "https://localhost:8080/"
        },
        "id": "Ub2SWyaC9uL2",
        "outputId": "d63e26ff-e443-4621-9757-f9444e0fdfa6"
      },
      "outputs": [
        {
          "name": "stdout",
          "output_type": "stream",
          "text": [
            "2043/2043 [==============================] - 3s 1ms/step\n"
          ]
        },
        {
          "data": {
            "text/plain": [
              "<sklearn.metrics._plot.confusion_matrix.ConfusionMatrixDisplay at 0x7f9eaaa6bb10>"
            ]
          },
          "execution_count": 38,
          "metadata": {},
          "output_type": "execute_result"
        },
        {
          "data": {
            "image/png": "[encoded data removed]",
            "text/plain": [
              "<Figure size 640x480 with 2 Axes>"
            ]
          },
          "metadata": {},
          "output_type": "display_data"
        }
      ],
      "source": [
        "pred = list(map(lambda pred : 1 if pred > 0.5 else 0,NNmodel.predict(x=X)))\n",
        "display = ConfusionMatrixDisplay(confusion_matrix(pred,Y),display_labels=[\"True\",\"False\"])\n",
        "display.plot()"
      ]
    },
    {
      "cell_type": "code",
      "execution_count": null,
      "metadata": {
        "colab": {
          "base_uri": "https://localhost:8080/"
        },
        "id": "o5dVLLxVyjOg",
        "outputId": "4d54fa2d-90ac-45bf-fddb-16e7cebe5806"
      },
      "outputs": [
        {
          "name": "stdout",
          "output_type": "stream",
          "text": [
            "1/1 [==============================] - 0s 18ms/step\n"
          ]
        },
        {
          "data": {
            "text/plain": [
              "array([[1.]], dtype=float32)"
            ]
          },
          "execution_count": 39,
          "metadata": {},
          "output_type": "execute_result"
        }
      ],
      "source": [
        "NNmodel.predict(x=pd.DataFrame(X.iloc[1385]).transpose())"
      ]
    },
    {
      "cell_type": "code",
      "execution_count": null,
      "metadata": {},
      "outputs": [
        {
          "name": "stderr",
          "output_type": "stream",
          "text": [
            "/home/mrtc101/Desktop/ciencias de la computacion/Cursado/4.2Inteligencia Artificial 2/Final/venv/lib/python3.11/site-packages/keras/src/engine/training.py:3103: UserWarning: You are saving your model as an HDF5 file via `model.save()`. This file format is considered legacy. We recommend using instead the native Keras format, e.g. `model.save('my_model.keras')`.\n",
            "  saving_api.save_model(\n"
          ]
        }
      ],
      "source": [
        "#Save model weights\n",
        "NNmodel.save(\"../data/weight/DenseNetwork.h5\")"
      ]
    },
    {
      "cell_type": "markdown",
      "metadata": {},
      "source": [
        "## Embeddings ploting"
      ]
    },
    {
      "cell_type": "code",
      "execution_count": null,
      "metadata": {},
      "outputs": [
        {
          "ename": "KeyError",
          "evalue": "20",
          "output_type": "error",
          "traceback": [
            "\u001b[0;31m---------------------------------------------------------------------------\u001b[0m",
            "\u001b[0;31mKeyError\u001b[0m                                  Traceback (most recent call last)",
            "File \u001b[0;32m~/Desktop/ciencias de la computacion/Cursado/4.2Inteligencia Artificial 2/Final/venv/lib/python3.11/site-packages/pandas/core/indexes/base.py:3791\u001b[0m, in \u001b[0;36mIndex.get_loc\u001b[0;34m(self, key)\u001b[0m\n\u001b[1;32m   3790\u001b[0m \u001b[38;5;28;01mtry\u001b[39;00m:\n\u001b[0;32m-> 3791\u001b[0m     \u001b[38;5;28;01mreturn\u001b[39;00m \u001b[38;5;28;43mself\u001b[39;49m\u001b[38;5;241;43m.\u001b[39;49m\u001b[43m_engine\u001b[49m\u001b[38;5;241;43m.\u001b[39;49m\u001b[43mget_loc\u001b[49m\u001b[43m(\u001b[49m\u001b[43mcasted_key\u001b[49m\u001b[43m)\u001b[49m\n\u001b[1;32m   3792\u001b[0m \u001b[38;5;28;01mexcept\u001b[39;00m \u001b[38;5;167;01mKeyError\u001b[39;00m \u001b[38;5;28;01mas\u001b[39;00m err:\n",
            "File \u001b[0;32mindex.pyx:152\u001b[0m, in \u001b[0;36mpandas._libs.index.IndexEngine.get_loc\u001b[0;34m()\u001b[0m\n",
            "File \u001b[0;32mindex.pyx:181\u001b[0m, in \u001b[0;36mpandas._libs.index.IndexEngine.get_loc\u001b[0;34m()\u001b[0m\n",
            "File \u001b[0;32mpandas/_libs/hashtable_class_helper.pxi:7080\u001b[0m, in \u001b[0;36mpandas._libs.hashtable.PyObjectHashTable.get_item\u001b[0;34m()\u001b[0m\n",
            "File \u001b[0;32mpandas/_libs/hashtable_class_helper.pxi:7088\u001b[0m, in \u001b[0;36mpandas._libs.hashtable.PyObjectHashTable.get_item\u001b[0;34m()\u001b[0m\n",
            "\u001b[0;31mKeyError\u001b[0m: 20",
            "\nThe above exception was the direct cause of the following exception:\n",
            "\u001b[0;31mKeyError\u001b[0m                                  Traceback (most recent call last)",
            "Cell \u001b[0;32mIn[41], line 1\u001b[0m\n\u001b[0;32m----> 1\u001b[0m plt\u001b[38;5;241m.\u001b[39mscatter(x\u001b[38;5;241m=\u001b[39m\u001b[43mpre_processed_data\u001b[49m\u001b[43m[\u001b[49m\u001b[43mpre_processed_data\u001b[49m\u001b[43m[\u001b[49m\u001b[38;5;124;43m\"\u001b[39;49m\u001b[38;5;124;43mgenerated\u001b[39;49m\u001b[38;5;124;43m\"\u001b[39;49m\u001b[43m]\u001b[49m\u001b[38;5;241;43m==\u001b[39;49m\u001b[38;5;241;43m0\u001b[39;49m\u001b[43m]\u001b[49m\u001b[43m[\u001b[49m\u001b[38;5;241;43m20\u001b[39;49m\u001b[43m]\u001b[49m,\n\u001b[1;32m      2\u001b[0m             y\u001b[38;5;241m=\u001b[39mpre_processed_data[pre_processed_data[\u001b[38;5;124m\"\u001b[39m\u001b[38;5;124mgenerated\u001b[39m\u001b[38;5;124m\"\u001b[39m]\u001b[38;5;241m==\u001b[39m\u001b[38;5;241m0\u001b[39m][\u001b[38;5;241m40\u001b[39m])\n\u001b[1;32m      3\u001b[0m plt\u001b[38;5;241m.\u001b[39mscatter(x\u001b[38;5;241m=\u001b[39mpre_processed_data[pre_processed_data[\u001b[38;5;124m\"\u001b[39m\u001b[38;5;124mgenerated\u001b[39m\u001b[38;5;124m\"\u001b[39m]\u001b[38;5;241m==\u001b[39m\u001b[38;5;241m1\u001b[39m][\u001b[38;5;241m20\u001b[39m],\n\u001b[1;32m      4\u001b[0m             y\u001b[38;5;241m=\u001b[39mpre_processed_data[pre_processed_data[\u001b[38;5;124m\"\u001b[39m\u001b[38;5;124mgenerated\u001b[39m\u001b[38;5;124m\"\u001b[39m]\u001b[38;5;241m==\u001b[39m\u001b[38;5;241m1\u001b[39m][\u001b[38;5;241m40\u001b[39m])\n",
            "File \u001b[0;32m~/Desktop/ciencias de la computacion/Cursado/4.2Inteligencia Artificial 2/Final/venv/lib/python3.11/site-packages/pandas/core/frame.py:3893\u001b[0m, in \u001b[0;36mDataFrame.__getitem__\u001b[0;34m(self, key)\u001b[0m\n\u001b[1;32m   3891\u001b[0m \u001b[38;5;28;01mif\u001b[39;00m \u001b[38;5;28mself\u001b[39m\u001b[38;5;241m.\u001b[39mcolumns\u001b[38;5;241m.\u001b[39mnlevels \u001b[38;5;241m>\u001b[39m \u001b[38;5;241m1\u001b[39m:\n\u001b[1;32m   3892\u001b[0m     \u001b[38;5;28;01mreturn\u001b[39;00m \u001b[38;5;28mself\u001b[39m\u001b[38;5;241m.\u001b[39m_getitem_multilevel(key)\n\u001b[0;32m-> 3893\u001b[0m indexer \u001b[38;5;241m=\u001b[39m \u001b[38;5;28;43mself\u001b[39;49m\u001b[38;5;241;43m.\u001b[39;49m\u001b[43mcolumns\u001b[49m\u001b[38;5;241;43m.\u001b[39;49m\u001b[43mget_loc\u001b[49m\u001b[43m(\u001b[49m\u001b[43mkey\u001b[49m\u001b[43m)\u001b[49m\n\u001b[1;32m   3894\u001b[0m \u001b[38;5;28;01mif\u001b[39;00m is_integer(indexer):\n\u001b[1;32m   3895\u001b[0m     indexer \u001b[38;5;241m=\u001b[39m [indexer]\n",
            "File \u001b[0;32m~/Desktop/ciencias de la computacion/Cursado/4.2Inteligencia Artificial 2/Final/venv/lib/python3.11/site-packages/pandas/core/indexes/base.py:3798\u001b[0m, in \u001b[0;36mIndex.get_loc\u001b[0;34m(self, key)\u001b[0m\n\u001b[1;32m   3793\u001b[0m     \u001b[38;5;28;01mif\u001b[39;00m \u001b[38;5;28misinstance\u001b[39m(casted_key, \u001b[38;5;28mslice\u001b[39m) \u001b[38;5;129;01mor\u001b[39;00m (\n\u001b[1;32m   3794\u001b[0m         \u001b[38;5;28misinstance\u001b[39m(casted_key, abc\u001b[38;5;241m.\u001b[39mIterable)\n\u001b[1;32m   3795\u001b[0m         \u001b[38;5;129;01mand\u001b[39;00m \u001b[38;5;28many\u001b[39m(\u001b[38;5;28misinstance\u001b[39m(x, \u001b[38;5;28mslice\u001b[39m) \u001b[38;5;28;01mfor\u001b[39;00m x \u001b[38;5;129;01min\u001b[39;00m casted_key)\n\u001b[1;32m   3796\u001b[0m     ):\n\u001b[1;32m   3797\u001b[0m         \u001b[38;5;28;01mraise\u001b[39;00m InvalidIndexError(key)\n\u001b[0;32m-> 3798\u001b[0m     \u001b[38;5;28;01mraise\u001b[39;00m \u001b[38;5;167;01mKeyError\u001b[39;00m(key) \u001b[38;5;28;01mfrom\u001b[39;00m \u001b[38;5;21;01merr\u001b[39;00m\n\u001b[1;32m   3799\u001b[0m \u001b[38;5;28;01mexcept\u001b[39;00m \u001b[38;5;167;01mTypeError\u001b[39;00m:\n\u001b[1;32m   3800\u001b[0m     \u001b[38;5;66;03m# If we have a listlike key, _check_indexing_error will raise\u001b[39;00m\n\u001b[1;32m   3801\u001b[0m     \u001b[38;5;66;03m#  InvalidIndexError. Otherwise we fall through and re-raise\u001b[39;00m\n\u001b[1;32m   3802\u001b[0m     \u001b[38;5;66;03m#  the TypeError.\u001b[39;00m\n\u001b[1;32m   3803\u001b[0m     \u001b[38;5;28mself\u001b[39m\u001b[38;5;241m.\u001b[39m_check_indexing_error(key)\n",
            "\u001b[0;31mKeyError\u001b[0m: 20"
          ]
        }
      ],
      "source": [
        "plt.scatter(x=pre_processed_data[pre_processed_data[\"generated\"]==0][20],\n",
        "            y=pre_processed_data[pre_processed_data[\"generated\"]==0][40])\n",
        "plt.scatter(x=pre_processed_data[pre_processed_data[\"generated\"]==1][20],\n",
        "            y=pre_processed_data[pre_processed_data[\"generated\"]==1][40])\n"
      ]
    },
    {
      "cell_type": "markdown",
      "metadata": {},
      "source": [
        "## Hyperparameter tuning"
      ]
    },
    {
      "cell_type": "code",
      "execution_count": null,
      "metadata": {},
      "outputs": [],
      "source": [
        "def get_model(d,w):\n",
        "    input = keras.Input(shape=(pre_processed_data.shape[1]-2,))\n",
        "    x = keras.layers.Dense(pre_processed_data.shape[1]-2,activation=\"relu\")(input)\n",
        "    for l in range(0,d):\n",
        "        x = keras.layers.Dense(w,activation=\"relu\")(x)\n",
        "    output = keras.layers.Dense(1,activation=\"sigmoid\")(x)\n",
        "\n",
        "    NNmodel = keras.Model(input,output)\n",
        "\n",
        "    NNmodel.compile(optimizer='adam',\n",
        "                loss=keras.losses.BinaryCrossentropy(),\n",
        "                metrics=[keras.metrics.AUC()])\n",
        "    return NNmodel"
      ]
    },
    {
      "cell_type": "code",
      "execution_count": null,
      "metadata": {},
      "outputs": [],
      "source": [
        "import time\n",
        "def train_model(model,it):\n",
        "    rand_state= random.randint(0,1000)\n",
        "    #NN training with 10-fold cross-validation stratified with random under-sampling technic for imbalanced data\n",
        "    X = pre_processed_data.drop([\"id\",\"generated\"],axis=1)\n",
        "    Y = pre_processed_data[\"generated\"]\n",
        "    folds = StratifiedKFold(10,shuffle=True,random_state=rand_state)\n",
        "    for fold, (train_index, val_index) in enumerate(folds.split(X,Y)):\n",
        "        X_train, X_val = X.iloc[train_index], X.iloc[val_index]\n",
        "        y_train, y_val = Y.iloc[train_index], Y.iloc[val_index]\n",
        "\n",
        "        X_train_dwns, y_train_dwns = downsampling(X_train,y_train,rand_state,ratio=1.3)\n",
        "\n",
        "        #print(f\"Fold {fold + 1}: Train {len(train_index)} samples, Validation {len(val_index)} samples\")\n",
        "        #print(f\"TRAIN:({y_train[y_train==0].size}:{y_train[y_train==1].size})\")\n",
        "        print(f\"DOWNSAMPLED:({y_train_dwns[y_train_dwns==0].size}:{y_train_dwns[y_train_dwns==1].size})\")\n",
        "        #print(f\"VAL:({y_val[y_val==0].size}:{y_val[y_val==1].size})\")\n",
        "        start = time.time()\n",
        "        NNmodel.fit(X_train_dwns,\n",
        "                    y_train_dwns,\n",
        "                    validation_data=(X_val,y_val),\n",
        "                    batch_size=1000,\n",
        "                    epochs=it)\n",
        "        end = time.time()\n",
        "        return (end - start)"
      ]
    },
    {
      "cell_type": "code",
      "execution_count": null,
      "metadata": {},
      "outputs": [],
      "source": [
        "scores = pd.DataFrame(columns=[\"iter*10\",\"AUC\",\"AUC-PR\",\"Size\",\"Width\",\"Depth\",\"Time\"])\n",
        "# metrica 0 -> 1\n",
        "# Ancho de la red 0 -> inf\n",
        "Width = range(1,1001,200)\n",
        "# Profundidad de la red 0 -> inf\n",
        "Depth = range(1,11,2)\n",
        "# Cantidad de neuronas 0 -> inf f(Width,Depth) acotado a 1.000*10=10.000\n",
        "# tiempo de ejecución 0 -> inf g(It,f(Width,Depth))\n",
        "# iteraciones 0 -> inf va de 10 en 10\n",
        "Iterations = range(1,6)\n",
        "\n",
        "for d in Depth:\n",
        "    for w in Width:\n",
        "        for it in Iterations:\n",
        "            model = get_model(d-1,w-1)\n",
        "            t = train_model(model,it)\n",
        "            \n",
        "            y_pred = model.predict(X).ravel()\n",
        "            fpr, tpr , _ = roc_curve(Y,  y_pred)\n",
        "            auc_ss = auc(fpr,tpr)\n",
        "            precision, recall, _ = precision_recall_curve(Y,  y_pred)\n",
        "            auc_pr = auc(recall, precision)\n",
        "\n",
        "            scores.loc[len(scores)] = [it*10,auc_ss,auc_pr,(w-1)*(d-1),w-1,d-1,t]\n"
      ]
    },
    {
      "cell_type": "code",
      "execution_count": null,
      "metadata": {},
      "outputs": [],
      "source": [
        "scores[round(scores[\"AUC\"],1)==0.6]"
      ]
    },
    {
      "cell_type": "code",
      "execution_count": null,
      "metadata": {},
      "outputs": [],
      "source": [
        "fig = plt.figure()\n",
        "ax = plt.axes(projection='3d')\n",
        "scores.sort_values(by=['iter*10',\"Size\",\"AUC\",\"Width\",\"Depth\"],inplace=True)\n",
        "for it in scores[\"iter*10\"]:\n",
        "    ax.scatter3D(scores[\"Size\"],[it]*len(scores),scores[\"AUC\"])"
      ]
    }
  ],
  "metadata": {
    "accelerator": "GPU",
    "colab": {
      "gpuType": "T4",
      "provenance": []
    },
    "kernelspec": {
      "display_name": "Python 3",
      "name": "python3"
    },
    "language_info": {
      "codemirror_mode": {
        "name": "ipython",
        "version": 3
      },
      "file_extension": ".py",
      "mimetype": "text/x-python",
      "name": "python",
      "nbconvert_exporter": "python",
      "pygments_lexer": "ipython3",
      "version": "3.11.0rc1"
    }
  },
  "nbformat": 4,
  "nbformat_minor": 0
}
