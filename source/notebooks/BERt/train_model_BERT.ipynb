{
  "cells": [
    {
      "cell_type": "markdown",
      "metadata": {
        "id": "_aB82fSvdYKB"
      },
      "source": [
        "# LLM - Detect AI Generated Text\n",
        "# BERT (Bidirectional Encoder Representation for Transformer)"
      ]
    },
    {
      "cell_type": "markdown",
      "metadata": {},
      "source": [
        "## Import"
      ]
    },
    {
      "cell_type": "code",
      "execution_count": 1,
      "metadata": {
        "colab": {
          "base_uri": "https://localhost:8080/"
        },
        "id": "7itjdvI9dYKD",
        "outputId": "af42ede1-292a-43ea-8e85-bdb1a11a3d73"
      },
      "outputs": [
        {
          "name": "stderr",
          "output_type": "stream",
          "text": [
            "2024-01-14 02:08:42.240454: E external/local_xla/xla/stream_executor/cuda/cuda_dnn.cc:9261] Unable to register cuDNN factory: Attempting to register factory for plugin cuDNN when one has already been registered\n",
            "2024-01-14 02:08:42.240503: E external/local_xla/xla/stream_executor/cuda/cuda_fft.cc:607] Unable to register cuFFT factory: Attempting to register factory for plugin cuFFT when one has already been registered\n",
            "2024-01-14 02:08:42.272999: E external/local_xla/xla/stream_executor/cuda/cuda_blas.cc:1515] Unable to register cuBLAS factory: Attempting to register factory for plugin cuBLAS when one has already been registered\n",
            "2024-01-14 02:08:42.338831: I tensorflow/core/platform/cpu_feature_guard.cc:182] This TensorFlow binary is optimized to use available CPU instructions in performance-critical operations.\n",
            "To enable the following instructions: AVX2 FMA, in other operations, rebuild TensorFlow with the appropriate compiler flags.\n",
            "2024-01-14 02:08:43.511569: W tensorflow/compiler/tf2tensorrt/utils/py_utils.cc:38] TF-TRT Warning: Could not find TensorRT\n",
            "/home/mrtc101/Desktop/ciencias de la computacion/Cursado/4.2Inteligencia Artificial 2/Final/venv/lib/python3.11/site-packages/tqdm/auto.py:21: TqdmWarning: IProgress not found. Please update jupyter and ipywidgets. See https://ipywidgets.readthedocs.io/en/stable/user_install.html\n",
            "  from .autonotebook import tqdm as notebook_tqdm\n"
          ]
        }
      ],
      "source": [
        "import math\n",
        "import random\n",
        "\n",
        "import pandas as pd\n",
        "import numpy as np\n",
        "import matplotlib.pyplot as plt\n",
        "\n",
        "from sklearn.model_selection import StratifiedKFold\n",
        "from sklearn.utils import resample\n",
        "from sklearn.metrics import roc_curve ,precision_recall_curve,auc,confusion_matrix,ConfusionMatrixDisplay\n",
        "import keras\n",
        "\n",
        "from transformers import AutoTokenizer, TFAutoModelForSequenceClassification\n",
        "from datasets import Dataset\n",
        "from transformers import DataCollatorWithPadding"
      ]
    },
    {
      "cell_type": "markdown",
      "metadata": {},
      "source": [
        "## Random Downsampling"
      ]
    },
    {
      "cell_type": "code",
      "execution_count": 2,
      "metadata": {
        "id": "sieb_gK4dYKl"
      },
      "outputs": [],
      "source": [
        "def downsampling(X_train,y_train,rand_state,ratio):\n",
        "    # Concatenate X_train and y_train for ease of downsampling\n",
        "    train_data = pd.concat([X_train, y_train], axis=1)\n",
        "\n",
        "    # Identify the class with the majority of instances\n",
        "    majority_class = train_data[y_train.name].value_counts().idxmax()\n",
        "\n",
        "    # Separate instances of each class\n",
        "    majority_class_data = train_data[train_data[y_train.name] == majority_class]\n",
        "    minority_class_data = train_data[train_data[y_train.name] != majority_class]\n",
        "\n",
        "\n",
        "    currRatio = len(majority_class_data) / len(minority_class_data)\n",
        "    if(currRatio<=ratio):\n",
        "        raise ValueError(f\"El ratio de entrada debe ser menor al ratio actual.r={currRatio}\")\n",
        "\n",
        "\n",
        "    # Downsample the majority class to match the number of instances in the minority class\n",
        "    downsampled_majority_class_data = resample(\n",
        "        majority_class_data,\n",
        "        replace=False,\n",
        "        n_samples=math.floor(ratio*len(minority_class_data)),\n",
        "        random_state=rand_state\n",
        "    )\n",
        "\n",
        "    # Combine the downsampled majority class with the minority class\n",
        "    downsampled_train_data = pd.concat([downsampled_majority_class_data, minority_class_data])\n",
        "\n",
        "    # Shuffle the data to avoid any order-based patterns\n",
        "    downsampled_train_data = downsampled_train_data.sample(frac=1, random_state=rand_state)\n",
        "\n",
        "    # Separate X_train and y_train after downsampling\n",
        "    X_train_downsampled = downsampled_train_data.drop(columns=[y_train.name])\n",
        "    y_train_downsampled = downsampled_train_data[y_train.name]\n",
        "\n",
        "    return X_train_downsampled, y_train_downsampled"
      ]
    },
    {
      "cell_type": "markdown",
      "metadata": {
        "id": "5EjLehn3dYKN"
      },
      "source": [
        "## ROC AUC curve"
      ]
    },
    {
      "cell_type": "code",
      "execution_count": 3,
      "metadata": {
        "id": "FvEDVQHVdYKN"
      },
      "outputs": [],
      "source": [
        "def ROCcurves(model,x_val,y_val):\n",
        "    fig, axs = plt.subplots(nrows=1, ncols=2, figsize=(10, 4))\n",
        "    tf = to_tf_dateset(x_val,y_val)\n",
        "    #print(len(tf))\n",
        "    y_pred = model.predict(tf)[0]\n",
        "    y_pred = [p for prr in y_pred for p in prr]\n",
        "    assert len(y_pred) == len(y_val)\n",
        "    fpr, tpr , _ = roc_curve(y_val,  y_pred)\n",
        "    auc_ss = auc(fpr,tpr)\n",
        "    precision, recall, _ = precision_recall_curve(y_val,  y_pred)\n",
        "    auc_pr = auc(recall, precision)\n",
        "\n",
        "    # Primer subgráfico\n",
        "    axs[0].plot([0, 1], [0, 1], color='gray', lw=1, linestyle='--', label='AUC = 0.50')\n",
        "    axs[0].plot(fpr,tpr, label='ROC curve', color='blue')\n",
        "    axs[0].set_title(f'ROC curve = {round(auc_ss,3)}')\n",
        "    axs[0].set_xlabel('FalsePositiveRate')\n",
        "    axs[0].set_ylabel('TruePositiveRate')\n",
        "    axs[0].legend()\n",
        "    # Segundo subgráfico\n",
        "    axs[1].plot([0, 1], [0,0], color='gray', lw=1, linestyle='--', label='AUC = 0.0')\n",
        "    axs[1].plot(recall, precision, label='ROC-RP curve', color='orange')\n",
        "    axs[1].set_title(f'ROC-RP curve = {round(auc_pr,3)}')\n",
        "    axs[1].set_xlabel('Recall')\n",
        "    axs[1].set_ylabel('Precision')\n",
        "    axs[1].legend()\n",
        "    plt.show()\n",
        "\n"
      ]
    },
    {
      "cell_type": "code",
      "execution_count": 4,
      "metadata": {},
      "outputs": [],
      "source": [
        "initial_dataset = pd.read_csv(\"../data/train_essays.csv\")\n",
        "custom_data = pd.read_csv(\"../data/custom_essays.csv\")\n",
        "downloaded_data_1 = pd.read_csv(\"../data/train_v3_drcat_01.csv\")"
      ]
    },
    {
      "cell_type": "markdown",
      "metadata": {},
      "source": [
        "## Adding new Data"
      ]
    },
    {
      "cell_type": "markdown",
      "metadata": {},
      "source": [
        "Describing the imbalance of this dataset in terms of ration is 1:500. The dataset presents sever imbalance. Previous aproches using only 20 new LLM generated examples manually and random Downsampling technic, didn't reach a higher score than 0.56. \n",
        "\n",
        "Concluding that more new data is needed, i downloaded data shared by competitors."
      ]
    },
    {
      "cell_type": "code",
      "execution_count": 5,
      "metadata": {},
      "outputs": [],
      "source": [
        "downloaded_data_1[\"prompt_id\"] = downloaded_data_1[\"prompt_name\"].apply(lambda name : 0 if name == \"Car-free cities\" else 1 if name == \"Does the electoral college work?\" else 21 )\n",
        "downloaded_data_1 = downloaded_data_1[[\"prompt_id\",\"text\",\"label\"]].rename(columns={\"label\":\"generated\"})"
      ]
    },
    {
      "cell_type": "code",
      "execution_count": 6,
      "metadata": {},
      "outputs": [],
      "source": [
        "new_data = pd.concat([custom_data,downloaded_data_1],axis=0,ignore_index=True)\n",
        "new_data[\"id\"] = range(0,new_data.shape[0])"
      ]
    },
    {
      "cell_type": "code",
      "execution_count": 7,
      "metadata": {},
      "outputs": [
        {
          "data": {
            "text/html": [
              "<div>\n",
              "<style scoped>\n",
              "    .dataframe tbody tr th:only-of-type {\n",
              "        vertical-align: middle;\n",
              "    }\n",
              "\n",
              "    .dataframe tbody tr th {\n",
              "        vertical-align: top;\n",
              "    }\n",
              "\n",
              "    .dataframe thead th {\n",
              "        text-align: right;\n",
              "    }\n",
              "</style>\n",
              "<table border=\"1\" class=\"dataframe\">\n",
              "  <thead>\n",
              "    <tr style=\"text-align: right;\">\n",
              "      <th></th>\n",
              "      <th>id</th>\n",
              "      <th>prompt_id</th>\n",
              "      <th>text</th>\n",
              "      <th>generated</th>\n",
              "    </tr>\n",
              "  </thead>\n",
              "  <tbody>\n",
              "    <tr>\n",
              "      <th>0</th>\n",
              "      <td>0</td>\n",
              "      <td>0</td>\n",
              "      <td>The Advantages of Limiting Car Usage in Suburb...</td>\n",
              "      <td>1</td>\n",
              "    </tr>\n",
              "    <tr>\n",
              "      <th>1</th>\n",
              "      <td>1</td>\n",
              "      <td>0</td>\n",
              "      <td>Paris' Driving Ban: A Temporary Solution to En...</td>\n",
              "      <td>1</td>\n",
              "    </tr>\n",
              "    <tr>\n",
              "      <th>2</th>\n",
              "      <td>2</td>\n",
              "      <td>0</td>\n",
              "      <td>Bogota's Car-Free Day: A Model for Sustainable...</td>\n",
              "      <td>1</td>\n",
              "    </tr>\n",
              "    <tr>\n",
              "      <th>3</th>\n",
              "      <td>3</td>\n",
              "      <td>0</td>\n",
              "      <td>Shifting Trends: The Decline of Car Culture in...</td>\n",
              "      <td>1</td>\n",
              "    </tr>\n",
              "    <tr>\n",
              "      <th>4</th>\n",
              "      <td>4</td>\n",
              "      <td>0</td>\n",
              "      <td>The End of Car Culture and the Rise of Sustain...</td>\n",
              "      <td>1</td>\n",
              "    </tr>\n",
              "    <tr>\n",
              "      <th>...</th>\n",
              "      <td>...</td>\n",
              "      <td>...</td>\n",
              "      <td>...</td>\n",
              "      <td>...</td>\n",
              "    </tr>\n",
              "    <tr>\n",
              "      <th>65525</th>\n",
              "      <td>65525</td>\n",
              "      <td>1</td>\n",
              "      <td>\\n\\nDear Senator,\\n\\nI am writing to you regar...</td>\n",
              "      <td>1</td>\n",
              "    </tr>\n",
              "    <tr>\n",
              "      <th>65526</th>\n",
              "      <td>65526</td>\n",
              "      <td>1</td>\n",
              "      <td>\\n\\nI remember the day distinctively. I was si...</td>\n",
              "      <td>1</td>\n",
              "    </tr>\n",
              "    <tr>\n",
              "      <th>65527</th>\n",
              "      <td>65527</td>\n",
              "      <td>1</td>\n",
              "      <td>\\n\\nDear Senator, \\n\\nI am writing this letter...</td>\n",
              "      <td>1</td>\n",
              "    </tr>\n",
              "    <tr>\n",
              "      <th>65528</th>\n",
              "      <td>65528</td>\n",
              "      <td>1</td>\n",
              "      <td>\\n\\nDear Senator,\\n\\nI am writing to urge you ...</td>\n",
              "      <td>1</td>\n",
              "    </tr>\n",
              "    <tr>\n",
              "      <th>65529</th>\n",
              "      <td>65529</td>\n",
              "      <td>1</td>\n",
              "      <td>\\n\\nIt was a typical summer afternoon in my ho...</td>\n",
              "      <td>1</td>\n",
              "    </tr>\n",
              "  </tbody>\n",
              "</table>\n",
              "<p>65530 rows × 4 columns</p>\n",
              "</div>"
            ],
            "text/plain": [
              "          id  prompt_id                                               text  \\\n",
              "0          0          0  The Advantages of Limiting Car Usage in Suburb...   \n",
              "1          1          0  Paris' Driving Ban: A Temporary Solution to En...   \n",
              "2          2          0  Bogota's Car-Free Day: A Model for Sustainable...   \n",
              "3          3          0  Shifting Trends: The Decline of Car Culture in...   \n",
              "4          4          0  The End of Car Culture and the Rise of Sustain...   \n",
              "...      ...        ...                                                ...   \n",
              "65525  65525          1  \\n\\nDear Senator,\\n\\nI am writing to you regar...   \n",
              "65526  65526          1  \\n\\nI remember the day distinctively. I was si...   \n",
              "65527  65527          1  \\n\\nDear Senator, \\n\\nI am writing this letter...   \n",
              "65528  65528          1  \\n\\nDear Senator,\\n\\nI am writing to urge you ...   \n",
              "65529  65529          1  \\n\\nIt was a typical summer afternoon in my ho...   \n",
              "\n",
              "       generated  \n",
              "0              1  \n",
              "1              1  \n",
              "2              1  \n",
              "3              1  \n",
              "4              1  \n",
              "...          ...  \n",
              "65525          1  \n",
              "65526          1  \n",
              "65527          1  \n",
              "65528          1  \n",
              "65529          1  \n",
              "\n",
              "[65530 rows x 4 columns]"
            ]
          },
          "execution_count": 7,
          "metadata": {},
          "output_type": "execute_result"
        }
      ],
      "source": [
        "new_data"
      ]
    },
    {
      "cell_type": "code",
      "execution_count": 8,
      "metadata": {},
      "outputs": [
        {
          "data": {
            "text/html": [
              "<div>\n",
              "<style scoped>\n",
              "    .dataframe tbody tr th:only-of-type {\n",
              "        vertical-align: middle;\n",
              "    }\n",
              "\n",
              "    .dataframe tbody tr th {\n",
              "        vertical-align: top;\n",
              "    }\n",
              "\n",
              "    .dataframe thead th {\n",
              "        text-align: right;\n",
              "    }\n",
              "</style>\n",
              "<table border=\"1\" class=\"dataframe\">\n",
              "  <thead>\n",
              "    <tr style=\"text-align: right;\">\n",
              "      <th></th>\n",
              "      <th>id</th>\n",
              "      <th>prompt_id</th>\n",
              "      <th>text</th>\n",
              "      <th>generated</th>\n",
              "    </tr>\n",
              "  </thead>\n",
              "  <tbody>\n",
              "    <tr>\n",
              "      <th>0</th>\n",
              "      <td>0059830c</td>\n",
              "      <td>0</td>\n",
              "      <td>Cars. Cars have been around since they became ...</td>\n",
              "      <td>0</td>\n",
              "    </tr>\n",
              "    <tr>\n",
              "      <th>1</th>\n",
              "      <td>005db917</td>\n",
              "      <td>0</td>\n",
              "      <td>Transportation is a large necessity in most co...</td>\n",
              "      <td>0</td>\n",
              "    </tr>\n",
              "    <tr>\n",
              "      <th>2</th>\n",
              "      <td>008f63e3</td>\n",
              "      <td>0</td>\n",
              "      <td>\"America's love affair with it's vehicles seem...</td>\n",
              "      <td>0</td>\n",
              "    </tr>\n",
              "    <tr>\n",
              "      <th>3</th>\n",
              "      <td>00940276</td>\n",
              "      <td>0</td>\n",
              "      <td>How often do you ride in a car? Do you drive a...</td>\n",
              "      <td>0</td>\n",
              "    </tr>\n",
              "    <tr>\n",
              "      <th>4</th>\n",
              "      <td>00c39458</td>\n",
              "      <td>0</td>\n",
              "      <td>Cars are a wonderful thing. They are perhaps o...</td>\n",
              "      <td>0</td>\n",
              "    </tr>\n",
              "    <tr>\n",
              "      <th>...</th>\n",
              "      <td>...</td>\n",
              "      <td>...</td>\n",
              "      <td>...</td>\n",
              "      <td>...</td>\n",
              "    </tr>\n",
              "    <tr>\n",
              "      <th>66903</th>\n",
              "      <td>65525</td>\n",
              "      <td>1</td>\n",
              "      <td>\\n\\nDear Senator,\\n\\nI am writing to you regar...</td>\n",
              "      <td>1</td>\n",
              "    </tr>\n",
              "    <tr>\n",
              "      <th>66904</th>\n",
              "      <td>65526</td>\n",
              "      <td>1</td>\n",
              "      <td>\\n\\nI remember the day distinctively. I was si...</td>\n",
              "      <td>1</td>\n",
              "    </tr>\n",
              "    <tr>\n",
              "      <th>66905</th>\n",
              "      <td>65527</td>\n",
              "      <td>1</td>\n",
              "      <td>\\n\\nDear Senator, \\n\\nI am writing this letter...</td>\n",
              "      <td>1</td>\n",
              "    </tr>\n",
              "    <tr>\n",
              "      <th>66906</th>\n",
              "      <td>65528</td>\n",
              "      <td>1</td>\n",
              "      <td>\\n\\nDear Senator,\\n\\nI am writing to urge you ...</td>\n",
              "      <td>1</td>\n",
              "    </tr>\n",
              "    <tr>\n",
              "      <th>66907</th>\n",
              "      <td>65529</td>\n",
              "      <td>1</td>\n",
              "      <td>\\n\\nIt was a typical summer afternoon in my ho...</td>\n",
              "      <td>1</td>\n",
              "    </tr>\n",
              "  </tbody>\n",
              "</table>\n",
              "<p>66908 rows × 4 columns</p>\n",
              "</div>"
            ],
            "text/plain": [
              "             id  prompt_id                                               text  \\\n",
              "0      0059830c          0  Cars. Cars have been around since they became ...   \n",
              "1      005db917          0  Transportation is a large necessity in most co...   \n",
              "2      008f63e3          0  \"America's love affair with it's vehicles seem...   \n",
              "3      00940276          0  How often do you ride in a car? Do you drive a...   \n",
              "4      00c39458          0  Cars are a wonderful thing. They are perhaps o...   \n",
              "...         ...        ...                                                ...   \n",
              "66903     65525          1  \\n\\nDear Senator,\\n\\nI am writing to you regar...   \n",
              "66904     65526          1  \\n\\nI remember the day distinctively. I was si...   \n",
              "66905     65527          1  \\n\\nDear Senator, \\n\\nI am writing this letter...   \n",
              "66906     65528          1  \\n\\nDear Senator,\\n\\nI am writing to urge you ...   \n",
              "66907     65529          1  \\n\\nIt was a typical summer afternoon in my ho...   \n",
              "\n",
              "       generated  \n",
              "0              0  \n",
              "1              0  \n",
              "2              0  \n",
              "3              0  \n",
              "4              0  \n",
              "...          ...  \n",
              "66903          1  \n",
              "66904          1  \n",
              "66905          1  \n",
              "66906          1  \n",
              "66907          1  \n",
              "\n",
              "[66908 rows x 4 columns]"
            ]
          },
          "execution_count": 8,
          "metadata": {},
          "output_type": "execute_result"
        }
      ],
      "source": [
        "target_data = pd.concat([initial_dataset,new_data],ignore_index=True,axis=0)\n",
        "target_data"
      ]
    },
    {
      "cell_type": "markdown",
      "metadata": {},
      "source": [
        "### Data cleaning"
      ]
    },
    {
      "cell_type": "code",
      "execution_count": 9,
      "metadata": {},
      "outputs": [],
      "source": [
        "target_data = pd.concat([initial_dataset[100:200],initial_dataset[initial_dataset[\"generated\"]==1],custom_data])"
      ]
    },
    {
      "cell_type": "code",
      "execution_count": 10,
      "metadata": {},
      "outputs": [
        {
          "name": "stdout",
          "output_type": "stream",
          "text": [
            "(125, 4)\n",
            "(125, 4)\n"
          ]
        }
      ],
      "source": [
        "print(target_data.shape)\n",
        "target_data.drop_duplicates(subset=[\"text\"],inplace=True,keep=\"first\")\n",
        "target_data = target_data.dropna()\n",
        "target_data.reset_index(inplace=True,drop=True)\n",
        "print(target_data.shape)"
      ]
    },
    {
      "cell_type": "markdown",
      "metadata": {},
      "source": [
        "## Tokenization for DistilBERT"
      ]
    },
    {
      "cell_type": "markdown",
      "metadata": {},
      "source": [
        "DistilBERT is a lighter version of BERT."
      ]
    },
    {
      "cell_type": "code",
      "execution_count": 11,
      "metadata": {},
      "outputs": [
        {
          "data": {
            "text/html": [
              "<div>\n",
              "<style scoped>\n",
              "    .dataframe tbody tr th:only-of-type {\n",
              "        vertical-align: middle;\n",
              "    }\n",
              "\n",
              "    .dataframe tbody tr th {\n",
              "        vertical-align: top;\n",
              "    }\n",
              "\n",
              "    .dataframe thead th {\n",
              "        text-align: right;\n",
              "    }\n",
              "</style>\n",
              "<table border=\"1\" class=\"dataframe\">\n",
              "  <thead>\n",
              "    <tr style=\"text-align: right;\">\n",
              "      <th></th>\n",
              "      <th>id</th>\n",
              "      <th>prompt_id</th>\n",
              "      <th>text</th>\n",
              "      <th>generated</th>\n",
              "      <th>input_ids</th>\n",
              "      <th>attention_mask</th>\n",
              "    </tr>\n",
              "  </thead>\n",
              "  <tbody>\n",
              "    <tr>\n",
              "      <th>0</th>\n",
              "      <td>1648c117</td>\n",
              "      <td>1</td>\n",
              "      <td>Dear Senator, I am a student writing to you th...</td>\n",
              "      <td>0</td>\n",
              "      <td>[101, 6203, 5205, 1010, 1045, 2572, 1037, 3076...</td>\n",
              "      <td>[1, 1, 1, 1, 1, 1, 1, 1, 1, 1, 1, 1, 1, 1, 1, ...</td>\n",
              "    </tr>\n",
              "    <tr>\n",
              "      <th>1</th>\n",
              "      <td>16652a46</td>\n",
              "      <td>1</td>\n",
              "      <td>The electoral college is a bad thing because v...</td>\n",
              "      <td>0</td>\n",
              "      <td>[101, 1996, 6092, 2267, 2003, 1037, 2919, 2518...</td>\n",
              "      <td>[1, 1, 1, 1, 1, 1, 1, 1, 1, 1, 1, 1, 1, 1, 1, ...</td>\n",
              "    </tr>\n",
              "    <tr>\n",
              "      <th>2</th>\n",
              "      <td>1669258f</td>\n",
              "      <td>0</td>\n",
              "      <td>In the recent years the state of the country h...</td>\n",
              "      <td>0</td>\n",
              "      <td>[101, 1999, 1996, 3522, 2086, 1996, 2110, 1997...</td>\n",
              "      <td>[1, 1, 1, 1, 1, 1, 1, 1, 1, 1, 1, 1, 1, 1, 1, ...</td>\n",
              "    </tr>\n",
              "    <tr>\n",
              "      <th>3</th>\n",
              "      <td>16a0afd8</td>\n",
              "      <td>1</td>\n",
              "      <td>Dear Senator, The Electoral College was create...</td>\n",
              "      <td>0</td>\n",
              "      <td>[101, 6203, 5205, 1010, 1996, 6092, 2267, 2001...</td>\n",
              "      <td>[1, 1, 1, 1, 1, 1, 1, 1, 1, 1, 1, 1, 1, 1, 1, ...</td>\n",
              "    </tr>\n",
              "    <tr>\n",
              "      <th>4</th>\n",
              "      <td>16b2bb2b</td>\n",
              "      <td>0</td>\n",
              "      <td>As our atmosphere constantly changes, so do ou...</td>\n",
              "      <td>0</td>\n",
              "      <td>[101, 2004, 2256, 7224, 7887, 3431, 1010, 2061...</td>\n",
              "      <td>[1, 1, 1, 1, 1, 1, 1, 1, 1, 1, 1, 1, 1, 1, 1, ...</td>\n",
              "    </tr>\n",
              "    <tr>\n",
              "      <th>...</th>\n",
              "      <td>...</td>\n",
              "      <td>...</td>\n",
              "      <td>...</td>\n",
              "      <td>...</td>\n",
              "      <td>...</td>\n",
              "      <td>...</td>\n",
              "    </tr>\n",
              "    <tr>\n",
              "      <th>120</th>\n",
              "      <td>17</td>\n",
              "      <td>0</td>\n",
              "      <td>Limiting car usage stands as a pivotal strateg...</td>\n",
              "      <td>1</td>\n",
              "      <td>[101, 14879, 2482, 8192, 4832, 2004, 1037, 203...</td>\n",
              "      <td>[1, 1, 1, 1, 1, 1, 1, 1, 1, 1, 1, 1, 1, 1, 1, ...</td>\n",
              "    </tr>\n",
              "    <tr>\n",
              "      <th>121</th>\n",
              "      <td>18</td>\n",
              "      <td>1</td>\n",
              "      <td>\\nJohn Smith\\n123 Main Street\\nCityville, Stat...</td>\n",
              "      <td>1</td>\n",
              "      <td>[101, 2198, 3044, 13138, 2364, 2395, 2103, 307...</td>\n",
              "      <td>[1, 1, 1, 1, 1, 1, 1, 1, 1, 1, 1, 1, 1, 1, 1, ...</td>\n",
              "    </tr>\n",
              "    <tr>\n",
              "      <th>122</th>\n",
              "      <td>19</td>\n",
              "      <td>1</td>\n",
              "      <td>Dear Senator,\\n\\nI am writing to express my op...</td>\n",
              "      <td>1</td>\n",
              "      <td>[101, 6203, 5205, 1010, 1045, 2572, 3015, 2000...</td>\n",
              "      <td>[1, 1, 1, 1, 1, 1, 1, 1, 1, 1, 1, 1, 1, 1, 1, ...</td>\n",
              "    </tr>\n",
              "    <tr>\n",
              "      <th>123</th>\n",
              "      <td>18</td>\n",
              "      <td>0</td>\n",
              "      <td>\\nThe advantages of limiting car usage are num...</td>\n",
              "      <td>1</td>\n",
              "      <td>[101, 1996, 12637, 1997, 14879, 2482, 8192, 20...</td>\n",
              "      <td>[1, 1, 1, 1, 1, 1, 1, 1, 1, 1, 1, 1, 1, 1, 1, ...</td>\n",
              "    </tr>\n",
              "    <tr>\n",
              "      <th>124</th>\n",
              "      <td>20</td>\n",
              "      <td>0</td>\n",
              "      <td>\\nThe increasing trend towards limiting car us...</td>\n",
              "      <td>1</td>\n",
              "      <td>[101, 1996, 4852, 9874, 2875, 14879, 2482, 819...</td>\n",
              "      <td>[1, 1, 1, 1, 1, 1, 1, 1, 1, 1, 1, 1, 1, 1, 1, ...</td>\n",
              "    </tr>\n",
              "  </tbody>\n",
              "</table>\n",
              "<p>125 rows × 6 columns</p>\n",
              "</div>"
            ],
            "text/plain": [
              "           id  prompt_id                                               text  \\\n",
              "0    1648c117          1  Dear Senator, I am a student writing to you th...   \n",
              "1    16652a46          1  The electoral college is a bad thing because v...   \n",
              "2    1669258f          0  In the recent years the state of the country h...   \n",
              "3    16a0afd8          1  Dear Senator, The Electoral College was create...   \n",
              "4    16b2bb2b          0  As our atmosphere constantly changes, so do ou...   \n",
              "..        ...        ...                                                ...   \n",
              "120        17          0  Limiting car usage stands as a pivotal strateg...   \n",
              "121        18          1  \\nJohn Smith\\n123 Main Street\\nCityville, Stat...   \n",
              "122        19          1  Dear Senator,\\n\\nI am writing to express my op...   \n",
              "123        18          0  \\nThe advantages of limiting car usage are num...   \n",
              "124        20          0  \\nThe increasing trend towards limiting car us...   \n",
              "\n",
              "     generated                                          input_ids  \\\n",
              "0            0  [101, 6203, 5205, 1010, 1045, 2572, 1037, 3076...   \n",
              "1            0  [101, 1996, 6092, 2267, 2003, 1037, 2919, 2518...   \n",
              "2            0  [101, 1999, 1996, 3522, 2086, 1996, 2110, 1997...   \n",
              "3            0  [101, 6203, 5205, 1010, 1996, 6092, 2267, 2001...   \n",
              "4            0  [101, 2004, 2256, 7224, 7887, 3431, 1010, 2061...   \n",
              "..         ...                                                ...   \n",
              "120          1  [101, 14879, 2482, 8192, 4832, 2004, 1037, 203...   \n",
              "121          1  [101, 2198, 3044, 13138, 2364, 2395, 2103, 307...   \n",
              "122          1  [101, 6203, 5205, 1010, 1045, 2572, 3015, 2000...   \n",
              "123          1  [101, 1996, 12637, 1997, 14879, 2482, 8192, 20...   \n",
              "124          1  [101, 1996, 4852, 9874, 2875, 14879, 2482, 819...   \n",
              "\n",
              "                                        attention_mask  \n",
              "0    [1, 1, 1, 1, 1, 1, 1, 1, 1, 1, 1, 1, 1, 1, 1, ...  \n",
              "1    [1, 1, 1, 1, 1, 1, 1, 1, 1, 1, 1, 1, 1, 1, 1, ...  \n",
              "2    [1, 1, 1, 1, 1, 1, 1, 1, 1, 1, 1, 1, 1, 1, 1, ...  \n",
              "3    [1, 1, 1, 1, 1, 1, 1, 1, 1, 1, 1, 1, 1, 1, 1, ...  \n",
              "4    [1, 1, 1, 1, 1, 1, 1, 1, 1, 1, 1, 1, 1, 1, 1, ...  \n",
              "..                                                 ...  \n",
              "120  [1, 1, 1, 1, 1, 1, 1, 1, 1, 1, 1, 1, 1, 1, 1, ...  \n",
              "121  [1, 1, 1, 1, 1, 1, 1, 1, 1, 1, 1, 1, 1, 1, 1, ...  \n",
              "122  [1, 1, 1, 1, 1, 1, 1, 1, 1, 1, 1, 1, 1, 1, 1, ...  \n",
              "123  [1, 1, 1, 1, 1, 1, 1, 1, 1, 1, 1, 1, 1, 1, 1, ...  \n",
              "124  [1, 1, 1, 1, 1, 1, 1, 1, 1, 1, 1, 1, 1, 1, 1, ...  \n",
              "\n",
              "[125 rows x 6 columns]"
            ]
          },
          "execution_count": 11,
          "metadata": {},
          "output_type": "execute_result"
        }
      ],
      "source": [
        "tokenized_df = target_data.copy()\n",
        "tokenizer = AutoTokenizer.from_pretrained(\"distilbert-base-uncased\")\n",
        "tokenized = target_data[\"text\"].apply(lambda text: tokenizer(text,truncation=True, padding=True))\n",
        "tokenized_df[\"input_ids\"] = tokenized.apply(lambda x : x['input_ids'])\n",
        "tokenized_df[\"attention_mask\"] = tokenized.apply(lambda x : x['attention_mask'])\n",
        "tokenized_df"
      ]
    },
    {
      "cell_type": "code",
      "execution_count": 12,
      "metadata": {},
      "outputs": [],
      "source": [
        "del target_data\n",
        "del custom_data\n",
        "del initial_dataset\n",
        "del new_data\n",
        "del downloaded_data_1"
      ]
    },
    {
      "cell_type": "markdown",
      "metadata": {},
      "source": [
        "## Arquitecture"
      ]
    },
    {
      "cell_type": "code",
      "execution_count": 13,
      "metadata": {},
      "outputs": [
        {
          "name": "stderr",
          "output_type": "stream",
          "text": [
            "Some weights of the PyTorch model were not used when initializing the TF 2.0 model TFDistilBertForSequenceClassification: ['vocab_projector.bias', 'vocab_layer_norm.bias', 'vocab_transform.bias', 'vocab_transform.weight', 'vocab_layer_norm.weight']\n",
            "- This IS expected if you are initializing TFDistilBertForSequenceClassification from a PyTorch model trained on another task or with another architecture (e.g. initializing a TFBertForSequenceClassification model from a BertForPreTraining model).\n",
            "- This IS NOT expected if you are initializing TFDistilBertForSequenceClassification from a PyTorch model that you expect to be exactly identical (e.g. initializing a TFBertForSequenceClassification model from a BertForSequenceClassification model).\n",
            "Some weights or buffers of the TF 2.0 model TFDistilBertForSequenceClassification were not initialized from the PyTorch model and are newly initialized: ['pre_classifier.weight', 'pre_classifier.bias', 'classifier.weight', 'classifier.bias']\n",
            "You should probably TRAIN this model on a down-stream task to be able to use it for predictions and inference.\n"
          ]
        }
      ],
      "source": [
        "id2labels = {1:\"generated\"}\n",
        "labels2id = {\"generated\":1}\n",
        "model = TFAutoModelForSequenceClassification.from_pretrained(\n",
        "    \"distilbert-base-uncased\",\n",
        "    num_labels=1,\n",
        "    id2label=id2labels,\n",
        "    label2id=labels2id\n",
        ")\n",
        "model.compile(optimizer='adam',\n",
        "               loss=keras.losses.BinaryCrossentropy(from_logits=True),\n",
        "            )"
      ]
    },
    {
      "cell_type": "markdown",
      "metadata": {},
      "source": [
        "### From Pandas to Dataset"
      ]
    },
    {
      "cell_type": "code",
      "execution_count": 16,
      "metadata": {},
      "outputs": [],
      "source": [
        "data_collator = DataCollatorWithPadding(tokenizer=tokenizer, return_tensors=\"tf\")\n",
        "\n",
        "def to_tf_dateset(x_df,y_df):\n",
        "    dataset = Dataset.from_dict({\n",
        "        \"input_ids\": x_df[\"input_ids\"].tolist(),\n",
        "        \"attention_mask\": x_df[\"attention_mask\"].tolist(),\n",
        "        \"labels\":y_df.tolist()\n",
        "    })\n",
        "    dataset.set_format(type=\"tensorflow\", columns=[\"input_ids\", \"attention_mask\", \"labels\"])\n",
        "    set = model.prepare_tf_dataset(\n",
        "        dataset,\n",
        "        batch_size=1,\n",
        "        collate_fn=data_collator,\n",
        "    )\n",
        "    return set"
      ]
    },
    {
      "cell_type": "markdown",
      "metadata": {},
      "source": [
        "## Training"
      ]
    },
    {
      "cell_type": "code",
      "execution_count": 17,
      "metadata": {
        "colab": {
          "base_uri": "https://localhost:8080/",
          "height": 1000
        },
        "id": "eE-YSa9jdYKm",
        "outputId": "1017a0f1-e1de-49da-ed83-603324aa1644"
      },
      "outputs": [
        {
          "name": "stderr",
          "output_type": "stream",
          "text": [
            "You're using a DistilBertTokenizerFast tokenizer. Please note that with a fast tokenizer, using the `__call__` method is faster than using a method to encode the text followed by a call to the `pad` method to get a padded encoding.\n"
          ]
        },
        {
          "name": "stdout",
          "output_type": "stream",
          "text": [
            "DOWNSAMPLED:(12:12)\n",
            "24/24 [==============================] - 83s 3s/step - loss: 1.0988 - val_loss: 0.5149\n",
            "DOWNSAMPLED:(13:13)\n",
            "26/26 [==============================] - 75s 3s/step - loss: 0.7610 - val_loss: 0.9528\n"
          ]
        }
      ],
      "source": [
        "rand_state= random.randint(0,1000)\n",
        "#NN training with 10-fold cross-validation stratified with random under-sampling technic for imbalanced data\n",
        "X = tokenized_df.drop([\"id\",\"generated\",\"text\",\"prompt_id\"],axis=1)\n",
        "Y = tokenized_df[\"generated\"]\n",
        "folds = StratifiedKFold(2,shuffle=True,random_state=rand_state)\n",
        "for fold, (train_index, val_index) in enumerate(folds.split(X,Y)):\n",
        "    X_train, X_val = X.iloc[train_index], X.iloc[val_index]\n",
        "    y_train, y_val = Y.iloc[train_index], Y.iloc[val_index]\n",
        "\n",
        "    X_train_dwns, y_train_dwns = downsampling(X_train,y_train,rand_state,ratio=1)\n",
        "\n",
        "    #print(f\"Fold {fold + 1}: Train {len(train_index)} samples, Validation {len(val_index)} samples\")\n",
        "    #print(f\"TRAIN:({y_train[y_train==0].size}:{y_train[y_train==1].size})\")\n",
        "    print(f\"DOWNSAMPLED:({y_train_dwns[y_train_dwns==0].size}:{y_train_dwns[y_train_dwns==1].size})\")\n",
        "    #print(f\"VAL:({y_val[y_val==0].size}:{y_val[y_val==1].size})\")\n",
        "    train = to_tf_dateset(X_train_dwns,y_train_dwns)\n",
        "    val = to_tf_dateset(X_val,y_val)\n",
        "    model.fit(x=train,\n",
        "            validation_data=val,\n",
        "            batch_size=1,\n",
        "            epochs=1)"
      ]
    },
    {
      "cell_type": "code",
      "execution_count": 20,
      "metadata": {},
      "outputs": [
        {
          "name": "stdout",
          "output_type": "stream",
          "text": [
            "125\n",
            "125/125 [==============================] - 43s 345ms/step\n"
          ]
        },
        {
          "data": {
            "image/png": "[encoded data removed]",
            "text/plain": [
              "<Figure size 1000x400 with 2 Axes>"
            ]
          },
          "metadata": {},
          "output_type": "display_data"
        }
      ],
      "source": [
        "ROCcurves(model,X,Y)"
      ]
    },
    {
      "cell_type": "code",
      "execution_count": 24,
      "metadata": {
        "colab": {
          "base_uri": "https://localhost:8080/"
        },
        "id": "Ub2SWyaC9uL2",
        "outputId": "d63e26ff-e443-4621-9757-f9444e0fdfa6"
      },
      "outputs": [
        {
          "name": "stdout",
          "output_type": "stream",
          "text": [
            "125/125 [==============================] - 43s 340ms/step\n"
          ]
        },
        {
          "data": {
            "text/plain": [
              "<sklearn.metrics._plot.confusion_matrix.ConfusionMatrixDisplay at 0x7fb1dc3cb650>"
            ]
          },
          "execution_count": 24,
          "metadata": {},
          "output_type": "execute_result"
        },
        {
          "data": {
            "image/png": "[encoded data removed]",
            "text/plain": [
              "<Figure size 640x480 with 2 Axes>"
            ]
          },
          "metadata": {},
          "output_type": "display_data"
        }
      ],
      "source": [
        "pred = list(map(lambda pred : 1 if pred > 0.5 else 0,model.predict(to_tf_dateset(X,Y))[0]))\n",
        "display = ConfusionMatrixDisplay(confusion_matrix(pred,Y),display_labels=[\"True\",\"False\"])\n",
        "display.plot()"
      ]
    },
    {
      "cell_type": "code",
      "execution_count": null,
      "metadata": {
        "colab": {
          "base_uri": "https://localhost:8080/"
        },
        "id": "o5dVLLxVyjOg",
        "outputId": "4d54fa2d-90ac-45bf-fddb-16e7cebe5806"
      },
      "outputs": [],
      "source": [
        "model.predict(x=pd.DataFrame(X.iloc[1385]).transpose())"
      ]
    },
    {
      "cell_type": "markdown",
      "metadata": {},
      "source": [
        "## Save model weights"
      ]
    },
    {
      "cell_type": "code",
      "execution_count": null,
      "metadata": {},
      "outputs": [],
      "source": [
        "\n",
        "model.save(\"../data/BERT/weight/ConvolutionNetwork.h5\")"
      ]
    }
  ],
  "metadata": {
    "accelerator": "GPU",
    "colab": {
      "gpuType": "T4",
      "provenance": []
    },
    "kernelspec": {
      "display_name": "Python 3",
      "name": "python3"
    },
    "language_info": {
      "codemirror_mode": {
        "name": "ipython",
        "version": 3
      },
      "file_extension": ".py",
      "mimetype": "text/x-python",
      "name": "python",
      "nbconvert_exporter": "python",
      "pygments_lexer": "ipython3",
      "version": "3.11.0"
    }
  },
  "nbformat": 4,
  "nbformat_minor": 0
}
