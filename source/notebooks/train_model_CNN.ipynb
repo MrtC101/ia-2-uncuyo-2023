{
  "cells": [
    {
      "cell_type": "markdown",
      "metadata": {
        "id": "_aB82fSvdYKB"
      },
      "source": [
        "# LLM - Detect AI Generated Text\n",
        "# (CNN) Convolution Neural Network"
      ]
    },
    {
      "cell_type": "markdown",
      "metadata": {},
      "source": [
        "## Import"
      ]
    },
    {
      "cell_type": "code",
      "execution_count": 1,
      "metadata": {
        "colab": {
          "base_uri": "https://localhost:8080/"
        },
        "id": "7itjdvI9dYKD",
        "outputId": "af42ede1-292a-43ea-8e85-bdb1a11a3d73"
      },
      "outputs": [
        {
          "name": "stderr",
          "output_type": "stream",
          "text": [
            "2024-01-10 18:34:06.048604: E external/local_xla/xla/stream_executor/cuda/cuda_dnn.cc:9261] Unable to register cuDNN factory: Attempting to register factory for plugin cuDNN when one has already been registered\n",
            "2024-01-10 18:34:06.048642: E external/local_xla/xla/stream_executor/cuda/cuda_fft.cc:607] Unable to register cuFFT factory: Attempting to register factory for plugin cuFFT when one has already been registered\n",
            "2024-01-10 18:34:06.079067: E external/local_xla/xla/stream_executor/cuda/cuda_blas.cc:1515] Unable to register cuBLAS factory: Attempting to register factory for plugin cuBLAS when one has already been registered\n",
            "2024-01-10 18:34:06.144564: I tensorflow/core/platform/cpu_feature_guard.cc:182] This TensorFlow binary is optimized to use available CPU instructions in performance-critical operations.\n",
            "To enable the following instructions: AVX2 FMA, in other operations, rebuild TensorFlow with the appropriate compiler flags.\n",
            "2024-01-10 18:34:07.194468: W tensorflow/compiler/tf2tensorrt/utils/py_utils.cc:38] TF-TRT Warning: Could not find TensorRT\n"
          ]
        }
      ],
      "source": [
        "import math\n",
        "import random\n",
        "\n",
        "import pandas as pd\n",
        "import numpy as np\n",
        "import matplotlib.pyplot as plt\n",
        "\n",
        "from sklearn.model_selection import StratifiedKFold\n",
        "from sklearn.utils import resample\n",
        "from sklearn.metrics import roc_curve ,precision_recall_curve,auc,confusion_matrix,ConfusionMatrixDisplay\n",
        "import keras\n"
      ]
    },
    {
      "cell_type": "code",
      "execution_count": 2,
      "metadata": {},
      "outputs": [
        {
          "name": "stderr",
          "output_type": "stream",
          "text": [
            "/tmp/ipykernel_65377/808020257.py:1: DtypeWarning: Columns (0) have mixed types. Specify dtype option on import or set low_memory=False.\n",
            "  pre_processed_data=pd.read_csv(\"../data/pre_process/doc2vec.csv\")\n"
          ]
        },
        {
          "data": {
            "text/html": [
              "<div>\n",
              "<style scoped>\n",
              "    .dataframe tbody tr th:only-of-type {\n",
              "        vertical-align: middle;\n",
              "    }\n",
              "\n",
              "    .dataframe tbody tr th {\n",
              "        vertical-align: top;\n",
              "    }\n",
              "\n",
              "    .dataframe thead th {\n",
              "        text-align: right;\n",
              "    }\n",
              "</style>\n",
              "<table border=\"1\" class=\"dataframe\">\n",
              "  <thead>\n",
              "    <tr style=\"text-align: right;\">\n",
              "      <th></th>\n",
              "      <th>id</th>\n",
              "      <th>prompt_id</th>\n",
              "      <th>generated</th>\n",
              "      <th>0</th>\n",
              "      <th>1</th>\n",
              "      <th>2</th>\n",
              "      <th>3</th>\n",
              "      <th>4</th>\n",
              "      <th>5</th>\n",
              "      <th>6</th>\n",
              "      <th>...</th>\n",
              "      <th>96</th>\n",
              "      <th>97</th>\n",
              "      <th>98</th>\n",
              "      <th>99</th>\n",
              "      <th>normalized_norm</th>\n",
              "      <th>token_num</th>\n",
              "      <th>sent_num</th>\n",
              "      <th>punct_sym</th>\n",
              "      <th>apostrof_sym</th>\n",
              "      <th>unk_num</th>\n",
              "    </tr>\n",
              "  </thead>\n",
              "  <tbody>\n",
              "    <tr>\n",
              "      <th>0</th>\n",
              "      <td>0059830c</td>\n",
              "      <td>0</td>\n",
              "      <td>0</td>\n",
              "      <td>-0.017544</td>\n",
              "      <td>-0.036879</td>\n",
              "      <td>0.001294</td>\n",
              "      <td>0.088538</td>\n",
              "      <td>0.069350</td>\n",
              "      <td>0.051428</td>\n",
              "      <td>-0.062259</td>\n",
              "      <td>...</td>\n",
              "      <td>-0.047804</td>\n",
              "      <td>-0.018791</td>\n",
              "      <td>0.057600</td>\n",
              "      <td>-0.026335</td>\n",
              "      <td>0.320077</td>\n",
              "      <td>0.003912</td>\n",
              "      <td>0.004492</td>\n",
              "      <td>0.005521</td>\n",
              "      <td>0.000000</td>\n",
              "      <td>0</td>\n",
              "    </tr>\n",
              "    <tr>\n",
              "      <th>1</th>\n",
              "      <td>005db917</td>\n",
              "      <td>0</td>\n",
              "      <td>0</td>\n",
              "      <td>0.008965</td>\n",
              "      <td>-0.004766</td>\n",
              "      <td>-0.023785</td>\n",
              "      <td>0.097447</td>\n",
              "      <td>0.029138</td>\n",
              "      <td>-0.096148</td>\n",
              "      <td>0.092494</td>\n",
              "      <td>...</td>\n",
              "      <td>-0.066157</td>\n",
              "      <td>0.123343</td>\n",
              "      <td>0.014478</td>\n",
              "      <td>-0.069293</td>\n",
              "      <td>0.277780</td>\n",
              "      <td>0.003912</td>\n",
              "      <td>0.004866</td>\n",
              "      <td>0.004616</td>\n",
              "      <td>0.004868</td>\n",
              "      <td>0</td>\n",
              "    </tr>\n",
              "    <tr>\n",
              "      <th>2</th>\n",
              "      <td>008f63e3</td>\n",
              "      <td>0</td>\n",
              "      <td>0</td>\n",
              "      <td>-0.220178</td>\n",
              "      <td>-0.039477</td>\n",
              "      <td>0.066857</td>\n",
              "      <td>0.102177</td>\n",
              "      <td>0.110360</td>\n",
              "      <td>-0.008355</td>\n",
              "      <td>-0.024121</td>\n",
              "      <td>...</td>\n",
              "      <td>-0.125095</td>\n",
              "      <td>-0.001598</td>\n",
              "      <td>-0.070979</td>\n",
              "      <td>-0.084900</td>\n",
              "      <td>0.360477</td>\n",
              "      <td>0.003912</td>\n",
              "      <td>0.008983</td>\n",
              "      <td>0.006969</td>\n",
              "      <td>0.002434</td>\n",
              "      <td>0</td>\n",
              "    </tr>\n",
              "    <tr>\n",
              "      <th>3</th>\n",
              "      <td>00940276</td>\n",
              "      <td>0</td>\n",
              "      <td>0</td>\n",
              "      <td>-0.081973</td>\n",
              "      <td>-0.113168</td>\n",
              "      <td>0.069693</td>\n",
              "      <td>0.073340</td>\n",
              "      <td>0.049455</td>\n",
              "      <td>-0.018525</td>\n",
              "      <td>-0.056701</td>\n",
              "      <td>...</td>\n",
              "      <td>-0.128309</td>\n",
              "      <td>-0.047691</td>\n",
              "      <td>-0.042124</td>\n",
              "      <td>-0.131834</td>\n",
              "      <td>0.385377</td>\n",
              "      <td>0.003912</td>\n",
              "      <td>0.006550</td>\n",
              "      <td>0.007240</td>\n",
              "      <td>0.000000</td>\n",
              "      <td>0</td>\n",
              "    </tr>\n",
              "    <tr>\n",
              "      <th>4</th>\n",
              "      <td>00c39458</td>\n",
              "      <td>0</td>\n",
              "      <td>0</td>\n",
              "      <td>-0.066073</td>\n",
              "      <td>-0.107501</td>\n",
              "      <td>0.080051</td>\n",
              "      <td>0.070197</td>\n",
              "      <td>0.001512</td>\n",
              "      <td>-0.008640</td>\n",
              "      <td>-0.078753</td>\n",
              "      <td>...</td>\n",
              "      <td>-0.133187</td>\n",
              "      <td>0.048298</td>\n",
              "      <td>0.002570</td>\n",
              "      <td>-0.093981</td>\n",
              "      <td>0.461385</td>\n",
              "      <td>0.003912</td>\n",
              "      <td>0.008983</td>\n",
              "      <td>0.007602</td>\n",
              "      <td>0.002434</td>\n",
              "      <td>0</td>\n",
              "    </tr>\n",
              "    <tr>\n",
              "      <th>...</th>\n",
              "      <td>...</td>\n",
              "      <td>...</td>\n",
              "      <td>...</td>\n",
              "      <td>...</td>\n",
              "      <td>...</td>\n",
              "      <td>...</td>\n",
              "      <td>...</td>\n",
              "      <td>...</td>\n",
              "      <td>...</td>\n",
              "      <td>...</td>\n",
              "      <td>...</td>\n",
              "      <td>...</td>\n",
              "      <td>...</td>\n",
              "      <td>...</td>\n",
              "      <td>...</td>\n",
              "      <td>...</td>\n",
              "      <td>...</td>\n",
              "      <td>...</td>\n",
              "      <td>...</td>\n",
              "      <td>...</td>\n",
              "      <td>...</td>\n",
              "    </tr>\n",
              "    <tr>\n",
              "      <th>65349</th>\n",
              "      <td>65525</td>\n",
              "      <td>1</td>\n",
              "      <td>1</td>\n",
              "      <td>-0.012233</td>\n",
              "      <td>-0.081156</td>\n",
              "      <td>0.006432</td>\n",
              "      <td>-0.040683</td>\n",
              "      <td>0.126697</td>\n",
              "      <td>0.022267</td>\n",
              "      <td>-0.044591</td>\n",
              "      <td>...</td>\n",
              "      <td>0.134248</td>\n",
              "      <td>0.054473</td>\n",
              "      <td>0.059105</td>\n",
              "      <td>0.027512</td>\n",
              "      <td>0.173256</td>\n",
              "      <td>0.003912</td>\n",
              "      <td>0.003369</td>\n",
              "      <td>0.003258</td>\n",
              "      <td>0.000000</td>\n",
              "      <td>0</td>\n",
              "    </tr>\n",
              "    <tr>\n",
              "      <th>65350</th>\n",
              "      <td>65526</td>\n",
              "      <td>1</td>\n",
              "      <td>1</td>\n",
              "      <td>-0.022889</td>\n",
              "      <td>-0.085193</td>\n",
              "      <td>-0.074535</td>\n",
              "      <td>-0.023842</td>\n",
              "      <td>0.014821</td>\n",
              "      <td>0.013985</td>\n",
              "      <td>-0.106470</td>\n",
              "      <td>...</td>\n",
              "      <td>-0.018349</td>\n",
              "      <td>-0.016564</td>\n",
              "      <td>-0.048282</td>\n",
              "      <td>0.018813</td>\n",
              "      <td>0.239976</td>\n",
              "      <td>0.003912</td>\n",
              "      <td>0.004305</td>\n",
              "      <td>0.003711</td>\n",
              "      <td>0.000000</td>\n",
              "      <td>0</td>\n",
              "    </tr>\n",
              "    <tr>\n",
              "      <th>65351</th>\n",
              "      <td>65527</td>\n",
              "      <td>1</td>\n",
              "      <td>1</td>\n",
              "      <td>-0.105067</td>\n",
              "      <td>-0.008494</td>\n",
              "      <td>-0.145032</td>\n",
              "      <td>-0.016242</td>\n",
              "      <td>0.005580</td>\n",
              "      <td>-0.010481</td>\n",
              "      <td>-0.065304</td>\n",
              "      <td>...</td>\n",
              "      <td>-0.017710</td>\n",
              "      <td>-0.075679</td>\n",
              "      <td>-0.019108</td>\n",
              "      <td>0.010756</td>\n",
              "      <td>0.215661</td>\n",
              "      <td>0.003912</td>\n",
              "      <td>0.003743</td>\n",
              "      <td>0.003530</td>\n",
              "      <td>0.000000</td>\n",
              "      <td>0</td>\n",
              "    </tr>\n",
              "    <tr>\n",
              "      <th>65352</th>\n",
              "      <td>65528</td>\n",
              "      <td>1</td>\n",
              "      <td>1</td>\n",
              "      <td>0.082928</td>\n",
              "      <td>0.002637</td>\n",
              "      <td>0.011657</td>\n",
              "      <td>-0.045298</td>\n",
              "      <td>0.041979</td>\n",
              "      <td>0.068132</td>\n",
              "      <td>0.062303</td>\n",
              "      <td>...</td>\n",
              "      <td>0.058296</td>\n",
              "      <td>0.081840</td>\n",
              "      <td>0.019200</td>\n",
              "      <td>-0.090430</td>\n",
              "      <td>0.206971</td>\n",
              "      <td>0.003912</td>\n",
              "      <td>0.003369</td>\n",
              "      <td>0.003168</td>\n",
              "      <td>0.000000</td>\n",
              "      <td>0</td>\n",
              "    </tr>\n",
              "    <tr>\n",
              "      <th>65353</th>\n",
              "      <td>65529</td>\n",
              "      <td>1</td>\n",
              "      <td>1</td>\n",
              "      <td>-0.151946</td>\n",
              "      <td>0.038097</td>\n",
              "      <td>0.039217</td>\n",
              "      <td>-0.102388</td>\n",
              "      <td>0.045163</td>\n",
              "      <td>0.016377</td>\n",
              "      <td>0.018505</td>\n",
              "      <td>...</td>\n",
              "      <td>-0.006667</td>\n",
              "      <td>0.001440</td>\n",
              "      <td>0.018277</td>\n",
              "      <td>0.017111</td>\n",
              "      <td>0.198289</td>\n",
              "      <td>0.003912</td>\n",
              "      <td>0.002620</td>\n",
              "      <td>0.001901</td>\n",
              "      <td>0.000000</td>\n",
              "      <td>0</td>\n",
              "    </tr>\n",
              "  </tbody>\n",
              "</table>\n",
              "<p>65354 rows × 109 columns</p>\n",
              "</div>"
            ],
            "text/plain": [
              "             id  prompt_id  generated         0         1         2         3  \\\n",
              "0      0059830c          0          0 -0.017544 -0.036879  0.001294  0.088538   \n",
              "1      005db917          0          0  0.008965 -0.004766 -0.023785  0.097447   \n",
              "2      008f63e3          0          0 -0.220178 -0.039477  0.066857  0.102177   \n",
              "3      00940276          0          0 -0.081973 -0.113168  0.069693  0.073340   \n",
              "4      00c39458          0          0 -0.066073 -0.107501  0.080051  0.070197   \n",
              "...         ...        ...        ...       ...       ...       ...       ...   \n",
              "65349     65525          1          1 -0.012233 -0.081156  0.006432 -0.040683   \n",
              "65350     65526          1          1 -0.022889 -0.085193 -0.074535 -0.023842   \n",
              "65351     65527          1          1 -0.105067 -0.008494 -0.145032 -0.016242   \n",
              "65352     65528          1          1  0.082928  0.002637  0.011657 -0.045298   \n",
              "65353     65529          1          1 -0.151946  0.038097  0.039217 -0.102388   \n",
              "\n",
              "              4         5         6  ...        96        97        98  \\\n",
              "0      0.069350  0.051428 -0.062259  ... -0.047804 -0.018791  0.057600   \n",
              "1      0.029138 -0.096148  0.092494  ... -0.066157  0.123343  0.014478   \n",
              "2      0.110360 -0.008355 -0.024121  ... -0.125095 -0.001598 -0.070979   \n",
              "3      0.049455 -0.018525 -0.056701  ... -0.128309 -0.047691 -0.042124   \n",
              "4      0.001512 -0.008640 -0.078753  ... -0.133187  0.048298  0.002570   \n",
              "...         ...       ...       ...  ...       ...       ...       ...   \n",
              "65349  0.126697  0.022267 -0.044591  ...  0.134248  0.054473  0.059105   \n",
              "65350  0.014821  0.013985 -0.106470  ... -0.018349 -0.016564 -0.048282   \n",
              "65351  0.005580 -0.010481 -0.065304  ... -0.017710 -0.075679 -0.019108   \n",
              "65352  0.041979  0.068132  0.062303  ...  0.058296  0.081840  0.019200   \n",
              "65353  0.045163  0.016377  0.018505  ... -0.006667  0.001440  0.018277   \n",
              "\n",
              "             99  normalized_norm  token_num  sent_num  punct_sym  \\\n",
              "0     -0.026335         0.320077   0.003912  0.004492   0.005521   \n",
              "1     -0.069293         0.277780   0.003912  0.004866   0.004616   \n",
              "2     -0.084900         0.360477   0.003912  0.008983   0.006969   \n",
              "3     -0.131834         0.385377   0.003912  0.006550   0.007240   \n",
              "4     -0.093981         0.461385   0.003912  0.008983   0.007602   \n",
              "...         ...              ...        ...       ...        ...   \n",
              "65349  0.027512         0.173256   0.003912  0.003369   0.003258   \n",
              "65350  0.018813         0.239976   0.003912  0.004305   0.003711   \n",
              "65351  0.010756         0.215661   0.003912  0.003743   0.003530   \n",
              "65352 -0.090430         0.206971   0.003912  0.003369   0.003168   \n",
              "65353  0.017111         0.198289   0.003912  0.002620   0.001901   \n",
              "\n",
              "       apostrof_sym  unk_num  \n",
              "0          0.000000        0  \n",
              "1          0.004868        0  \n",
              "2          0.002434        0  \n",
              "3          0.000000        0  \n",
              "4          0.002434        0  \n",
              "...             ...      ...  \n",
              "65349      0.000000        0  \n",
              "65350      0.000000        0  \n",
              "65351      0.000000        0  \n",
              "65352      0.000000        0  \n",
              "65353      0.000000        0  \n",
              "\n",
              "[65354 rows x 109 columns]"
            ]
          },
          "execution_count": 2,
          "metadata": {},
          "output_type": "execute_result"
        }
      ],
      "source": [
        "pre_processed_data=pd.read_csv(\"../data/pre_process/doc2vec.csv\")\n",
        "pre_processed_data"
      ]
    },
    {
      "cell_type": "markdown",
      "metadata": {},
      "source": [
        "## Random Downsampling"
      ]
    },
    {
      "cell_type": "code",
      "execution_count": 3,
      "metadata": {
        "id": "sieb_gK4dYKl"
      },
      "outputs": [],
      "source": [
        "def downsampling(X_train,y_train,rand_state,ratio):\n",
        "    # Concatenate X_train and y_train for ease of downsampling\n",
        "    train_data = pd.concat([X_train, y_train], axis=1)\n",
        "\n",
        "    # Identify the class with the majority of instances\n",
        "    majority_class = train_data[y_train.name].value_counts().idxmax()\n",
        "\n",
        "    # Separate instances of each class\n",
        "    majority_class_data = train_data[train_data[y_train.name] == majority_class]\n",
        "    minority_class_data = train_data[train_data[y_train.name] != majority_class]\n",
        "\n",
        "\n",
        "    currRatio = len(majority_class_data) / len(minority_class_data)\n",
        "    if(currRatio<=ratio):\n",
        "        raise ValueError(f\"El ratio de entrada debe ser menor al ratio actual.r={currRatio}\")\n",
        "\n",
        "\n",
        "    # Downsample the majority class to match the number of instances in the minority class\n",
        "    downsampled_majority_class_data = resample(\n",
        "        majority_class_data,\n",
        "        replace=False,\n",
        "        n_samples=math.floor(ratio*len(minority_class_data)),\n",
        "        random_state=rand_state\n",
        "    )\n",
        "\n",
        "    # Combine the downsampled majority class with the minority class\n",
        "    downsampled_train_data = pd.concat([downsampled_majority_class_data, minority_class_data])\n",
        "\n",
        "    # Shuffle the data to avoid any order-based patterns\n",
        "    downsampled_train_data = downsampled_train_data.sample(frac=1, random_state=rand_state)\n",
        "\n",
        "    # Separate X_train and y_train after downsampling\n",
        "    X_train_downsampled = downsampled_train_data.drop(columns=[y_train.name])\n",
        "    y_train_downsampled = downsampled_train_data[y_train.name]\n",
        "\n",
        "    return X_train_downsampled, y_train_downsampled"
      ]
    },
    {
      "cell_type": "markdown",
      "metadata": {
        "id": "5EjLehn3dYKN"
      },
      "source": [
        "## ROC AUC curve"
      ]
    },
    {
      "cell_type": "code",
      "execution_count": 4,
      "metadata": {
        "id": "FvEDVQHVdYKN"
      },
      "outputs": [],
      "source": [
        "def ROCcurves(model,x_val,y_val):\n",
        "    fig, axs = plt.subplots(nrows=1, ncols=2, figsize=(10, 4))\n",
        "    \n",
        "    y_pred = model.predict(x_val).ravel()\n",
        "    fpr, tpr , _ = roc_curve(y_val,  y_pred)\n",
        "    auc_ss = auc(fpr,tpr)\n",
        "    precision, recall, _ = precision_recall_curve(y_val,  y_pred)\n",
        "    auc_pr = auc(recall, precision)\n",
        "\n",
        "    # Primer subgráfico\n",
        "    axs[0].plot([0, 1], [0, 1], color='gray', lw=1, linestyle='--', label='AUC = 0.50')\n",
        "    axs[0].plot(fpr,tpr, label='ROC curve', color='blue')\n",
        "    axs[0].set_title(f'ROC curve = {round(auc_ss,3)}')\n",
        "    axs[0].set_xlabel('FalsePositiveRate')\n",
        "    axs[0].set_ylabel('TruePositiveRate')\n",
        "    axs[0].legend()\n",
        "    # Segundo subgráfico\n",
        "    axs[1].plot([0, 1], [0,0], color='gray', lw=1, linestyle='--', label='AUC = 0.0')\n",
        "    axs[1].plot(recall, precision, label='ROC-RP curve', color='orange')\n",
        "    axs[1].set_title(f'ROC-RP curve = {round(auc_pr,3)}')\n",
        "    axs[1].set_xlabel('Recall')\n",
        "    axs[1].set_ylabel('Precision')\n",
        "    axs[1].legend()\n",
        "    plt.show()\n",
        "\n"
      ]
    },
    {
      "cell_type": "markdown",
      "metadata": {},
      "source": [
        "## Arquitecture"
      ]
    },
    {
      "cell_type": "code",
      "execution_count": 15,
      "metadata": {},
      "outputs": [],
      "source": [
        "input = keras.Input(shape=(pre_processed_data.shape[1]-2))\n",
        "x = keras.layers.Reshape(target_shape=(1,pre_processed_data.shape[1]-2))(input)\n",
        "x = keras.layers.Convolution1D(100,kernel_size=10,padding=\"same\",strides=1,activation=\"relu\")(x)\n",
        "x = keras.layers.Convolution1D(100,kernel_size=20,padding=\"same\",strides=1,activation=\"relu\")(x)\n",
        "x = keras.layers.Convolution1D(100,kernel_size=40,padding=\"same\",strides=1,activation=\"relu\")(x)\n",
        "x = keras.layers.Flatten()(x)\n",
        "x = keras.layers.Dense(100,activation=\"relu\")(x)\n",
        "x = keras.layers.Dense(50,activation=\"relu\")(x)\n",
        "x = keras.layers.Dense(10,activation=\"relu\")(x)\n",
        "output = keras.layers.Dense(1,activation=\"sigmoid\")(x)\n",
        "\n",
        "model = keras.Model(input,output)\n",
        "\n",
        "model.compile(optimizer='adam',\n",
        "               loss=keras.losses.BinaryCrossentropy(),\n",
        "               metrics=[keras.metrics.AUC()])"
      ]
    },
    {
      "cell_type": "markdown",
      "metadata": {},
      "source": [
        "## Training"
      ]
    },
    {
      "cell_type": "code",
      "execution_count": 16,
      "metadata": {
        "colab": {
          "base_uri": "https://localhost:8080/",
          "height": 1000
        },
        "id": "eE-YSa9jdYKm",
        "outputId": "1017a0f1-e1de-49da-ed83-603324aa1644"
      },
      "outputs": [
        {
          "name": "stdout",
          "output_type": "stream",
          "text": [
            "DOWNSAMPLED:(24633:32022)\n",
            "Epoch 1/5\n",
            "57/57 [==============================] - 5s 73ms/step - loss: 0.6692 - auc_1: 0.5854 - val_loss: 0.6048 - val_auc_1: 0.7795\n",
            "Epoch 2/5\n",
            "57/57 [==============================] - 4s 70ms/step - loss: 0.5683 - auc_1: 0.7772 - val_loss: 0.5166 - val_auc_1: 0.8172\n",
            "Epoch 3/5\n",
            "57/57 [==============================] - 4s 69ms/step - loss: 0.4994 - auc_1: 0.8315 - val_loss: 0.4744 - val_auc_1: 0.8488\n",
            "Epoch 4/5\n",
            "57/57 [==============================] - 4s 74ms/step - loss: 0.4551 - auc_1: 0.8636 - val_loss: 0.4360 - val_auc_1: 0.8763\n",
            "Epoch 5/5\n",
            "57/57 [==============================] - 4s 71ms/step - loss: 0.4119 - auc_1: 0.8906 - val_loss: 0.4219 - val_auc_1: 0.9014\n",
            "DOWNSAMPLED:(24634:32024)\n",
            "Epoch 1/5\n",
            "57/57 [==============================] - 4s 69ms/step - loss: 0.3883 - auc_1: 0.9037 - val_loss: 0.3510 - val_auc_1: 0.9246\n",
            "Epoch 2/5\n",
            "57/57 [==============================] - 4s 68ms/step - loss: 0.3565 - auc_1: 0.9200 - val_loss: 0.3509 - val_auc_1: 0.9292\n",
            "Epoch 3/5\n",
            "57/57 [==============================] - 4s 70ms/step - loss: 0.3466 - auc_1: 0.9244 - val_loss: 0.3490 - val_auc_1: 0.9339\n",
            "Epoch 4/5\n",
            "57/57 [==============================] - 4s 69ms/step - loss: 0.3425 - auc_1: 0.9263 - val_loss: 0.3191 - val_auc_1: 0.9368\n",
            "Epoch 5/5\n",
            "57/57 [==============================] - 4s 73ms/step - loss: 0.3251 - auc_1: 0.9338 - val_loss: 0.3189 - val_auc_1: 0.9402\n",
            "DOWNSAMPLED:(24634:32024)\n",
            "Epoch 1/5\n",
            "57/57 [==============================] - 4s 74ms/step - loss: 0.3099 - auc_1: 0.9401 - val_loss: 0.2999 - val_auc_1: 0.9438\n",
            "Epoch 2/5\n",
            "57/57 [==============================] - 4s 76ms/step - loss: 0.3177 - auc_1: 0.9369 - val_loss: 0.3059 - val_auc_1: 0.9458\n",
            "Epoch 3/5\n",
            "57/57 [==============================] - 5s 86ms/step - loss: 0.3019 - auc_1: 0.9431 - val_loss: 0.3037 - val_auc_1: 0.9481\n",
            "Epoch 4/5\n",
            "57/57 [==============================] - 4s 72ms/step - loss: 0.3021 - auc_1: 0.9430 - val_loss: 0.2926 - val_auc_1: 0.9482\n",
            "Epoch 5/5\n",
            "57/57 [==============================] - 4s 75ms/step - loss: 0.2837 - auc_1: 0.9498 - val_loss: 0.2936 - val_auc_1: 0.9508\n",
            "DOWNSAMPLED:(24634:32024)\n",
            "Epoch 1/5\n",
            "57/57 [==============================] - 4s 71ms/step - loss: 0.2841 - auc_1: 0.9497 - val_loss: 0.2721 - val_auc_1: 0.9576\n",
            "Epoch 2/5\n",
            "57/57 [==============================] - 4s 69ms/step - loss: 0.2692 - auc_1: 0.9548 - val_loss: 0.2787 - val_auc_1: 0.9586\n",
            "Epoch 3/5\n",
            "57/57 [==============================] - 4s 69ms/step - loss: 0.2693 - auc_1: 0.9548 - val_loss: 0.2568 - val_auc_1: 0.9587\n",
            "Epoch 4/5\n",
            "57/57 [==============================] - 4s 70ms/step - loss: 0.2632 - auc_1: 0.9568 - val_loss: 0.2588 - val_auc_1: 0.9588\n",
            "Epoch 5/5\n",
            "57/57 [==============================] - 4s 71ms/step - loss: 0.2551 - auc_1: 0.9594 - val_loss: 0.2577 - val_auc_1: 0.9594\n",
            "DOWNSAMPLED:(24634:32024)\n",
            "Epoch 1/5\n",
            "57/57 [==============================] - 4s 70ms/step - loss: 0.2584 - auc_1: 0.9584 - val_loss: 0.2661 - val_auc_1: 0.9601\n",
            "Epoch 2/5\n",
            "57/57 [==============================] - 4s 68ms/step - loss: 0.2431 - auc_1: 0.9630 - val_loss: 0.2798 - val_auc_1: 0.9600\n",
            "Epoch 3/5\n",
            "57/57 [==============================] - 4s 69ms/step - loss: 0.2514 - auc_1: 0.9607 - val_loss: 0.2668 - val_auc_1: 0.9598\n",
            "Epoch 4/5\n",
            "57/57 [==============================] - 4s 70ms/step - loss: 0.2391 - auc_1: 0.9643 - val_loss: 0.2744 - val_auc_1: 0.9608\n",
            "Epoch 5/5\n",
            "57/57 [==============================] - 4s 70ms/step - loss: 0.2404 - auc_1: 0.9640 - val_loss: 0.2538 - val_auc_1: 0.9611\n",
            "DOWNSAMPLED:(24634:32024)\n",
            "Epoch 1/5\n",
            "57/57 [==============================] - 4s 70ms/step - loss: 0.2389 - auc_1: 0.9644 - val_loss: 0.2535 - val_auc_1: 0.9659\n",
            "Epoch 2/5\n",
            "57/57 [==============================] - 4s 69ms/step - loss: 0.2378 - auc_1: 0.9647 - val_loss: 0.2333 - val_auc_1: 0.9662\n",
            "Epoch 3/5\n",
            "57/57 [==============================] - 4s 67ms/step - loss: 0.2258 - auc_1: 0.9682 - val_loss: 0.2336 - val_auc_1: 0.9672\n",
            "Epoch 4/5\n",
            "57/57 [==============================] - 4s 70ms/step - loss: 0.2242 - auc_1: 0.9686 - val_loss: 0.2309 - val_auc_1: 0.9667\n",
            "Epoch 5/5\n",
            "57/57 [==============================] - 4s 68ms/step - loss: 0.2174 - auc_1: 0.9704 - val_loss: 0.2352 - val_auc_1: 0.9662\n",
            "DOWNSAMPLED:(24634:32024)\n",
            "Epoch 1/5\n",
            "57/57 [==============================] - 4s 69ms/step - loss: 0.2181 - auc_1: 0.9702 - val_loss: 0.2141 - val_auc_1: 0.9711\n",
            "Epoch 2/5\n",
            "57/57 [==============================] - 4s 70ms/step - loss: 0.2205 - auc_1: 0.9696 - val_loss: 0.2151 - val_auc_1: 0.9708\n",
            "Epoch 3/5\n",
            "57/57 [==============================] - 4s 68ms/step - loss: 0.2060 - auc_1: 0.9733 - val_loss: 0.2394 - val_auc_1: 0.9701\n",
            "Epoch 4/5\n",
            "57/57 [==============================] - 4s 69ms/step - loss: 0.2036 - auc_1: 0.9740 - val_loss: 0.2417 - val_auc_1: 0.9686\n",
            "Epoch 5/5\n",
            "57/57 [==============================] - 4s 71ms/step - loss: 0.2012 - auc_1: 0.9746 - val_loss: 0.2241 - val_auc_1: 0.9687\n",
            "DOWNSAMPLED:(24634:32024)\n",
            "Epoch 1/5\n",
            "57/57 [==============================] - 4s 70ms/step - loss: 0.2083 - auc_1: 0.9728 - val_loss: 0.2296 - val_auc_1: 0.9759\n",
            "Epoch 2/5\n",
            "57/57 [==============================] - 4s 70ms/step - loss: 0.2014 - auc_1: 0.9745 - val_loss: 0.2013 - val_auc_1: 0.9756\n",
            "Epoch 3/5\n",
            "57/57 [==============================] - 4s 70ms/step - loss: 0.1977 - auc_1: 0.9754 - val_loss: 0.1997 - val_auc_1: 0.9751\n",
            "Epoch 4/5\n",
            "57/57 [==============================] - 4s 73ms/step - loss: 0.1974 - auc_1: 0.9754 - val_loss: 0.2007 - val_auc_1: 0.9748\n",
            "Epoch 5/5\n",
            "57/57 [==============================] - 4s 71ms/step - loss: 0.1888 - auc_1: 0.9775 - val_loss: 0.2062 - val_auc_1: 0.9740\n",
            "DOWNSAMPLED:(24634:32024)\n",
            "Epoch 1/5\n",
            "57/57 [==============================] - 4s 73ms/step - loss: 0.1928 - auc_1: 0.9765 - val_loss: 0.2062 - val_auc_1: 0.9784\n",
            "Epoch 2/5\n",
            "57/57 [==============================] - 4s 70ms/step - loss: 0.1937 - auc_1: 0.9764 - val_loss: 0.1834 - val_auc_1: 0.9791\n",
            "Epoch 3/5\n",
            "57/57 [==============================] - 4s 71ms/step - loss: 0.1976 - auc_1: 0.9754 - val_loss: 0.1911 - val_auc_1: 0.9783\n",
            "Epoch 4/5\n",
            "57/57 [==============================] - 4s 70ms/step - loss: 0.1866 - auc_1: 0.9780 - val_loss: 0.1939 - val_auc_1: 0.9766\n",
            "Epoch 5/5\n",
            "57/57 [==============================] - 4s 70ms/step - loss: 0.1880 - auc_1: 0.9777 - val_loss: 0.2069 - val_auc_1: 0.9769\n",
            "DOWNSAMPLED:(24634:32024)\n",
            "Epoch 1/5\n",
            "57/57 [==============================] - 4s 72ms/step - loss: 0.1846 - auc_1: 0.9785 - val_loss: 0.1715 - val_auc_1: 0.9815\n",
            "Epoch 2/5\n",
            "57/57 [==============================] - 4s 69ms/step - loss: 0.1785 - auc_1: 0.9798 - val_loss: 0.1829 - val_auc_1: 0.9791\n",
            "Epoch 3/5\n",
            "57/57 [==============================] - 4s 71ms/step - loss: 0.1867 - auc_1: 0.9781 - val_loss: 0.1806 - val_auc_1: 0.9803\n",
            "Epoch 4/5\n",
            "57/57 [==============================] - 4s 70ms/step - loss: 0.1718 - auc_1: 0.9813 - val_loss: 0.1805 - val_auc_1: 0.9792\n",
            "Epoch 5/5\n",
            "57/57 [==============================] - 4s 69ms/step - loss: 0.1655 - auc_1: 0.9825 - val_loss: 0.1804 - val_auc_1: 0.9795\n"
          ]
        }
      ],
      "source": [
        "rand_state= random.randint(0,1000)\n",
        "#NN training with 10-fold cross-validation stratified with random under-sampling technic for imbalanced data\n",
        "X = pre_processed_data.drop([\"id\",\"generated\"],axis=1)\n",
        "Y = pre_processed_data[\"generated\"]\n",
        "folds = StratifiedKFold(10,shuffle=True,random_state=rand_state)\n",
        "for fold, (train_index, val_index) in enumerate(folds.split(X,Y)):\n",
        "    X_train, X_val = X.iloc[train_index], X.iloc[val_index]\n",
        "    y_train, y_val = Y.iloc[train_index], Y.iloc[val_index]\n",
        "\n",
        "    X_train_dwns, y_train_dwns = downsampling(X_train,y_train,rand_state,ratio=1.3)\n",
        "\n",
        "    #print(f\"Fold {fold + 1}: Train {len(train_index)} samples, Validation {len(val_index)} samples\")\n",
        "    #print(f\"TRAIN:({y_train[y_train==0].size}:{y_train[y_train==1].size})\")\n",
        "    print(f\"DOWNSAMPLED:({y_train_dwns[y_train_dwns==0].size}:{y_train_dwns[y_train_dwns==1].size})\")\n",
        "    #print(f\"VAL:({y_val[y_val==0].size}:{y_val[y_val==1].size})\")\n",
        "    model.fit(X_train_dwns,\n",
        "                y_train_dwns,\n",
        "                validation_data=(X_val,y_val),\n",
        "                batch_size=1000,\n",
        "                epochs=5)"
      ]
    },
    {
      "cell_type": "code",
      "execution_count": 17,
      "metadata": {},
      "outputs": [
        {
          "name": "stdout",
          "output_type": "stream",
          "text": [
            "2043/2043 [==============================] - 4s 2ms/step\n"
          ]
        },
        {
          "data": {
            "image/png": "[encoded data removed]",
            "text/plain": [
              "<Figure size 1000x400 with 2 Axes>"
            ]
          },
          "metadata": {},
          "output_type": "display_data"
        }
      ],
      "source": [
        "ROCcurves(model,X,Y)"
      ]
    },
    {
      "cell_type": "code",
      "execution_count": 18,
      "metadata": {
        "colab": {
          "base_uri": "https://localhost:8080/"
        },
        "id": "Ub2SWyaC9uL2",
        "outputId": "d63e26ff-e443-4621-9757-f9444e0fdfa6"
      },
      "outputs": [
        {
          "name": "stdout",
          "output_type": "stream",
          "text": [
            "2043/2043 [==============================] - 4s 2ms/step\n"
          ]
        },
        {
          "data": {
            "text/plain": [
              "<sklearn.metrics._plot.confusion_matrix.ConfusionMatrixDisplay at 0x7fdbfc393690>"
            ]
          },
          "execution_count": 18,
          "metadata": {},
          "output_type": "execute_result"
        },
        {
          "data": {
            "image/png": "[encoded data removed]",
            "text/plain": [
              "<Figure size 640x480 with 2 Axes>"
            ]
          },
          "metadata": {},
          "output_type": "display_data"
        }
      ],
      "source": [
        "pred = list(map(lambda pred : 1 if pred > 0.5 else 0,model.predict(x=X)))\n",
        "display = ConfusionMatrixDisplay(confusion_matrix(pred,Y),display_labels=[\"True\",\"False\"])\n",
        "display.plot()"
      ]
    },
    {
      "cell_type": "code",
      "execution_count": 19,
      "metadata": {
        "colab": {
          "base_uri": "https://localhost:8080/"
        },
        "id": "o5dVLLxVyjOg",
        "outputId": "4d54fa2d-90ac-45bf-fddb-16e7cebe5806"
      },
      "outputs": [
        {
          "name": "stdout",
          "output_type": "stream",
          "text": [
            "1/1 [==============================] - 0s 17ms/step\n"
          ]
        },
        {
          "data": {
            "text/plain": [
              "array([[0.99995637]], dtype=float32)"
            ]
          },
          "execution_count": 19,
          "metadata": {},
          "output_type": "execute_result"
        }
      ],
      "source": [
        "model.predict(x=pd.DataFrame(X.iloc[1385]).transpose())"
      ]
    },
    {
      "cell_type": "markdown",
      "metadata": {},
      "source": [
        "## Save model weights"
      ]
    },
    {
      "cell_type": "code",
      "execution_count": 20,
      "metadata": {},
      "outputs": [
        {
          "name": "stderr",
          "output_type": "stream",
          "text": [
            "/home/mrtc101/Desktop/ciencias de la computacion/Cursado/4.2Inteligencia Artificial 2/Final/venv/lib/python3.11/site-packages/keras/src/engine/training.py:3103: UserWarning: You are saving your model as an HDF5 file via `model.save()`. This file format is considered legacy. We recommend using instead the native Keras format, e.g. `model.save('my_model.keras')`.\n",
            "  saving_api.save_model(\n"
          ]
        }
      ],
      "source": [
        "\n",
        "model.save(\"../data/CNN/weights.h5\")"
      ]
    }
  ],
  "metadata": {
    "accelerator": "GPU",
    "colab": {
      "gpuType": "T4",
      "provenance": []
    },
    "kernelspec": {
      "display_name": "Python 3",
      "name": "python3"
    },
    "language_info": {
      "codemirror_mode": {
        "name": "ipython",
        "version": 3
      },
      "file_extension": ".py",
      "mimetype": "text/x-python",
      "name": "python",
      "nbconvert_exporter": "python",
      "pygments_lexer": "ipython3",
      "version": "3.11.0"
    }
  },
  "nbformat": 4,
  "nbformat_minor": 0
}
