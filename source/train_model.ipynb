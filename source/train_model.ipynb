{
  "cells": [
    {
      "cell_type": "markdown",
      "metadata": {
        "id": "_aB82fSvdYKB"
      },
      "source": [
        "# LLM - Detect AI Generated Text\n",
        "## Import"
      ]
    },
    {
      "cell_type": "code",
      "execution_count": 1,
      "metadata": {
        "colab": {
          "base_uri": "https://localhost:8080/"
        },
        "id": "7itjdvI9dYKD",
        "outputId": "af42ede1-292a-43ea-8e85-bdb1a11a3d73"
      },
      "outputs": [
        {
          "name": "stderr",
          "output_type": "stream",
          "text": [
            "[nltk_data] Downloading package punkt to /home/mrtc101/nltk_data...\n",
            "[nltk_data]   Package punkt is already up-to-date!\n",
            "[nltk_data] Downloading package stopwords to\n",
            "[nltk_data]     /home/mrtc101/nltk_data...\n",
            "[nltk_data]   Package stopwords is already up-to-date!\n",
            "/home/mrtc101/Desktop/ciencias de la computacion/Cursado/4.2Inteligencia Artificial 2/Final/venv/lib/python3.11/site-packages/tqdm/auto.py:21: TqdmWarning: IProgress not found. Please update jupyter and ipywidgets. See https://ipywidgets.readthedocs.io/en/stable/user_install.html\n",
            "  from .autonotebook import tqdm as notebook_tqdm\n",
            "2024-01-07 16:55:06.991250: E external/local_xla/xla/stream_executor/cuda/cuda_dnn.cc:9261] Unable to register cuDNN factory: Attempting to register factory for plugin cuDNN when one has already been registered\n",
            "2024-01-07 16:55:06.991296: E external/local_xla/xla/stream_executor/cuda/cuda_fft.cc:607] Unable to register cuFFT factory: Attempting to register factory for plugin cuFFT when one has already been registered\n",
            "2024-01-07 16:55:07.020320: E external/local_xla/xla/stream_executor/cuda/cuda_blas.cc:1515] Unable to register cuBLAS factory: Attempting to register factory for plugin cuBLAS when one has already been registered\n",
            "2024-01-07 16:55:07.083396: I tensorflow/core/platform/cpu_feature_guard.cc:182] This TensorFlow binary is optimized to use available CPU instructions in performance-critical operations.\n",
            "To enable the following instructions: AVX2 FMA, in other operations, rebuild TensorFlow with the appropriate compiler flags.\n",
            "2024-01-07 16:55:08.167807: W tensorflow/compiler/tf2tensorrt/utils/py_utils.cc:38] TF-TRT Warning: Could not find TensorRT\n"
          ]
        }
      ],
      "source": [
        "import math\n",
        "import pandas as pd\n",
        "import numpy as np\n",
        "import matplotlib.pyplot as plt\n",
        "from nltk.tokenize import word_tokenize,sent_tokenize\n",
        "from nltk.corpus import stopwords\n",
        "from gensim.corpora import Dictionary\n",
        "from gensim.models import word2vec\n",
        "from gensim.models import doc2vec\n",
        "from sklearn.model_selection import StratifiedKFold\n",
        "from sklearn.utils import resample\n",
        "from sklearn.metrics import ConfusionMatrixDisplay\n",
        "from sklearn.metrics import roc_curve ,precision_recall_curve\n",
        "from sklearn.metrics import auc\n",
        "from sklearn.metrics import confusion_matrix\n",
        "\n",
        "import nltk\n",
        "nltk.download('punkt')\n",
        "nltk.download('stopwords')\n",
        "\n",
        "from tokenizers import (\n",
        "    decoders,\n",
        "    models,\n",
        "    normalizers,\n",
        "    pre_tokenizers,\n",
        "    processors,\n",
        "    trainers,\n",
        "    Tokenizer,\n",
        ")\n",
        "from transformers import PreTrainedTokenizerFast\n",
        "\n",
        "import keras\n",
        "\n"
      ]
    },
    {
      "cell_type": "code",
      "execution_count": 2,
      "metadata": {
        "id": "4LBr4vwNdYKE"
      },
      "outputs": [],
      "source": [
        "initial_dataset = pd.read_csv(\"../../data/train_essays.csv\")\n",
        "prompts_dataset = pd.read_csv(\"../../data/train_prompts.csv\")\n",
        "new_data = pd.read_csv(\"../../data/new_essays_V1.csv\")\n",
        "test_dataset = pd.read_csv(\"../../data/test_essays.csv\")\n",
        "download_data_1 = pd.read_csv(\"../../data/train_v3_drcat_01.csv\")\n",
        "download_data_2 = pd.read_csv(\"../../data/train_v3_drcat_01.csv\")"
      ]
    },
    {
      "cell_type": "markdown",
      "metadata": {
        "id": "BZA-apgXdYKF"
      },
      "source": [
        "## Data analisis"
      ]
    },
    {
      "cell_type": "code",
      "execution_count": 3,
      "metadata": {
        "colab": {
          "base_uri": "https://localhost:8080/",
          "height": 424
        },
        "id": "dG45LDWZdYKF",
        "outputId": "79d8fa5c-2d89-4075-ff59-2012af444706"
      },
      "outputs": [
        {
          "data": {
            "text/html": [
              "<div>\n",
              "<style scoped>\n",
              "    .dataframe tbody tr th:only-of-type {\n",
              "        vertical-align: middle;\n",
              "    }\n",
              "\n",
              "    .dataframe tbody tr th {\n",
              "        vertical-align: top;\n",
              "    }\n",
              "\n",
              "    .dataframe thead th {\n",
              "        text-align: right;\n",
              "    }\n",
              "</style>\n",
              "<table border=\"1\" class=\"dataframe\">\n",
              "  <thead>\n",
              "    <tr style=\"text-align: right;\">\n",
              "      <th></th>\n",
              "      <th>id</th>\n",
              "      <th>prompt_id</th>\n",
              "      <th>text</th>\n",
              "      <th>generated</th>\n",
              "    </tr>\n",
              "  </thead>\n",
              "  <tbody>\n",
              "    <tr>\n",
              "      <th>0</th>\n",
              "      <td>0059830c</td>\n",
              "      <td>0</td>\n",
              "      <td>Cars. Cars have been around since they became ...</td>\n",
              "      <td>0</td>\n",
              "    </tr>\n",
              "    <tr>\n",
              "      <th>1</th>\n",
              "      <td>005db917</td>\n",
              "      <td>0</td>\n",
              "      <td>Transportation is a large necessity in most co...</td>\n",
              "      <td>0</td>\n",
              "    </tr>\n",
              "    <tr>\n",
              "      <th>2</th>\n",
              "      <td>008f63e3</td>\n",
              "      <td>0</td>\n",
              "      <td>\"America's love affair with it's vehicles seem...</td>\n",
              "      <td>0</td>\n",
              "    </tr>\n",
              "    <tr>\n",
              "      <th>3</th>\n",
              "      <td>00940276</td>\n",
              "      <td>0</td>\n",
              "      <td>How often do you ride in a car? Do you drive a...</td>\n",
              "      <td>0</td>\n",
              "    </tr>\n",
              "    <tr>\n",
              "      <th>4</th>\n",
              "      <td>00c39458</td>\n",
              "      <td>0</td>\n",
              "      <td>Cars are a wonderful thing. They are perhaps o...</td>\n",
              "      <td>0</td>\n",
              "    </tr>\n",
              "    <tr>\n",
              "      <th>...</th>\n",
              "      <td>...</td>\n",
              "      <td>...</td>\n",
              "      <td>...</td>\n",
              "      <td>...</td>\n",
              "    </tr>\n",
              "    <tr>\n",
              "      <th>1373</th>\n",
              "      <td>fe6ff9a5</td>\n",
              "      <td>1</td>\n",
              "      <td>There has been a fuss about the Elector Colleg...</td>\n",
              "      <td>0</td>\n",
              "    </tr>\n",
              "    <tr>\n",
              "      <th>1374</th>\n",
              "      <td>ff669174</td>\n",
              "      <td>0</td>\n",
              "      <td>Limiting car usage has many advantages. Such a...</td>\n",
              "      <td>0</td>\n",
              "    </tr>\n",
              "    <tr>\n",
              "      <th>1375</th>\n",
              "      <td>ffa247e0</td>\n",
              "      <td>0</td>\n",
              "      <td>There's a new trend that has been developing f...</td>\n",
              "      <td>0</td>\n",
              "    </tr>\n",
              "    <tr>\n",
              "      <th>1376</th>\n",
              "      <td>ffc237e9</td>\n",
              "      <td>0</td>\n",
              "      <td>As we all know cars are a big part of our soci...</td>\n",
              "      <td>0</td>\n",
              "    </tr>\n",
              "    <tr>\n",
              "      <th>1377</th>\n",
              "      <td>ffe1ca0d</td>\n",
              "      <td>0</td>\n",
              "      <td>Cars have been around since the 1800's and hav...</td>\n",
              "      <td>0</td>\n",
              "    </tr>\n",
              "  </tbody>\n",
              "</table>\n",
              "<p>1378 rows × 4 columns</p>\n",
              "</div>"
            ],
            "text/plain": [
              "            id  prompt_id                                               text  \\\n",
              "0     0059830c          0  Cars. Cars have been around since they became ...   \n",
              "1     005db917          0  Transportation is a large necessity in most co...   \n",
              "2     008f63e3          0  \"America's love affair with it's vehicles seem...   \n",
              "3     00940276          0  How often do you ride in a car? Do you drive a...   \n",
              "4     00c39458          0  Cars are a wonderful thing. They are perhaps o...   \n",
              "...        ...        ...                                                ...   \n",
              "1373  fe6ff9a5          1  There has been a fuss about the Elector Colleg...   \n",
              "1374  ff669174          0  Limiting car usage has many advantages. Such a...   \n",
              "1375  ffa247e0          0  There's a new trend that has been developing f...   \n",
              "1376  ffc237e9          0  As we all know cars are a big part of our soci...   \n",
              "1377  ffe1ca0d          0  Cars have been around since the 1800's and hav...   \n",
              "\n",
              "      generated  \n",
              "0             0  \n",
              "1             0  \n",
              "2             0  \n",
              "3             0  \n",
              "4             0  \n",
              "...         ...  \n",
              "1373          0  \n",
              "1374          0  \n",
              "1375          0  \n",
              "1376          0  \n",
              "1377          0  \n",
              "\n",
              "[1378 rows x 4 columns]"
            ]
          },
          "execution_count": 3,
          "metadata": {},
          "output_type": "execute_result"
        }
      ],
      "source": [
        "initial_dataset"
      ]
    },
    {
      "cell_type": "code",
      "execution_count": 4,
      "metadata": {
        "colab": {
          "base_uri": "https://localhost:8080/"
        },
        "id": "A5Ufk5XndYKG",
        "outputId": "3450810c-2adc-4c00-fc1f-c2d1456b9634"
      },
      "outputs": [
        {
          "data": {
            "text/plain": [
              "id           object\n",
              "prompt_id     int64\n",
              "text         object\n",
              "generated     int64\n",
              "dtype: object"
            ]
          },
          "execution_count": 4,
          "metadata": {},
          "output_type": "execute_result"
        }
      ],
      "source": [
        "initial_dataset.dtypes"
      ]
    },
    {
      "cell_type": "code",
      "execution_count": 5,
      "metadata": {
        "colab": {
          "base_uri": "https://localhost:8080/"
        },
        "id": "y5ClvnTtdYKH",
        "outputId": "196e4691-b015-4bb9-af88-4c546b343f5e"
      },
      "outputs": [
        {
          "data": {
            "text/plain": [
              "(1378, 4)"
            ]
          },
          "execution_count": 5,
          "metadata": {},
          "output_type": "execute_result"
        }
      ],
      "source": [
        "initial_dataset.shape"
      ]
    },
    {
      "cell_type": "code",
      "execution_count": 6,
      "metadata": {
        "colab": {
          "base_uri": "https://localhost:8080/",
          "height": 300
        },
        "id": "M6w38AusdYKH",
        "outputId": "b1fdc793-13a5-4d99-d115-2f2e700905a3"
      },
      "outputs": [
        {
          "data": {
            "text/html": [
              "<div>\n",
              "<style scoped>\n",
              "    .dataframe tbody tr th:only-of-type {\n",
              "        vertical-align: middle;\n",
              "    }\n",
              "\n",
              "    .dataframe tbody tr th {\n",
              "        vertical-align: top;\n",
              "    }\n",
              "\n",
              "    .dataframe thead th {\n",
              "        text-align: right;\n",
              "    }\n",
              "</style>\n",
              "<table border=\"1\" class=\"dataframe\">\n",
              "  <thead>\n",
              "    <tr style=\"text-align: right;\">\n",
              "      <th></th>\n",
              "      <th>prompt_id</th>\n",
              "      <th>generated</th>\n",
              "    </tr>\n",
              "  </thead>\n",
              "  <tbody>\n",
              "    <tr>\n",
              "      <th>count</th>\n",
              "      <td>1378.000000</td>\n",
              "      <td>1378.000000</td>\n",
              "    </tr>\n",
              "    <tr>\n",
              "      <th>mean</th>\n",
              "      <td>0.486212</td>\n",
              "      <td>0.002177</td>\n",
              "    </tr>\n",
              "    <tr>\n",
              "      <th>std</th>\n",
              "      <td>0.499991</td>\n",
              "      <td>0.046625</td>\n",
              "    </tr>\n",
              "    <tr>\n",
              "      <th>min</th>\n",
              "      <td>0.000000</td>\n",
              "      <td>0.000000</td>\n",
              "    </tr>\n",
              "    <tr>\n",
              "      <th>25%</th>\n",
              "      <td>0.000000</td>\n",
              "      <td>0.000000</td>\n",
              "    </tr>\n",
              "    <tr>\n",
              "      <th>50%</th>\n",
              "      <td>0.000000</td>\n",
              "      <td>0.000000</td>\n",
              "    </tr>\n",
              "    <tr>\n",
              "      <th>75%</th>\n",
              "      <td>1.000000</td>\n",
              "      <td>0.000000</td>\n",
              "    </tr>\n",
              "    <tr>\n",
              "      <th>max</th>\n",
              "      <td>1.000000</td>\n",
              "      <td>1.000000</td>\n",
              "    </tr>\n",
              "  </tbody>\n",
              "</table>\n",
              "</div>"
            ],
            "text/plain": [
              "         prompt_id    generated\n",
              "count  1378.000000  1378.000000\n",
              "mean      0.486212     0.002177\n",
              "std       0.499991     0.046625\n",
              "min       0.000000     0.000000\n",
              "25%       0.000000     0.000000\n",
              "50%       0.000000     0.000000\n",
              "75%       1.000000     0.000000\n",
              "max       1.000000     1.000000"
            ]
          },
          "execution_count": 6,
          "metadata": {},
          "output_type": "execute_result"
        }
      ],
      "source": [
        "initial_dataset.describe()"
      ]
    },
    {
      "cell_type": "markdown",
      "metadata": {
        "id": "LNIWdXOudYKJ"
      },
      "source": [
        "`generated` - Whether the essay was written by a student (0) or generated by an LLM (1). This field is the target and is not present in test_essays.csv."
      ]
    },
    {
      "cell_type": "code",
      "execution_count": 7,
      "metadata": {
        "colab": {
          "base_uri": "https://localhost:8080/"
        },
        "id": "opIz_MYjdYKK",
        "outputId": "a0779745-675b-420c-ab35-9f76ed996bd4"
      },
      "outputs": [
        {
          "data": {
            "text/plain": [
              "generated\n",
              "0    1375\n",
              "1       3\n",
              "Name: count, dtype: int64"
            ]
          },
          "execution_count": 7,
          "metadata": {},
          "output_type": "execute_result"
        }
      ],
      "source": [
        "initial_dataset.value_counts(\"generated\")"
      ]
    },
    {
      "cell_type": "code",
      "execution_count": 8,
      "metadata": {
        "colab": {
          "base_uri": "https://localhost:8080/"
        },
        "id": "dR2Ut5ModYKK",
        "outputId": "7116634c-ea81-4443-d71c-ec79f3823973"
      },
      "outputs": [
        {
          "data": {
            "text/plain": [
              "generated\n",
              "0    1375\n",
              "1       3\n",
              "Name: count, dtype: int64"
            ]
          },
          "execution_count": 8,
          "metadata": {},
          "output_type": "execute_result"
        }
      ],
      "source": [
        "generated = initial_dataset.value_counts(\"generated\")\n",
        "generated"
      ]
    },
    {
      "cell_type": "code",
      "execution_count": 9,
      "metadata": {
        "colab": {
          "base_uri": "https://localhost:8080/"
        },
        "id": "F2vi4-PUdYKL",
        "outputId": "8462130b-38f0-4589-853a-ac85d77928d1"
      },
      "outputs": [
        {
          "data": {
            "text/plain": [
              "generated\n",
              "0    0.997823\n",
              "1    0.002177\n",
              "Name: count, dtype: float64"
            ]
          },
          "execution_count": 9,
          "metadata": {},
          "output_type": "execute_result"
        }
      ],
      "source": [
        "generated = generated.apply(lambda x : x/initial_dataset.shape[0])\n",
        "generated"
      ]
    },
    {
      "cell_type": "code",
      "execution_count": 10,
      "metadata": {
        "colab": {
          "base_uri": "https://localhost:8080/",
          "height": 321
        },
        "id": "T-caBmNmdYKL",
        "outputId": "0e2f175e-45cc-45ad-be23-6aa097778e24"
      },
      "outputs": [
        {
          "data": {
            "image/png": "[encoded data removed]",
            "text/plain": [
              "<Figure size 400x300 with 1 Axes>"
            ]
          },
          "metadata": {},
          "output_type": "display_data"
        }
      ],
      "source": [
        "fig, ax = plt.subplots(figsize=(4,3))\n",
        "fig.suptitle(\"Generated\")\n",
        "ax.bar(\n",
        "    x=[\"By studentes\",\"By LLM\"],\n",
        "    height=generated,\n",
        "    width=0.2,\n",
        "    color=[\"red\",\"green\"],\n",
        "    align=\"center\")\n",
        "plt.show()"
      ]
    },
    {
      "cell_type": "code",
      "execution_count": 11,
      "metadata": {
        "colab": {
          "base_uri": "https://localhost:8080/",
          "height": 125
        },
        "id": "cEvFa1lQdYKL",
        "outputId": "cda624f9-81ba-42a5-eb31-d723b1f7ac01"
      },
      "outputs": [
        {
          "data": {
            "text/html": [
              "<div>\n",
              "<style scoped>\n",
              "    .dataframe tbody tr th:only-of-type {\n",
              "        vertical-align: middle;\n",
              "    }\n",
              "\n",
              "    .dataframe tbody tr th {\n",
              "        vertical-align: top;\n",
              "    }\n",
              "\n",
              "    .dataframe thead th {\n",
              "        text-align: right;\n",
              "    }\n",
              "</style>\n",
              "<table border=\"1\" class=\"dataframe\">\n",
              "  <thead>\n",
              "    <tr style=\"text-align: right;\">\n",
              "      <th></th>\n",
              "      <th>prompt_id</th>\n",
              "      <th>prompt_name</th>\n",
              "      <th>instructions</th>\n",
              "      <th>source_text</th>\n",
              "    </tr>\n",
              "  </thead>\n",
              "  <tbody>\n",
              "    <tr>\n",
              "      <th>0</th>\n",
              "      <td>0</td>\n",
              "      <td>Car-free cities</td>\n",
              "      <td>Write an explanatory essay to inform fellow ci...</td>\n",
              "      <td># In German Suburb, Life Goes On Without Cars ...</td>\n",
              "    </tr>\n",
              "    <tr>\n",
              "      <th>1</th>\n",
              "      <td>1</td>\n",
              "      <td>Does the electoral college work?</td>\n",
              "      <td>Write a letter to your state senator in which ...</td>\n",
              "      <td># What Is the Electoral College? by the Office...</td>\n",
              "    </tr>\n",
              "  </tbody>\n",
              "</table>\n",
              "</div>"
            ],
            "text/plain": [
              "   prompt_id                       prompt_name  \\\n",
              "0          0                   Car-free cities   \n",
              "1          1  Does the electoral college work?   \n",
              "\n",
              "                                        instructions  \\\n",
              "0  Write an explanatory essay to inform fellow ci...   \n",
              "1  Write a letter to your state senator in which ...   \n",
              "\n",
              "                                         source_text  \n",
              "0  # In German Suburb, Life Goes On Without Cars ...  \n",
              "1  # What Is the Electoral College? by the Office...  "
            ]
          },
          "execution_count": 11,
          "metadata": {},
          "output_type": "execute_result"
        }
      ],
      "source": [
        "prompts_dataset"
      ]
    },
    {
      "cell_type": "code",
      "execution_count": 12,
      "metadata": {
        "colab": {
          "base_uri": "https://localhost:8080/"
        },
        "id": "aJArVOlmdYKL",
        "outputId": "5db7ce67-19ba-45b9-9925-b71fe40f2819"
      },
      "outputs": [
        {
          "data": {
            "text/plain": [
              "prompt_id\n",
              "0    708\n",
              "1    670\n",
              "Name: count, dtype: int64"
            ]
          },
          "execution_count": 12,
          "metadata": {},
          "output_type": "execute_result"
        }
      ],
      "source": [
        "prompts = initial_dataset.value_counts(\"prompt_id\")\n",
        "prompts"
      ]
    },
    {
      "cell_type": "code",
      "execution_count": 13,
      "metadata": {
        "colab": {
          "base_uri": "https://localhost:8080/",
          "height": 321
        },
        "id": "O-fg234YdYKM",
        "outputId": "3a4c4755-4c18-4789-c7ed-b079cfffd362"
      },
      "outputs": [
        {
          "data": {
            "image/png": "[encoded data removed]",
            "text/plain": [
              "<Figure size 400x300 with 1 Axes>"
            ]
          },
          "metadata": {},
          "output_type": "display_data"
        }
      ],
      "source": [
        "fig, ax = plt.subplots(figsize=(4,3))\n",
        "fig.suptitle(\"Prompts\")\n",
        "ax.bar(\n",
        "    x=[\"Car-free cities\",\"Does the electoral college work?\"],\n",
        "    height=prompts,\n",
        "    width=0.2,\n",
        "    color=[\"red\",\"green\"],\n",
        "    align=\"center\")\n",
        "plt.show()"
      ]
    },
    {
      "cell_type": "code",
      "execution_count": 14,
      "metadata": {},
      "outputs": [
        {
          "name": "stdout",
          "output_type": "stream",
          "text": [
            "(1378, 4)\n",
            "(1378, 4)\n"
          ]
        }
      ],
      "source": [
        "print(initial_dataset.shape)\n",
        "initial_dataset.drop_duplicates(subset=[\"text\"],inplace=True)\n",
        "initial_dataset.reset_index(drop=True, inplace=True)\n",
        "print(initial_dataset.shape)"
      ]
    },
    {
      "cell_type": "markdown",
      "metadata": {
        "id": "yHzxLez5dYKM"
      },
      "source": [
        "## Handle imbalanced Data\n",
        "\n",
        "> Because the class distribution is not balanced, most machine learning algorithms will perform\n",
        "poorly and require modification to avoid simply predicting the majority class in all cases.\n",
        "Additionally, metrics like classification accuracy lose their meaning and alternate methods for\n",
        "evaluating predictions on imbalanced examples are required, like ROC area under curve. This is\n",
        "the foundational challenge of imbalanced classification.\n",
        ">\n",
        "> - Jason Brownlee, *Imbalanced Classification with Python* (2020)\n",
        "\n",
        "> If we think about feature space spatially, we might like all examples in one class to be located on one part\n",
        "of the space, and those from the other class to appear in another part of the space. [...]\n",
        ">This is rarely the case, and it is more likely that each class has multiple **concepts** resulting in multiple different groups or clusters of examples in feature space.\n",
        ">\n",
        "> - Jason Brownlee, *Imbalanced Classification with Python* (2020)\n"
      ]
    },
    {
      "cell_type": "markdown",
      "metadata": {
        "id": "-53GminWdYKM"
      },
      "source": [
        "### Metrics for Imbalanced Data\n",
        "\n",
        ">Although widely used, classification accuracy is almost universally inappropriate for imbalanced classification. The reason is, a high accuracy (or low error) is achievable by a no skill model that only predicts the majority class. [...]\n",
        ">\n",
        "> - Jason Brownlee, *Imbalanced Classification with Python* (2020)\n",
        "\n",
        ">There are two groups of metrics that may be useful for imbalanced classification because they focus on one class; they are sensitivity-specificity and precision-recall.\n",
        ">\n",
        "> - Jason Brownlee, *Imbalanced Classification with Python* (2020)\n",
        "\n",
        ">One limitation of these metrics is that they assume that the class distribution observed in the training dataset will match the distribution in the test set and in real data when the model is used to make predictions. [...] Ranking metrics don’t make any assumptions about class distributions.\n",
        ">\n",
        "> - Jason Brownlee, *Imbalanced Classification with Python* (2020)\n",
        "\n",
        ">The most commonly used ranking metric is the ROC Curve or ROC Analysis. ROC is an\n",
        "acronym that means Receiver Operating Characteristic and summarizes a field of study for\n",
        "analyzing binary classifiers based on their ability to discriminate classes.\n",
        ">\n",
        "> - Jason Brownlee, *Imbalanced Classification with Python* (2020)\n",
        "\n",
        ">Although generally effective, the ROC Curve and ROC AUC can be optimistic under a severe class imbalance, especially when the number of examples in the minority class is small.\n",
        "An alternative to the ROC Curve is the precision-recall curve that can be used in a similar way, although focuses on the performance of the classifier on the minority class.\n",
        ">\n",
        "> - Jason Brownlee, *Imbalanced Classification with Python* (2020)\n"
      ]
    },
    {
      "cell_type": "markdown",
      "metadata": {
        "id": "5EjLehn3dYKN"
      },
      "source": [
        "#### ROC AUC curve"
      ]
    },
    {
      "cell_type": "code",
      "execution_count": 15,
      "metadata": {
        "id": "FvEDVQHVdYKN"
      },
      "outputs": [],
      "source": [
        "def ROCcurves(model,x_val,y_val):\n",
        "    fig, axs = plt.subplots(nrows=1, ncols=2, figsize=(10, 4))\n",
        "    y_pred = model.predict(x_val).ravel()\n",
        "    \n",
        "    fpr, tpr , _ = roc_curve(y_val,  y_pred)\n",
        "    auc_ss = auc(fpr,tpr)\n",
        "    precision, recall, _ = precision_recall_curve(y_val,  y_pred)\n",
        "    auc_pr = auc(recall, precision)\n",
        "\n",
        "    # Primer subgráfico\n",
        "    axs[0].plot([0, 1], [0, 1], color='gray', lw=1, linestyle='--', label='AUC = 0.50')\n",
        "    axs[0].plot(fpr,tpr, label='ROC curve', color='blue')\n",
        "    axs[0].set_title(f'ROC curve = {round(auc_ss,3)}')\n",
        "    axs[0].set_xlabel('FalsePositiveRate')\n",
        "    axs[0].set_ylabel('TruePositiveRate')\n",
        "    axs[0].legend()\n",
        "    # Segundo subgráfico\n",
        "    axs[1].plot([0, 1], [0,0], color='gray', lw=1, linestyle='--', label='AUC = 0.0')\n",
        "    axs[1].plot(recall, precision, label='ROC-RP curve', color='orange')\n",
        "    axs[1].set_title(f'ROC-RP curve = {round(auc_pr,3)}')\n",
        "    axs[1].set_xlabel('Recall')\n",
        "    axs[1].set_ylabel('Precision')\n",
        "    axs[1].legend()\n",
        "    plt.show()\n",
        "\n"
      ]
    },
    {
      "cell_type": "markdown",
      "metadata": {
        "id": "3Rqz4YundYKN"
      },
      "source": [
        "### Data Sampling for imbalanced data\n",
        "\n",
        "> Sadly, k-fold cross-validation is not appropriate for evaluating imbalanced classifiers.\n",
        "[...]\n",
        "The reason is that the data is split into k-folds with a uniform probability distribution. This might work fine for data with a balanced class distribution, but when the distribution is severely skewed, it is likely that one or more folds will have few or no examples from the minority class.\n",
        ">\n",
        "> - Jason Brownlee, *Imbalanced Classification with Python* (2020)\n",
        "\n",
        "> The solution is to not split the data randomly when using k-fold cross-validation or a train-test\n",
        "split. [...] For example, we can use a version of k-fold cross-validation that preserves the imbalanced class distribution in each fold. It is called stratified k-fold cross-validation and will enforce the class distribution in each split of the data to match the distribution in the complete training dataset.\n",
        ">\n",
        "> - Jason Brownlee, *Imbalanced Classification with Python* (2020)\n",
        "\n",
        "> Sampling is only performed on the training dataset, the dataset used by an algorithm to\n",
        "learn a model. It is not performed on the holdout test or validation dataset.\n",
        ">\n",
        "> - Jason Brownlee, *Imbalanced Classification with Python* (2020)\n",
        "\n",
        "- Stratified k-folding CrossValidation\n",
        "- Random Downsampling\n",
        "- Adding data as kind of Oversampling"
      ]
    },
    {
      "cell_type": "markdown",
      "metadata": {
        "id": "6c8aPmEOdYKN"
      },
      "source": [
        "## Adding new Data"
      ]
    },
    {
      "cell_type": "markdown",
      "metadata": {
        "id": "BNsGXoKYdYKO"
      },
      "source": [
        "Describing the imbalance of this dataset in terms of ration is 1:500. The dataset presents sever imbalance. Previous aproches using only 20 new LLM generated examples manually and random Downsampling technic, didn't reach a higher score than 0.56. \n",
        "\n",
        "Concluding that more new data is needed, i downloaded data shared by competitors."
      ]
    },
    {
      "cell_type": "code",
      "execution_count": 16,
      "metadata": {},
      "outputs": [],
      "source": [
        "download_data_1[\"prompt_id\"] = download_data_1[\"prompt_name\"].apply(lambda name : 0 if name == \"Car-free cities\" else 1 if name == \"Does the electoral college work?\" else 21 )\n",
        "download_data_1 = download_data_1[[\"prompt_id\",\"text\",\"label\"]].rename(columns={\"label\":\"generated\"})"
      ]
    },
    {
      "cell_type": "code",
      "execution_count": 17,
      "metadata": {},
      "outputs": [],
      "source": [
        "new_data = pd.concat([new_data,download_data_1],axis=0,ignore_index=True)\n",
        "new_data[\"id\"] = range(0,new_data.shape[0])"
      ]
    },
    {
      "cell_type": "code",
      "execution_count": 18,
      "metadata": {},
      "outputs": [
        {
          "data": {
            "text/html": [
              "<div>\n",
              "<style scoped>\n",
              "    .dataframe tbody tr th:only-of-type {\n",
              "        vertical-align: middle;\n",
              "    }\n",
              "\n",
              "    .dataframe tbody tr th {\n",
              "        vertical-align: top;\n",
              "    }\n",
              "\n",
              "    .dataframe thead th {\n",
              "        text-align: right;\n",
              "    }\n",
              "</style>\n",
              "<table border=\"1\" class=\"dataframe\">\n",
              "  <thead>\n",
              "    <tr style=\"text-align: right;\">\n",
              "      <th></th>\n",
              "      <th>id</th>\n",
              "      <th>prompt_id</th>\n",
              "      <th>text</th>\n",
              "      <th>generated</th>\n",
              "    </tr>\n",
              "  </thead>\n",
              "  <tbody>\n",
              "    <tr>\n",
              "      <th>0</th>\n",
              "      <td>0</td>\n",
              "      <td>0</td>\n",
              "      <td>The Advantages of Limiting Car Usage in Suburb...</td>\n",
              "      <td>1</td>\n",
              "    </tr>\n",
              "    <tr>\n",
              "      <th>1</th>\n",
              "      <td>1</td>\n",
              "      <td>0</td>\n",
              "      <td>Paris' Driving Ban: A Temporary Solution to En...</td>\n",
              "      <td>1</td>\n",
              "    </tr>\n",
              "    <tr>\n",
              "      <th>2</th>\n",
              "      <td>2</td>\n",
              "      <td>0</td>\n",
              "      <td>Bogota's Car-Free Day: A Model for Sustainable...</td>\n",
              "      <td>1</td>\n",
              "    </tr>\n",
              "    <tr>\n",
              "      <th>3</th>\n",
              "      <td>3</td>\n",
              "      <td>0</td>\n",
              "      <td>Shifting Trends: The Decline of Car Culture in...</td>\n",
              "      <td>1</td>\n",
              "    </tr>\n",
              "    <tr>\n",
              "      <th>4</th>\n",
              "      <td>4</td>\n",
              "      <td>0</td>\n",
              "      <td>The End of Car Culture and the Rise of Sustain...</td>\n",
              "      <td>1</td>\n",
              "    </tr>\n",
              "    <tr>\n",
              "      <th>...</th>\n",
              "      <td>...</td>\n",
              "      <td>...</td>\n",
              "      <td>...</td>\n",
              "      <td>...</td>\n",
              "    </tr>\n",
              "    <tr>\n",
              "      <th>65525</th>\n",
              "      <td>65525</td>\n",
              "      <td>1</td>\n",
              "      <td>\\n\\nDear Senator,\\n\\nI am writing to you regar...</td>\n",
              "      <td>1</td>\n",
              "    </tr>\n",
              "    <tr>\n",
              "      <th>65526</th>\n",
              "      <td>65526</td>\n",
              "      <td>1</td>\n",
              "      <td>\\n\\nI remember the day distinctively. I was si...</td>\n",
              "      <td>1</td>\n",
              "    </tr>\n",
              "    <tr>\n",
              "      <th>65527</th>\n",
              "      <td>65527</td>\n",
              "      <td>1</td>\n",
              "      <td>\\n\\nDear Senator, \\n\\nI am writing this letter...</td>\n",
              "      <td>1</td>\n",
              "    </tr>\n",
              "    <tr>\n",
              "      <th>65528</th>\n",
              "      <td>65528</td>\n",
              "      <td>1</td>\n",
              "      <td>\\n\\nDear Senator,\\n\\nI am writing to urge you ...</td>\n",
              "      <td>1</td>\n",
              "    </tr>\n",
              "    <tr>\n",
              "      <th>65529</th>\n",
              "      <td>65529</td>\n",
              "      <td>1</td>\n",
              "      <td>\\n\\nIt was a typical summer afternoon in my ho...</td>\n",
              "      <td>1</td>\n",
              "    </tr>\n",
              "  </tbody>\n",
              "</table>\n",
              "<p>65530 rows × 4 columns</p>\n",
              "</div>"
            ],
            "text/plain": [
              "          id  prompt_id                                               text  \\\n",
              "0          0          0  The Advantages of Limiting Car Usage in Suburb...   \n",
              "1          1          0  Paris' Driving Ban: A Temporary Solution to En...   \n",
              "2          2          0  Bogota's Car-Free Day: A Model for Sustainable...   \n",
              "3          3          0  Shifting Trends: The Decline of Car Culture in...   \n",
              "4          4          0  The End of Car Culture and the Rise of Sustain...   \n",
              "...      ...        ...                                                ...   \n",
              "65525  65525          1  \\n\\nDear Senator,\\n\\nI am writing to you regar...   \n",
              "65526  65526          1  \\n\\nI remember the day distinctively. I was si...   \n",
              "65527  65527          1  \\n\\nDear Senator, \\n\\nI am writing this letter...   \n",
              "65528  65528          1  \\n\\nDear Senator,\\n\\nI am writing to urge you ...   \n",
              "65529  65529          1  \\n\\nIt was a typical summer afternoon in my ho...   \n",
              "\n",
              "       generated  \n",
              "0              1  \n",
              "1              1  \n",
              "2              1  \n",
              "3              1  \n",
              "4              1  \n",
              "...          ...  \n",
              "65525          1  \n",
              "65526          1  \n",
              "65527          1  \n",
              "65528          1  \n",
              "65529          1  \n",
              "\n",
              "[65530 rows x 4 columns]"
            ]
          },
          "execution_count": 18,
          "metadata": {},
          "output_type": "execute_result"
        }
      ],
      "source": [
        "new_data"
      ]
    },
    {
      "cell_type": "code",
      "execution_count": 19,
      "metadata": {
        "colab": {
          "base_uri": "https://localhost:8080/",
          "height": 424
        },
        "id": "nahQnHEBdYKO",
        "outputId": "a45cd2ec-6504-406e-c184-ef921820c04d"
      },
      "outputs": [
        {
          "data": {
            "text/html": [
              "<div>\n",
              "<style scoped>\n",
              "    .dataframe tbody tr th:only-of-type {\n",
              "        vertical-align: middle;\n",
              "    }\n",
              "\n",
              "    .dataframe tbody tr th {\n",
              "        vertical-align: top;\n",
              "    }\n",
              "\n",
              "    .dataframe thead th {\n",
              "        text-align: right;\n",
              "    }\n",
              "</style>\n",
              "<table border=\"1\" class=\"dataframe\">\n",
              "  <thead>\n",
              "    <tr style=\"text-align: right;\">\n",
              "      <th></th>\n",
              "      <th>id</th>\n",
              "      <th>prompt_id</th>\n",
              "      <th>text</th>\n",
              "      <th>generated</th>\n",
              "    </tr>\n",
              "  </thead>\n",
              "  <tbody>\n",
              "    <tr>\n",
              "      <th>0</th>\n",
              "      <td>0059830c</td>\n",
              "      <td>0</td>\n",
              "      <td>Cars. Cars have been around since they became ...</td>\n",
              "      <td>0</td>\n",
              "    </tr>\n",
              "    <tr>\n",
              "      <th>1</th>\n",
              "      <td>005db917</td>\n",
              "      <td>0</td>\n",
              "      <td>Transportation is a large necessity in most co...</td>\n",
              "      <td>0</td>\n",
              "    </tr>\n",
              "    <tr>\n",
              "      <th>2</th>\n",
              "      <td>008f63e3</td>\n",
              "      <td>0</td>\n",
              "      <td>\"America's love affair with it's vehicles seem...</td>\n",
              "      <td>0</td>\n",
              "    </tr>\n",
              "    <tr>\n",
              "      <th>3</th>\n",
              "      <td>00940276</td>\n",
              "      <td>0</td>\n",
              "      <td>How often do you ride in a car? Do you drive a...</td>\n",
              "      <td>0</td>\n",
              "    </tr>\n",
              "    <tr>\n",
              "      <th>4</th>\n",
              "      <td>00c39458</td>\n",
              "      <td>0</td>\n",
              "      <td>Cars are a wonderful thing. They are perhaps o...</td>\n",
              "      <td>0</td>\n",
              "    </tr>\n",
              "    <tr>\n",
              "      <th>...</th>\n",
              "      <td>...</td>\n",
              "      <td>...</td>\n",
              "      <td>...</td>\n",
              "      <td>...</td>\n",
              "    </tr>\n",
              "    <tr>\n",
              "      <th>66903</th>\n",
              "      <td>65525</td>\n",
              "      <td>1</td>\n",
              "      <td>\\n\\nDear Senator,\\n\\nI am writing to you regar...</td>\n",
              "      <td>1</td>\n",
              "    </tr>\n",
              "    <tr>\n",
              "      <th>66904</th>\n",
              "      <td>65526</td>\n",
              "      <td>1</td>\n",
              "      <td>\\n\\nI remember the day distinctively. I was si...</td>\n",
              "      <td>1</td>\n",
              "    </tr>\n",
              "    <tr>\n",
              "      <th>66905</th>\n",
              "      <td>65527</td>\n",
              "      <td>1</td>\n",
              "      <td>\\n\\nDear Senator, \\n\\nI am writing this letter...</td>\n",
              "      <td>1</td>\n",
              "    </tr>\n",
              "    <tr>\n",
              "      <th>66906</th>\n",
              "      <td>65528</td>\n",
              "      <td>1</td>\n",
              "      <td>\\n\\nDear Senator,\\n\\nI am writing to urge you ...</td>\n",
              "      <td>1</td>\n",
              "    </tr>\n",
              "    <tr>\n",
              "      <th>66907</th>\n",
              "      <td>65529</td>\n",
              "      <td>1</td>\n",
              "      <td>\\n\\nIt was a typical summer afternoon in my ho...</td>\n",
              "      <td>1</td>\n",
              "    </tr>\n",
              "  </tbody>\n",
              "</table>\n",
              "<p>66908 rows × 4 columns</p>\n",
              "</div>"
            ],
            "text/plain": [
              "             id  prompt_id                                               text  \\\n",
              "0      0059830c          0  Cars. Cars have been around since they became ...   \n",
              "1      005db917          0  Transportation is a large necessity in most co...   \n",
              "2      008f63e3          0  \"America's love affair with it's vehicles seem...   \n",
              "3      00940276          0  How often do you ride in a car? Do you drive a...   \n",
              "4      00c39458          0  Cars are a wonderful thing. They are perhaps o...   \n",
              "...         ...        ...                                                ...   \n",
              "66903     65525          1  \\n\\nDear Senator,\\n\\nI am writing to you regar...   \n",
              "66904     65526          1  \\n\\nI remember the day distinctively. I was si...   \n",
              "66905     65527          1  \\n\\nDear Senator, \\n\\nI am writing this letter...   \n",
              "66906     65528          1  \\n\\nDear Senator,\\n\\nI am writing to urge you ...   \n",
              "66907     65529          1  \\n\\nIt was a typical summer afternoon in my ho...   \n",
              "\n",
              "       generated  \n",
              "0              0  \n",
              "1              0  \n",
              "2              0  \n",
              "3              0  \n",
              "4              0  \n",
              "...          ...  \n",
              "66903          1  \n",
              "66904          1  \n",
              "66905          1  \n",
              "66906          1  \n",
              "66907          1  \n",
              "\n",
              "[66908 rows x 4 columns]"
            ]
          },
          "execution_count": 19,
          "metadata": {},
          "output_type": "execute_result"
        }
      ],
      "source": [
        "target_data = pd.concat([initial_dataset,new_data],ignore_index=True,axis=0)\n",
        "target_data"
      ]
    },
    {
      "cell_type": "code",
      "execution_count": 20,
      "metadata": {},
      "outputs": [
        {
          "name": "stdout",
          "output_type": "stream",
          "text": [
            "(66908, 4)\n",
            "(65355, 4)\n"
          ]
        }
      ],
      "source": [
        "print(target_data.shape)\n",
        "target_data.drop_duplicates(subset=[\"text\"],inplace=True,keep=\"first\")\n",
        "print(target_data.shape)"
      ]
    },
    {
      "cell_type": "code",
      "execution_count": 21,
      "metadata": {},
      "outputs": [
        {
          "data": {
            "text/plain": [
              "text\n",
              "<class 'str'>      65354\n",
              "<class 'float'>        1\n",
              "Name: count, dtype: int64"
            ]
          },
          "execution_count": 21,
          "metadata": {},
          "output_type": "execute_result"
        }
      ],
      "source": [
        "target_data[\"text\"].apply(lambda x : type(x)).value_counts()"
      ]
    },
    {
      "cell_type": "code",
      "execution_count": 22,
      "metadata": {},
      "outputs": [
        {
          "data": {
            "text/html": [
              "<div>\n",
              "<style scoped>\n",
              "    .dataframe tbody tr th:only-of-type {\n",
              "        vertical-align: middle;\n",
              "    }\n",
              "\n",
              "    .dataframe tbody tr th {\n",
              "        vertical-align: top;\n",
              "    }\n",
              "\n",
              "    .dataframe thead th {\n",
              "        text-align: right;\n",
              "    }\n",
              "</style>\n",
              "<table border=\"1\" class=\"dataframe\">\n",
              "  <thead>\n",
              "    <tr style=\"text-align: right;\">\n",
              "      <th></th>\n",
              "      <th>id</th>\n",
              "      <th>prompt_id</th>\n",
              "      <th>text</th>\n",
              "      <th>generated</th>\n",
              "    </tr>\n",
              "  </thead>\n",
              "  <tbody>\n",
              "    <tr>\n",
              "      <th>46318</th>\n",
              "      <td>44940</td>\n",
              "      <td>0</td>\n",
              "      <td>NaN</td>\n",
              "      <td>1</td>\n",
              "    </tr>\n",
              "  </tbody>\n",
              "</table>\n",
              "</div>"
            ],
            "text/plain": [
              "          id  prompt_id text  generated\n",
              "46318  44940          0  NaN          1"
            ]
          },
          "execution_count": 22,
          "metadata": {},
          "output_type": "execute_result"
        }
      ],
      "source": [
        "target_data[target_data[\"text\"].apply(lambda x : type(x))==type(0.01)]"
      ]
    },
    {
      "cell_type": "code",
      "execution_count": 23,
      "metadata": {},
      "outputs": [],
      "source": [
        "target_data=target_data.dropna()"
      ]
    },
    {
      "cell_type": "markdown",
      "metadata": {
        "id": "65Y4787kdYKP"
      },
      "source": [
        "## Data Feature Engineering"
      ]
    },
    {
      "cell_type": "markdown",
      "metadata": {
        "id": "chXVmCzYdYKP"
      },
      "source": [
        "### Training a Tokenizer\n",
        "Reading the competition discussions lead me to this [Notebook](https://www.kaggle.com/code/datafan07/train-your-own-tokenizer), where is suggested to add words with typos into the vocabulary for better performance by training a tokenizer.\n",
        "\n",
        "1. normalization\n",
        "2. pre-tokenization\n",
        "3. model\n",
        "4. post-processing"
      ]
    },
    {
      "cell_type": "markdown",
      "metadata": {},
      "source": [
        ">ByteLevel: \n",
        ">\n",
        ">Splits on whitespaces while remapping all the bytes to a set of visible characters. This technique as been introduced by OpenAI with GPT-2 and has some more or less nice properties:\n",
        "> - Since it maps on bytes, a tokenizer using this only requires 256 characters as initial alphabet (the number of values a byte can have), as opposed to the 130,000+ Unicode characters.\n",
        "> - A consequence of the previous point is that it is absolutely unnecessary to have an unknown token using this since we can represent anything with 256 tokens (Youhou!! 🎉🎉)\n",
        "> - For non ascii characters, it gets completely unreadable, but it works nonetheless!"
      ]
    },
    {
      "cell_type": "code",
      "execution_count": 24,
      "metadata": {},
      "outputs": [
        {
          "name": "stdout",
          "output_type": "stream",
          "text": [
            "\n",
            "\n",
            "\n"
          ]
        }
      ],
      "source": [
        "# Creating Byte-Pair Encoding tokenizer\n",
        "raw_tokenizer = Tokenizer(models.BPE(unk_token=\"[UNK]\"))\n",
        "#Cleaning\n",
        "raw_tokenizer.normalizer =  normalizers.Sequence(\n",
        "    [\n",
        "        normalizers.NFC(),\n",
        "        normalizers.Lowercase(),\n",
        "        normalizers.Replace(\"\\n\",\" \"),\n",
        "        normalizers.Replace(\"\\r\",\" \"),\n",
        "        normalizers.Replace(\"\\t\",\" \")\n",
        "    ]    \n",
        "    )\n",
        "#First tokenization\n",
        "raw_tokenizer.pre_tokenizer = pre_tokenizers.ByteLevel()\n",
        "#Training\n",
        "special_tokens = [\"[UNK]\", \"[PAD]\", \"[CLS]\", \"[SEP]\", \"[MASK]\"]\n",
        "trainer = trainers.BpeTrainer(show_progress=True,special_tokens=special_tokens)\n",
        "\n",
        "def data_iter(dataset):\n",
        "    \"\"\"\n",
        "    A generator function for iterating over a dataset in chunks.\n",
        "    \"\"\"    \n",
        "    for i in range(0, len(dataset), 1000):\n",
        "        yield dataset[i : i + 1000][\"text\"]\n",
        "\n",
        "raw_tokenizer.train_from_iterator(data_iter(target_data),trainer)\n",
        "\n",
        "tokenizer = PreTrainedTokenizerFast(\n",
        "    tokenizer_object=raw_tokenizer,\n",
        "    unk_token=\"[UNK]\",\n",
        "    pad_token=\"[PAD]\",\n",
        "    cls_token=\"[CLS]\",\n",
        "    sep_token=\"[SEP]\",\n",
        "    mask_token=\"[MASK]\",\n",
        ")"
      ]
    },
    {
      "cell_type": "code",
      "execution_count": 25,
      "metadata": {},
      "outputs": [
        {
          "data": {
            "text/plain": [
              "\"martín's bag\""
            ]
          },
          "execution_count": 25,
          "metadata": {},
          "output_type": "execute_result"
        }
      ],
      "source": [
        "raw_tokenizer.normalizer.normalize_str(\"Martín's bag\")"
      ]
    },
    {
      "cell_type": "code",
      "execution_count": 26,
      "metadata": {},
      "outputs": [
        {
          "data": {
            "text/plain": [
              "['Ġmart', 'Ã', 'Ń', 'n', \"'s\", 'Ġbag']"
            ]
          },
          "execution_count": 26,
          "metadata": {},
          "output_type": "execute_result"
        }
      ],
      "source": [
        "tokenizer.tokenize(\"Martín's bag\")"
      ]
    },
    {
      "cell_type": "markdown",
      "metadata": {
        "id": "MkOM8WoAdYKP"
      },
      "source": [
        "##### Words Tokenizing"
      ]
    },
    {
      "cell_type": "code",
      "execution_count": 27,
      "metadata": {
        "colab": {
          "base_uri": "https://localhost:8080/",
          "height": 424
        },
        "id": "AGd5b7vMdYKP",
        "outputId": "fcebe33a-2999-4ca1-d3ae-21c47918eb45"
      },
      "outputs": [
        {
          "data": {
            "text/html": [
              "<div>\n",
              "<style scoped>\n",
              "    .dataframe tbody tr th:only-of-type {\n",
              "        vertical-align: middle;\n",
              "    }\n",
              "\n",
              "    .dataframe tbody tr th {\n",
              "        vertical-align: top;\n",
              "    }\n",
              "\n",
              "    .dataframe thead th {\n",
              "        text-align: right;\n",
              "    }\n",
              "</style>\n",
              "<table border=\"1\" class=\"dataframe\">\n",
              "  <thead>\n",
              "    <tr style=\"text-align: right;\">\n",
              "      <th></th>\n",
              "      <th>id</th>\n",
              "      <th>prompt_id</th>\n",
              "      <th>text</th>\n",
              "      <th>generated</th>\n",
              "    </tr>\n",
              "  </thead>\n",
              "  <tbody>\n",
              "    <tr>\n",
              "      <th>0</th>\n",
              "      <td>0059830c</td>\n",
              "      <td>0</td>\n",
              "      <td>[Ġcars, ., Ġcars, Ġhave, Ġbeen, Ġaround, Ġsinc...</td>\n",
              "      <td>0</td>\n",
              "    </tr>\n",
              "    <tr>\n",
              "      <th>1</th>\n",
              "      <td>005db917</td>\n",
              "      <td>0</td>\n",
              "      <td>[Ġtransportation, Ġis, Ġa, Ġlarge, Ġnecessity,...</td>\n",
              "      <td>0</td>\n",
              "    </tr>\n",
              "    <tr>\n",
              "      <th>2</th>\n",
              "      <td>008f63e3</td>\n",
              "      <td>0</td>\n",
              "      <td>[Ġ\", america, 's, Ġlove, Ġaffair, Ġwith, Ġit, ...</td>\n",
              "      <td>0</td>\n",
              "    </tr>\n",
              "    <tr>\n",
              "      <th>3</th>\n",
              "      <td>00940276</td>\n",
              "      <td>0</td>\n",
              "      <td>[Ġhow, Ġoften, Ġdo, Ġyou, Ġride, Ġin, Ġa, Ġcar...</td>\n",
              "      <td>0</td>\n",
              "    </tr>\n",
              "    <tr>\n",
              "      <th>4</th>\n",
              "      <td>00c39458</td>\n",
              "      <td>0</td>\n",
              "      <td>[Ġcars, Ġare, Ġa, Ġwonderful, Ġthing, ., Ġthey...</td>\n",
              "      <td>0</td>\n",
              "    </tr>\n",
              "    <tr>\n",
              "      <th>...</th>\n",
              "      <td>...</td>\n",
              "      <td>...</td>\n",
              "      <td>...</td>\n",
              "      <td>...</td>\n",
              "    </tr>\n",
              "    <tr>\n",
              "      <th>66903</th>\n",
              "      <td>65525</td>\n",
              "      <td>1</td>\n",
              "      <td>[Ġ, Ġdear, Ġsenator, ,, Ġ, Ġi, Ġam, Ġwriting, ...</td>\n",
              "      <td>1</td>\n",
              "    </tr>\n",
              "    <tr>\n",
              "      <th>66904</th>\n",
              "      <td>65526</td>\n",
              "      <td>1</td>\n",
              "      <td>[Ġ, Ġi, Ġremember, Ġthe, Ġday, Ġdistinctively,...</td>\n",
              "      <td>1</td>\n",
              "    </tr>\n",
              "    <tr>\n",
              "      <th>66905</th>\n",
              "      <td>65527</td>\n",
              "      <td>1</td>\n",
              "      <td>[Ġ, Ġdear, Ġsenator, ,, ĠĠ, Ġi, Ġam, Ġwriting,...</td>\n",
              "      <td>1</td>\n",
              "    </tr>\n",
              "    <tr>\n",
              "      <th>66906</th>\n",
              "      <td>65528</td>\n",
              "      <td>1</td>\n",
              "      <td>[Ġ, Ġdear, Ġsenator, ,, Ġ, Ġi, Ġam, Ġwriting, ...</td>\n",
              "      <td>1</td>\n",
              "    </tr>\n",
              "    <tr>\n",
              "      <th>66907</th>\n",
              "      <td>65529</td>\n",
              "      <td>1</td>\n",
              "      <td>[Ġ, Ġit, Ġwas, Ġa, Ġtypical, Ġsummer, Ġafterno...</td>\n",
              "      <td>1</td>\n",
              "    </tr>\n",
              "  </tbody>\n",
              "</table>\n",
              "<p>65354 rows × 4 columns</p>\n",
              "</div>"
            ],
            "text/plain": [
              "             id  prompt_id                                               text  \\\n",
              "0      0059830c          0  [Ġcars, ., Ġcars, Ġhave, Ġbeen, Ġaround, Ġsinc...   \n",
              "1      005db917          0  [Ġtransportation, Ġis, Ġa, Ġlarge, Ġnecessity,...   \n",
              "2      008f63e3          0  [Ġ\", america, 's, Ġlove, Ġaffair, Ġwith, Ġit, ...   \n",
              "3      00940276          0  [Ġhow, Ġoften, Ġdo, Ġyou, Ġride, Ġin, Ġa, Ġcar...   \n",
              "4      00c39458          0  [Ġcars, Ġare, Ġa, Ġwonderful, Ġthing, ., Ġthey...   \n",
              "...         ...        ...                                                ...   \n",
              "66903     65525          1  [Ġ, Ġdear, Ġsenator, ,, Ġ, Ġi, Ġam, Ġwriting, ...   \n",
              "66904     65526          1  [Ġ, Ġi, Ġremember, Ġthe, Ġday, Ġdistinctively,...   \n",
              "66905     65527          1  [Ġ, Ġdear, Ġsenator, ,, ĠĠ, Ġi, Ġam, Ġwriting,...   \n",
              "66906     65528          1  [Ġ, Ġdear, Ġsenator, ,, Ġ, Ġi, Ġam, Ġwriting, ...   \n",
              "66907     65529          1  [Ġ, Ġit, Ġwas, Ġa, Ġtypical, Ġsummer, Ġafterno...   \n",
              "\n",
              "       generated  \n",
              "0              0  \n",
              "1              0  \n",
              "2              0  \n",
              "3              0  \n",
              "4              0  \n",
              "...          ...  \n",
              "66903          1  \n",
              "66904          1  \n",
              "66905          1  \n",
              "66906          1  \n",
              "66907          1  \n",
              "\n",
              "[65354 rows x 4 columns]"
            ]
          },
          "execution_count": 27,
          "metadata": {},
          "output_type": "execute_result"
        }
      ],
      "source": [
        "tokenized_test = test_dataset;\n",
        "tokenized_test[\"text\"] = test_dataset[\"text\"].apply(lambda x : tokenizer.tokenize(text=x))\n",
        "\n",
        "tokenized_dataset = target_data.copy()\n",
        "tokenized_dataset[\"text\"] = target_data[\"text\"].apply(lambda x : tokenizer.tokenize(x))\n",
        "tokenized_dataset"
      ]
    },
    {
      "cell_type": "markdown",
      "metadata": {
        "id": "XNWEuYg-dYKT"
      },
      "source": [
        "#### Text to document embeddings"
      ]
    },
    {
      "cell_type": "markdown",
      "metadata": {},
      "source": [
        "Need to add all the test documents to the training phase of embedding."
      ]
    },
    {
      "cell_type": "code",
      "execution_count": 28,
      "metadata": {},
      "outputs": [],
      "source": [
        "doc_test_dataset = test_dataset\n",
        "doc_test_dataset[\"text\"] = [doc2vec.TaggedDocument(row[2],[row[0]]) for row in tokenized_test.values]"
      ]
    },
    {
      "cell_type": "code",
      "execution_count": 29,
      "metadata": {
        "colab": {
          "base_uri": "https://localhost:8080/"
        },
        "id": "OLUZL3pUdYKT",
        "outputId": "10d64093-182b-44e6-f64d-752c3f1176e6"
      },
      "outputs": [
        {
          "data": {
            "text/plain": [
              "0        ([Ġcars, ., Ġcars, Ġhave, Ġbeen, Ġaround, Ġsin...\n",
              "1        ([Ġtransportation, Ġis, Ġa, Ġlarge, Ġnecessity...\n",
              "2        ([Ġ\", america, 's, Ġlove, Ġaffair, Ġwith, Ġit,...\n",
              "3        ([Ġhow, Ġoften, Ġdo, Ġyou, Ġride, Ġin, Ġa, Ġca...\n",
              "4        ([Ġcars, Ġare, Ġa, Ġwonderful, Ġthing, ., Ġthe...\n",
              "                               ...                        \n",
              "66903    ([Ġ, Ġdear, Ġsenator, ,, Ġ, Ġi, Ġam, Ġwriting,...\n",
              "66904    ([Ġ, Ġi, Ġremember, Ġthe, Ġday, Ġdistinctively...\n",
              "66905    ([Ġ, Ġdear, Ġsenator, ,, ĠĠ, Ġi, Ġam, Ġwriting...\n",
              "66906    ([Ġ, Ġdear, Ġsenator, ,, Ġ, Ġi, Ġam, Ġwriting,...\n",
              "66907    ([Ġ, Ġit, Ġwas, Ġa, Ġtypical, Ġsummer, Ġaftern...\n",
              "Name: text, Length: 65354, dtype: object"
            ]
          },
          "execution_count": 29,
          "metadata": {},
          "output_type": "execute_result"
        }
      ],
      "source": [
        "docs_dataset = tokenized_dataset.copy()\n",
        "docs_dataset[\"text\"] = [doc2vec.TaggedDocument(row[2],[row[0]]) for row in tokenized_dataset.values]\n",
        "docs_dataset[\"text\"]"
      ]
    },
    {
      "cell_type": "code",
      "execution_count": 30,
      "metadata": {},
      "outputs": [
        {
          "ename": "KeyboardInterrupt",
          "evalue": "",
          "output_type": "error",
          "traceback": [
            "\u001b[0;31m---------------------------------------------------------------------------\u001b[0m",
            "\u001b[0;31mKeyboardInterrupt\u001b[0m                         Traceback (most recent call last)",
            "Cell \u001b[0;32mIn[30], line 2\u001b[0m\n\u001b[1;32m      1\u001b[0m docs \u001b[38;5;241m=\u001b[39m pd\u001b[38;5;241m.\u001b[39mconcat([docs_dataset[\u001b[38;5;124m\"\u001b[39m\u001b[38;5;124mtext\u001b[39m\u001b[38;5;124m\"\u001b[39m],doc_test_dataset[\u001b[38;5;124m\"\u001b[39m\u001b[38;5;124mtext\u001b[39m\u001b[38;5;124m\"\u001b[39m]])\n\u001b[0;32m----> 2\u001b[0m doc_model \u001b[38;5;241m=\u001b[39m \u001b[43mdoc2vec\u001b[49m\u001b[38;5;241;43m.\u001b[39;49m\u001b[43mDoc2Vec\u001b[49m\u001b[43m(\u001b[49m\u001b[43mdocuments\u001b[49m\u001b[38;5;241;43m=\u001b[39;49m\u001b[43mdocs\u001b[49m\u001b[43m,\u001b[49m\u001b[43mvector_size\u001b[49m\u001b[38;5;241;43m=\u001b[39;49m\u001b[38;5;241;43m100\u001b[39;49m\u001b[43m,\u001b[49m\u001b[43mepochs\u001b[49m\u001b[38;5;241;43m=\u001b[39;49m\u001b[38;5;241;43m35\u001b[39;49m\u001b[43m)\u001b[49m\n",
            "File \u001b[0;32m~/Desktop/ciencias de la computacion/Cursado/4.2Inteligencia Artificial 2/Final/venv/lib/python3.11/site-packages/gensim/models/doc2vec.py:296\u001b[0m, in \u001b[0;36mDoc2Vec.__init__\u001b[0;34m(self, documents, corpus_file, vector_size, dm_mean, dm, dbow_words, dm_concat, dm_tag_count, dv, dv_mapfile, comment, trim_rule, callbacks, window, epochs, shrink_windows, **kwargs)\u001b[0m\n\u001b[1;32m    292\u001b[0m \u001b[38;5;66;03m# EXPERIMENTAL lockf feature; create minimal no-op lockf arrays (1 element of 1.0)\u001b[39;00m\n\u001b[1;32m    293\u001b[0m \u001b[38;5;66;03m# advanced users should directly resize/adjust as desired after any vocab growth\u001b[39;00m\n\u001b[1;32m    294\u001b[0m \u001b[38;5;28mself\u001b[39m\u001b[38;5;241m.\u001b[39mdv\u001b[38;5;241m.\u001b[39mvectors_lockf \u001b[38;5;241m=\u001b[39m np\u001b[38;5;241m.\u001b[39mones(\u001b[38;5;241m1\u001b[39m, dtype\u001b[38;5;241m=\u001b[39mREAL)  \u001b[38;5;66;03m# 0.0 values suppress word-backprop-updates; 1.0 allows\u001b[39;00m\n\u001b[0;32m--> 296\u001b[0m \u001b[38;5;28;43msuper\u001b[39;49m\u001b[43m(\u001b[49m\u001b[43mDoc2Vec\u001b[49m\u001b[43m,\u001b[49m\u001b[43m \u001b[49m\u001b[38;5;28;43mself\u001b[39;49m\u001b[43m)\u001b[49m\u001b[38;5;241;43m.\u001b[39;49m\u001b[38;5;21;43m__init__\u001b[39;49m\u001b[43m(\u001b[49m\n\u001b[1;32m    297\u001b[0m \u001b[43m    \u001b[49m\u001b[43msentences\u001b[49m\u001b[38;5;241;43m=\u001b[39;49m\u001b[43mcorpus_iterable\u001b[49m\u001b[43m,\u001b[49m\n\u001b[1;32m    298\u001b[0m \u001b[43m    \u001b[49m\u001b[43mcorpus_file\u001b[49m\u001b[38;5;241;43m=\u001b[39;49m\u001b[43mcorpus_file\u001b[49m\u001b[43m,\u001b[49m\n\u001b[1;32m    299\u001b[0m \u001b[43m    \u001b[49m\u001b[43mvector_size\u001b[49m\u001b[38;5;241;43m=\u001b[39;49m\u001b[38;5;28;43mself\u001b[39;49m\u001b[38;5;241;43m.\u001b[39;49m\u001b[43mvector_size\u001b[49m\u001b[43m,\u001b[49m\n\u001b[1;32m    300\u001b[0m \u001b[43m    \u001b[49m\u001b[43msg\u001b[49m\u001b[38;5;241;43m=\u001b[39;49m\u001b[43m(\u001b[49m\u001b[38;5;241;43m1\u001b[39;49m\u001b[43m \u001b[49m\u001b[38;5;241;43m+\u001b[39;49m\u001b[43m \u001b[49m\u001b[43mdm\u001b[49m\u001b[43m)\u001b[49m\u001b[43m \u001b[49m\u001b[38;5;241;43m%\u001b[39;49m\u001b[43m \u001b[49m\u001b[38;5;241;43m2\u001b[39;49m\u001b[43m,\u001b[49m\n\u001b[1;32m    301\u001b[0m \u001b[43m    \u001b[49m\u001b[43mnull_word\u001b[49m\u001b[38;5;241;43m=\u001b[39;49m\u001b[38;5;28;43mself\u001b[39;49m\u001b[38;5;241;43m.\u001b[39;49m\u001b[43mdm_concat\u001b[49m\u001b[43m,\u001b[49m\n\u001b[1;32m    302\u001b[0m \u001b[43m    \u001b[49m\u001b[43mcallbacks\u001b[49m\u001b[38;5;241;43m=\u001b[39;49m\u001b[43mcallbacks\u001b[49m\u001b[43m,\u001b[49m\n\u001b[1;32m    303\u001b[0m \u001b[43m    \u001b[49m\u001b[43mwindow\u001b[49m\u001b[38;5;241;43m=\u001b[39;49m\u001b[43mwindow\u001b[49m\u001b[43m,\u001b[49m\n\u001b[1;32m    304\u001b[0m \u001b[43m    \u001b[49m\u001b[43mepochs\u001b[49m\u001b[38;5;241;43m=\u001b[39;49m\u001b[43mepochs\u001b[49m\u001b[43m,\u001b[49m\n\u001b[1;32m    305\u001b[0m \u001b[43m    \u001b[49m\u001b[43mshrink_windows\u001b[49m\u001b[38;5;241;43m=\u001b[39;49m\u001b[43mshrink_windows\u001b[49m\u001b[43m,\u001b[49m\n\u001b[1;32m    306\u001b[0m \u001b[43m    \u001b[49m\u001b[38;5;241;43m*\u001b[39;49m\u001b[38;5;241;43m*\u001b[39;49m\u001b[43mkwargs\u001b[49m\u001b[43m,\u001b[49m\n\u001b[1;32m    307\u001b[0m \u001b[43m\u001b[49m\u001b[43m)\u001b[49m\n",
            "File \u001b[0;32m~/Desktop/ciencias de la computacion/Cursado/4.2Inteligencia Artificial 2/Final/venv/lib/python3.11/site-packages/gensim/models/word2vec.py:430\u001b[0m, in \u001b[0;36mWord2Vec.__init__\u001b[0;34m(self, sentences, corpus_file, vector_size, alpha, window, min_count, max_vocab_size, sample, seed, workers, min_alpha, sg, hs, negative, ns_exponent, cbow_mean, hashfxn, epochs, null_word, trim_rule, sorted_vocab, batch_words, compute_loss, callbacks, comment, max_final_vocab, shrink_windows)\u001b[0m\n\u001b[1;32m    428\u001b[0m     \u001b[38;5;28mself\u001b[39m\u001b[38;5;241m.\u001b[39m_check_corpus_sanity(corpus_iterable\u001b[38;5;241m=\u001b[39mcorpus_iterable, corpus_file\u001b[38;5;241m=\u001b[39mcorpus_file, passes\u001b[38;5;241m=\u001b[39m(epochs \u001b[38;5;241m+\u001b[39m \u001b[38;5;241m1\u001b[39m))\n\u001b[1;32m    429\u001b[0m     \u001b[38;5;28mself\u001b[39m\u001b[38;5;241m.\u001b[39mbuild_vocab(corpus_iterable\u001b[38;5;241m=\u001b[39mcorpus_iterable, corpus_file\u001b[38;5;241m=\u001b[39mcorpus_file, trim_rule\u001b[38;5;241m=\u001b[39mtrim_rule)\n\u001b[0;32m--> 430\u001b[0m     \u001b[38;5;28;43mself\u001b[39;49m\u001b[38;5;241;43m.\u001b[39;49m\u001b[43mtrain\u001b[49m\u001b[43m(\u001b[49m\n\u001b[1;32m    431\u001b[0m \u001b[43m        \u001b[49m\u001b[43mcorpus_iterable\u001b[49m\u001b[38;5;241;43m=\u001b[39;49m\u001b[43mcorpus_iterable\u001b[49m\u001b[43m,\u001b[49m\u001b[43m \u001b[49m\u001b[43mcorpus_file\u001b[49m\u001b[38;5;241;43m=\u001b[39;49m\u001b[43mcorpus_file\u001b[49m\u001b[43m,\u001b[49m\u001b[43m \u001b[49m\u001b[43mtotal_examples\u001b[49m\u001b[38;5;241;43m=\u001b[39;49m\u001b[38;5;28;43mself\u001b[39;49m\u001b[38;5;241;43m.\u001b[39;49m\u001b[43mcorpus_count\u001b[49m\u001b[43m,\u001b[49m\n\u001b[1;32m    432\u001b[0m \u001b[43m        \u001b[49m\u001b[43mtotal_words\u001b[49m\u001b[38;5;241;43m=\u001b[39;49m\u001b[38;5;28;43mself\u001b[39;49m\u001b[38;5;241;43m.\u001b[39;49m\u001b[43mcorpus_total_words\u001b[49m\u001b[43m,\u001b[49m\u001b[43m \u001b[49m\u001b[43mepochs\u001b[49m\u001b[38;5;241;43m=\u001b[39;49m\u001b[38;5;28;43mself\u001b[39;49m\u001b[38;5;241;43m.\u001b[39;49m\u001b[43mepochs\u001b[49m\u001b[43m,\u001b[49m\u001b[43m \u001b[49m\u001b[43mstart_alpha\u001b[49m\u001b[38;5;241;43m=\u001b[39;49m\u001b[38;5;28;43mself\u001b[39;49m\u001b[38;5;241;43m.\u001b[39;49m\u001b[43malpha\u001b[49m\u001b[43m,\u001b[49m\n\u001b[1;32m    433\u001b[0m \u001b[43m        \u001b[49m\u001b[43mend_alpha\u001b[49m\u001b[38;5;241;43m=\u001b[39;49m\u001b[38;5;28;43mself\u001b[39;49m\u001b[38;5;241;43m.\u001b[39;49m\u001b[43mmin_alpha\u001b[49m\u001b[43m,\u001b[49m\u001b[43m \u001b[49m\u001b[43mcompute_loss\u001b[49m\u001b[38;5;241;43m=\u001b[39;49m\u001b[38;5;28;43mself\u001b[39;49m\u001b[38;5;241;43m.\u001b[39;49m\u001b[43mcompute_loss\u001b[49m\u001b[43m,\u001b[49m\u001b[43m \u001b[49m\u001b[43mcallbacks\u001b[49m\u001b[38;5;241;43m=\u001b[39;49m\u001b[43mcallbacks\u001b[49m\u001b[43m)\u001b[49m\n\u001b[1;32m    434\u001b[0m \u001b[38;5;28;01melse\u001b[39;00m:\n\u001b[1;32m    435\u001b[0m     \u001b[38;5;28;01mif\u001b[39;00m trim_rule \u001b[38;5;129;01mis\u001b[39;00m \u001b[38;5;129;01mnot\u001b[39;00m \u001b[38;5;28;01mNone\u001b[39;00m:\n",
            "File \u001b[0;32m~/Desktop/ciencias de la computacion/Cursado/4.2Inteligencia Artificial 2/Final/venv/lib/python3.11/site-packages/gensim/models/doc2vec.py:516\u001b[0m, in \u001b[0;36mDoc2Vec.train\u001b[0;34m(self, corpus_iterable, corpus_file, total_examples, total_words, epochs, start_alpha, end_alpha, word_count, queue_factor, report_delay, callbacks, **kwargs)\u001b[0m\n\u001b[1;32m    513\u001b[0m     kwargs[\u001b[38;5;124m'\u001b[39m\u001b[38;5;124moffsets\u001b[39m\u001b[38;5;124m'\u001b[39m] \u001b[38;5;241m=\u001b[39m offsets\n\u001b[1;32m    514\u001b[0m     kwargs[\u001b[38;5;124m'\u001b[39m\u001b[38;5;124mstart_doctags\u001b[39m\u001b[38;5;124m'\u001b[39m] \u001b[38;5;241m=\u001b[39m start_doctags\n\u001b[0;32m--> 516\u001b[0m \u001b[38;5;28;43msuper\u001b[39;49m\u001b[43m(\u001b[49m\u001b[43mDoc2Vec\u001b[49m\u001b[43m,\u001b[49m\u001b[43m \u001b[49m\u001b[38;5;28;43mself\u001b[39;49m\u001b[43m)\u001b[49m\u001b[38;5;241;43m.\u001b[39;49m\u001b[43mtrain\u001b[49m\u001b[43m(\u001b[49m\n\u001b[1;32m    517\u001b[0m \u001b[43m    \u001b[49m\u001b[43mcorpus_iterable\u001b[49m\u001b[38;5;241;43m=\u001b[39;49m\u001b[43mcorpus_iterable\u001b[49m\u001b[43m,\u001b[49m\u001b[43m \u001b[49m\u001b[43mcorpus_file\u001b[49m\u001b[38;5;241;43m=\u001b[39;49m\u001b[43mcorpus_file\u001b[49m\u001b[43m,\u001b[49m\n\u001b[1;32m    518\u001b[0m \u001b[43m    \u001b[49m\u001b[43mtotal_examples\u001b[49m\u001b[38;5;241;43m=\u001b[39;49m\u001b[43mtotal_examples\u001b[49m\u001b[43m,\u001b[49m\u001b[43m \u001b[49m\u001b[43mtotal_words\u001b[49m\u001b[38;5;241;43m=\u001b[39;49m\u001b[43mtotal_words\u001b[49m\u001b[43m,\u001b[49m\n\u001b[1;32m    519\u001b[0m \u001b[43m    \u001b[49m\u001b[43mepochs\u001b[49m\u001b[38;5;241;43m=\u001b[39;49m\u001b[43mepochs\u001b[49m\u001b[43m,\u001b[49m\u001b[43m \u001b[49m\u001b[43mstart_alpha\u001b[49m\u001b[38;5;241;43m=\u001b[39;49m\u001b[43mstart_alpha\u001b[49m\u001b[43m,\u001b[49m\u001b[43m \u001b[49m\u001b[43mend_alpha\u001b[49m\u001b[38;5;241;43m=\u001b[39;49m\u001b[43mend_alpha\u001b[49m\u001b[43m,\u001b[49m\u001b[43m \u001b[49m\u001b[43mword_count\u001b[49m\u001b[38;5;241;43m=\u001b[39;49m\u001b[43mword_count\u001b[49m\u001b[43m,\u001b[49m\n\u001b[1;32m    520\u001b[0m \u001b[43m    \u001b[49m\u001b[43mqueue_factor\u001b[49m\u001b[38;5;241;43m=\u001b[39;49m\u001b[43mqueue_factor\u001b[49m\u001b[43m,\u001b[49m\u001b[43m \u001b[49m\u001b[43mreport_delay\u001b[49m\u001b[38;5;241;43m=\u001b[39;49m\u001b[43mreport_delay\u001b[49m\u001b[43m,\u001b[49m\u001b[43m \u001b[49m\u001b[43mcallbacks\u001b[49m\u001b[38;5;241;43m=\u001b[39;49m\u001b[43mcallbacks\u001b[49m\u001b[43m,\u001b[49m\u001b[43m \u001b[49m\u001b[38;5;241;43m*\u001b[39;49m\u001b[38;5;241;43m*\u001b[39;49m\u001b[43mkwargs\u001b[49m\u001b[43m)\u001b[49m\n",
            "File \u001b[0;32m~/Desktop/ciencias de la computacion/Cursado/4.2Inteligencia Artificial 2/Final/venv/lib/python3.11/site-packages/gensim/models/word2vec.py:1073\u001b[0m, in \u001b[0;36mWord2Vec.train\u001b[0;34m(self, corpus_iterable, corpus_file, total_examples, total_words, epochs, start_alpha, end_alpha, word_count, queue_factor, report_delay, compute_loss, callbacks, **kwargs)\u001b[0m\n\u001b[1;32m   1070\u001b[0m     callback\u001b[38;5;241m.\u001b[39mon_epoch_begin(\u001b[38;5;28mself\u001b[39m)\n\u001b[1;32m   1072\u001b[0m \u001b[38;5;28;01mif\u001b[39;00m corpus_iterable \u001b[38;5;129;01mis\u001b[39;00m \u001b[38;5;129;01mnot\u001b[39;00m \u001b[38;5;28;01mNone\u001b[39;00m:\n\u001b[0;32m-> 1073\u001b[0m     trained_word_count_epoch, raw_word_count_epoch, job_tally_epoch \u001b[38;5;241m=\u001b[39m \u001b[38;5;28;43mself\u001b[39;49m\u001b[38;5;241;43m.\u001b[39;49m\u001b[43m_train_epoch\u001b[49m\u001b[43m(\u001b[49m\n\u001b[1;32m   1074\u001b[0m \u001b[43m        \u001b[49m\u001b[43mcorpus_iterable\u001b[49m\u001b[43m,\u001b[49m\u001b[43m \u001b[49m\u001b[43mcur_epoch\u001b[49m\u001b[38;5;241;43m=\u001b[39;49m\u001b[43mcur_epoch\u001b[49m\u001b[43m,\u001b[49m\u001b[43m \u001b[49m\u001b[43mtotal_examples\u001b[49m\u001b[38;5;241;43m=\u001b[39;49m\u001b[43mtotal_examples\u001b[49m\u001b[43m,\u001b[49m\n\u001b[1;32m   1075\u001b[0m \u001b[43m        \u001b[49m\u001b[43mtotal_words\u001b[49m\u001b[38;5;241;43m=\u001b[39;49m\u001b[43mtotal_words\u001b[49m\u001b[43m,\u001b[49m\u001b[43m \u001b[49m\u001b[43mqueue_factor\u001b[49m\u001b[38;5;241;43m=\u001b[39;49m\u001b[43mqueue_factor\u001b[49m\u001b[43m,\u001b[49m\u001b[43m \u001b[49m\u001b[43mreport_delay\u001b[49m\u001b[38;5;241;43m=\u001b[39;49m\u001b[43mreport_delay\u001b[49m\u001b[43m,\u001b[49m\n\u001b[1;32m   1076\u001b[0m \u001b[43m        \u001b[49m\u001b[43mcallbacks\u001b[49m\u001b[38;5;241;43m=\u001b[39;49m\u001b[43mcallbacks\u001b[49m\u001b[43m,\u001b[49m\u001b[43m \u001b[49m\u001b[38;5;241;43m*\u001b[39;49m\u001b[38;5;241;43m*\u001b[39;49m\u001b[43mkwargs\u001b[49m\u001b[43m)\u001b[49m\n\u001b[1;32m   1077\u001b[0m \u001b[38;5;28;01melse\u001b[39;00m:\n\u001b[1;32m   1078\u001b[0m     trained_word_count_epoch, raw_word_count_epoch, job_tally_epoch \u001b[38;5;241m=\u001b[39m \u001b[38;5;28mself\u001b[39m\u001b[38;5;241m.\u001b[39m_train_epoch_corpusfile(\n\u001b[1;32m   1079\u001b[0m         corpus_file, cur_epoch\u001b[38;5;241m=\u001b[39mcur_epoch, total_examples\u001b[38;5;241m=\u001b[39mtotal_examples, total_words\u001b[38;5;241m=\u001b[39mtotal_words,\n\u001b[1;32m   1080\u001b[0m         callbacks\u001b[38;5;241m=\u001b[39mcallbacks, \u001b[38;5;241m*\u001b[39m\u001b[38;5;241m*\u001b[39mkwargs)\n",
            "File \u001b[0;32m~/Desktop/ciencias de la computacion/Cursado/4.2Inteligencia Artificial 2/Final/venv/lib/python3.11/site-packages/gensim/models/word2vec.py:1434\u001b[0m, in \u001b[0;36mWord2Vec._train_epoch\u001b[0;34m(self, data_iterable, cur_epoch, total_examples, total_words, queue_factor, report_delay, callbacks)\u001b[0m\n\u001b[1;32m   1431\u001b[0m     thread\u001b[38;5;241m.\u001b[39mdaemon \u001b[38;5;241m=\u001b[39m \u001b[38;5;28;01mTrue\u001b[39;00m  \u001b[38;5;66;03m# make interrupting the process with ctrl+c easier\u001b[39;00m\n\u001b[1;32m   1432\u001b[0m     thread\u001b[38;5;241m.\u001b[39mstart()\n\u001b[0;32m-> 1434\u001b[0m trained_word_count, raw_word_count, job_tally \u001b[38;5;241m=\u001b[39m \u001b[38;5;28;43mself\u001b[39;49m\u001b[38;5;241;43m.\u001b[39;49m\u001b[43m_log_epoch_progress\u001b[49m\u001b[43m(\u001b[49m\n\u001b[1;32m   1435\u001b[0m \u001b[43m    \u001b[49m\u001b[43mprogress_queue\u001b[49m\u001b[43m,\u001b[49m\u001b[43m \u001b[49m\u001b[43mjob_queue\u001b[49m\u001b[43m,\u001b[49m\u001b[43m \u001b[49m\u001b[43mcur_epoch\u001b[49m\u001b[38;5;241;43m=\u001b[39;49m\u001b[43mcur_epoch\u001b[49m\u001b[43m,\u001b[49m\u001b[43m \u001b[49m\u001b[43mtotal_examples\u001b[49m\u001b[38;5;241;43m=\u001b[39;49m\u001b[43mtotal_examples\u001b[49m\u001b[43m,\u001b[49m\n\u001b[1;32m   1436\u001b[0m \u001b[43m    \u001b[49m\u001b[43mtotal_words\u001b[49m\u001b[38;5;241;43m=\u001b[39;49m\u001b[43mtotal_words\u001b[49m\u001b[43m,\u001b[49m\u001b[43m \u001b[49m\u001b[43mreport_delay\u001b[49m\u001b[38;5;241;43m=\u001b[39;49m\u001b[43mreport_delay\u001b[49m\u001b[43m,\u001b[49m\u001b[43m \u001b[49m\u001b[43mis_corpus_file_mode\u001b[49m\u001b[38;5;241;43m=\u001b[39;49m\u001b[38;5;28;43;01mFalse\u001b[39;49;00m\u001b[43m,\u001b[49m\n\u001b[1;32m   1437\u001b[0m \u001b[43m\u001b[49m\u001b[43m)\u001b[49m\n\u001b[1;32m   1439\u001b[0m \u001b[38;5;28;01mreturn\u001b[39;00m trained_word_count, raw_word_count, job_tally\n",
            "File \u001b[0;32m~/Desktop/ciencias de la computacion/Cursado/4.2Inteligencia Artificial 2/Final/venv/lib/python3.11/site-packages/gensim/models/word2vec.py:1289\u001b[0m, in \u001b[0;36mWord2Vec._log_epoch_progress\u001b[0;34m(self, progress_queue, job_queue, cur_epoch, total_examples, total_words, report_delay, is_corpus_file_mode)\u001b[0m\n\u001b[1;32m   1286\u001b[0m unfinished_worker_count \u001b[38;5;241m=\u001b[39m \u001b[38;5;28mself\u001b[39m\u001b[38;5;241m.\u001b[39mworkers\n\u001b[1;32m   1288\u001b[0m \u001b[38;5;28;01mwhile\u001b[39;00m unfinished_worker_count \u001b[38;5;241m>\u001b[39m \u001b[38;5;241m0\u001b[39m:\n\u001b[0;32m-> 1289\u001b[0m     report \u001b[38;5;241m=\u001b[39m \u001b[43mprogress_queue\u001b[49m\u001b[38;5;241;43m.\u001b[39;49m\u001b[43mget\u001b[49m\u001b[43m(\u001b[49m\u001b[43m)\u001b[49m  \u001b[38;5;66;03m# blocks if workers too slow\u001b[39;00m\n\u001b[1;32m   1290\u001b[0m     \u001b[38;5;28;01mif\u001b[39;00m report \u001b[38;5;129;01mis\u001b[39;00m \u001b[38;5;28;01mNone\u001b[39;00m:  \u001b[38;5;66;03m# a thread reporting that it finished\u001b[39;00m\n\u001b[1;32m   1291\u001b[0m         unfinished_worker_count \u001b[38;5;241m-\u001b[39m\u001b[38;5;241m=\u001b[39m \u001b[38;5;241m1\u001b[39m\n",
            "File \u001b[0;32m/usr/lib/python3.11/queue.py:171\u001b[0m, in \u001b[0;36mQueue.get\u001b[0;34m(self, block, timeout)\u001b[0m\n\u001b[1;32m    169\u001b[0m \u001b[38;5;28;01melif\u001b[39;00m timeout \u001b[38;5;129;01mis\u001b[39;00m \u001b[38;5;28;01mNone\u001b[39;00m:\n\u001b[1;32m    170\u001b[0m     \u001b[38;5;28;01mwhile\u001b[39;00m \u001b[38;5;129;01mnot\u001b[39;00m \u001b[38;5;28mself\u001b[39m\u001b[38;5;241m.\u001b[39m_qsize():\n\u001b[0;32m--> 171\u001b[0m         \u001b[38;5;28;43mself\u001b[39;49m\u001b[38;5;241;43m.\u001b[39;49m\u001b[43mnot_empty\u001b[49m\u001b[38;5;241;43m.\u001b[39;49m\u001b[43mwait\u001b[49m\u001b[43m(\u001b[49m\u001b[43m)\u001b[49m\n\u001b[1;32m    172\u001b[0m \u001b[38;5;28;01melif\u001b[39;00m timeout \u001b[38;5;241m<\u001b[39m \u001b[38;5;241m0\u001b[39m:\n\u001b[1;32m    173\u001b[0m     \u001b[38;5;28;01mraise\u001b[39;00m \u001b[38;5;167;01mValueError\u001b[39;00m(\u001b[38;5;124m\"\u001b[39m\u001b[38;5;124m'\u001b[39m\u001b[38;5;124mtimeout\u001b[39m\u001b[38;5;124m'\u001b[39m\u001b[38;5;124m must be a non-negative number\u001b[39m\u001b[38;5;124m\"\u001b[39m)\n",
            "File \u001b[0;32m/usr/lib/python3.11/threading.py:320\u001b[0m, in \u001b[0;36mCondition.wait\u001b[0;34m(self, timeout)\u001b[0m\n\u001b[1;32m    318\u001b[0m \u001b[38;5;28;01mtry\u001b[39;00m:    \u001b[38;5;66;03m# restore state no matter what (e.g., KeyboardInterrupt)\u001b[39;00m\n\u001b[1;32m    319\u001b[0m     \u001b[38;5;28;01mif\u001b[39;00m timeout \u001b[38;5;129;01mis\u001b[39;00m \u001b[38;5;28;01mNone\u001b[39;00m:\n\u001b[0;32m--> 320\u001b[0m         \u001b[43mwaiter\u001b[49m\u001b[38;5;241;43m.\u001b[39;49m\u001b[43macquire\u001b[49m\u001b[43m(\u001b[49m\u001b[43m)\u001b[49m\n\u001b[1;32m    321\u001b[0m         gotit \u001b[38;5;241m=\u001b[39m \u001b[38;5;28;01mTrue\u001b[39;00m\n\u001b[1;32m    322\u001b[0m     \u001b[38;5;28;01melse\u001b[39;00m:\n",
            "\u001b[0;31mKeyboardInterrupt\u001b[0m: "
          ]
        }
      ],
      "source": [
        "docs = pd.concat([docs_dataset[\"text\"],doc_test_dataset[\"text\"]])\n",
        "doc_model = doc2vec.Doc2Vec(documents=docs,vector_size=100,epochs=35)"
      ]
    },
    {
      "cell_type": "code",
      "execution_count": null,
      "metadata": {
        "colab": {
          "base_uri": "https://localhost:8080/"
        },
        "id": "KBGZJYB0dYKT",
        "outputId": "154280e2-5dcc-4c7c-95e1-3f66b5bd4ac0"
      },
      "outputs": [],
      "source": [
        "doc_model.dv[0]"
      ]
    },
    {
      "cell_type": "code",
      "execution_count": null,
      "metadata": {},
      "outputs": [],
      "source": [
        "doc_model.save(\"../../data/vecModel.bin\")"
      ]
    },
    {
      "cell_type": "code",
      "execution_count": 31,
      "metadata": {},
      "outputs": [],
      "source": [
        "doc_model = doc2vec.Doc2Vec.load(\"../../data/vecModel.bin\")"
      ]
    },
    {
      "cell_type": "code",
      "execution_count": 32,
      "metadata": {},
      "outputs": [],
      "source": [
        "arr = [doc_model.dv[doc_test_dataset[\"text\"][i].tags] for i in doc_test_dataset.index]\n",
        "embeddings_test_dataset = pd.DataFrame(np.reshape(arr,(len(arr), 100)))"
      ]
    },
    {
      "cell_type": "code",
      "execution_count": 33,
      "metadata": {
        "colab": {
          "base_uri": "https://localhost:8080/",
          "height": 444
        },
        "id": "Ke4rS-oJdYKi",
        "outputId": "a6efe2c2-57d9-4854-df41-a381597c5c2f"
      },
      "outputs": [
        {
          "data": {
            "text/html": [
              "<div>\n",
              "<style scoped>\n",
              "    .dataframe tbody tr th:only-of-type {\n",
              "        vertical-align: middle;\n",
              "    }\n",
              "\n",
              "    .dataframe tbody tr th {\n",
              "        vertical-align: top;\n",
              "    }\n",
              "\n",
              "    .dataframe thead th {\n",
              "        text-align: right;\n",
              "    }\n",
              "</style>\n",
              "<table border=\"1\" class=\"dataframe\">\n",
              "  <thead>\n",
              "    <tr style=\"text-align: right;\">\n",
              "      <th></th>\n",
              "      <th>0</th>\n",
              "      <th>1</th>\n",
              "      <th>2</th>\n",
              "      <th>3</th>\n",
              "      <th>4</th>\n",
              "      <th>5</th>\n",
              "      <th>6</th>\n",
              "      <th>7</th>\n",
              "      <th>8</th>\n",
              "      <th>9</th>\n",
              "      <th>...</th>\n",
              "      <th>90</th>\n",
              "      <th>91</th>\n",
              "      <th>92</th>\n",
              "      <th>93</th>\n",
              "      <th>94</th>\n",
              "      <th>95</th>\n",
              "      <th>96</th>\n",
              "      <th>97</th>\n",
              "      <th>98</th>\n",
              "      <th>99</th>\n",
              "    </tr>\n",
              "  </thead>\n",
              "  <tbody>\n",
              "    <tr>\n",
              "      <th>0</th>\n",
              "      <td>1.219739</td>\n",
              "      <td>-1.110067</td>\n",
              "      <td>-1.817891</td>\n",
              "      <td>0.435371</td>\n",
              "      <td>-1.260984</td>\n",
              "      <td>-0.823853</td>\n",
              "      <td>1.171997</td>\n",
              "      <td>2.576343</td>\n",
              "      <td>1.515475</td>\n",
              "      <td>-1.234537</td>\n",
              "      <td>...</td>\n",
              "      <td>-0.291681</td>\n",
              "      <td>1.084419</td>\n",
              "      <td>1.325418</td>\n",
              "      <td>-1.312253</td>\n",
              "      <td>0.590966</td>\n",
              "      <td>0.797195</td>\n",
              "      <td>-0.995879</td>\n",
              "      <td>-1.124606</td>\n",
              "      <td>-0.098990</td>\n",
              "      <td>0.024096</td>\n",
              "    </tr>\n",
              "    <tr>\n",
              "      <th>1</th>\n",
              "      <td>-0.437325</td>\n",
              "      <td>-0.015533</td>\n",
              "      <td>-0.727710</td>\n",
              "      <td>1.027797</td>\n",
              "      <td>-1.424666</td>\n",
              "      <td>-0.476050</td>\n",
              "      <td>-0.090536</td>\n",
              "      <td>1.375026</td>\n",
              "      <td>0.701357</td>\n",
              "      <td>1.006041</td>\n",
              "      <td>...</td>\n",
              "      <td>1.208189</td>\n",
              "      <td>2.600642</td>\n",
              "      <td>0.077197</td>\n",
              "      <td>0.621890</td>\n",
              "      <td>1.319545</td>\n",
              "      <td>-1.578372</td>\n",
              "      <td>0.288048</td>\n",
              "      <td>-0.175495</td>\n",
              "      <td>-1.757541</td>\n",
              "      <td>-1.018862</td>\n",
              "    </tr>\n",
              "    <tr>\n",
              "      <th>2</th>\n",
              "      <td>-2.172493</td>\n",
              "      <td>-0.883435</td>\n",
              "      <td>-0.986568</td>\n",
              "      <td>0.830565</td>\n",
              "      <td>-0.525877</td>\n",
              "      <td>0.518714</td>\n",
              "      <td>0.139243</td>\n",
              "      <td>1.200055</td>\n",
              "      <td>-2.134022</td>\n",
              "      <td>-0.128084</td>\n",
              "      <td>...</td>\n",
              "      <td>2.002734</td>\n",
              "      <td>2.586443</td>\n",
              "      <td>1.836435</td>\n",
              "      <td>-0.970768</td>\n",
              "      <td>2.494478</td>\n",
              "      <td>-0.942991</td>\n",
              "      <td>0.042452</td>\n",
              "      <td>0.403231</td>\n",
              "      <td>-0.119662</td>\n",
              "      <td>1.106133</td>\n",
              "    </tr>\n",
              "    <tr>\n",
              "      <th>3</th>\n",
              "      <td>0.543484</td>\n",
              "      <td>-0.625781</td>\n",
              "      <td>0.030770</td>\n",
              "      <td>-1.012685</td>\n",
              "      <td>-0.933100</td>\n",
              "      <td>-1.298510</td>\n",
              "      <td>-0.320477</td>\n",
              "      <td>1.359779</td>\n",
              "      <td>-1.723480</td>\n",
              "      <td>0.663527</td>\n",
              "      <td>...</td>\n",
              "      <td>-0.395580</td>\n",
              "      <td>0.787761</td>\n",
              "      <td>1.333279</td>\n",
              "      <td>-0.708900</td>\n",
              "      <td>1.563627</td>\n",
              "      <td>0.989198</td>\n",
              "      <td>0.492953</td>\n",
              "      <td>-0.777206</td>\n",
              "      <td>0.715294</td>\n",
              "      <td>1.270499</td>\n",
              "    </tr>\n",
              "    <tr>\n",
              "      <th>4</th>\n",
              "      <td>-0.277443</td>\n",
              "      <td>0.522612</td>\n",
              "      <td>-1.844515</td>\n",
              "      <td>0.934047</td>\n",
              "      <td>-0.796356</td>\n",
              "      <td>-0.239953</td>\n",
              "      <td>2.316574</td>\n",
              "      <td>1.749062</td>\n",
              "      <td>-1.337803</td>\n",
              "      <td>-1.877509</td>\n",
              "      <td>...</td>\n",
              "      <td>2.634269</td>\n",
              "      <td>-0.469678</td>\n",
              "      <td>2.793409</td>\n",
              "      <td>-0.382673</td>\n",
              "      <td>-1.181020</td>\n",
              "      <td>0.522740</td>\n",
              "      <td>0.010672</td>\n",
              "      <td>-1.501560</td>\n",
              "      <td>1.630964</td>\n",
              "      <td>1.042778</td>\n",
              "    </tr>\n",
              "    <tr>\n",
              "      <th>...</th>\n",
              "      <td>...</td>\n",
              "      <td>...</td>\n",
              "      <td>...</td>\n",
              "      <td>...</td>\n",
              "      <td>...</td>\n",
              "      <td>...</td>\n",
              "      <td>...</td>\n",
              "      <td>...</td>\n",
              "      <td>...</td>\n",
              "      <td>...</td>\n",
              "      <td>...</td>\n",
              "      <td>...</td>\n",
              "      <td>...</td>\n",
              "      <td>...</td>\n",
              "      <td>...</td>\n",
              "      <td>...</td>\n",
              "      <td>...</td>\n",
              "      <td>...</td>\n",
              "      <td>...</td>\n",
              "      <td>...</td>\n",
              "      <td>...</td>\n",
              "    </tr>\n",
              "    <tr>\n",
              "      <th>65349</th>\n",
              "      <td>0.337142</td>\n",
              "      <td>-1.077664</td>\n",
              "      <td>-0.455268</td>\n",
              "      <td>0.269491</td>\n",
              "      <td>-0.475726</td>\n",
              "      <td>1.610157</td>\n",
              "      <td>-0.713265</td>\n",
              "      <td>-0.539407</td>\n",
              "      <td>0.290899</td>\n",
              "      <td>-0.161023</td>\n",
              "      <td>...</td>\n",
              "      <td>0.266953</td>\n",
              "      <td>-0.025179</td>\n",
              "      <td>0.251291</td>\n",
              "      <td>-1.070246</td>\n",
              "      <td>1.224154</td>\n",
              "      <td>-0.457560</td>\n",
              "      <td>-0.865561</td>\n",
              "      <td>0.107556</td>\n",
              "      <td>-0.676872</td>\n",
              "      <td>-0.687075</td>\n",
              "    </tr>\n",
              "    <tr>\n",
              "      <th>65350</th>\n",
              "      <td>-0.970615</td>\n",
              "      <td>0.679252</td>\n",
              "      <td>-0.475191</td>\n",
              "      <td>-0.760253</td>\n",
              "      <td>1.395637</td>\n",
              "      <td>-0.120007</td>\n",
              "      <td>-0.475762</td>\n",
              "      <td>0.390738</td>\n",
              "      <td>0.093672</td>\n",
              "      <td>-0.821998</td>\n",
              "      <td>...</td>\n",
              "      <td>-1.267149</td>\n",
              "      <td>-0.131624</td>\n",
              "      <td>0.057884</td>\n",
              "      <td>-0.680531</td>\n",
              "      <td>-1.577589</td>\n",
              "      <td>0.535939</td>\n",
              "      <td>-0.596414</td>\n",
              "      <td>-0.688988</td>\n",
              "      <td>0.058833</td>\n",
              "      <td>0.240960</td>\n",
              "    </tr>\n",
              "    <tr>\n",
              "      <th>65351</th>\n",
              "      <td>-0.430817</td>\n",
              "      <td>-0.320849</td>\n",
              "      <td>-0.056497</td>\n",
              "      <td>-1.180754</td>\n",
              "      <td>0.504585</td>\n",
              "      <td>2.236575</td>\n",
              "      <td>0.467192</td>\n",
              "      <td>-0.020317</td>\n",
              "      <td>-0.471456</td>\n",
              "      <td>-1.075086</td>\n",
              "      <td>...</td>\n",
              "      <td>0.032390</td>\n",
              "      <td>-0.110985</td>\n",
              "      <td>-0.175939</td>\n",
              "      <td>-1.883587</td>\n",
              "      <td>-0.894462</td>\n",
              "      <td>-0.968749</td>\n",
              "      <td>0.338284</td>\n",
              "      <td>-0.594822</td>\n",
              "      <td>0.738063</td>\n",
              "      <td>-1.228320</td>\n",
              "    </tr>\n",
              "    <tr>\n",
              "      <th>65352</th>\n",
              "      <td>0.557895</td>\n",
              "      <td>-1.990042</td>\n",
              "      <td>0.589233</td>\n",
              "      <td>-1.006965</td>\n",
              "      <td>1.415527</td>\n",
              "      <td>0.446239</td>\n",
              "      <td>-0.436534</td>\n",
              "      <td>0.615573</td>\n",
              "      <td>-0.101743</td>\n",
              "      <td>-0.015296</td>\n",
              "      <td>...</td>\n",
              "      <td>0.155114</td>\n",
              "      <td>0.152983</td>\n",
              "      <td>-0.192486</td>\n",
              "      <td>-0.625859</td>\n",
              "      <td>-0.627880</td>\n",
              "      <td>-0.647677</td>\n",
              "      <td>-1.792593</td>\n",
              "      <td>0.189072</td>\n",
              "      <td>0.543923</td>\n",
              "      <td>-2.635595</td>\n",
              "    </tr>\n",
              "    <tr>\n",
              "      <th>65353</th>\n",
              "      <td>-0.728911</td>\n",
              "      <td>-1.345793</td>\n",
              "      <td>0.046680</td>\n",
              "      <td>-0.250754</td>\n",
              "      <td>-0.241037</td>\n",
              "      <td>0.673405</td>\n",
              "      <td>-2.207394</td>\n",
              "      <td>-0.494322</td>\n",
              "      <td>0.861231</td>\n",
              "      <td>0.644561</td>\n",
              "      <td>...</td>\n",
              "      <td>-0.765884</td>\n",
              "      <td>-0.322559</td>\n",
              "      <td>0.348290</td>\n",
              "      <td>0.895856</td>\n",
              "      <td>-0.282202</td>\n",
              "      <td>-0.043933</td>\n",
              "      <td>-0.535172</td>\n",
              "      <td>0.428676</td>\n",
              "      <td>0.214801</td>\n",
              "      <td>-1.291048</td>\n",
              "    </tr>\n",
              "  </tbody>\n",
              "</table>\n",
              "<p>65354 rows × 100 columns</p>\n",
              "</div>"
            ],
            "text/plain": [
              "             0         1         2         3         4         5         6   \\\n",
              "0      1.219739 -1.110067 -1.817891  0.435371 -1.260984 -0.823853  1.171997   \n",
              "1     -0.437325 -0.015533 -0.727710  1.027797 -1.424666 -0.476050 -0.090536   \n",
              "2     -2.172493 -0.883435 -0.986568  0.830565 -0.525877  0.518714  0.139243   \n",
              "3      0.543484 -0.625781  0.030770 -1.012685 -0.933100 -1.298510 -0.320477   \n",
              "4     -0.277443  0.522612 -1.844515  0.934047 -0.796356 -0.239953  2.316574   \n",
              "...         ...       ...       ...       ...       ...       ...       ...   \n",
              "65349  0.337142 -1.077664 -0.455268  0.269491 -0.475726  1.610157 -0.713265   \n",
              "65350 -0.970615  0.679252 -0.475191 -0.760253  1.395637 -0.120007 -0.475762   \n",
              "65351 -0.430817 -0.320849 -0.056497 -1.180754  0.504585  2.236575  0.467192   \n",
              "65352  0.557895 -1.990042  0.589233 -1.006965  1.415527  0.446239 -0.436534   \n",
              "65353 -0.728911 -1.345793  0.046680 -0.250754 -0.241037  0.673405 -2.207394   \n",
              "\n",
              "             7         8         9   ...        90        91        92  \\\n",
              "0      2.576343  1.515475 -1.234537  ... -0.291681  1.084419  1.325418   \n",
              "1      1.375026  0.701357  1.006041  ...  1.208189  2.600642  0.077197   \n",
              "2      1.200055 -2.134022 -0.128084  ...  2.002734  2.586443  1.836435   \n",
              "3      1.359779 -1.723480  0.663527  ... -0.395580  0.787761  1.333279   \n",
              "4      1.749062 -1.337803 -1.877509  ...  2.634269 -0.469678  2.793409   \n",
              "...         ...       ...       ...  ...       ...       ...       ...   \n",
              "65349 -0.539407  0.290899 -0.161023  ...  0.266953 -0.025179  0.251291   \n",
              "65350  0.390738  0.093672 -0.821998  ... -1.267149 -0.131624  0.057884   \n",
              "65351 -0.020317 -0.471456 -1.075086  ...  0.032390 -0.110985 -0.175939   \n",
              "65352  0.615573 -0.101743 -0.015296  ...  0.155114  0.152983 -0.192486   \n",
              "65353 -0.494322  0.861231  0.644561  ... -0.765884 -0.322559  0.348290   \n",
              "\n",
              "             93        94        95        96        97        98        99  \n",
              "0     -1.312253  0.590966  0.797195 -0.995879 -1.124606 -0.098990  0.024096  \n",
              "1      0.621890  1.319545 -1.578372  0.288048 -0.175495 -1.757541 -1.018862  \n",
              "2     -0.970768  2.494478 -0.942991  0.042452  0.403231 -0.119662  1.106133  \n",
              "3     -0.708900  1.563627  0.989198  0.492953 -0.777206  0.715294  1.270499  \n",
              "4     -0.382673 -1.181020  0.522740  0.010672 -1.501560  1.630964  1.042778  \n",
              "...         ...       ...       ...       ...       ...       ...       ...  \n",
              "65349 -1.070246  1.224154 -0.457560 -0.865561  0.107556 -0.676872 -0.687075  \n",
              "65350 -0.680531 -1.577589  0.535939 -0.596414 -0.688988  0.058833  0.240960  \n",
              "65351 -1.883587 -0.894462 -0.968749  0.338284 -0.594822  0.738063 -1.228320  \n",
              "65352 -0.625859 -0.627880 -0.647677 -1.792593  0.189072  0.543923 -2.635595  \n",
              "65353  0.895856 -0.282202 -0.043933 -0.535172  0.428676  0.214801 -1.291048  \n",
              "\n",
              "[65354 rows x 100 columns]"
            ]
          },
          "execution_count": 33,
          "metadata": {},
          "output_type": "execute_result"
        }
      ],
      "source": [
        "arr = [doc_model.dv[docs_dataset[\"text\"][i].tags] for i in docs_dataset.index]\n",
        "embeddings_dataset = pd.DataFrame(np.reshape(arr,(len(arr), 100)))\n",
        "embeddings_dataset"
      ]
    },
    {
      "cell_type": "code",
      "execution_count": null,
      "metadata": {
        "colab": {
          "base_uri": "https://localhost:8080/",
          "height": 350
        },
        "id": "Sop_gw5PdYKj",
        "outputId": "489cc0f3-00c3-476a-c619-89a7dc34fe64"
      },
      "outputs": [],
      "source": [
        "embeddings_dataset.describe()"
      ]
    },
    {
      "cell_type": "markdown",
      "metadata": {
        "id": "XL1gXWWodYKj"
      },
      "source": [
        "#### Normalizar embedding"
      ]
    },
    {
      "cell_type": "code",
      "execution_count": 34,
      "metadata": {},
      "outputs": [],
      "source": [
        "embeddings_test_dataset[\"norm\"]=np.linalg.norm(embeddings_test_dataset, axis=1)"
      ]
    },
    {
      "cell_type": "code",
      "execution_count": 35,
      "metadata": {
        "colab": {
          "base_uri": "https://localhost:8080/"
        },
        "id": "5XdVRiYOdYKj",
        "outputId": "fdec5bf1-af94-4e9a-f178-6a6c7c01367d"
      },
      "outputs": [
        {
          "data": {
            "text/plain": [
              "0        13.226490\n",
              "1        11.933055\n",
              "2        11.891607\n",
              "3        12.467443\n",
              "4        14.188004\n",
              "           ...    \n",
              "65349     8.806262\n",
              "65350     9.364732\n",
              "65351     8.883014\n",
              "65352     9.615449\n",
              "65353     9.830458\n",
              "Name: norm, Length: 65354, dtype: float32"
            ]
          },
          "execution_count": 35,
          "metadata": {},
          "output_type": "execute_result"
        }
      ],
      "source": [
        "embeddings_dataset[\"norm\"]=np.linalg.norm(embeddings_dataset, axis=1)\n",
        "embeddings_dataset[\"norm\"]"
      ]
    },
    {
      "cell_type": "code",
      "execution_count": 36,
      "metadata": {},
      "outputs": [],
      "source": [
        "norm_embeddings_test_dataset = pd.DataFrame(np.apply_along_axis(lambda x: x / np.linalg.norm(x), axis=1, arr=embeddings_test_dataset))\n",
        "norm_embeddings_test_dataset[\"normalized_norm\"] = (embeddings_test_dataset['norm'] - embeddings_test_dataset['norm'].min()) / (embeddings_test_dataset['norm'].max() - embeddings_test_dataset['norm'].min())\n"
      ]
    },
    {
      "cell_type": "code",
      "execution_count": 37,
      "metadata": {
        "colab": {
          "base_uri": "https://localhost:8080/",
          "height": 350
        },
        "id": "Y-ns5umfdYKj",
        "outputId": "e0e26dd1-7bc0-4a9e-d7c6-199d29518bec"
      },
      "outputs": [
        {
          "data": {
            "text/html": [
              "<div>\n",
              "<style scoped>\n",
              "    .dataframe tbody tr th:only-of-type {\n",
              "        vertical-align: middle;\n",
              "    }\n",
              "\n",
              "    .dataframe tbody tr th {\n",
              "        vertical-align: top;\n",
              "    }\n",
              "\n",
              "    .dataframe thead th {\n",
              "        text-align: right;\n",
              "    }\n",
              "</style>\n",
              "<table border=\"1\" class=\"dataframe\">\n",
              "  <thead>\n",
              "    <tr style=\"text-align: right;\">\n",
              "      <th></th>\n",
              "      <th>0</th>\n",
              "      <th>1</th>\n",
              "      <th>2</th>\n",
              "      <th>3</th>\n",
              "      <th>4</th>\n",
              "      <th>5</th>\n",
              "      <th>6</th>\n",
              "      <th>7</th>\n",
              "      <th>8</th>\n",
              "      <th>9</th>\n",
              "      <th>...</th>\n",
              "      <th>92</th>\n",
              "      <th>93</th>\n",
              "      <th>94</th>\n",
              "      <th>95</th>\n",
              "      <th>96</th>\n",
              "      <th>97</th>\n",
              "      <th>98</th>\n",
              "      <th>99</th>\n",
              "      <th>100</th>\n",
              "      <th>normalized_norm</th>\n",
              "    </tr>\n",
              "  </thead>\n",
              "  <tbody>\n",
              "    <tr>\n",
              "      <th>count</th>\n",
              "      <td>65354.000000</td>\n",
              "      <td>65354.000000</td>\n",
              "      <td>65354.000000</td>\n",
              "      <td>65354.000000</td>\n",
              "      <td>65354.000000</td>\n",
              "      <td>65354.000000</td>\n",
              "      <td>65354.000000</td>\n",
              "      <td>65354.000000</td>\n",
              "      <td>65354.000000</td>\n",
              "      <td>65354.000000</td>\n",
              "      <td>...</td>\n",
              "      <td>65354.000000</td>\n",
              "      <td>65354.000000</td>\n",
              "      <td>65354.000000</td>\n",
              "      <td>65354.000000</td>\n",
              "      <td>65354.000000</td>\n",
              "      <td>65354.000000</td>\n",
              "      <td>65354.000000</td>\n",
              "      <td>65354.000000</td>\n",
              "      <td>6.535400e+04</td>\n",
              "      <td>65354.000000</td>\n",
              "    </tr>\n",
              "    <tr>\n",
              "      <th>mean</th>\n",
              "      <td>-0.021292</td>\n",
              "      <td>0.012930</td>\n",
              "      <td>0.012946</td>\n",
              "      <td>-0.003020</td>\n",
              "      <td>0.017714</td>\n",
              "      <td>-0.028594</td>\n",
              "      <td>-0.031155</td>\n",
              "      <td>-0.016679</td>\n",
              "      <td>0.005344</td>\n",
              "      <td>-0.011283</td>\n",
              "      <td>...</td>\n",
              "      <td>0.027360</td>\n",
              "      <td>-0.008509</td>\n",
              "      <td>0.017950</td>\n",
              "      <td>-0.003629</td>\n",
              "      <td>-0.021144</td>\n",
              "      <td>-0.026952</td>\n",
              "      <td>0.019090</td>\n",
              "      <td>-0.041961</td>\n",
              "      <td>7.071067e-01</td>\n",
              "      <td>0.319641</td>\n",
              "    </tr>\n",
              "    <tr>\n",
              "      <th>std</th>\n",
              "      <td>0.064276</td>\n",
              "      <td>0.062267</td>\n",
              "      <td>0.067974</td>\n",
              "      <td>0.063094</td>\n",
              "      <td>0.065342</td>\n",
              "      <td>0.061532</td>\n",
              "      <td>0.068641</td>\n",
              "      <td>0.064752</td>\n",
              "      <td>0.063186</td>\n",
              "      <td>0.066061</td>\n",
              "      <td>...</td>\n",
              "      <td>0.063927</td>\n",
              "      <td>0.064301</td>\n",
              "      <td>0.065723</td>\n",
              "      <td>0.064173</td>\n",
              "      <td>0.061830</td>\n",
              "      <td>0.062707</td>\n",
              "      <td>0.061773</td>\n",
              "      <td>0.062797</td>\n",
              "      <td>3.242300e-08</td>\n",
              "      <td>0.064466</td>\n",
              "    </tr>\n",
              "    <tr>\n",
              "      <th>min</th>\n",
              "      <td>-0.277206</td>\n",
              "      <td>-0.259576</td>\n",
              "      <td>-0.281054</td>\n",
              "      <td>-0.249404</td>\n",
              "      <td>-0.243372</td>\n",
              "      <td>-0.262000</td>\n",
              "      <td>-0.289113</td>\n",
              "      <td>-0.288461</td>\n",
              "      <td>-0.255516</td>\n",
              "      <td>-0.277013</td>\n",
              "      <td>...</td>\n",
              "      <td>-0.246769</td>\n",
              "      <td>-0.284033</td>\n",
              "      <td>-0.256151</td>\n",
              "      <td>-0.271852</td>\n",
              "      <td>-0.257155</td>\n",
              "      <td>-0.270161</td>\n",
              "      <td>-0.224737</td>\n",
              "      <td>-0.295688</td>\n",
              "      <td>7.071066e-01</td>\n",
              "      <td>0.000000</td>\n",
              "    </tr>\n",
              "    <tr>\n",
              "      <th>25%</th>\n",
              "      <td>-0.064951</td>\n",
              "      <td>-0.029371</td>\n",
              "      <td>-0.032896</td>\n",
              "      <td>-0.045173</td>\n",
              "      <td>-0.026396</td>\n",
              "      <td>-0.070695</td>\n",
              "      <td>-0.078437</td>\n",
              "      <td>-0.059780</td>\n",
              "      <td>-0.036829</td>\n",
              "      <td>-0.056120</td>\n",
              "      <td>...</td>\n",
              "      <td>-0.015684</td>\n",
              "      <td>-0.052272</td>\n",
              "      <td>-0.026692</td>\n",
              "      <td>-0.047405</td>\n",
              "      <td>-0.063204</td>\n",
              "      <td>-0.070002</td>\n",
              "      <td>-0.022689</td>\n",
              "      <td>-0.085142</td>\n",
              "      <td>7.071068e-01</td>\n",
              "      <td>0.272576</td>\n",
              "    </tr>\n",
              "    <tr>\n",
              "      <th>50%</th>\n",
              "      <td>-0.022187</td>\n",
              "      <td>0.013842</td>\n",
              "      <td>0.012695</td>\n",
              "      <td>-0.002226</td>\n",
              "      <td>0.018698</td>\n",
              "      <td>-0.029340</td>\n",
              "      <td>-0.031533</td>\n",
              "      <td>-0.016708</td>\n",
              "      <td>0.005758</td>\n",
              "      <td>-0.010497</td>\n",
              "      <td>...</td>\n",
              "      <td>0.027355</td>\n",
              "      <td>-0.008182</td>\n",
              "      <td>0.017452</td>\n",
              "      <td>-0.003292</td>\n",
              "      <td>-0.021861</td>\n",
              "      <td>-0.027813</td>\n",
              "      <td>0.018650</td>\n",
              "      <td>-0.042775</td>\n",
              "      <td>7.071068e-01</td>\n",
              "      <td>0.317468</td>\n",
              "    </tr>\n",
              "    <tr>\n",
              "      <th>75%</th>\n",
              "      <td>0.021894</td>\n",
              "      <td>0.055866</td>\n",
              "      <td>0.059091</td>\n",
              "      <td>0.039620</td>\n",
              "      <td>0.062732</td>\n",
              "      <td>0.012495</td>\n",
              "      <td>0.015680</td>\n",
              "      <td>0.026144</td>\n",
              "      <td>0.048333</td>\n",
              "      <td>0.033978</td>\n",
              "      <td>...</td>\n",
              "      <td>0.071008</td>\n",
              "      <td>0.035027</td>\n",
              "      <td>0.062489</td>\n",
              "      <td>0.040278</td>\n",
              "      <td>0.020389</td>\n",
              "      <td>0.015408</td>\n",
              "      <td>0.060927</td>\n",
              "      <td>0.000563</td>\n",
              "      <td>7.071068e-01</td>\n",
              "      <td>0.362039</td>\n",
              "    </tr>\n",
              "    <tr>\n",
              "      <th>max</th>\n",
              "      <td>0.284890</td>\n",
              "      <td>0.248083</td>\n",
              "      <td>0.271072</td>\n",
              "      <td>0.243227</td>\n",
              "      <td>0.291685</td>\n",
              "      <td>0.232238</td>\n",
              "      <td>0.240662</td>\n",
              "      <td>0.247933</td>\n",
              "      <td>0.262753</td>\n",
              "      <td>0.239804</td>\n",
              "      <td>...</td>\n",
              "      <td>0.332902</td>\n",
              "      <td>0.259530</td>\n",
              "      <td>0.284886</td>\n",
              "      <td>0.256541</td>\n",
              "      <td>0.261595</td>\n",
              "      <td>0.219104</td>\n",
              "      <td>0.268850</td>\n",
              "      <td>0.255575</td>\n",
              "      <td>7.071069e-01</td>\n",
              "      <td>1.000000</td>\n",
              "    </tr>\n",
              "  </tbody>\n",
              "</table>\n",
              "<p>8 rows × 102 columns</p>\n",
              "</div>"
            ],
            "text/plain": [
              "                  0             1             2             3             4  \\\n",
              "count  65354.000000  65354.000000  65354.000000  65354.000000  65354.000000   \n",
              "mean      -0.021292      0.012930      0.012946     -0.003020      0.017714   \n",
              "std        0.064276      0.062267      0.067974      0.063094      0.065342   \n",
              "min       -0.277206     -0.259576     -0.281054     -0.249404     -0.243372   \n",
              "25%       -0.064951     -0.029371     -0.032896     -0.045173     -0.026396   \n",
              "50%       -0.022187      0.013842      0.012695     -0.002226      0.018698   \n",
              "75%        0.021894      0.055866      0.059091      0.039620      0.062732   \n",
              "max        0.284890      0.248083      0.271072      0.243227      0.291685   \n",
              "\n",
              "                  5             6             7             8             9  \\\n",
              "count  65354.000000  65354.000000  65354.000000  65354.000000  65354.000000   \n",
              "mean      -0.028594     -0.031155     -0.016679      0.005344     -0.011283   \n",
              "std        0.061532      0.068641      0.064752      0.063186      0.066061   \n",
              "min       -0.262000     -0.289113     -0.288461     -0.255516     -0.277013   \n",
              "25%       -0.070695     -0.078437     -0.059780     -0.036829     -0.056120   \n",
              "50%       -0.029340     -0.031533     -0.016708      0.005758     -0.010497   \n",
              "75%        0.012495      0.015680      0.026144      0.048333      0.033978   \n",
              "max        0.232238      0.240662      0.247933      0.262753      0.239804   \n",
              "\n",
              "       ...            92            93            94            95  \\\n",
              "count  ...  65354.000000  65354.000000  65354.000000  65354.000000   \n",
              "mean   ...      0.027360     -0.008509      0.017950     -0.003629   \n",
              "std    ...      0.063927      0.064301      0.065723      0.064173   \n",
              "min    ...     -0.246769     -0.284033     -0.256151     -0.271852   \n",
              "25%    ...     -0.015684     -0.052272     -0.026692     -0.047405   \n",
              "50%    ...      0.027355     -0.008182      0.017452     -0.003292   \n",
              "75%    ...      0.071008      0.035027      0.062489      0.040278   \n",
              "max    ...      0.332902      0.259530      0.284886      0.256541   \n",
              "\n",
              "                 96            97            98            99           100  \\\n",
              "count  65354.000000  65354.000000  65354.000000  65354.000000  6.535400e+04   \n",
              "mean      -0.021144     -0.026952      0.019090     -0.041961  7.071067e-01   \n",
              "std        0.061830      0.062707      0.061773      0.062797  3.242300e-08   \n",
              "min       -0.257155     -0.270161     -0.224737     -0.295688  7.071066e-01   \n",
              "25%       -0.063204     -0.070002     -0.022689     -0.085142  7.071068e-01   \n",
              "50%       -0.021861     -0.027813      0.018650     -0.042775  7.071068e-01   \n",
              "75%        0.020389      0.015408      0.060927      0.000563  7.071068e-01   \n",
              "max        0.261595      0.219104      0.268850      0.255575  7.071069e-01   \n",
              "\n",
              "       normalized_norm  \n",
              "count     65354.000000  \n",
              "mean          0.319641  \n",
              "std           0.064466  \n",
              "min           0.000000  \n",
              "25%           0.272576  \n",
              "50%           0.317468  \n",
              "75%           0.362039  \n",
              "max           1.000000  \n",
              "\n",
              "[8 rows x 102 columns]"
            ]
          },
          "execution_count": 37,
          "metadata": {},
          "output_type": "execute_result"
        }
      ],
      "source": [
        "norm_embeddings_dataset = pd.DataFrame(np.apply_along_axis(lambda x: x / np.linalg.norm(x), axis=1, arr=embeddings_dataset))\n",
        "norm_embeddings_dataset[\"normalized_norm\"] = (embeddings_dataset['norm'] - embeddings_dataset['norm'].min()) / (embeddings_dataset['norm'].max() - embeddings_dataset['norm'].min())\n",
        "norm_embeddings_dataset.describe()"
      ]
    },
    {
      "cell_type": "code",
      "execution_count": 38,
      "metadata": {},
      "outputs": [],
      "source": [
        "norm_embeddings_test_dataset = norm_embeddings_test_dataset.drop([100],axis=1)"
      ]
    },
    {
      "cell_type": "code",
      "execution_count": 39,
      "metadata": {
        "id": "2jUZ8xrgdYKj"
      },
      "outputs": [],
      "source": [
        "norm_embeddings_dataset = norm_embeddings_dataset.drop([100],axis=1)"
      ]
    },
    {
      "cell_type": "code",
      "execution_count": 40,
      "metadata": {},
      "outputs": [
        {
          "data": {
            "text/html": [
              "<div>\n",
              "<style scoped>\n",
              "    .dataframe tbody tr th:only-of-type {\n",
              "        vertical-align: middle;\n",
              "    }\n",
              "\n",
              "    .dataframe tbody tr th {\n",
              "        vertical-align: top;\n",
              "    }\n",
              "\n",
              "    .dataframe thead th {\n",
              "        text-align: right;\n",
              "    }\n",
              "</style>\n",
              "<table border=\"1\" class=\"dataframe\">\n",
              "  <thead>\n",
              "    <tr style=\"text-align: right;\">\n",
              "      <th></th>\n",
              "      <th>id</th>\n",
              "      <th>prompt_id</th>\n",
              "      <th>text</th>\n",
              "    </tr>\n",
              "  </thead>\n",
              "  <tbody>\n",
              "    <tr>\n",
              "      <th>0</th>\n",
              "      <td>0000aaaa</td>\n",
              "      <td>2</td>\n",
              "      <td>([Ġaaa, Ġb, b, b, Ġc, cc, .], [0000aaaa])</td>\n",
              "    </tr>\n",
              "    <tr>\n",
              "      <th>1</th>\n",
              "      <td>1111bbbb</td>\n",
              "      <td>3</td>\n",
              "      <td>([Ġb, b, b, Ġc, cc, Ġd, dd, .], [1111bbbb])</td>\n",
              "    </tr>\n",
              "    <tr>\n",
              "      <th>2</th>\n",
              "      <td>2222cccc</td>\n",
              "      <td>4</td>\n",
              "      <td>([Ġc, cc, Ġd, dd, Ġe, ee, .], [2222cccc])</td>\n",
              "    </tr>\n",
              "  </tbody>\n",
              "</table>\n",
              "</div>"
            ],
            "text/plain": [
              "         id  prompt_id                                         text\n",
              "0  0000aaaa          2    ([Ġaaa, Ġb, b, b, Ġc, cc, .], [0000aaaa])\n",
              "1  1111bbbb          3  ([Ġb, b, b, Ġc, cc, Ġd, dd, .], [1111bbbb])\n",
              "2  2222cccc          4    ([Ġc, cc, Ġd, dd, Ġe, ee, .], [2222cccc])"
            ]
          },
          "execution_count": 40,
          "metadata": {},
          "output_type": "execute_result"
        }
      ],
      "source": [
        "doc_test_dataset"
      ]
    },
    {
      "cell_type": "code",
      "execution_count": 41,
      "metadata": {},
      "outputs": [
        {
          "data": {
            "text/html": [
              "<div>\n",
              "<style scoped>\n",
              "    .dataframe tbody tr th:only-of-type {\n",
              "        vertical-align: middle;\n",
              "    }\n",
              "\n",
              "    .dataframe tbody tr th {\n",
              "        vertical-align: top;\n",
              "    }\n",
              "\n",
              "    .dataframe thead th {\n",
              "        text-align: right;\n",
              "    }\n",
              "</style>\n",
              "<table border=\"1\" class=\"dataframe\">\n",
              "  <thead>\n",
              "    <tr style=\"text-align: right;\">\n",
              "      <th></th>\n",
              "      <th>0</th>\n",
              "      <th>1</th>\n",
              "      <th>2</th>\n",
              "      <th>3</th>\n",
              "      <th>4</th>\n",
              "      <th>5</th>\n",
              "      <th>6</th>\n",
              "      <th>7</th>\n",
              "      <th>8</th>\n",
              "      <th>9</th>\n",
              "      <th>...</th>\n",
              "      <th>91</th>\n",
              "      <th>92</th>\n",
              "      <th>93</th>\n",
              "      <th>94</th>\n",
              "      <th>95</th>\n",
              "      <th>96</th>\n",
              "      <th>97</th>\n",
              "      <th>98</th>\n",
              "      <th>99</th>\n",
              "      <th>normalized_norm</th>\n",
              "    </tr>\n",
              "  </thead>\n",
              "  <tbody>\n",
              "    <tr>\n",
              "      <th>0</th>\n",
              "      <td>-0.040128</td>\n",
              "      <td>0.015641</td>\n",
              "      <td>0.008331</td>\n",
              "      <td>-0.012491</td>\n",
              "      <td>0.044065</td>\n",
              "      <td>-0.040452</td>\n",
              "      <td>-0.047977</td>\n",
              "      <td>-0.074252</td>\n",
              "      <td>0.028167</td>\n",
              "      <td>-0.015179</td>\n",
              "      <td>...</td>\n",
              "      <td>0.124750</td>\n",
              "      <td>0.072305</td>\n",
              "      <td>-0.050204</td>\n",
              "      <td>0.025509</td>\n",
              "      <td>0.016998</td>\n",
              "      <td>0.012296</td>\n",
              "      <td>-0.055793</td>\n",
              "      <td>0.041121</td>\n",
              "      <td>-0.087877</td>\n",
              "      <td>0.742083</td>\n",
              "    </tr>\n",
              "    <tr>\n",
              "      <th>1</th>\n",
              "      <td>-0.000625</td>\n",
              "      <td>0.039342</td>\n",
              "      <td>0.020408</td>\n",
              "      <td>-0.018070</td>\n",
              "      <td>0.034246</td>\n",
              "      <td>-0.013891</td>\n",
              "      <td>-0.035015</td>\n",
              "      <td>-0.065681</td>\n",
              "      <td>0.059665</td>\n",
              "      <td>0.003054</td>\n",
              "      <td>...</td>\n",
              "      <td>0.139950</td>\n",
              "      <td>0.044903</td>\n",
              "      <td>-0.053113</td>\n",
              "      <td>0.004436</td>\n",
              "      <td>0.011252</td>\n",
              "      <td>-0.005137</td>\n",
              "      <td>-0.061565</td>\n",
              "      <td>0.039369</td>\n",
              "      <td>-0.090179</td>\n",
              "      <td>1.000000</td>\n",
              "    </tr>\n",
              "    <tr>\n",
              "      <th>2</th>\n",
              "      <td>-0.024857</td>\n",
              "      <td>0.005393</td>\n",
              "      <td>0.005911</td>\n",
              "      <td>-0.023451</td>\n",
              "      <td>0.067951</td>\n",
              "      <td>-0.009769</td>\n",
              "      <td>-0.019388</td>\n",
              "      <td>-0.036204</td>\n",
              "      <td>0.014573</td>\n",
              "      <td>-0.037588</td>\n",
              "      <td>...</td>\n",
              "      <td>0.108641</td>\n",
              "      <td>0.048119</td>\n",
              "      <td>-0.025421</td>\n",
              "      <td>-0.002160</td>\n",
              "      <td>0.007503</td>\n",
              "      <td>0.007232</td>\n",
              "      <td>-0.041582</td>\n",
              "      <td>0.040649</td>\n",
              "      <td>-0.070331</td>\n",
              "      <td>0.000000</td>\n",
              "    </tr>\n",
              "  </tbody>\n",
              "</table>\n",
              "<p>3 rows × 101 columns</p>\n",
              "</div>"
            ],
            "text/plain": [
              "          0         1         2         3         4         5         6  \\\n",
              "0 -0.040128  0.015641  0.008331 -0.012491  0.044065 -0.040452 -0.047977   \n",
              "1 -0.000625  0.039342  0.020408 -0.018070  0.034246 -0.013891 -0.035015   \n",
              "2 -0.024857  0.005393  0.005911 -0.023451  0.067951 -0.009769 -0.019388   \n",
              "\n",
              "          7         8         9  ...        91        92        93        94  \\\n",
              "0 -0.074252  0.028167 -0.015179  ...  0.124750  0.072305 -0.050204  0.025509   \n",
              "1 -0.065681  0.059665  0.003054  ...  0.139950  0.044903 -0.053113  0.004436   \n",
              "2 -0.036204  0.014573 -0.037588  ...  0.108641  0.048119 -0.025421 -0.002160   \n",
              "\n",
              "         95        96        97        98        99  normalized_norm  \n",
              "0  0.016998  0.012296 -0.055793  0.041121 -0.087877         0.742083  \n",
              "1  0.011252 -0.005137 -0.061565  0.039369 -0.090179         1.000000  \n",
              "2  0.007503  0.007232 -0.041582  0.040649 -0.070331         0.000000  \n",
              "\n",
              "[3 rows x 101 columns]"
            ]
          },
          "execution_count": 41,
          "metadata": {},
          "output_type": "execute_result"
        }
      ],
      "source": [
        "norm_embeddings_test_dataset"
      ]
    },
    {
      "cell_type": "code",
      "execution_count": null,
      "metadata": {},
      "outputs": [],
      "source": [
        "pre_processed_test_data = pd.concat([doc_test_dataset,norm_embeddings_test_dataset],axis=1)"
      ]
    },
    {
      "cell_type": "code",
      "execution_count": null,
      "metadata": {
        "colab": {
          "base_uri": "https://localhost:8080/",
          "height": 826
        },
        "id": "MwmoLIkHdYKk",
        "outputId": "ce49eba2-4bc9-4547-b019-5ce71a71e360"
      },
      "outputs": [],
      "source": [
        "pre_processed_data = pd.concat([docs_dataset,norm_embeddings_dataset],axis=1)\n",
        "#pre_processed_data = pd.concat([docs_dataset,embeddings_dataset],axis=1)\n",
        "pre_processed_data"
      ]
    },
    {
      "cell_type": "markdown",
      "metadata": {
        "id": "Ok4YnFIkdYKk"
      },
      "source": [
        "### Inferred Features"
      ]
    },
    {
      "cell_type": "code",
      "execution_count": null,
      "metadata": {
        "id": "5LK85lV3dYKk"
      },
      "outputs": [],
      "source": [
        "def features(dataset):\n",
        "    token_count=dataset[\"text\"].apply(lambda x: len(x))\n",
        "    sentence_count = []\n",
        "    punctuation_count = []\n",
        "    apostrofees_count = []\n",
        "    unk_count = []\n",
        "    for doc in dataset[\"text\"]:\n",
        "        unk = 0\n",
        "        dot = 0\n",
        "        punctuation = 0\n",
        "        apostrofees = 0\n",
        "        for token in doc.words:\n",
        "            if(token.endswith(\".\")):\n",
        "                dot+=1\n",
        "                punctuation+=1\n",
        "            elif(token.endswith(\",\") or token.endswith(\"?\") or token.endswith(\"!\")):\n",
        "                punctuation+=1\n",
        "            elif(token.count(\"'\")>0):\n",
        "                    apostrofees+=token.count(\"'\")\n",
        "            elif(token==\"[UNK]\"):\n",
        "                unk+=1\n",
        "        sentence_count.append(dot)\n",
        "        punctuation_count.append(punctuation)\n",
        "        apostrofees_count.append(apostrofees)\n",
        "        unk_count.append(unk)\n",
        "    df = pd.DataFrame(\n",
        "        columns=[\"token_num\",\"sent_num\",\"punct_sym\",\"apostrof_sym\",\"unk_num\"]\n",
        "    )\n",
        "    df[\"token_num\"]=token_count\n",
        "    df[\"sent_num\"]=sentence_count\n",
        "    df[\"punct_sym\"]=punctuation_count\n",
        "    df[\"apostrof_sym\"]=apostrofees_count\n",
        "    df[\"unk_num\"]=unk_count\n",
        "    return df\n",
        "\n",
        "train_features = features(pre_processed_data)\n",
        "test_features = features(pre_processed_test_data)"
      ]
    },
    {
      "cell_type": "code",
      "execution_count": null,
      "metadata": {},
      "outputs": [],
      "source": [
        "test_features"
      ]
    },
    {
      "cell_type": "code",
      "execution_count": null,
      "metadata": {},
      "outputs": [],
      "source": [
        "\n",
        "for col in test_features.columns:\n",
        "    if(test_features[col].max()>0):\n",
        "        test_features[col] = test_features[col] / np.linalg.norm(test_features[col])\n",
        "\n",
        "for col in train_features.columns:\n",
        "    if(train_features[col].max()>0):\n",
        "        train_features[col] = train_features[col]/np.linalg.norm(train_features[col])\n",
        "\n",
        "test_features"
      ]
    },
    {
      "cell_type": "code",
      "execution_count": null,
      "metadata": {},
      "outputs": [],
      "source": [
        "pre_processed_data=pd.concat([pre_processed_data,train_features],axis=1).drop(\"text\",axis=1)\n",
        "pre_processed_test_data=pd.concat([pre_processed_test_data,test_features],axis=1).drop(\"text\",axis=1)"
      ]
    },
    {
      "cell_type": "code",
      "execution_count": null,
      "metadata": {
        "colab": {
          "base_uri": "https://localhost:8080/",
          "height": 350
        },
        "id": "KKJrJzEWdYKl",
        "outputId": "50ad4a58-1b24-408d-db60-c5bad8697938"
      },
      "outputs": [],
      "source": [
        "pre_processed_data.describe()"
      ]
    },
    {
      "cell_type": "code",
      "execution_count": null,
      "metadata": {},
      "outputs": [],
      "source": [
        "pre_processed_data.to_csv(\"../../data/pre_process_train.csv\")\n",
        "pre_processed_test_data.to_csv(\"../../data/pre_process_test.csv\")"
      ]
    },
    {
      "cell_type": "code",
      "execution_count": null,
      "metadata": {},
      "outputs": [],
      "source": [
        "pre_processed_data=pd.read_csv(\"../../data/pre_process_train.csv\")\n",
        "pre_processed_test_data=pd.read_csv(\"../../data/pre_process_test.csv\")"
      ]
    },
    {
      "cell_type": "markdown",
      "metadata": {
        "id": "pboIBijydYKl"
      },
      "source": [
        "## Model Training"
      ]
    },
    {
      "cell_type": "code",
      "execution_count": null,
      "metadata": {
        "id": "sieb_gK4dYKl"
      },
      "outputs": [],
      "source": [
        "def downsampling(X_train,y_train,rand_state,ratio):\n",
        "    # Concatenate X_train and y_train for ease of downsampling\n",
        "    train_data = pd.concat([X_train, y_train], axis=1)\n",
        "\n",
        "    # Identify the class with the majority of instances\n",
        "    majority_class = train_data[y_train.name].value_counts().idxmax()\n",
        "\n",
        "    # Separate instances of each class\n",
        "    majority_class_data = train_data[train_data[y_train.name] == majority_class]\n",
        "    minority_class_data = train_data[train_data[y_train.name] != majority_class]\n",
        "\n",
        "\n",
        "    currRatio = len(majority_class_data) / len(minority_class_data)\n",
        "    if(currRatio<=ratio):\n",
        "        raise ValueError(f\"El ratio de entrada debe ser menor al ratio actual.r={currRatio}\")\n",
        "\n",
        "\n",
        "    # Downsample the majority class to match the number of instances in the minority class\n",
        "    downsampled_majority_class_data = resample(\n",
        "        majority_class_data,\n",
        "        replace=False,\n",
        "        n_samples=math.floor(ratio*len(minority_class_data)),\n",
        "        random_state=rand_state\n",
        "    )\n",
        "\n",
        "    # Combine the downsampled majority class with the minority class\n",
        "    downsampled_train_data = pd.concat([downsampled_majority_class_data, minority_class_data])\n",
        "\n",
        "    # Shuffle the data to avoid any order-based patterns\n",
        "    downsampled_train_data = downsampled_train_data.sample(frac=1, random_state=rand_state)\n",
        "\n",
        "    # Separate X_train and y_train after downsampling\n",
        "    X_train_downsampled = downsampled_train_data.drop(columns=[y_train.name])\n",
        "    y_train_downsampled = downsampled_train_data[y_train.name]\n",
        "\n",
        "    return X_train_downsampled, y_train_downsampled"
      ]
    },
    {
      "cell_type": "markdown",
      "metadata": {},
      "source": [
        "#### Arquitecture"
      ]
    },
    {
      "cell_type": "code",
      "execution_count": null,
      "metadata": {},
      "outputs": [],
      "source": [
        "input = keras.Input(shape=(pre_processed_data.shape[1]-2,))\n",
        "x = keras.layers.Dense(pre_processed_data.shape[1]-2,activation=\"relu\")(input)\n",
        "x = keras.layers.Dense(100,activation=\"relu\")(input)\n",
        "output = keras.layers.Dense(1,activation=\"sigmoid\")(x)\n",
        "\n",
        "NNmodel = keras.Model(input,output)\n",
        "\n",
        "NNmodel.compile(optimizer='adam',\n",
        "               loss=keras.losses.BinaryCrossentropy(),\n",
        "               metrics=[keras.metrics.AUC()])"
      ]
    },
    {
      "cell_type": "markdown",
      "metadata": {},
      "source": [
        "#### Training"
      ]
    },
    {
      "cell_type": "code",
      "execution_count": null,
      "metadata": {
        "colab": {
          "base_uri": "https://localhost:8080/",
          "height": 1000
        },
        "id": "eE-YSa9jdYKm",
        "outputId": "1017a0f1-e1de-49da-ed83-603324aa1644"
      },
      "outputs": [],
      "source": [
        "import random\n",
        "rand_state= random.randint(0,1000)\n",
        "#NN training with 10-fold cross-validation stratified with random under-sampling technic for imbalanced data\n",
        "X = pre_processed_data.drop([\"id\",\"generated\"],axis=1)\n",
        "Y = pre_processed_data[\"generated\"]\n",
        "folds = StratifiedKFold(10,shuffle=True,random_state=rand_state)\n",
        "for fold, (train_index, val_index) in enumerate(folds.split(X,Y)):\n",
        "    X_train, X_val = X.iloc[train_index], X.iloc[val_index]\n",
        "    y_train, y_val = Y.iloc[train_index], Y.iloc[val_index]\n",
        "\n",
        "    X_train_dwns, y_train_dwns = downsampling(X_train,y_train,rand_state,ratio=20)\n",
        "\n",
        "    #print(f\"Fold {fold + 1}: Train {len(train_index)} samples, Validation {len(val_index)} samples\")\n",
        "    #print(f\"TRAIN:({y_train[y_train==0].size}:{y_train[y_train==1].size})\")\n",
        "    print(f\"DOWNSAMPLED:({y_train_dwns[y_train_dwns==0].size}:{y_train_dwns[y_train_dwns==1].size})\")\n",
        "    #print(f\"VAL:({y_val[y_val==0].size}:{y_val[y_val==1].size})\")\n",
        "\n",
        "    NNmodel.fit(X_train_dwns,\n",
        "                y_train_dwns,\n",
        "                validation_data=(X_val,y_val),\n",
        "                epochs=3)"
      ]
    },
    {
      "cell_type": "code",
      "execution_count": null,
      "metadata": {},
      "outputs": [],
      "source": [
        "ROCcurves(NNmodel,X,Y)"
      ]
    },
    {
      "cell_type": "code",
      "execution_count": null,
      "metadata": {
        "colab": {
          "base_uri": "https://localhost:8080/"
        },
        "id": "Ub2SWyaC9uL2",
        "outputId": "d63e26ff-e443-4621-9757-f9444e0fdfa6"
      },
      "outputs": [],
      "source": [
        "pred = list(map(lambda pred : 1 if pred > 0.5 else 0,NNmodel.predict(x=X)))\n",
        "display = ConfusionMatrixDisplay(confusion_matrix(pred,Y),display_labels=[\"True\",\"False\"])\n",
        "display.plot()"
      ]
    },
    {
      "cell_type": "code",
      "execution_count": null,
      "metadata": {
        "colab": {
          "base_uri": "https://localhost:8080/"
        },
        "id": "o5dVLLxVyjOg",
        "outputId": "4d54fa2d-90ac-45bf-fddb-16e7cebe5806"
      },
      "outputs": [],
      "source": [
        "NNmodel.predict(x=pd.DataFrame(X.iloc[1385]).transpose())\n"
      ]
    },
    {
      "cell_type": "markdown",
      "metadata": {
        "id": "RY59QZYXdYKm"
      },
      "source": [
        "## Model test"
      ]
    },
    {
      "cell_type": "code",
      "execution_count": null,
      "metadata": {},
      "outputs": [],
      "source": [
        "X_test = pre_processed_test_data.drop([\"id\"],axis=1)\n",
        "submition = pd.DataFrame()\n",
        "submition[\"id\"]=pre_processed_test_data[\"id\"].to_numpy()\n",
        "submition[\"generated\"]=NNmodel.predict(x=X_test)\n",
        "submition[\"generated\"] = submition[\"generated\"].apply(lambda x : round(x,4))\n",
        "submition"
      ]
    },
    {
      "cell_type": "code",
      "execution_count": null,
      "metadata": {},
      "outputs": [],
      "source": [
        "submition.to_csv(\"../../data/submission.csv\",index=False)"
      ]
    },
    {
      "cell_type": "markdown",
      "metadata": {},
      "source": [
        "### Embeddings ploting"
      ]
    },
    {
      "cell_type": "code",
      "execution_count": null,
      "metadata": {},
      "outputs": [],
      "source": [
        "plt.scatter(x=pre_processed_data[pre_processed_data[\"generated\"]==0][20],\n",
        "            y=pre_processed_data[pre_processed_data[\"generated\"]==0][40])\n",
        "plt.scatter(x=pre_processed_data[pre_processed_data[\"generated\"]==1][20],\n",
        "            y=pre_processed_data[pre_processed_data[\"generated\"]==1][40])\n"
      ]
    }
  ],
  "metadata": {
    "accelerator": "GPU",
    "colab": {
      "gpuType": "T4",
      "provenance": []
    },
    "kernelspec": {
      "display_name": "Python 3",
      "name": "python3"
    },
    "language_info": {
      "codemirror_mode": {
        "name": "ipython",
        "version": 3
      },
      "file_extension": ".py",
      "mimetype": "text/x-python",
      "name": "python",
      "nbconvert_exporter": "python",
      "pygments_lexer": "ipython3",
      "version": "3.11.0"
    }
  },
  "nbformat": 4,
  "nbformat_minor": 0
}
